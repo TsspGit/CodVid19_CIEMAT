{
 "cells": [
  {
   "cell_type": "code",
   "execution_count": 1,
   "metadata": {},
   "outputs": [
    {
     "name": "stderr",
     "output_type": "stream",
     "text": [
      "Using TensorFlow backend.\n"
     ]
    }
   ],
   "source": [
    "''' RNN Bidireccional en Keras '''\n",
    "__author__ = '@Tssp'\n",
    "import numpy as np\n",
    "import pandas as pd\n",
    "import os\n",
    "from PIL import Image\n",
    "import matplotlib.pyplot as plt\n",
    "from keras.layers import Conv2D, Input, Dense, MaxPooling2D, UpSampling2D, Flatten\n",
    "from keras.models import Model, Sequential\n",
    "from keras.datasets import mnist\n",
    "from keras.callbacks import ModelCheckpoint\n",
    "from keras.models import load_model\n",
    "from keras.utils import to_categorical"
   ]
  },
  {
   "cell_type": "code",
   "execution_count": 2,
   "metadata": {},
   "outputs": [],
   "source": [
    "(x_train, _), (x_test, _) = mnist.load_data()"
   ]
  },
  {
   "cell_type": "code",
   "execution_count": 3,
   "metadata": {},
   "outputs": [
    {
     "name": "stdout",
     "output_type": "stream",
     "text": [
      "Train: (examples, x pixels, y pixels):\n",
      "(60000, 28, 28)\n",
      "Test: (examples, x pixels y pixels):\n",
      "(10000, 28, 28)\n"
     ]
    }
   ],
   "source": [
    "print('Train: (examples, x pixels, y pixels):\\n{}\\nTest: (examples, x pixels y pixels):\\n{}'.format(x_train.shape, x_test.shape))"
   ]
  },
  {
   "cell_type": "code",
   "execution_count": 4,
   "metadata": {},
   "outputs": [
    {
     "name": "stdout",
     "output_type": "stream",
     "text": [
      "Train new shape: (60000, 784)\n",
      "Test new shape:(10000, 784)\n"
     ]
    }
   ],
   "source": [
    "x_train = x_train/255\n",
    "x_test = x_test/255\n",
    "x_train = x_train.reshape(x_train.shape[0], np.prod(x_train.shape[1:]))\n",
    "x_test = x_test.reshape(x_test.shape[0], np.prod(x_test.shape[1:]))\n",
    "print('Train new shape: {}\\nTest new shape:{}'.format(x_train.shape, x_test.shape))"
   ]
  },
  {
   "cell_type": "markdown",
   "metadata": {},
   "source": [
    "## Autoencoder:"
   ]
  },
  {
   "cell_type": "code",
   "execution_count": 5,
   "metadata": {
    "scrolled": true
   },
   "outputs": [],
   "source": [
    "encoding_dim = 36\n",
    "input_img = Input(shape=(x_train.shape[1],))\n",
    "encoder = Dense(encoding_dim, activation='relu')(input_img)\n",
    "decoder = Dense(x_train.shape[1], activation='sigmoid')(encoder)\n",
    "autoencoder = Model(input_img, decoder) # maps de inputs with the decoder"
   ]
  },
  {
   "cell_type": "code",
   "execution_count": 6,
   "metadata": {},
   "outputs": [],
   "source": [
    "# Encoder:\n",
    "encoder = Model(input_img, encoder)\n",
    "encoder_input = Input(shape=(encoding_dim,))\n",
    "# Decoder:\n",
    "decoder_layer = autoencoder.layers[-1]\n",
    "decoder = Model(encoder_input, decoder_layer(encoder_input))"
   ]
  },
  {
   "cell_type": "code",
   "execution_count": 7,
   "metadata": {},
   "outputs": [],
   "source": [
    "autoencoder.compile(optimizer='adadelta', loss='binary_crossentropy')"
   ]
  },
  {
   "cell_type": "code",
   "execution_count": 8,
   "metadata": {},
   "outputs": [
    {
     "name": "stdout",
     "output_type": "stream",
     "text": [
      "_________________________________________________________________\n",
      "Layer (type)                 Output Shape              Param #   \n",
      "=================================================================\n",
      "input_1 (InputLayer)         (None, 784)               0         \n",
      "_________________________________________________________________\n",
      "dense_1 (Dense)              (None, 36)                28260     \n",
      "_________________________________________________________________\n",
      "dense_2 (Dense)              (None, 784)               29008     \n",
      "=================================================================\n",
      "Total params: 57,268\n",
      "Trainable params: 57,268\n",
      "Non-trainable params: 0\n",
      "_________________________________________________________________\n"
     ]
    }
   ],
   "source": [
    "autoencoder.summary()"
   ]
  },
  {
   "cell_type": "code",
   "execution_count": 9,
   "metadata": {
    "scrolled": true
   },
   "outputs": [
    {
     "name": "stdout",
     "output_type": "stream",
     "text": [
      "Train on 60000 samples, validate on 10000 samples\n",
      "Epoch 1/100\n",
      "60000/60000 [==============================] - 4s 74us/step - loss: 0.3538 - val_loss: 0.2713\n",
      "Epoch 2/100\n",
      "60000/60000 [==============================] - 1s 20us/step - loss: 0.2645 - val_loss: 0.2538\n",
      "Epoch 3/100\n",
      "60000/60000 [==============================] - 1s 21us/step - loss: 0.2426 - val_loss: 0.2292\n",
      "Epoch 4/100\n",
      "60000/60000 [==============================] - 1s 20us/step - loss: 0.2217 - val_loss: 0.2118\n",
      "Epoch 5/100\n",
      "60000/60000 [==============================] - 1s 19us/step - loss: 0.2069 - val_loss: 0.1992\n",
      "Epoch 6/100\n",
      "60000/60000 [==============================] - 1s 19us/step - loss: 0.1960 - val_loss: 0.1899\n",
      "Epoch 7/100\n",
      "60000/60000 [==============================] - 1s 20us/step - loss: 0.1876 - val_loss: 0.1825\n",
      "Epoch 8/100\n",
      "60000/60000 [==============================] - 1s 19us/step - loss: 0.1807 - val_loss: 0.1760\n",
      "Epoch 9/100\n",
      "60000/60000 [==============================] - 1s 19us/step - loss: 0.1745 - val_loss: 0.1702\n",
      "Epoch 10/100\n",
      "60000/60000 [==============================] - 1s 20us/step - loss: 0.1691 - val_loss: 0.1650\n",
      "Epoch 11/100\n",
      "60000/60000 [==============================] - 1s 20us/step - loss: 0.1643 - val_loss: 0.1606\n",
      "Epoch 12/100\n",
      "60000/60000 [==============================] - 1s 19us/step - loss: 0.1600 - val_loss: 0.1565\n",
      "Epoch 13/100\n",
      "60000/60000 [==============================] - 1s 19us/step - loss: 0.1561 - val_loss: 0.1527\n",
      "Epoch 14/100\n",
      "60000/60000 [==============================] - 1s 19us/step - loss: 0.1524 - val_loss: 0.1491\n",
      "Epoch 15/100\n",
      "60000/60000 [==============================] - 1s 18us/step - loss: 0.1491 - val_loss: 0.1460\n",
      "Epoch 16/100\n",
      "60000/60000 [==============================] - 1s 19us/step - loss: 0.1459 - val_loss: 0.1429\n",
      "Epoch 17/100\n",
      "60000/60000 [==============================] - 1s 20us/step - loss: 0.1430 - val_loss: 0.1400\n",
      "Epoch 18/100\n",
      "60000/60000 [==============================] - 1s 19us/step - loss: 0.1402 - val_loss: 0.1374\n",
      "Epoch 19/100\n",
      "60000/60000 [==============================] - 1s 20us/step - loss: 0.1377 - val_loss: 0.1349\n",
      "Epoch 20/100\n",
      "60000/60000 [==============================] - 1s 21us/step - loss: 0.1352 - val_loss: 0.1325\n",
      "Epoch 21/100\n",
      "60000/60000 [==============================] - 1s 20us/step - loss: 0.1329 - val_loss: 0.1302\n",
      "Epoch 22/100\n",
      "60000/60000 [==============================] - 1s 21us/step - loss: 0.1307 - val_loss: 0.1281\n",
      "Epoch 23/100\n",
      "60000/60000 [==============================] - 1s 20us/step - loss: 0.1285 - val_loss: 0.1260\n",
      "Epoch 24/100\n",
      "60000/60000 [==============================] - 1s 20us/step - loss: 0.1265 - val_loss: 0.1240\n",
      "Epoch 25/100\n",
      "60000/60000 [==============================] - 1s 19us/step - loss: 0.1246 - val_loss: 0.1221\n",
      "Epoch 26/100\n",
      "60000/60000 [==============================] - 1s 19us/step - loss: 0.1228 - val_loss: 0.1203\n",
      "Epoch 27/100\n",
      "60000/60000 [==============================] - 1s 19us/step - loss: 0.1210 - val_loss: 0.1186\n",
      "Epoch 28/100\n",
      "60000/60000 [==============================] - 1s 18us/step - loss: 0.1194 - val_loss: 0.1170\n",
      "Epoch 29/100\n",
      "60000/60000 [==============================] - 1s 20us/step - loss: 0.1178 - val_loss: 0.1155\n",
      "Epoch 30/100\n",
      "60000/60000 [==============================] - 1s 20us/step - loss: 0.1164 - val_loss: 0.1140\n",
      "Epoch 31/100\n",
      "60000/60000 [==============================] - 1s 20us/step - loss: 0.1150 - val_loss: 0.1127\n",
      "Epoch 32/100\n",
      "60000/60000 [==============================] - 1s 19us/step - loss: 0.1137 - val_loss: 0.1115\n",
      "Epoch 33/100\n",
      "60000/60000 [==============================] - 1s 20us/step - loss: 0.1125 - val_loss: 0.1103\n",
      "Epoch 34/100\n",
      "60000/60000 [==============================] - 1s 21us/step - loss: 0.1114 - val_loss: 0.1092\n",
      "Epoch 35/100\n",
      "60000/60000 [==============================] - 1s 19us/step - loss: 0.1104 - val_loss: 0.1082\n",
      "Epoch 36/100\n",
      "60000/60000 [==============================] - 1s 19us/step - loss: 0.1094 - val_loss: 0.1073\n",
      "Epoch 37/100\n",
      "60000/60000 [==============================] - 1s 21us/step - loss: 0.1085 - val_loss: 0.1064\n",
      "Epoch 38/100\n",
      "60000/60000 [==============================] - 1s 21us/step - loss: 0.1077 - val_loss: 0.1056\n",
      "Epoch 39/100\n",
      "60000/60000 [==============================] - 1s 19us/step - loss: 0.1069 - val_loss: 0.1049\n",
      "Epoch 40/100\n",
      "60000/60000 [==============================] - 1s 19us/step - loss: 0.1061 - val_loss: 0.1041\n",
      "Epoch 41/100\n",
      "60000/60000 [==============================] - 1s 20us/step - loss: 0.1054 - val_loss: 0.1035\n",
      "Epoch 42/100\n",
      "60000/60000 [==============================] - 1s 19us/step - loss: 0.1048 - val_loss: 0.1028\n",
      "Epoch 43/100\n",
      "60000/60000 [==============================] - 1s 20us/step - loss: 0.1042 - val_loss: 0.1023\n",
      "Epoch 44/100\n",
      "60000/60000 [==============================] - 1s 20us/step - loss: 0.1036 - val_loss: 0.1017\n",
      "Epoch 45/100\n",
      "60000/60000 [==============================] - 1s 20us/step - loss: 0.1030 - val_loss: 0.1012\n",
      "Epoch 46/100\n",
      "60000/60000 [==============================] - 1s 20us/step - loss: 0.1025 - val_loss: 0.1007\n",
      "Epoch 47/100\n",
      "60000/60000 [==============================] - 1s 20us/step - loss: 0.1020 - val_loss: 0.1002\n",
      "Epoch 48/100\n",
      "60000/60000 [==============================] - 1s 20us/step - loss: 0.1016 - val_loss: 0.0998\n",
      "Epoch 49/100\n",
      "60000/60000 [==============================] - 1s 20us/step - loss: 0.1011 - val_loss: 0.0993\n",
      "Epoch 50/100\n",
      "60000/60000 [==============================] - 1s 21us/step - loss: 0.1007 - val_loss: 0.0989\n",
      "Epoch 51/100\n",
      "60000/60000 [==============================] - 1s 20us/step - loss: 0.1003 - val_loss: 0.0986\n",
      "Epoch 52/100\n",
      "60000/60000 [==============================] - 1s 19us/step - loss: 0.1000 - val_loss: 0.0982\n",
      "Epoch 53/100\n",
      "60000/60000 [==============================] - 1s 20us/step - loss: 0.0996 - val_loss: 0.0979\n",
      "Epoch 54/100\n",
      "60000/60000 [==============================] - 1s 20us/step - loss: 0.0993 - val_loss: 0.0975\n",
      "Epoch 55/100\n",
      "60000/60000 [==============================] - 1s 19us/step - loss: 0.0989 - val_loss: 0.0973\n",
      "Epoch 56/100\n",
      "60000/60000 [==============================] - 1s 20us/step - loss: 0.0986 - val_loss: 0.0969\n",
      "Epoch 57/100\n",
      "60000/60000 [==============================] - 1s 20us/step - loss: 0.0983 - val_loss: 0.0967\n",
      "Epoch 58/100\n",
      "60000/60000 [==============================] - 1s 20us/step - loss: 0.0980 - val_loss: 0.0964\n",
      "Epoch 59/100\n",
      "60000/60000 [==============================] - 1s 20us/step - loss: 0.0978 - val_loss: 0.0961\n",
      "Epoch 60/100\n",
      "60000/60000 [==============================] - 1s 20us/step - loss: 0.0975 - val_loss: 0.0959\n",
      "Epoch 61/100\n",
      "60000/60000 [==============================] - 1s 19us/step - loss: 0.0973 - val_loss: 0.0957\n",
      "Epoch 62/100\n",
      "60000/60000 [==============================] - 1s 19us/step - loss: 0.0970 - val_loss: 0.0954\n",
      "Epoch 63/100\n",
      "60000/60000 [==============================] - 1s 20us/step - loss: 0.0968 - val_loss: 0.0952\n",
      "Epoch 64/100\n",
      "60000/60000 [==============================] - 1s 20us/step - loss: 0.0966 - val_loss: 0.0950\n",
      "Epoch 65/100\n",
      "60000/60000 [==============================] - 1s 19us/step - loss: 0.0964 - val_loss: 0.0948\n",
      "Epoch 66/100\n",
      "60000/60000 [==============================] - 1s 19us/step - loss: 0.0962 - val_loss: 0.0947\n",
      "Epoch 67/100\n",
      "60000/60000 [==============================] - 1s 20us/step - loss: 0.0960 - val_loss: 0.0945\n",
      "Epoch 68/100\n",
      "60000/60000 [==============================] - 1s 20us/step - loss: 0.0958 - val_loss: 0.0943\n",
      "Epoch 69/100\n",
      "60000/60000 [==============================] - 1s 19us/step - loss: 0.0957 - val_loss: 0.0941\n",
      "Epoch 70/100\n",
      "60000/60000 [==============================] - 1s 19us/step - loss: 0.0955 - val_loss: 0.0940\n",
      "Epoch 71/100\n",
      "60000/60000 [==============================] - 1s 19us/step - loss: 0.0953 - val_loss: 0.0938\n",
      "Epoch 72/100\n",
      "60000/60000 [==============================] - 1s 20us/step - loss: 0.0952 - val_loss: 0.0937\n",
      "Epoch 73/100\n",
      "60000/60000 [==============================] - 1s 20us/step - loss: 0.0951 - val_loss: 0.0936\n",
      "Epoch 74/100\n",
      "60000/60000 [==============================] - 1s 20us/step - loss: 0.0949 - val_loss: 0.0934\n",
      "Epoch 75/100\n",
      "60000/60000 [==============================] - 1s 19us/step - loss: 0.0948 - val_loss: 0.0933\n",
      "Epoch 76/100\n",
      "60000/60000 [==============================] - 1s 21us/step - loss: 0.0946 - val_loss: 0.0932\n",
      "Epoch 77/100\n",
      "60000/60000 [==============================] - 1s 19us/step - loss: 0.0945 - val_loss: 0.0931\n",
      "Epoch 78/100\n",
      "60000/60000 [==============================] - 1s 20us/step - loss: 0.0944 - val_loss: 0.0929\n",
      "Epoch 79/100\n",
      "60000/60000 [==============================] - 1s 19us/step - loss: 0.0943 - val_loss: 0.0928\n",
      "Epoch 80/100\n",
      "60000/60000 [==============================] - 1s 20us/step - loss: 0.0942 - val_loss: 0.0927\n",
      "Epoch 81/100\n",
      "60000/60000 [==============================] - 1s 20us/step - loss: 0.0941 - val_loss: 0.0926\n",
      "Epoch 82/100\n",
      "60000/60000 [==============================] - 1s 19us/step - loss: 0.0940 - val_loss: 0.0925\n",
      "Epoch 83/100\n",
      "60000/60000 [==============================] - 1s 19us/step - loss: 0.0939 - val_loss: 0.0924\n",
      "Epoch 84/100\n",
      "60000/60000 [==============================] - 1s 20us/step - loss: 0.0938 - val_loss: 0.0924\n",
      "Epoch 85/100\n",
      "60000/60000 [==============================] - 1s 19us/step - loss: 0.0937 - val_loss: 0.0923\n",
      "Epoch 86/100\n",
      "60000/60000 [==============================] - 1s 19us/step - loss: 0.0936 - val_loss: 0.0922\n",
      "Epoch 87/100\n",
      "60000/60000 [==============================] - 1s 19us/step - loss: 0.0935 - val_loss: 0.0921\n",
      "Epoch 88/100\n",
      "60000/60000 [==============================] - 1s 21us/step - loss: 0.0935 - val_loss: 0.0920\n",
      "Epoch 89/100\n",
      "60000/60000 [==============================] - 1s 20us/step - loss: 0.0934 - val_loss: 0.0920\n",
      "Epoch 90/100\n",
      "60000/60000 [==============================] - 1s 20us/step - loss: 0.0933 - val_loss: 0.0919\n",
      "Epoch 91/100\n",
      "60000/60000 [==============================] - 1s 20us/step - loss: 0.0932 - val_loss: 0.0918\n",
      "Epoch 92/100\n",
      "60000/60000 [==============================] - 1s 19us/step - loss: 0.0932 - val_loss: 0.0918\n",
      "Epoch 93/100\n",
      "60000/60000 [==============================] - 1s 20us/step - loss: 0.0931 - val_loss: 0.0917\n",
      "Epoch 94/100\n",
      "60000/60000 [==============================] - 1s 20us/step - loss: 0.0931 - val_loss: 0.0916\n",
      "Epoch 95/100\n",
      "60000/60000 [==============================] - 1s 19us/step - loss: 0.0930 - val_loss: 0.0916\n",
      "Epoch 96/100\n",
      "60000/60000 [==============================] - 1s 20us/step - loss: 0.0929 - val_loss: 0.0915\n",
      "Epoch 97/100\n",
      "60000/60000 [==============================] - 1s 20us/step - loss: 0.0929 - val_loss: 0.0915\n",
      "Epoch 98/100\n",
      "60000/60000 [==============================] - 1s 20us/step - loss: 0.0928 - val_loss: 0.0914\n",
      "Epoch 99/100\n",
      "60000/60000 [==============================] - 1s 19us/step - loss: 0.0928 - val_loss: 0.0914\n",
      "Epoch 100/100\n",
      "60000/60000 [==============================] - 1s 19us/step - loss: 0.0927 - val_loss: 0.0913\n"
     ]
    }
   ],
   "source": [
    "history = autoencoder.fit(x_train, x_train, epochs=100, batch_size=256, shuffle=True, validation_data=(x_test, x_test))"
   ]
  },
  {
   "cell_type": "code",
   "execution_count": 10,
   "metadata": {},
   "outputs": [],
   "source": [
    "encoder_imgs = encoder.predict(x_test)\n",
    "decoder_imgs = decoder.predict(encoder_imgs)"
   ]
  },
  {
   "cell_type": "code",
   "execution_count": 11,
   "metadata": {},
   "outputs": [
    {
     "data": {
      "image/png": "[encoded data removed]",
      "text/plain": [
       "<Figure size 1440x288 with 30 Axes>"
      ]
     },
     "metadata": {},
     "output_type": "display_data"
    }
   ],
   "source": [
    "plt.figure(figsize=(20, 4))\n",
    "for i in range(10):\n",
    "    ax = plt.subplot(3, 10, i+1)\n",
    "    ax.imshow(x_test[i].reshape(28, 28))\n",
    "    plt.xticks(())\n",
    "    plt.yticks(())\n",
    "    ax2 = plt.subplot(3, 10, i + 1 + 10)\n",
    "    ax2.imshow(decoder_imgs[i].reshape(28, 28))\n",
    "    plt.xticks(())\n",
    "    plt.yticks(())\n",
    "    ax3 = plt.subplot(3, 10, i + 1 + 2*10)\n",
    "    ax3.imshow(encoder_imgs[i].reshape(6, 6))\n",
    "    plt.xticks(())\n",
    "    plt.yticks(())"
   ]
  },
  {
   "cell_type": "code",
   "execution_count": 12,
   "metadata": {},
   "outputs": [
    {
     "data": {
      "text/plain": [
       "dict_keys(['loss', 'val_loss'])"
      ]
     },
     "execution_count": 12,
     "metadata": {},
     "output_type": "execute_result"
    }
   ],
   "source": [
    "history.history.keys()"
   ]
  },
  {
   "cell_type": "code",
   "execution_count": 13,
   "metadata": {},
   "outputs": [
    {
     "data": {
      "text/plain": [
       "Text(0.5,0,'epochs')"
      ]
     },
     "execution_count": 13,
     "metadata": {},
     "output_type": "execute_result"
    },
    {
     "data": {
      "image/png": "[encoded data removed]",
      "text/plain": [
       "<Figure size 576x432 with 1 Axes>"
      ]
     },
     "metadata": {
      "needs_background": "light"
     },
     "output_type": "display_data"
    }
   ],
   "source": [
    "fig, ax = plt.subplots(figsize=(8,6))\n",
    "ax.plot(history.history['loss'], label='train')\n",
    "ax.plot(history.history['val_loss'], label='test')\n",
    "ax.legend(fontsize=16)\n",
    "ax.set_ylabel('Loss', fontsize=16)\n",
    "ax.set_xlabel('epochs', fontsize=16)"
   ]
  },
  {
   "cell_type": "markdown",
   "metadata": {},
   "source": [
    "## Deep autoencoders"
   ]
  },
  {
   "cell_type": "code",
   "execution_count": 14,
   "metadata": {},
   "outputs": [
    {
     "data": {
      "text/plain": [
       "(60000, 784)"
      ]
     },
     "execution_count": 14,
     "metadata": {},
     "output_type": "execute_result"
    }
   ],
   "source": [
    "encoding_dim = 128\n",
    "x_train.shape"
   ]
  },
  {
   "cell_type": "code",
   "execution_count": 15,
   "metadata": {},
   "outputs": [
    {
     "name": "stdout",
     "output_type": "stream",
     "text": [
      "_________________________________________________________________\n",
      "Layer (type)                 Output Shape              Param #   \n",
      "=================================================================\n",
      "input_3 (InputLayer)         (None, 784)               0         \n",
      "_________________________________________________________________\n",
      "dense_3 (Dense)              (None, 128)               100480    \n",
      "_________________________________________________________________\n",
      "dense_4 (Dense)              (None, 64)                8256      \n",
      "_________________________________________________________________\n",
      "dense_5 (Dense)              (None, 32)                2080      \n",
      "_________________________________________________________________\n",
      "dense_6 (Dense)              (None, 64)                2112      \n",
      "_________________________________________________________________\n",
      "dense_7 (Dense)              (None, 128)               8320      \n",
      "_________________________________________________________________\n",
      "dense_8 (Dense)              (None, 784)               101136    \n",
      "=================================================================\n",
      "Total params: 222,384\n",
      "Trainable params: 222,384\n",
      "Non-trainable params: 0\n",
      "_________________________________________________________________\n"
     ]
    }
   ],
   "source": [
    "input_img = Input(shape=(x_train.shape[1],))\n",
    "encoder = Dense(encoding_dim, activation='relu')(input_img)\n",
    "encoder = Dense(int(encoding_dim/2), activation='relu')(encoder)\n",
    "encoder = Dense(int(encoding_dim/4), activation='relu')(encoder)\n",
    "decoder = Dense(int(encoding_dim/2), activation='relu')(encoder)\n",
    "decoder = Dense(int(encoding_dim), activation='relu')(decoder)\n",
    "decoder = Dense(x_train.shape[1], activation='sigmoid')(decoder)\n",
    "autoencoder = Model(input_img, decoder)\n",
    "autoencoder.summary()"
   ]
  },
  {
   "cell_type": "code",
   "execution_count": 16,
   "metadata": {},
   "outputs": [
    {
     "name": "stdout",
     "output_type": "stream",
     "text": [
      "Train on 60000 samples, validate on 10000 samples\n",
      "Epoch 1/40\n",
      "60000/60000 [==============================] - 3s 44us/step - loss: 0.3367 - acc: 0.7507 - mean_squared_error: 0.0939 - val_loss: 0.2620 - val_acc: 0.7906 - val_mean_squared_error: 0.0671\n",
      "\n",
      "Epoch 00001: val_acc improved from -inf to 0.79059, saving model to best_deep_Aencoder.hdf5\n",
      "Epoch 2/40\n",
      "60000/60000 [==============================] - 2s 30us/step - loss: 0.2558 - acc: 0.7955 - mean_squared_error: 0.0650 - val_loss: 0.2442 - val_acc: 0.7956 - val_mean_squared_error: 0.0611\n",
      "\n",
      "Epoch 00002: val_acc improved from 0.79059 to 0.79561, saving model to best_deep_Aencoder.hdf5\n",
      "Epoch 3/40\n",
      "60000/60000 [==============================] - 2s 28us/step - loss: 0.2320 - acc: 0.7928 - mean_squared_error: 0.0569 - val_loss: 0.2228 - val_acc: 0.7967 - val_mean_squared_error: 0.0543\n",
      "\n",
      "Epoch 00003: val_acc improved from 0.79561 to 0.79666, saving model to best_deep_Aencoder.hdf5\n",
      "Epoch 4/40\n",
      "60000/60000 [==============================] - 2s 28us/step - loss: 0.2151 - acc: 0.7925 - mean_squared_error: 0.0515 - val_loss: 0.2087 - val_acc: 0.7870 - val_mean_squared_error: 0.0495\n",
      "\n",
      "Epoch 00004: val_acc did not improve\n",
      "Epoch 5/40\n",
      "60000/60000 [==============================] - 2s 29us/step - loss: 0.2043 - acc: 0.7943 - mean_squared_error: 0.0479 - val_loss: 0.1970 - val_acc: 0.7955 - val_mean_squared_error: 0.0456\n",
      "\n",
      "Epoch 00005: val_acc did not improve\n",
      "Epoch 6/40\n",
      "60000/60000 [==============================] - 2s 28us/step - loss: 0.1949 - acc: 0.7959 - mean_squared_error: 0.0447 - val_loss: 0.1907 - val_acc: 0.7998 - val_mean_squared_error: 0.0436\n",
      "\n",
      "Epoch 00006: val_acc improved from 0.79666 to 0.79984, saving model to best_deep_Aencoder.hdf5\n",
      "Epoch 7/40\n",
      "60000/60000 [==============================] - 2s 28us/step - loss: 0.1885 - acc: 0.7970 - mean_squared_error: 0.0425 - val_loss: 0.1843 - val_acc: 0.7987 - val_mean_squared_error: 0.0412\n",
      "\n",
      "Epoch 00007: val_acc did not improve\n",
      "Epoch 8/40\n",
      "60000/60000 [==============================] - 2s 28us/step - loss: 0.1819 - acc: 0.7983 - mean_squared_error: 0.0401 - val_loss: 0.1790 - val_acc: 0.7987 - val_mean_squared_error: 0.0393\n",
      "\n",
      "Epoch 00008: val_acc did not improve\n",
      "Epoch 9/40\n",
      "60000/60000 [==============================] - 2s 30us/step - loss: 0.1741 - acc: 0.8001 - mean_squared_error: 0.0373 - val_loss: 0.1695 - val_acc: 0.8024 - val_mean_squared_error: 0.0359\n",
      "\n",
      "Epoch 00009: val_acc improved from 0.79984 to 0.80244, saving model to best_deep_Aencoder.hdf5\n",
      "Epoch 10/40\n",
      "60000/60000 [==============================] - 2s 27us/step - loss: 0.1680 - acc: 0.8015 - mean_squared_error: 0.0351 - val_loss: 0.1641 - val_acc: 0.7990 - val_mean_squared_error: 0.0337\n",
      "\n",
      "Epoch 00010: val_acc did not improve\n",
      "Epoch 11/40\n",
      "60000/60000 [==============================] - 2s 27us/step - loss: 0.1633 - acc: 0.8024 - mean_squared_error: 0.0335 - val_loss: 0.1597 - val_acc: 0.8053 - val_mean_squared_error: 0.0326\n",
      "\n",
      "Epoch 00011: val_acc improved from 0.80244 to 0.80531, saving model to best_deep_Aencoder.hdf5\n",
      "Epoch 12/40\n",
      "60000/60000 [==============================] - 2s 27us/step - loss: 0.1597 - acc: 0.8031 - mean_squared_error: 0.0323 - val_loss: 0.1577 - val_acc: 0.8064 - val_mean_squared_error: 0.0320\n",
      "\n",
      "Epoch 00012: val_acc improved from 0.80531 to 0.80636, saving model to best_deep_Aencoder.hdf5\n",
      "Epoch 13/40\n",
      "60000/60000 [==============================] - 2s 28us/step - loss: 0.1568 - acc: 0.8037 - mean_squared_error: 0.0313 - val_loss: 0.1549 - val_acc: 0.8056 - val_mean_squared_error: 0.0309\n",
      "\n",
      "Epoch 00013: val_acc did not improve\n",
      "Epoch 14/40\n",
      "60000/60000 [==============================] - 2s 28us/step - loss: 0.1542 - acc: 0.8042 - mean_squared_error: 0.0304 - val_loss: 0.1522 - val_acc: 0.8021 - val_mean_squared_error: 0.0298\n",
      "\n",
      "Epoch 00014: val_acc did not improve\n",
      "Epoch 15/40\n",
      "60000/60000 [==============================] - 2s 28us/step - loss: 0.1519 - acc: 0.8047 - mean_squared_error: 0.0297 - val_loss: 0.1489 - val_acc: 0.8068 - val_mean_squared_error: 0.0288\n",
      "\n",
      "Epoch 00015: val_acc improved from 0.80636 to 0.80680, saving model to best_deep_Aencoder.hdf5\n",
      "Epoch 16/40\n",
      "60000/60000 [==============================] - 2s 27us/step - loss: 0.1496 - acc: 0.8052 - mean_squared_error: 0.0289 - val_loss: 0.1481 - val_acc: 0.8023 - val_mean_squared_error: 0.0284\n",
      "\n",
      "Epoch 00016: val_acc did not improve\n",
      "Epoch 17/40\n",
      "60000/60000 [==============================] - 2s 29us/step - loss: 0.1475 - acc: 0.8056 - mean_squared_error: 0.0282 - val_loss: 0.1457 - val_acc: 0.8022 - val_mean_squared_error: 0.0275\n",
      "\n",
      "Epoch 00017: val_acc did not improve\n",
      "Epoch 18/40\n",
      "60000/60000 [==============================] - 2s 28us/step - loss: 0.1455 - acc: 0.8060 - mean_squared_error: 0.0275 - val_loss: 0.1426 - val_acc: 0.8066 - val_mean_squared_error: 0.0266\n",
      "\n",
      "Epoch 00018: val_acc did not improve\n",
      "Epoch 19/40\n",
      "60000/60000 [==============================] - 2s 28us/step - loss: 0.1438 - acc: 0.8063 - mean_squared_error: 0.0269 - val_loss: 0.1429 - val_acc: 0.8076 - val_mean_squared_error: 0.0268\n",
      "\n",
      "Epoch 00019: val_acc improved from 0.80680 to 0.80761, saving model to best_deep_Aencoder.hdf5\n",
      "Epoch 20/40\n",
      "60000/60000 [==============================] - 2s 27us/step - loss: 0.1419 - acc: 0.8067 - mean_squared_error: 0.0263 - val_loss: 0.1401 - val_acc: 0.8051 - val_mean_squared_error: 0.0257\n",
      "\n",
      "Epoch 00020: val_acc did not improve\n",
      "Epoch 21/40\n",
      "60000/60000 [==============================] - 2s 29us/step - loss: 0.1404 - acc: 0.8070 - mean_squared_error: 0.0257 - val_loss: 0.1371 - val_acc: 0.8061 - val_mean_squared_error: 0.0247\n",
      "\n",
      "Epoch 00021: val_acc did not improve\n",
      "Epoch 22/40\n",
      "60000/60000 [==============================] - 2s 29us/step - loss: 0.1389 - acc: 0.8072 - mean_squared_error: 0.0252 - val_loss: 0.1385 - val_acc: 0.8037 - val_mean_squared_error: 0.0250\n",
      "\n",
      "Epoch 00022: val_acc did not improve\n",
      "Epoch 23/40\n",
      "60000/60000 [==============================] - 2s 27us/step - loss: 0.1375 - acc: 0.8075 - mean_squared_error: 0.0247 - val_loss: 0.1348 - val_acc: 0.8055 - val_mean_squared_error: 0.0238\n",
      "\n",
      "Epoch 00023: val_acc did not improve\n",
      "Epoch 24/40\n",
      "60000/60000 [==============================] - 2s 27us/step - loss: 0.1360 - acc: 0.8078 - mean_squared_error: 0.0243 - val_loss: 0.1342 - val_acc: 0.8051 - val_mean_squared_error: 0.0236\n",
      "\n",
      "Epoch 00024: val_acc did not improve\n",
      "Epoch 25/40\n",
      "60000/60000 [==============================] - 2s 28us/step - loss: 0.1347 - acc: 0.8080 - mean_squared_error: 0.0238 - val_loss: 0.1324 - val_acc: 0.8057 - val_mean_squared_error: 0.0230\n",
      "\n",
      "Epoch 00025: val_acc did not improve\n",
      "Epoch 26/40\n",
      "60000/60000 [==============================] - 2s 29us/step - loss: 0.1333 - acc: 0.8083 - mean_squared_error: 0.0233 - val_loss: 0.1298 - val_acc: 0.8072 - val_mean_squared_error: 0.0222\n",
      "\n",
      "Epoch 00026: val_acc did not improve\n",
      "Epoch 27/40\n",
      "60000/60000 [==============================] - 2s 29us/step - loss: 0.1319 - acc: 0.8085 - mean_squared_error: 0.0229 - val_loss: 0.1294 - val_acc: 0.8071 - val_mean_squared_error: 0.0220\n",
      "\n",
      "Epoch 00027: val_acc did not improve\n",
      "Epoch 28/40\n",
      "60000/60000 [==============================] - 2s 28us/step - loss: 0.1307 - acc: 0.8087 - mean_squared_error: 0.0224 - val_loss: 0.1293 - val_acc: 0.8072 - val_mean_squared_error: 0.0220\n",
      "\n",
      "Epoch 00028: val_acc did not improve\n",
      "Epoch 29/40\n",
      "60000/60000 [==============================] - 2s 27us/step - loss: 0.1295 - acc: 0.8089 - mean_squared_error: 0.0220 - val_loss: 0.1282 - val_acc: 0.8062 - val_mean_squared_error: 0.0216\n",
      "\n",
      "Epoch 00029: val_acc did not improve\n",
      "Epoch 30/40\n",
      "60000/60000 [==============================] - 2s 28us/step - loss: 0.1284 - acc: 0.8091 - mean_squared_error: 0.0217 - val_loss: 0.1243 - val_acc: 0.8097 - val_mean_squared_error: 0.0204\n",
      "\n",
      "Epoch 00030: val_acc improved from 0.80761 to 0.80968, saving model to best_deep_Aencoder.hdf5\n",
      "Epoch 31/40\n",
      "60000/60000 [==============================] - 2s 29us/step - loss: 0.1273 - acc: 0.8093 - mean_squared_error: 0.0213 - val_loss: 0.1247 - val_acc: 0.8073 - val_mean_squared_error: 0.0204\n",
      "\n",
      "Epoch 00031: val_acc did not improve\n",
      "Epoch 32/40\n",
      "60000/60000 [==============================] - 2s 29us/step - loss: 0.1263 - acc: 0.8095 - mean_squared_error: 0.0210 - val_loss: 0.1244 - val_acc: 0.8080 - val_mean_squared_error: 0.0204\n"
     ]
    },
    {
     "name": "stdout",
     "output_type": "stream",
     "text": [
      "\n",
      "Epoch 00032: val_acc did not improve\n",
      "Epoch 33/40\n",
      "60000/60000 [==============================] - 2s 30us/step - loss: 0.1256 - acc: 0.8096 - mean_squared_error: 0.0208 - val_loss: 0.1228 - val_acc: 0.8090 - val_mean_squared_error: 0.0199\n",
      "\n",
      "Epoch 00033: val_acc did not improve\n",
      "Epoch 34/40\n",
      "60000/60000 [==============================] - 2s 28us/step - loss: 0.1246 - acc: 0.8097 - mean_squared_error: 0.0204 - val_loss: 0.1220 - val_acc: 0.8094 - val_mean_squared_error: 0.0197\n",
      "\n",
      "Epoch 00034: val_acc did not improve\n",
      "Epoch 35/40\n",
      "60000/60000 [==============================] - 2s 26us/step - loss: 0.1238 - acc: 0.8099 - mean_squared_error: 0.0202 - val_loss: 0.1214 - val_acc: 0.8099 - val_mean_squared_error: 0.0194\n",
      "\n",
      "Epoch 00035: val_acc improved from 0.80968 to 0.80992, saving model to best_deep_Aencoder.hdf5\n",
      "Epoch 36/40\n",
      "60000/60000 [==============================] - 2s 28us/step - loss: 0.1227 - acc: 0.8101 - mean_squared_error: 0.0198 - val_loss: 0.1198 - val_acc: 0.8097 - val_mean_squared_error: 0.0189\n",
      "\n",
      "Epoch 00036: val_acc did not improve\n",
      "Epoch 37/40\n",
      "60000/60000 [==============================] - 2s 28us/step - loss: 0.1219 - acc: 0.8102 - mean_squared_error: 0.0195 - val_loss: 0.1210 - val_acc: 0.8082 - val_mean_squared_error: 0.0193\n",
      "\n",
      "Epoch 00037: val_acc did not improve\n",
      "Epoch 38/40\n",
      "60000/60000 [==============================] - 2s 28us/step - loss: 0.1211 - acc: 0.8103 - mean_squared_error: 0.0193 - val_loss: 0.1181 - val_acc: 0.8103 - val_mean_squared_error: 0.0184\n",
      "\n",
      "Epoch 00038: val_acc improved from 0.80992 to 0.81033, saving model to best_deep_Aencoder.hdf5\n",
      "Epoch 39/40\n",
      "60000/60000 [==============================] - 2s 28us/step - loss: 0.1203 - acc: 0.8104 - mean_squared_error: 0.0190 - val_loss: 0.1198 - val_acc: 0.8101 - val_mean_squared_error: 0.0190\n",
      "\n",
      "Epoch 00039: val_acc did not improve\n",
      "Epoch 40/40\n",
      "60000/60000 [==============================] - 2s 29us/step - loss: 0.1197 - acc: 0.8105 - mean_squared_error: 0.0188 - val_loss: 0.1213 - val_acc: 0.8074 - val_mean_squared_error: 0.0193\n",
      "\n",
      "Epoch 00040: val_acc did not improve\n"
     ]
    }
   ],
   "source": [
    "best_model_path = 'best_deep_Aencoder.hdf5'\n",
    "checkpoint = ModelCheckpoint(best_model_path, monitor='val_acc', verbose=1, save_best_only=True, mode='max')\n",
    "autoencoder.compile(optimizer='adadelta', loss='binary_crossentropy', metrics=['acc', 'mse'])\n",
    "history = autoencoder.fit(x_train, x_train, epochs=40, batch_size=256, shuffle=True, callbacks=[checkpoint],\n",
    "                          validation_data=(x_test, x_test))"
   ]
  },
  {
   "cell_type": "code",
   "execution_count": 17,
   "metadata": {},
   "outputs": [],
   "source": [
    "model = load_model(best_model_path)\n",
    "encoder = Model(model.layers[0].input, model.layers[2].output)\n",
    "encoder_imgs = encoder.predict(x_test)\n",
    "decoder_imgs = model.predict(x_test)"
   ]
  },
  {
   "cell_type": "code",
   "execution_count": 18,
   "metadata": {},
   "outputs": [
    {
     "data": {
      "text/plain": [
       "Text(0.5,0,'epochs')"
      ]
     },
     "execution_count": 18,
     "metadata": {},
     "output_type": "execute_result"
    },
    {
     "data": {
      "image/png": "[encoded data removed]",
      "text/plain": [
       "<Figure size 576x432 with 1 Axes>"
      ]
     },
     "metadata": {
      "needs_background": "light"
     },
     "output_type": "display_data"
    }
   ],
   "source": [
    "fig, ax = plt.subplots(figsize=(8,6))\n",
    "ax.plot(history.history['loss'], label='train')\n",
    "ax.plot(history.history['val_loss'], label='test')\n",
    "ax.legend(fontsize=16)\n",
    "ax.set_ylabel('Loss', fontsize=16)\n",
    "ax.set_xlabel('epochs', fontsize=16)"
   ]
  },
  {
   "cell_type": "code",
   "execution_count": 19,
   "metadata": {},
   "outputs": [
    {
     "data": {
      "image/png": "[encoded data removed]",
      "text/plain": [
       "<Figure size 1440x288 with 30 Axes>"
      ]
     },
     "metadata": {},
     "output_type": "display_data"
    }
   ],
   "source": [
    "plt.figure(figsize=(20, 4))\n",
    "for i in range(10):\n",
    "    ax = plt.subplot(3, 10, i+1)\n",
    "    ax.imshow(x_test[i].reshape(28, 28))\n",
    "    plt.xticks(())\n",
    "    plt.yticks(())\n",
    "    ax2 = plt.subplot(3, 10, i + 1 + 10)\n",
    "    ax2.imshow(decoder_imgs[i].reshape(28, 28))\n",
    "    plt.xticks(())\n",
    "    plt.yticks(())\n",
    "    ax3 = plt.subplot(3, 10, i + 1 + 2*10)\n",
    "    ax3.imshow(encoder_imgs[i].reshape(8, 8))\n",
    "    plt.xticks(())\n",
    "    plt.yticks(())"
   ]
  },
  {
   "cell_type": "markdown",
   "metadata": {},
   "source": [
    "## Deep Convolutional autoencoders:"
   ]
  },
  {
   "cell_type": "code",
   "execution_count": 20,
   "metadata": {},
   "outputs": [
    {
     "name": "stdout",
     "output_type": "stream",
     "text": [
      "Train: (examples, x pixels, y pixels):\n",
      "(60000, 28, 28)\n",
      "Test: (examples, x pixels y pixels):\n",
      "(10000, 28, 28)\n"
     ]
    }
   ],
   "source": [
    "(x_train, y_train), (x_test, y_test) = mnist.load_data()\n",
    "print('Train: (examples, x pixels, y pixels):\\n{}\\nTest: (examples, x pixels y pixels):\\n{}'.format(x_train.shape, x_test.shape))"
   ]
  },
  {
   "cell_type": "code",
   "execution_count": 21,
   "metadata": {},
   "outputs": [
    {
     "name": "stdout",
     "output_type": "stream",
     "text": [
      "Train new shape: (60000, 28, 28, 1)\n",
      "Test new shape:(10000, 28, 28, 1)\n"
     ]
    }
   ],
   "source": [
    "x_train = x_train/255\n",
    "x_test = x_test/255\n",
    "x_train = x_train.reshape(x_train.shape[0], x_train.shape[1], x_train.shape[2], 1)\n",
    "x_test = x_test.reshape(x_test.shape[0], x_test.shape[1], x_test.shape[2], 1)\n",
    "print('Train new shape: {}\\nTest new shape:{}'.format(x_train.shape, x_test.shape))"
   ]
  },
  {
   "cell_type": "code",
   "execution_count": 22,
   "metadata": {},
   "outputs": [
    {
     "name": "stdout",
     "output_type": "stream",
     "text": [
      "_________________________________________________________________\n",
      "Layer (type)                 Output Shape              Param #   \n",
      "=================================================================\n",
      "input_4 (InputLayer)         (None, 28, 28, 1)         0         \n",
      "_________________________________________________________________\n",
      "conv2d_1 (Conv2D)            (None, 28, 28, 16)        160       \n",
      "_________________________________________________________________\n",
      "max_pooling2d_1 (MaxPooling2 (None, 14, 14, 16)        0         \n",
      "_________________________________________________________________\n",
      "conv2d_2 (Conv2D)            (None, 14, 14, 8)         1160      \n",
      "_________________________________________________________________\n",
      "max_pooling2d_2 (MaxPooling2 (None, 7, 7, 8)           0         \n",
      "_________________________________________________________________\n",
      "conv2d_3 (Conv2D)            (None, 7, 7, 8)           584       \n",
      "_________________________________________________________________\n",
      "max_pooling2d_3 (MaxPooling2 (None, 4, 4, 8)           0         \n",
      "_________________________________________________________________\n",
      "conv2d_4 (Conv2D)            (None, 4, 4, 8)           584       \n",
      "_________________________________________________________________\n",
      "up_sampling2d_1 (UpSampling2 (None, 8, 8, 8)           0         \n",
      "_________________________________________________________________\n",
      "conv2d_5 (Conv2D)            (None, 8, 8, 8)           584       \n",
      "_________________________________________________________________\n",
      "up_sampling2d_2 (UpSampling2 (None, 16, 16, 8)         0         \n",
      "_________________________________________________________________\n",
      "conv2d_6 (Conv2D)            (None, 14, 14, 16)        1168      \n",
      "_________________________________________________________________\n",
      "up_sampling2d_3 (UpSampling2 (None, 28, 28, 16)        0         \n",
      "_________________________________________________________________\n",
      "conv2d_7 (Conv2D)            (None, 28, 28, 1)         145       \n",
      "=================================================================\n",
      "Total params: 4,385\n",
      "Trainable params: 4,385\n",
      "Non-trainable params: 0\n",
      "_________________________________________________________________\n"
     ]
    }
   ],
   "source": [
    "input_img = Input(shape=x_train.shape[1:])\n",
    "encoder = Conv2D(16, (3, 3), activation='relu', padding='same')(input_img)\n",
    "encoder = MaxPooling2D((2,2), padding='same')(encoder)\n",
    "encoder = Conv2D(8, (3, 3), activation='relu', padding='same')(encoder)\n",
    "encoder = MaxPooling2D((2,2), padding='same')(encoder)\n",
    "encoder = Conv2D(8, (3, 3), activation='relu', padding='same')(encoder)\n",
    "encoder = MaxPooling2D((2,2), padding='same')(encoder)\n",
    "\n",
    "decoder = Conv2D(8, (3,3), activation='relu', padding='same')(encoder)\n",
    "decoder = UpSampling2D((2, 2))(decoder)\n",
    "decoder = Conv2D(8, (3, 3), activation='relu', padding='same')(decoder)\n",
    "decoder = UpSampling2D((2, 2))(decoder)\n",
    "decoder = Conv2D(16, (3, 3), activation='relu')(decoder)\n",
    "decoder = UpSampling2D((2, 2))(decoder)\n",
    "decoder = Conv2D(1, (3, 3), activation='sigmoid', padding='same')(decoder)\n",
    "\n",
    "autoencoder = Model(input_img, decoder)\n",
    "autoencoder.summary()"
   ]
  },
  {
   "cell_type": "code",
   "execution_count": 23,
   "metadata": {},
   "outputs": [
    {
     "name": "stdout",
     "output_type": "stream",
     "text": [
      "Train on 60000 samples, validate on 10000 samples\n",
      "Epoch 1/40\n",
      "60000/60000 [==============================] - 5s 80us/step - loss: 0.2376 - acc: 0.7947 - mean_squared_error: 0.0595 - val_loss: 0.1873 - val_acc: 0.7973 - val_mean_squared_error: 0.0432\n",
      "\n",
      "Epoch 00001: val_acc improved from -inf to 0.79734, saving model to best_convolutional_Aencoder.hdf5\n",
      "Epoch 2/40\n",
      "60000/60000 [==============================] - 3s 45us/step - loss: 0.1695 - acc: 0.7954 - mean_squared_error: 0.0372 - val_loss: 0.1790 - val_acc: 0.8049 - val_mean_squared_error: 0.0400\n",
      "\n",
      "Epoch 00002: val_acc improved from 0.79734 to 0.80493, saving model to best_convolutional_Aencoder.hdf5\n",
      "Epoch 3/40\n",
      "60000/60000 [==============================] - 3s 46us/step - loss: 0.1544 - acc: 0.7993 - mean_squared_error: 0.0317 - val_loss: 0.1521 - val_acc: 0.8049 - val_mean_squared_error: 0.0306\n",
      "\n",
      "Epoch 00003: val_acc did not improve\n",
      "Epoch 4/40\n",
      "60000/60000 [==============================] - 3s 46us/step - loss: 0.1453 - acc: 0.8016 - mean_squared_error: 0.0285 - val_loss: 0.1426 - val_acc: 0.8065 - val_mean_squared_error: 0.0274\n",
      "\n",
      "Epoch 00004: val_acc improved from 0.80493 to 0.80652, saving model to best_convolutional_Aencoder.hdf5\n",
      "Epoch 5/40\n",
      "60000/60000 [==============================] - 3s 46us/step - loss: 0.1392 - acc: 0.8032 - mean_squared_error: 0.0263 - val_loss: 0.1413 - val_acc: 0.8077 - val_mean_squared_error: 0.0268\n",
      "\n",
      "Epoch 00005: val_acc improved from 0.80652 to 0.80775, saving model to best_convolutional_Aencoder.hdf5\n",
      "Epoch 6/40\n",
      "60000/60000 [==============================] - 3s 45us/step - loss: 0.1348 - acc: 0.8044 - mean_squared_error: 0.0247 - val_loss: 0.1416 - val_acc: 0.8084 - val_mean_squared_error: 0.0267\n",
      "\n",
      "Epoch 00006: val_acc improved from 0.80775 to 0.80836, saving model to best_convolutional_Aencoder.hdf5\n",
      "Epoch 7/40\n",
      "60000/60000 [==============================] - 3s 46us/step - loss: 0.1312 - acc: 0.8054 - mean_squared_error: 0.0234 - val_loss: 0.1389 - val_acc: 0.8089 - val_mean_squared_error: 0.0257\n",
      "\n",
      "Epoch 00007: val_acc improved from 0.80836 to 0.80885, saving model to best_convolutional_Aencoder.hdf5\n",
      "Epoch 8/40\n",
      "60000/60000 [==============================] - 3s 46us/step - loss: 0.1286 - acc: 0.8061 - mean_squared_error: 0.0225 - val_loss: 0.1343 - val_acc: 0.8091 - val_mean_squared_error: 0.0242\n",
      "\n",
      "Epoch 00008: val_acc improved from 0.80885 to 0.80908, saving model to best_convolutional_Aencoder.hdf5\n",
      "Epoch 9/40\n",
      "60000/60000 [==============================] - 3s 44us/step - loss: 0.1264 - acc: 0.8067 - mean_squared_error: 0.0217 - val_loss: 0.1298 - val_acc: 0.8091 - val_mean_squared_error: 0.0227\n",
      "\n",
      "Epoch 00009: val_acc did not improve\n",
      "Epoch 10/40\n",
      "60000/60000 [==============================] - 3s 45us/step - loss: 0.1242 - acc: 0.8072 - mean_squared_error: 0.0209 - val_loss: 0.1329 - val_acc: 0.8100 - val_mean_squared_error: 0.0238\n",
      "\n",
      "Epoch 00010: val_acc improved from 0.80908 to 0.81000, saving model to best_convolutional_Aencoder.hdf5\n",
      "Epoch 11/40\n",
      "60000/60000 [==============================] - 3s 46us/step - loss: 0.1227 - acc: 0.8076 - mean_squared_error: 0.0204 - val_loss: 0.1273 - val_acc: 0.8084 - val_mean_squared_error: 0.0219\n",
      "\n",
      "Epoch 00011: val_acc did not improve\n",
      "Epoch 12/40\n",
      "60000/60000 [==============================] - 3s 44us/step - loss: 0.1215 - acc: 0.8080 - mean_squared_error: 0.0200 - val_loss: 0.1219 - val_acc: 0.8101 - val_mean_squared_error: 0.0200\n",
      "\n",
      "Epoch 00012: val_acc improved from 0.81000 to 0.81009, saving model to best_convolutional_Aencoder.hdf5\n",
      "Epoch 13/40\n",
      "60000/60000 [==============================] - 3s 45us/step - loss: 0.1203 - acc: 0.8083 - mean_squared_error: 0.0196 - val_loss: 0.1235 - val_acc: 0.8092 - val_mean_squared_error: 0.0205\n",
      "\n",
      "Epoch 00013: val_acc did not improve\n",
      "Epoch 14/40\n",
      "60000/60000 [==============================] - 3s 45us/step - loss: 0.1187 - acc: 0.8086 - mean_squared_error: 0.0190 - val_loss: 0.1289 - val_acc: 0.8108 - val_mean_squared_error: 0.0223\n",
      "\n",
      "Epoch 00014: val_acc improved from 0.81009 to 0.81081, saving model to best_convolutional_Aencoder.hdf5\n",
      "Epoch 15/40\n",
      "60000/60000 [==============================] - 3s 45us/step - loss: 0.1178 - acc: 0.8088 - mean_squared_error: 0.0187 - val_loss: 0.1143 - val_acc: 0.8084 - val_mean_squared_error: 0.0175\n",
      "\n",
      "Epoch 00015: val_acc did not improve\n",
      "Epoch 16/40\n",
      "60000/60000 [==============================] - 3s 46us/step - loss: 0.1165 - acc: 0.8090 - mean_squared_error: 0.0182 - val_loss: 0.1121 - val_acc: 0.8085 - val_mean_squared_error: 0.0168\n",
      "\n",
      "Epoch 00016: val_acc did not improve\n",
      "Epoch 17/40\n",
      "60000/60000 [==============================] - 3s 46us/step - loss: 0.1157 - acc: 0.8092 - mean_squared_error: 0.0180 - val_loss: 0.1144 - val_acc: 0.8087 - val_mean_squared_error: 0.0175\n",
      "\n",
      "Epoch 00017: val_acc did not improve\n",
      "Epoch 18/40\n",
      "60000/60000 [==============================] - 3s 45us/step - loss: 0.1152 - acc: 0.8094 - mean_squared_error: 0.0178 - val_loss: 0.1217 - val_acc: 0.8104 - val_mean_squared_error: 0.0197\n",
      "\n",
      "Epoch 00018: val_acc did not improve\n",
      "Epoch 19/40\n",
      "60000/60000 [==============================] - 3s 46us/step - loss: 0.1147 - acc: 0.8095 - mean_squared_error: 0.0176 - val_loss: 0.1131 - val_acc: 0.8087 - val_mean_squared_error: 0.0171\n",
      "\n",
      "Epoch 00019: val_acc did not improve\n",
      "Epoch 20/40\n",
      "60000/60000 [==============================] - 3s 46us/step - loss: 0.1139 - acc: 0.8096 - mean_squared_error: 0.0174 - val_loss: 0.1173 - val_acc: 0.8102 - val_mean_squared_error: 0.0184\n",
      "\n",
      "Epoch 00020: val_acc did not improve\n",
      "Epoch 21/40\n",
      "60000/60000 [==============================] - 3s 45us/step - loss: 0.1135 - acc: 0.8097 - mean_squared_error: 0.0172 - val_loss: 0.1126 - val_acc: 0.8092 - val_mean_squared_error: 0.0169\n",
      "\n",
      "Epoch 00021: val_acc did not improve\n",
      "Epoch 22/40\n",
      "60000/60000 [==============================] - 3s 45us/step - loss: 0.1132 - acc: 0.8098 - mean_squared_error: 0.0171 - val_loss: 0.1172 - val_acc: 0.8106 - val_mean_squared_error: 0.0184\n",
      "\n",
      "Epoch 00022: val_acc did not improve\n",
      "Epoch 23/40\n",
      "60000/60000 [==============================] - 3s 47us/step - loss: 0.1124 - acc: 0.8099 - mean_squared_error: 0.0169 - val_loss: 0.1117 - val_acc: 0.8095 - val_mean_squared_error: 0.0166\n",
      "\n",
      "Epoch 00023: val_acc did not improve\n",
      "Epoch 24/40\n",
      "60000/60000 [==============================] - 3s 46us/step - loss: 0.1120 - acc: 0.8100 - mean_squared_error: 0.0167 - val_loss: 0.1091 - val_acc: 0.8093 - val_mean_squared_error: 0.0158\n",
      "\n",
      "Epoch 00024: val_acc did not improve\n",
      "Epoch 25/40\n",
      "60000/60000 [==============================] - 3s 49us/step - loss: 0.1118 - acc: 0.8101 - mean_squared_error: 0.0166 - val_loss: 0.1162 - val_acc: 0.8108 - val_mean_squared_error: 0.0180\n",
      "\n",
      "Epoch 00025: val_acc improved from 0.81081 to 0.81082, saving model to best_convolutional_Aencoder.hdf5\n",
      "Epoch 26/40\n",
      "60000/60000 [==============================] - 3s 45us/step - loss: 0.1110 - acc: 0.8102 - mean_squared_error: 0.0164 - val_loss: 0.1194 - val_acc: 0.8115 - val_mean_squared_error: 0.0191\n",
      "\n",
      "Epoch 00026: val_acc improved from 0.81082 to 0.81148, saving model to best_convolutional_Aencoder.hdf5\n",
      "Epoch 27/40\n",
      "60000/60000 [==============================] - 3s 47us/step - loss: 0.1107 - acc: 0.8103 - mean_squared_error: 0.0163 - val_loss: 0.1195 - val_acc: 0.8116 - val_mean_squared_error: 0.0192\n",
      "\n",
      "Epoch 00027: val_acc improved from 0.81148 to 0.81160, saving model to best_convolutional_Aencoder.hdf5\n",
      "Epoch 28/40\n",
      "60000/60000 [==============================] - 3s 44us/step - loss: 0.1103 - acc: 0.8104 - mean_squared_error: 0.0161 - val_loss: 0.1157 - val_acc: 0.8115 - val_mean_squared_error: 0.0178\n",
      "\n",
      "Epoch 00028: val_acc did not improve\n",
      "Epoch 29/40\n",
      "60000/60000 [==============================] - 3s 44us/step - loss: 0.1100 - acc: 0.8104 - mean_squared_error: 0.0160 - val_loss: 0.1123 - val_acc: 0.8113 - val_mean_squared_error: 0.0167\n",
      "\n",
      "Epoch 00029: val_acc did not improve\n",
      "Epoch 30/40\n",
      "60000/60000 [==============================] - 3s 44us/step - loss: 0.1095 - acc: 0.8105 - mean_squared_error: 0.0159 - val_loss: 0.1174 - val_acc: 0.8116 - val_mean_squared_error: 0.0184\n",
      "\n",
      "Epoch 00030: val_acc improved from 0.81160 to 0.81161, saving model to best_convolutional_Aencoder.hdf5\n",
      "Epoch 31/40\n",
      "60000/60000 [==============================] - 3s 45us/step - loss: 0.1092 - acc: 0.8106 - mean_squared_error: 0.0158 - val_loss: 0.1155 - val_acc: 0.8116 - val_mean_squared_error: 0.0177\n",
      "\n",
      "Epoch 00031: val_acc did not improve\n",
      "Epoch 32/40\n",
      "60000/60000 [==============================] - 3s 45us/step - loss: 0.1088 - acc: 0.8107 - mean_squared_error: 0.0156 - val_loss: 0.1168 - val_acc: 0.8118 - val_mean_squared_error: 0.0182\n",
      "\n",
      "Epoch 00032: val_acc improved from 0.81161 to 0.81179, saving model to best_convolutional_Aencoder.hdf5\n",
      "Epoch 33/40\n",
      "60000/60000 [==============================] - 3s 46us/step - loss: 0.1090 - acc: 0.8107 - mean_squared_error: 0.0157 - val_loss: 0.1105 - val_acc: 0.8095 - val_mean_squared_error: 0.0162\n",
      "\n",
      "Epoch 00033: val_acc did not improve\n",
      "Epoch 34/40\n",
      "60000/60000 [==============================] - 3s 45us/step - loss: 0.1078 - acc: 0.8108 - mean_squared_error: 0.0153 - val_loss: 0.1110 - val_acc: 0.8108 - val_mean_squared_error: 0.0163\n",
      "\n",
      "Epoch 00034: val_acc did not improve\n",
      "Epoch 35/40\n",
      "60000/60000 [==============================] - 3s 45us/step - loss: 0.1080 - acc: 0.8108 - mean_squared_error: 0.0154 - val_loss: 0.1100 - val_acc: 0.8096 - val_mean_squared_error: 0.0160\n",
      "\n",
      "Epoch 00035: val_acc did not improve\n",
      "Epoch 36/40\n",
      "60000/60000 [==============================] - 3s 44us/step - loss: 0.1070 - acc: 0.8110 - mean_squared_error: 0.0150 - val_loss: 0.1123 - val_acc: 0.8110 - val_mean_squared_error: 0.0167\n",
      "\n",
      "Epoch 00036: val_acc did not improve\n",
      "Epoch 37/40\n",
      "60000/60000 [==============================] - 3s 45us/step - loss: 0.1070 - acc: 0.8110 - mean_squared_error: 0.0150 - val_loss: 0.1062 - val_acc: 0.8096 - val_mean_squared_error: 0.0148\n",
      "\n",
      "Epoch 00037: val_acc did not improve\n",
      "Epoch 38/40\n",
      "60000/60000 [==============================] - 3s 46us/step - loss: 0.1071 - acc: 0.8110 - mean_squared_error: 0.0150 - val_loss: 0.1092 - val_acc: 0.8097 - val_mean_squared_error: 0.0158\n",
      "\n",
      "Epoch 00038: val_acc did not improve\n",
      "Epoch 39/40\n",
      "60000/60000 [==============================] - 3s 46us/step - loss: 0.1063 - acc: 0.8111 - mean_squared_error: 0.0148 - val_loss: 0.1090 - val_acc: 0.8098 - val_mean_squared_error: 0.0157\n",
      "\n",
      "Epoch 00039: val_acc did not improve\n",
      "Epoch 40/40\n",
      "60000/60000 [==============================] - 3s 46us/step - loss: 0.1060 - acc: 0.8112 - mean_squared_error: 0.0147 - val_loss: 0.1091 - val_acc: 0.8098 - val_mean_squared_error: 0.0157\n",
      "\n",
      "Epoch 00040: val_acc did not improve\n"
     ]
    }
   ],
   "source": [
    "best_model_path = 'best_convolutional_Aencoder.hdf5'\n",
    "checkpoint = ModelCheckpoint(best_model_path, monitor='val_acc', verbose=1, save_best_only=True, mode='max')\n",
    "autoencoder.compile(optimizer='adadelta', loss='binary_crossentropy', metrics=['acc', 'mse'])\n",
    "history = autoencoder.fit(x_train, x_train, epochs=40, batch_size=256, shuffle=False, callbacks=[checkpoint],\n",
    "                          validation_data=(x_test, x_test))"
   ]
  },
  {
   "cell_type": "code",
   "execution_count": 24,
   "metadata": {},
   "outputs": [
    {
     "data": {
      "text/plain": [
       "(10000, 7, 7, 8)"
      ]
     },
     "execution_count": 24,
     "metadata": {},
     "output_type": "execute_result"
    }
   ],
   "source": [
    "model = load_model('best_convolutional_Aencoder.hdf5')\n",
    "encoder = Model(model.layers[0].input, model.layers[5].output)\n",
    "encoder_imgs = encoder.predict(x_test)\n",
    "decoder_imgs = model.predict(x_test)\n",
    "encoder_imgs.shape"
   ]
  },
  {
   "cell_type": "code",
   "execution_count": 25,
   "metadata": {},
   "outputs": [
    {
     "data": {
      "text/plain": [
       "Text(0.5,0,'epochs')"
      ]
     },
     "execution_count": 25,
     "metadata": {},
     "output_type": "execute_result"
    },
    {
     "data": {
      "image/png": "[encoded data removed]",
      "text/plain": [
       "<Figure size 576x432 with 1 Axes>"
      ]
     },
     "metadata": {
      "needs_background": "light"
     },
     "output_type": "display_data"
    }
   ],
   "source": [
    "fig, ax = plt.subplots(figsize=(8,6))\n",
    "ax.plot(history.history['loss'], label='train')\n",
    "ax.plot(history.history['val_loss'], label='test')\n",
    "ax.legend(fontsize=16)\n",
    "ax.set_ylabel('Loss', fontsize=16)\n",
    "ax.set_xlabel('epochs', fontsize=16)"
   ]
  },
  {
   "cell_type": "code",
   "execution_count": 26,
   "metadata": {},
   "outputs": [
    {
     "data": {
      "image/png": "[encoded data removed]",
      "text/plain": [
       "<Figure size 1440x288 with 30 Axes>"
      ]
     },
     "metadata": {},
     "output_type": "display_data"
    }
   ],
   "source": [
    "plt.figure(figsize=(20, 4))\n",
    "for i in range(10):\n",
    "    ax = plt.subplot(3, 10, i+1)\n",
    "    ax.imshow(x_test[i].reshape(28, 28))\n",
    "    plt.xticks(())\n",
    "    plt.yticks(())\n",
    "    ax2 = plt.subplot(3, 10, i + 1 + 10)\n",
    "    ax2.imshow(encoder_imgs[i].reshape(7, 7*8).T)\n",
    "    plt.xticks(())\n",
    "    plt.yticks(())\n",
    "    ax3 = plt.subplot(3, 10, i + 1 + 2*10)\n",
    "    ax3.imshow(decoder_imgs[i].reshape(28, 28))\n",
    "    plt.xticks(())\n",
    "    plt.yticks(())"
   ]
  },
  {
   "cell_type": "code",
   "execution_count": 27,
   "metadata": {},
   "outputs": [],
   "source": [
    "y_test2 = to_categorical(y_test, 10)\n",
    "y_train2 = to_categorical(y_train, 10)\n",
    "encoder_train = encoder.predict(x_train)\n",
    "encoder_test = encoder.predict(x_test)"
   ]
  },
  {
   "cell_type": "code",
   "execution_count": 28,
   "metadata": {},
   "outputs": [
    {
     "data": {
      "text/plain": [
       "(60000, 7, 56, 1)"
      ]
     },
     "execution_count": 28,
     "metadata": {},
     "output_type": "execute_result"
    }
   ],
   "source": [
    "encoder_train = encoder_train.reshape(encoder_train.shape[0], 7, 8*7, 1)\n",
    "encoder_test = encoder_test.reshape(encoder_test.shape[0], 7, 8*7, 1)\n",
    "encoder_train.shape"
   ]
  },
  {
   "cell_type": "code",
   "execution_count": 29,
   "metadata": {},
   "outputs": [
    {
     "name": "stdout",
     "output_type": "stream",
     "text": [
      "_________________________________________________________________\n",
      "Layer (type)                 Output Shape              Param #   \n",
      "=================================================================\n",
      "conv2d_8 (Conv2D)            (None, 5, 54, 32)         320       \n",
      "_________________________________________________________________\n",
      "conv2d_9 (Conv2D)            (None, 3, 52, 64)         18496     \n",
      "_________________________________________________________________\n",
      "max_pooling2d_4 (MaxPooling2 (None, 1, 26, 64)         0         \n",
      "_________________________________________________________________\n",
      "flatten_1 (Flatten)          (None, 1664)              0         \n",
      "_________________________________________________________________\n",
      "dense_9 (Dense)              (None, 128)               213120    \n",
      "_________________________________________________________________\n",
      "dense_10 (Dense)             (None, 10)                1290      \n",
      "=================================================================\n",
      "Total params: 233,226\n",
      "Trainable params: 233,226\n",
      "Non-trainable params: 0\n",
      "_________________________________________________________________\n"
     ]
    }
   ],
   "source": [
    "model = Sequential()\n",
    "model.add(Conv2D(32, kernel_size=(3, 3), activation='relu', input_shape=encoder_train.shape[1:]))\n",
    "model.add(Conv2D(64, (3, 3), activation='relu'))\n",
    "model.add(MaxPooling2D(pool_size=(2, 2)))\n",
    "model.add(Flatten())\n",
    "model.add(Dense(128, activation='relu'))\n",
    "model.add(Dense(10, activation='softmax'))\n",
    "model.summary()"
   ]
  },
  {
   "cell_type": "code",
   "execution_count": 30,
   "metadata": {},
   "outputs": [
    {
     "name": "stdout",
     "output_type": "stream",
     "text": [
      "Train on 60000 samples, validate on 10000 samples\n",
      "Epoch 1/40\n",
      "60000/60000 [==============================] - 3s 42us/step - loss: 0.5336 - acc: 0.8328 - val_loss: 0.2175 - val_acc: 0.9304\n",
      "Epoch 2/40\n",
      "60000/60000 [==============================] - 2s 28us/step - loss: 0.1382 - acc: 0.9564 - val_loss: 0.1042 - val_acc: 0.9662\n",
      "Epoch 3/40\n",
      "60000/60000 [==============================] - 2s 27us/step - loss: 0.0961 - acc: 0.9691 - val_loss: 0.1200 - val_acc: 0.9636\n",
      "Epoch 4/40\n",
      "60000/60000 [==============================] - 2s 26us/step - loss: 0.0763 - acc: 0.9758 - val_loss: 0.0713 - val_acc: 0.9763\n",
      "Epoch 5/40\n",
      "60000/60000 [==============================] - 2s 28us/step - loss: 0.0629 - acc: 0.9802 - val_loss: 0.0935 - val_acc: 0.9712\n",
      "Epoch 6/40\n",
      "60000/60000 [==============================] - 2s 28us/step - loss: 0.0534 - acc: 0.9829 - val_loss: 0.0587 - val_acc: 0.9799\n",
      "Epoch 7/40\n",
      "60000/60000 [==============================] - 2s 27us/step - loss: 0.0468 - acc: 0.9850 - val_loss: 0.0775 - val_acc: 0.9754\n",
      "Epoch 8/40\n",
      "60000/60000 [==============================] - 2s 26us/step - loss: 0.0398 - acc: 0.9871 - val_loss: 0.0764 - val_acc: 0.9763\n",
      "Epoch 9/40\n",
      "60000/60000 [==============================] - 2s 26us/step - loss: 0.0361 - acc: 0.9881 - val_loss: 0.0575 - val_acc: 0.9829\n",
      "Epoch 10/40\n",
      "60000/60000 [==============================] - 2s 27us/step - loss: 0.0315 - acc: 0.9901 - val_loss: 0.0510 - val_acc: 0.9829\n",
      "Epoch 11/40\n",
      "60000/60000 [==============================] - 2s 27us/step - loss: 0.0279 - acc: 0.9909 - val_loss: 0.0527 - val_acc: 0.9833\n",
      "Epoch 12/40\n",
      "60000/60000 [==============================] - 2s 28us/step - loss: 0.0238 - acc: 0.9924 - val_loss: 0.0701 - val_acc: 0.9792\n",
      "Epoch 13/40\n",
      "60000/60000 [==============================] - 2s 28us/step - loss: 0.0209 - acc: 0.9934 - val_loss: 0.1036 - val_acc: 0.9696\n",
      "Epoch 14/40\n",
      "60000/60000 [==============================] - 2s 27us/step - loss: 0.0184 - acc: 0.9941 - val_loss: 0.0656 - val_acc: 0.9805\n",
      "Epoch 15/40\n",
      "60000/60000 [==============================] - 2s 26us/step - loss: 0.0161 - acc: 0.9946 - val_loss: 0.0748 - val_acc: 0.9770\n",
      "Epoch 16/40\n",
      "60000/60000 [==============================] - 2s 26us/step - loss: 0.0135 - acc: 0.9958 - val_loss: 0.1310 - val_acc: 0.9616\n",
      "Epoch 17/40\n",
      "60000/60000 [==============================] - 2s 27us/step - loss: 0.0119 - acc: 0.9963 - val_loss: 0.0568 - val_acc: 0.9840\n",
      "Epoch 18/40\n",
      "60000/60000 [==============================] - 2s 26us/step - loss: 0.0104 - acc: 0.9968 - val_loss: 0.0702 - val_acc: 0.9827\n",
      "Epoch 19/40\n",
      "60000/60000 [==============================] - 2s 27us/step - loss: 0.0089 - acc: 0.9973 - val_loss: 0.0549 - val_acc: 0.9853\n",
      "Epoch 20/40\n",
      "60000/60000 [==============================] - 2s 27us/step - loss: 0.0079 - acc: 0.9978 - val_loss: 0.0606 - val_acc: 0.9834\n",
      "Epoch 21/40\n",
      "60000/60000 [==============================] - 2s 27us/step - loss: 0.0070 - acc: 0.9978 - val_loss: 0.0583 - val_acc: 0.9855\n",
      "Epoch 22/40\n",
      "60000/60000 [==============================] - 2s 26us/step - loss: 0.0050 - acc: 0.9988 - val_loss: 0.0658 - val_acc: 0.9829\n",
      "Epoch 23/40\n",
      "60000/60000 [==============================] - 2s 26us/step - loss: 0.0052 - acc: 0.9986 - val_loss: 0.0617 - val_acc: 0.9860\n",
      "Epoch 24/40\n",
      "60000/60000 [==============================] - 2s 28us/step - loss: 0.0035 - acc: 0.9992 - val_loss: 0.0651 - val_acc: 0.9846\n",
      "Epoch 25/40\n",
      "60000/60000 [==============================] - 2s 26us/step - loss: 0.0032 - acc: 0.9992 - val_loss: 0.0602 - val_acc: 0.9863\n",
      "Epoch 26/40\n",
      "60000/60000 [==============================] - 2s 25us/step - loss: 0.0027 - acc: 0.9994 - val_loss: 0.0630 - val_acc: 0.9858\n",
      "Epoch 27/40\n",
      "60000/60000 [==============================] - 2s 26us/step - loss: 0.0023 - acc: 0.9995 - val_loss: 0.0678 - val_acc: 0.9849\n",
      "Epoch 28/40\n",
      "60000/60000 [==============================] - 2s 27us/step - loss: 0.0020 - acc: 0.9996 - val_loss: 0.0616 - val_acc: 0.9864\n",
      "Epoch 29/40\n",
      "60000/60000 [==============================] - 2s 26us/step - loss: 9.9674e-04 - acc: 0.9999 - val_loss: 0.0626 - val_acc: 0.9868\n",
      "Epoch 30/40\n",
      "60000/60000 [==============================] - 2s 27us/step - loss: 0.0010 - acc: 0.9999 - val_loss: 0.0649 - val_acc: 0.9864\n",
      "Epoch 31/40\n",
      "60000/60000 [==============================] - 2s 27us/step - loss: 8.7148e-04 - acc: 1.0000 - val_loss: 0.0650 - val_acc: 0.9870\n",
      "Epoch 32/40\n",
      "60000/60000 [==============================] - 2s 26us/step - loss: 7.1056e-04 - acc: 0.9999 - val_loss: 0.0659 - val_acc: 0.9869\n",
      "Epoch 33/40\n",
      "60000/60000 [==============================] - 2s 26us/step - loss: 5.0167e-04 - acc: 1.0000 - val_loss: 0.0684 - val_acc: 0.9871\n",
      "Epoch 34/40\n",
      "60000/60000 [==============================] - 2s 26us/step - loss: 4.5401e-04 - acc: 1.0000 - val_loss: 0.0682 - val_acc: 0.9870\n",
      "Epoch 35/40\n",
      "60000/60000 [==============================] - 2s 26us/step - loss: 4.0605e-04 - acc: 1.0000 - val_loss: 0.0700 - val_acc: 0.9870\n",
      "Epoch 36/40\n",
      "60000/60000 [==============================] - 2s 26us/step - loss: 3.8357e-04 - acc: 1.0000 - val_loss: 0.0700 - val_acc: 0.9873\n",
      "Epoch 37/40\n",
      "60000/60000 [==============================] - 2s 26us/step - loss: 3.6858e-04 - acc: 1.0000 - val_loss: 0.0711 - val_acc: 0.9873\n",
      "Epoch 38/40\n",
      "60000/60000 [==============================] - 2s 27us/step - loss: 3.5757e-04 - acc: 1.0000 - val_loss: 0.0717 - val_acc: 0.9872\n",
      "Epoch 39/40\n",
      "60000/60000 [==============================] - 2s 27us/step - loss: 3.4883e-04 - acc: 1.0000 - val_loss: 0.0718 - val_acc: 0.9873\n",
      "Epoch 40/40\n",
      "60000/60000 [==============================] - 2s 27us/step - loss: 3.4192e-04 - acc: 1.0000 - val_loss: 0.0730 - val_acc: 0.9875\n"
     ]
    }
   ],
   "source": [
    "model.compile(loss='categorical_crossentropy', optimizer='adadelta', metrics=['accuracy'])\n",
    "history = model.fit(encoder_train, y_train2, batch_size=256, epochs=40, validation_data=(encoder_test, y_test2))"
   ]
  },
  {
   "cell_type": "code",
   "execution_count": 31,
   "metadata": {},
   "outputs": [
    {
     "data": {
      "text/plain": [
       "[<matplotlib.lines.Line2D at 0x7f3c5654c908>]"
      ]
     },
     "execution_count": 31,
     "metadata": {},
     "output_type": "execute_result"
    },
    {
     "data": {
      "image/png": "[encoded data removed]",
      "text/plain": [
       "<Figure size 432x288 with 1 Axes>"
      ]
     },
     "metadata": {
      "needs_background": "light"
     },
     "output_type": "display_data"
    }
   ],
   "source": [
    "plt.plot(history.history['acc'])"
   ]
  },
  {
   "cell_type": "code",
   "execution_count": null,
   "metadata": {},
   "outputs": [],
   "source": []
  }
 ],
 "metadata": {
  "kernelspec": {
   "display_name": "Python 3",
   "language": "python",
   "name": "python3"
  },
  "language_info": {
   "codemirror_mode": {
    "name": "ipython",
    "version": 3
   },
   "file_extension": ".py",
   "mimetype": "text/x-python",
   "name": "python",
   "nbconvert_exporter": "python",
   "pygments_lexer": "ipython3",
   "version": "3.5.4"
  }
 },
 "nbformat": 4,
 "nbformat_minor": 2
}
