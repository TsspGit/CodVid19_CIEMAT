{
 "cells": [
  {
   "cell_type": "markdown",
   "metadata": {},
   "source": [
    "## Inception with uncertainty"
   ]
  },
  {
   "cell_type": "code",
   "execution_count": 1,
   "metadata": {},
   "outputs": [],
   "source": [
    "import pandas as pd\n",
    "train_class = pd.read_csv('data/train_split_v4.csv', sep=' ')#, header=True)#, names=['patientID', 'image_path', 'class'])\n",
    "test_class = pd.read_csv('data/test_split_v4.csv', sep=' ')#, header=True)#, names=['patientID', 'image_path', 'class'])"
   ]
  },
  {
   "cell_type": "code",
   "execution_count": 2,
   "metadata": {},
   "outputs": [],
   "source": [
    "from codvidutils.utils import load_pictures\n",
    "num_channels= 3\n",
    "X_test = load_pictures(test_class,\"data/test/\",channels = num_channels)\n",
    "X_train = load_pictures(train_class,\"data/train/\",channels = num_channels)"
   ]
  },
  {
   "cell_type": "code",
   "execution_count": 3,
   "metadata": {},
   "outputs": [
    {
     "name": "stdout",
     "output_type": "stream",
     "text": [
      "shape X: 13601 1541,  disease_ID (Y): 13601 1541\n"
     ]
    }
   ],
   "source": [
    "from codvidutils.imageproc import map_categorical\n",
    "import numpy as np\n",
    "values_dict = {'COVID-19': 1,'pneumonia': 2,'normal': 0}\n",
    "test_class['class_categorical'] = test_class['class'].apply(map_categorical, args=(values_dict,))\n",
    "train_class['class_categorical'] = train_class['class'].apply(map_categorical, args=(values_dict,))\n",
    "diseaseID_train = np.asarray(train_class[\"class_categorical\"])\n",
    "diseaseID_test  = np.asarray(test_class[\"class_categorical\"])\n",
    "print('shape X: {} {},  disease_ID (Y): {} {}'.format(X_train.shape[0], X_test.shape[0], diseaseID_train.shape[0], diseaseID_test.shape[0] ))"
   ]
  },
  {
   "cell_type": "code",
   "execution_count": 4,
   "metadata": {},
   "outputs": [],
   "source": [
    "for i in range(40):\n",
    "    #print(i)\n",
    "    New_train = X_train[diseaseID_train==1][:187]\n",
    "    #print(New_train.shape)\n",
    "    #print(X_train.shape)\n",
    "    new_Y = np.ones(New_train.shape[0])\n",
    "    X_train = np.concatenate([X_train,New_train],axis=0)\n",
    "    diseaseID_train = np.concatenate([diseaseID_train,new_Y],axis=0)\n",
    "\n",
    "\n",
    "del New_train"
   ]
  },
  {
   "cell_type": "code",
   "execution_count": 5,
   "metadata": {},
   "outputs": [
    {
     "name": "stdout",
     "output_type": "stream",
     "text": [
      "Counter({0.0: 7966, 1.0: 7667, 2.0: 5448})\n",
      "{0: 3500, 1: 6000, 2: 3500}\n"
     ]
    }
   ],
   "source": [
    "from collections import Counter\n",
    "counter = Counter (diseaseID_train)\n",
    "print(counter)\n",
    "dicto = {2:3500, 0: 3500, 1:6000}\n",
    "print(dicto)"
   ]
  },
  {
   "cell_type": "code",
   "execution_count": 6,
   "metadata": {},
   "outputs": [
    {
     "name": "stdout",
     "output_type": "stream",
     "text": [
      "(21081, 120000)\n",
      "(13000,)\n",
      "(13000, 120000)\n"
     ]
    }
   ],
   "source": [
    "from imblearn.under_sampling import RandomUnderSampler\n",
    "#X = X.reshape(X,X.shape[0],-1)\n",
    "X_train = X_train.reshape(X_train.shape[0],-1)\n",
    "print(X_train.shape)\n",
    "under = RandomUnderSampler(sampling_strategy =dicto)\n",
    "X_train, diseaseID_train = under.fit_resample(X_train, diseaseID_train)\n",
    "# summarize class distribution\n",
    "print(diseaseID_train.shape)\n",
    "print(X_train.shape)"
   ]
  },
  {
   "cell_type": "code",
   "execution_count": 7,
   "metadata": {
    "scrolled": true
   },
   "outputs": [
    {
     "name": "stdout",
     "output_type": "stream",
     "text": [
      "Normal train:  (3500,)\n",
      "Pneumonia train:  (3500,)\n",
      "COVID train:  (6000,)\n",
      "*******************************************************\n",
      "Normal test:  (885,)\n",
      "Pneumonia test:  (592,)\n",
      "COVID test:  (64,)\n"
     ]
    }
   ],
   "source": [
    "print(\"Normal train: \",diseaseID_train[diseaseID_train==0].shape)\n",
    "print(\"Pneumonia train: \",diseaseID_train[diseaseID_train==2].shape)\n",
    "print(\"COVID train: \",diseaseID_train[diseaseID_train==1].shape)\n",
    "print(\"*******************************************************\")\n",
    "print(\"Normal test: \",diseaseID_test[diseaseID_test==0].shape)\n",
    "print(\"Pneumonia test: \",diseaseID_test[diseaseID_test==2].shape)\n",
    "print(\"COVID test: \",diseaseID_test[diseaseID_test==1].shape)"
   ]
  },
  {
   "cell_type": "code",
   "execution_count": 8,
   "metadata": {},
   "outputs": [],
   "source": [
    "Y_train = np.copy(diseaseID_train)\n",
    "del diseaseID_train\n",
    "Y_train[Y_train==2]=0\n",
    "Y_test = np.copy(diseaseID_test)\n",
    "Y_test[Y_test==2]=0"
   ]
  },
  {
   "cell_type": "code",
   "execution_count": 9,
   "metadata": {},
   "outputs": [],
   "source": [
    "def inception_block_R(previous_layer, p_drop,p_l2,filters =[32,64,16,16]):\n",
    "    from tensorflow.keras.layers import concatenate,Dropout, Conv2D, MaxPooling2D #, Dropout\n",
    "    from tensorflow.keras.regularizers import l2\n",
    "    \n",
    "    previous_drop = Dropout(rate = p_drop)(previous_layer, training=True)\n",
    "    rama_1 = Conv2D(filters=filters[0], kernel_size=(1,1), activation='relu'\n",
    "                            , bias_regularizer = l2(p_l2), kernel_regularizer=l2(p_l2))(previous_drop)\n",
    "    \n",
    "    rama_2 = Conv2D(filters=filters[1], kernel_size=(1,1), activation='relu'\n",
    "                            ,bias_regularizer = l2(p_l2), kernel_regularizer=l2(p_l2))(previous_drop)\n",
    "    rama_2 = Dropout(rate = p_drop)(rama_2, training=True)\n",
    "    rama_2 = Conv2D(filters=filters[1], kernel_size=(3,3), activation='relu',padding=\"same\"\n",
    "                             ,bias_regularizer = l2(p_l2), kernel_regularizer=l2(p_l2))(rama_2)\n",
    "    \n",
    "    rama_3 = Conv2D(filters=filters[2], kernel_size=(1,1), activation='relu'\n",
    "                            ,bias_regularizer = l2(p_l2), kernel_regularizer=l2(p_l2))(previous_drop)\n",
    "    rama_3 = Dropout(rate = p_drop)(rama_3, training=True)\n",
    "    rama_3 = Conv2D(filters=filters[2], kernel_size=(5,5), activation='relu',padding=\"same\"\n",
    "                            , bias_regularizer = l2(p_l2), kernel_regularizer=l2(p_l2))(rama_3)\n",
    "    \n",
    "    rama_4 = MaxPooling2D(pool_size=(3,3),padding=\"same\",strides=1)(previous_layer)\n",
    "    rama_4 = Dropout(rate = p_drop)(rama_4, training=True)\n",
    "    rama_4 = Conv2D(filters=filters[3], kernel_size=(1,1), activation='relu',padding=\"same\"\n",
    "                            ,bias_regularizer = l2(p_l2), kernel_regularizer=l2(p_l2))(rama_4)\n",
    "    \n",
    "    inception = concatenate([rama_1, rama_2,rama_3,rama_4])\n",
    "    return inception"
   ]
  },
  {
   "cell_type": "code",
   "execution_count": 10,
   "metadata": {},
   "outputs": [],
   "source": [
    "\"\"\"\n",
    "Incep_6 archiquecture using Functional api\n",
    "\"\"\"\n",
    "def deep_inception_R(p_drop,p_l2):\n",
    "    from tensorflow.keras.layers import MaxPooling2D, Dense, Flatten, GlobalMaxPooling2D, Input,concatenate\n",
    "    from tensorflow.keras.models import Model\n",
    "   # from tensorflow.keras.regularizers import l2\n",
    "    input_layer = Input(shape= (200,200,3,))\n",
    "    #input_drop = Dropout(rate = p_drop)(input_layer)\n",
    "    \n",
    "    inception_1 = inception_block_R(input_layer,p_drop,p_l2)\n",
    "    pool_1 = MaxPooling2D()(inception_1)\n",
    "    \n",
    "    inception_2 = inception_block_R(pool_1,p_drop,p_l2)\n",
    "    pool_2 = MaxPooling2D()(inception_2)\n",
    "    \n",
    "    inception_3 = inception_block_R(pool_2,p_drop,p_l2)\n",
    "    pool_3 = MaxPooling2D()(inception_3)\n",
    "    \n",
    "    inception_4 = inception_block_R(pool_3,p_drop,p_l2)\n",
    "    pool_4 = MaxPooling2D()(inception_4)\n",
    "    \n",
    "    inception_5 = inception_block_R(pool_4,p_drop,p_l2,filters =[64,128,32,32])\n",
    "    pool_5 = MaxPooling2D()(inception_5)\n",
    "    \n",
    "    inception_6 = inception_block_R(pool_5,p_drop,p_l2,filters =[64,128,32,32])\n",
    "    \n",
    "    gobal = GlobalMaxPooling2D()(inception_6)\n",
    "    #gobal = Dropout(rate= p_drop)(gobal, training=True)\n",
    "    \n",
    "    dense = Dense(units=256,activation=\"relu\")(gobal)\n",
    "    #dense = Dropout(rate= p_drop)(dense, training=True)\n",
    "    dense = Dense(units=64,activation=\"relu\" )(dense)\n",
    "    #dense = Dropout(rate= p_drop)(dense, training=True)\n",
    "    out_layer= Dense(units =1, activation= \"sigmoid\")(dense)\n",
    "    \n",
    "    deep = Model(inputs=input_layer, outputs=out_layer)\n",
    "    return deep\n"
   ]
  },
  {
   "cell_type": "code",
   "execution_count": 12,
   "metadata": {},
   "outputs": [
    {
     "name": "stdout",
     "output_type": "stream",
     "text": [
      "Train shape X: (13000, 200, 200, 3),  Y: (13000,) \n",
      " Test shape X: (1541, 200, 200, 3), Y: (1541,)\n"
     ]
    }
   ],
   "source": [
    "X_train = X_train.reshape([13000,200,200,3])\n",
    "print('Train shape X: {},  Y: {} \\n Test shape X: {}, Y: {}'.format(X_train.shape, Y_train.shape, X_test.shape, Y_test.shape))"
   ]
  },
  {
   "cell_type": "code",
   "execution_count": 13,
   "metadata": {},
   "outputs": [
    {
     "name": "stdout",
     "output_type": "stream",
     "text": [
      "{0: 0.46153846153846156, 1: 0.5384615384615384}\n"
     ]
    }
   ],
   "source": [
    "from codvidutils.utils import weigths2loss\n",
    "dic_weights = weigths2loss(Y_train)\n",
    "print(dic_weights)"
   ]
  },
  {
   "cell_type": "code",
   "execution_count": 14,
   "metadata": {},
   "outputs": [
    {
     "name": "stdout",
     "output_type": "stream",
     "text": [
      "INFO:tensorflow:Using MirroredStrategy with devices ('/job:localhost/replica:0/task:0/device:GPU:0', '/job:localhost/replica:0/task:0/device:GPU:1')\n",
      "INFO:tensorflow:Reduce to /job:localhost/replica:0/task:0/device:CPU:0 then broadcast to ('/job:localhost/replica:0/task:0/device:CPU:0',).\n",
      "INFO:tensorflow:Reduce to /job:localhost/replica:0/task:0/device:CPU:0 then broadcast to ('/job:localhost/replica:0/task:0/device:CPU:0',).\n",
      "INFO:tensorflow:Reduce to /job:localhost/replica:0/task:0/device:CPU:0 then broadcast to ('/job:localhost/replica:0/task:0/device:CPU:0',).\n",
      "INFO:tensorflow:Reduce to /job:localhost/replica:0/task:0/device:CPU:0 then broadcast to ('/job:localhost/replica:0/task:0/device:CPU:0',).\n",
      "WARNING:tensorflow:sample_weight modes were coerced from\n",
      "  ...\n",
      "    to  \n",
      "  ['...']\n",
      "WARNING:tensorflow:sample_weight modes were coerced from\n",
      "  ...\n",
      "    to  \n",
      "  ['...']\n",
      "Train for 407 steps, validate on 1541 samples\n",
      "Epoch 1/15\n",
      "INFO:tensorflow:batch_all_reduce: 78 all-reduces with algorithm = nccl, num_packs = 1, agg_small_grads_max_bytes = 0 and agg_small_grads_max_group = 10\n",
      "INFO:tensorflow:Reduce to /job:localhost/replica:0/task:0/device:CPU:0 then broadcast to ('/job:localhost/replica:0/task:0/device:CPU:0',).\n",
      "INFO:tensorflow:Reduce to /job:localhost/replica:0/task:0/device:CPU:0 then broadcast to ('/job:localhost/replica:0/task:0/device:CPU:0',).\n",
      "INFO:tensorflow:Reduce to /job:localhost/replica:0/task:0/device:CPU:0 then broadcast to ('/job:localhost/replica:0/task:0/device:CPU:0',).\n",
      "INFO:tensorflow:Reduce to /job:localhost/replica:0/task:0/device:CPU:0 then broadcast to ('/job:localhost/replica:0/task:0/device:CPU:0',).\n",
      "INFO:tensorflow:Reduce to /job:localhost/replica:0/task:0/device:CPU:0 then broadcast to ('/job:localhost/replica:0/task:0/device:CPU:0',).\n",
      "INFO:tensorflow:Reduce to /job:localhost/replica:0/task:0/device:CPU:0 then broadcast to ('/job:localhost/replica:0/task:0/device:CPU:0',).\n",
      "INFO:tensorflow:batch_all_reduce: 78 all-reduces with algorithm = nccl, num_packs = 1, agg_small_grads_max_bytes = 0 and agg_small_grads_max_group = 10\n",
      "406/407 [============================>.] - ETA: 0s - loss: 0.3507 - acc: 0.5628 - mse: 0.2415\n",
      "Epoch 00001: val_acc improved from -inf to 0.66191, saving model to Inception2uncer.hdf5\n",
      "407/407 [==============================] - 154s 377ms/step - loss: 0.3507 - acc: 0.5629 - mse: 0.2415 - val_loss: 0.3083 - val_acc: 0.6619 - val_mse: 0.2206\n",
      "Epoch 2/15\n",
      "406/407 [============================>.] - ETA: 0s - loss: 0.2880 - acc: 0.7290 - mse: 0.1852\n",
      "Epoch 00002: val_acc improved from 0.66191 to 0.88774, saving model to Inception2uncer.hdf5\n",
      "407/407 [==============================] - 136s 334ms/step - loss: 0.2880 - acc: 0.7292 - mse: 0.1851 - val_loss: 0.1682 - val_acc: 0.8877 - val_mse: 0.0942\n",
      "Epoch 3/15\n",
      "406/407 [============================>.] - ETA: 0s - loss: 0.2459 - acc: 0.7783 - mse: 0.1523\n",
      "Epoch 00003: val_acc improved from 0.88774 to 0.95198, saving model to Inception2uncer.hdf5\n",
      "407/407 [==============================] - 126s 310ms/step - loss: 0.2459 - acc: 0.7783 - mse: 0.1523 - val_loss: 0.1054 - val_acc: 0.9520 - val_mse: 0.0478\n",
      "Epoch 4/15\n",
      "406/407 [============================>.] - ETA: 0s - loss: 0.2163 - acc: 0.8082 - mse: 0.1317\n",
      "Epoch 00004: val_acc did not improve from 0.95198\n",
      "407/407 [==============================] - 138s 339ms/step - loss: 0.2163 - acc: 0.8082 - mse: 0.1317 - val_loss: 0.1465 - val_acc: 0.8871 - val_mse: 0.0844\n",
      "Epoch 5/15\n",
      "406/407 [============================>.] - ETA: 0s - loss: 0.1877 - acc: 0.8357 - mse: 0.1123\n",
      "Epoch 00005: val_acc did not improve from 0.95198\n",
      "407/407 [==============================] - 130s 320ms/step - loss: 0.1875 - acc: 0.8358 - mse: 0.1122 - val_loss: 0.1025 - val_acc: 0.9273 - val_mse: 0.0530\n",
      "Epoch 6/15\n",
      "406/407 [============================>.] - ETA: 0s - loss: 0.1617 - acc: 0.8627 - mse: 0.0948\n",
      "Epoch 00006: val_acc did not improve from 0.95198\n",
      "407/407 [==============================] - 134s 329ms/step - loss: 0.1617 - acc: 0.8627 - mse: 0.0948 - val_loss: 0.1062 - val_acc: 0.9234 - val_mse: 0.0571\n",
      "Epoch 7/15\n",
      "406/407 [============================>.] - ETA: 0s - loss: 0.1492 - acc: 0.8796 - mse: 0.0856\n",
      "Epoch 00007: val_acc did not improve from 0.95198\n",
      "407/407 [==============================] - 132s 325ms/step - loss: 0.1490 - acc: 0.8798 - mse: 0.0855 - val_loss: 0.1245 - val_acc: 0.9020 - val_mse: 0.0713\n",
      "Epoch 8/15\n",
      "406/407 [============================>.] - ETA: 0s - loss: 0.1310 - acc: 0.9000 - mse: 0.0731\n",
      "Epoch 00008: val_acc did not improve from 0.95198\n",
      "407/407 [==============================] - 133s 327ms/step - loss: 0.1309 - acc: 0.9001 - mse: 0.0730 - val_loss: 0.0994 - val_acc: 0.9306 - val_mse: 0.0503\n",
      "Epoch 9/15\n",
      "406/407 [============================>.] - ETA: 0s - loss: 0.1154 - acc: 0.9144 - mse: 0.0628\n",
      "Epoch 00009: val_acc did not improve from 0.95198\n",
      "407/407 [==============================] - 127s 311ms/step - loss: 0.1154 - acc: 0.9145 - mse: 0.0628 - val_loss: 0.1019 - val_acc: 0.9319 - val_mse: 0.0505\n",
      "Epoch 10/15\n",
      "406/407 [============================>.] - ETA: 0s - loss: 0.1123 - acc: 0.9163 - mse: 0.0610\n",
      "Epoch 00010: val_acc did not improve from 0.95198\n",
      "407/407 [==============================] - 135s 332ms/step - loss: 0.1123 - acc: 0.9162 - mse: 0.0610 - val_loss: 0.1068 - val_acc: 0.9306 - val_mse: 0.0526\n",
      "Epoch 11/15\n",
      "406/407 [============================>.] - ETA: 0s - loss: 0.1057 - acc: 0.9240 - mse: 0.0560\n",
      "Epoch 00011: val_acc did not improve from 0.95198\n",
      "407/407 [==============================] - 128s 313ms/step - loss: 0.1059 - acc: 0.9238 - mse: 0.0562 - val_loss: 0.1079 - val_acc: 0.9280 - val_mse: 0.0562\n",
      "Epoch 12/15\n",
      "406/407 [============================>.] - ETA: 0s - loss: 0.1006 - acc: 0.9289 - mse: 0.0530\n",
      "Epoch 00012: val_acc did not improve from 0.95198\n",
      "407/407 [==============================] - 132s 325ms/step - loss: 0.1006 - acc: 0.9289 - mse: 0.0530 - val_loss: 0.0925 - val_acc: 0.9435 - val_mse: 0.0432\n",
      "Epoch 13/15\n",
      "406/407 [============================>.] - ETA: 0s - loss: 0.0865 - acc: 0.9422 - mse: 0.0434\n",
      "Epoch 00013: val_acc did not improve from 0.95198\n",
      "407/407 [==============================] - 133s 326ms/step - loss: 0.0865 - acc: 0.9422 - mse: 0.0433 - val_loss: 0.1064 - val_acc: 0.9364 - val_mse: 0.0493\n",
      "Epoch 14/15\n",
      "406/407 [============================>.] - ETA: 0s - loss: 0.0833 - acc: 0.9447 - mse: 0.0410\n",
      "Epoch 00014: val_acc did not improve from 0.95198\n",
      "407/407 [==============================] - 132s 325ms/step - loss: 0.0832 - acc: 0.9448 - mse: 0.0409 - val_loss: 0.1027 - val_acc: 0.9435 - val_mse: 0.0424\n",
      "Epoch 15/15\n",
      "406/407 [============================>.] - ETA: 0s - loss: 0.0807 - acc: 0.9465 - mse: 0.0400\n",
      "Epoch 00015: val_acc did not improve from 0.95198\n",
      "407/407 [==============================] - 138s 339ms/step - loss: 0.0807 - acc: 0.9465 - mse: 0.0401 - val_loss: 0.0923 - val_acc: 0.9513 - val_mse: 0.0360\n"
     ]
    }
   ],
   "source": [
    "from tensorflow.keras.callbacks import ModelCheckpoint\n",
    "from tensorflow.keras.optimizers import Adam\n",
    "from tensorflow.keras.preprocessing.image import ImageDataGenerator\n",
    "import tensorflow as tf\n",
    "pdro = 0.08\n",
    "pl2 = 0.000008\n",
    "\n",
    "rescale_gen = ImageDataGenerator(rescale = 1./255,brightness_range=[0.85,1.0],rotation_range=10,zoom_range=[0.8,1.0])\n",
    "\n",
    "strategy = tf.distribute.MirroredStrategy()\n",
    "with strategy.scope():\n",
    "\n",
    "    filepath=\"Inception2uncer.hdf5\"\n",
    "    checkpoint = ModelCheckpoint(filepath, monitor='val_acc', verbose=1, save_best_only=True, mode='max')\n",
    "    model = deep_inception_R(p_drop = pdro, p_l2 = pl2)\n",
    "\n",
    "    ASG = Adam(lr=0.0001, beta_1=0.9, beta_2=0.999, amsgrad=True)\n",
    "\n",
    "    model.compile(optimizer=ASG, loss='binary_crossentropy', metrics=['acc',\"mse\"])\n",
    "    \n",
    "    history = model.fit(rescale_gen.flow(X_train, Y_train, batch_size=32), epochs = 15, callbacks= [checkpoint],verbose=1, class_weight=dic_weights,validation_data=(X_test/255, Y_test))\n"
   ]
  },
  {
   "cell_type": "code",
   "execution_count": 19,
   "metadata": {},
   "outputs": [],
   "source": [
    "del X_train, Y_train\n",
    "del strategy, rescale_gen\n",
    "from tensorflow.keras.backend import clear_session\n",
    "clear_session()"
   ]
  },
  {
   "cell_type": "code",
   "execution_count": 20,
   "metadata": {},
   "outputs": [],
   "source": [
    "from tensorflow.keras.models import load_model\n",
    "model = load_model(\"Inception2uncer.hdf5\")"
   ]
  },
  {
   "cell_type": "code",
   "execution_count": 22,
   "metadata": {},
   "outputs": [],
   "source": [
    "probs = []\n",
    "T = 10\n",
    "for _ in range(T):\n",
    "    probs += [model.predict(X_test/255)]\n",
    "    \n",
    "predictive_mean = np.mean(probs, axis=0)\n",
    "predictive_variance = np.var(probs, axis=0)"
   ]
  },
  {
   "cell_type": "code",
   "execution_count": 64,
   "metadata": {},
   "outputs": [
    {
     "name": "stdout",
     "output_type": "stream",
     "text": [
      "4.423076923076923\n",
      "0.22608695652173913\n"
     ]
    }
   ],
   "source": [
    "N = 13000\n",
    "l = 1\n",
    "tau = l**2 * (1 - pdro) / (2 * N * pl2)\n",
    "print(tau)\n",
    "print(1/tau)"
   ]
  },
  {
   "cell_type": "code",
   "execution_count": 24,
   "metadata": {},
   "outputs": [],
   "source": [
    "predictive_variance += tau**-1"
   ]
  },
  {
   "cell_type": "markdown",
   "metadata": {},
   "source": [
    "## Uncertainty"
   ]
  },
  {
   "cell_type": "code",
   "execution_count": 25,
   "metadata": {},
   "outputs": [],
   "source": [
    "Mean = predictive_mean \n",
    "Unce  = np.sqrt(predictive_variance)"
   ]
  },
  {
   "cell_type": "code",
   "execution_count": 55,
   "metadata": {},
   "outputs": [
    {
     "name": "stdout",
     "output_type": "stream",
     "text": [
      "******* MEAN values******\n",
      "[[1449   28]\n",
      " [  43   21]] \n",
      " [[0.98104265 0.01895735]\n",
      " [0.671875   0.328125  ]]\n"
     ]
    }
   ],
   "source": [
    "print(\"******* MEAN values******\")\n",
    "cm = confusion_matrix(Y_test, Mean.round())\n",
    "cm_norm = normalize(cm, norm = 'l1')\n",
    "print(cm, \"\\n\", cm_norm)"
   ]
  },
  {
   "cell_type": "code",
   "execution_count": 60,
   "metadata": {},
   "outputs": [
    {
     "name": "stdout",
     "output_type": "stream",
     "text": [
      "[0.47869712]\n",
      "[0.48308644]\n",
      "[0.47580096]\n",
      "[0.47959316]\n",
      "[0.47556263]\n"
     ]
    }
   ],
   "source": [
    "for p in Unce[diseaseID_test==0][:5]:\n",
    "    print(p)"
   ]
  },
  {
   "cell_type": "code",
   "execution_count": 66,
   "metadata": {
    "scrolled": true
   },
   "outputs": [
    {
     "name": "stdout",
     "output_type": "stream",
     "text": [
      " Example values\n",
      "Normal people\n",
      "[0.15234318] +/-  [0.47869712]\n",
      "[0.28352395] +/-  [0.48308644]\n",
      "[0.02611563] +/-  [0.47580096]\n",
      "[0.14515753] +/-  [0.47959316]\n",
      "[0.02380938] +/-  [0.47556263]\n",
      "Neumonia\n",
      "[0.27865797] +/-  [0.4808758]\n",
      "[0.09517097] +/-  [0.4770221]\n",
      "[0.03706056] +/-  [0.47566187]\n",
      "[0.11785085] +/-  [0.4782406]\n",
      "[0.09705655] +/-  [0.4767759]\n",
      "COVID-19\n",
      "[0.5103244] +/-  [0.4841839]\n",
      "[0.43107623] +/-  [0.4892768]\n",
      "[0.48084053] +/-  [0.48171106]\n",
      "[0.4798724] +/-  [0.48269764]\n",
      "[0.3390975] +/-  [0.48192418]\n"
     ]
    }
   ],
   "source": [
    "print(\" Example values\")\n",
    "print(\"Normal people\")\n",
    "for p, u in zip(Mean[diseaseID_test==0][:5],Unce[diseaseID_test==0][:5]):\n",
    "    print(p, \"+/- \", u)\n",
    "print(\"Neumonia\")\n",
    "for p, u in zip(Mean[diseaseID_test==2][:5],Unce[diseaseID_test==2][:5]):\n",
    "    print(p, \"+/- \", u)\n",
    "print(\"COVID-19\")\n",
    "for p, u in zip(Mean[diseaseID_test==1][:5],Unce[diseaseID_test==1][:5]):\n",
    "    print(p, \"+/- \", u)"
   ]
  },
  {
   "cell_type": "code",
   "execution_count": 28,
   "metadata": {},
   "outputs": [],
   "source": [
    "def integraciones(integ, intervalos,A, B):\n",
    "    from scipy.integrate import quad\n",
    "    from numpy import inf\n",
    "    intervalos[intervalos==0], intervalos[intervalos==1] =-inf, inf\n",
    "    \n",
    "    proba = np.ones([1,len(intervalos)-1])\n",
    "    for j in range(len(A)):\n",
    "        probabilidad = []\n",
    "        for it in range(len(intervalos)-1):\n",
    "\n",
    "            I = quad(integ,intervalos[it], intervalos[it+1], args = (A[j], B[j]) )\n",
    "            probabilidad += [I]\n",
    "\n",
    "        probabilidad = np.array(probabilidad)[:,0]\n",
    "        probabilidad = probabilidad.reshape([1,len(intervalos)-1])\n",
    "\n",
    "        proba = np.concatenate([proba,probabilidad],axis=0)\n",
    "    return proba[1:]"
   ]
  },
  {
   "cell_type": "code",
   "execution_count": 30,
   "metadata": {},
   "outputs": [
    {
     "name": "stdout",
     "output_type": "stream",
     "text": [
      "1477 1477\n",
      "64 64\n"
     ]
    }
   ],
   "source": [
    "dic_cuentas = {0: [], 1:[] }\n",
    "dic_dest = {0: [], 1:[] }\n",
    "intervalos = np.linspace(0,1, num = 38)\n",
    "A = Mean[Y_test==0]\n",
    "B = Unce[Y_test==0]\n",
    "print(len(A),len(B))\n",
    "prob = integraciones(integ,intervalos,A,B)\n",
    "cuentas = np.nansum(prob,axis=0)\n",
    "varianza = np.nansum((1-prob)*prob,axis=0)\n",
    "dic_cuentas[0] = cuentas\n",
    "dic_dest[0] = np.sqrt(varianza)\n",
    "A = Mean[Y_test==1]\n",
    "B = Unce[Y_test==1]\n",
    "print(len(A),len(B))\n",
    "prob = integraciones(integ,intervalos,A,B)\n",
    "cuentas = np.nansum(prob,axis=0)\n",
    "varianza = np.nansum((1-prob)*prob,axis=0)\n",
    "dic_cuentas[1] = cuentas\n",
    "dic_dest[1] = np.sqrt(varianza)"
   ]
  },
  {
   "cell_type": "code",
   "execution_count": 34,
   "metadata": {
    "scrolled": false
   },
   "outputs": [
    {
     "data": {
      "image/png": "[encoded data removed]",
      "text/plain": [
       "<Figure size 576x576 with 1 Axes>"
      ]
     },
     "metadata": {
      "needs_background": "light"
     },
     "output_type": "display_data"
    }
   ],
   "source": [
    "import matplotlib.pyplot as plt\n",
    "pred = model.predict(X_test)\n",
    "fig,ax = plt.subplots(nrows=1,ncols=1,figsize=(8,8))# 6,6\n",
    "plt.style.use('seaborn-deep')\n",
    "plt.hist(Mean[(Y_test==0)],38,histtype='step',color='darkorange',lw=2,label= \"No covid\" )\n",
    "plt.hist(Mean[Y_test==1],38,histtype='step',color='blue',lw=1 ,label=\"Covid\")\n",
    "plt.ylabel('Number of events')\n",
    "plt.xlabel('Score')\n",
    "plt.legend(loc=\"upper right\")\n",
    "plt.show()\n",
    "#plt.savefig(filename)"
   ]
  },
  {
   "cell_type": "code",
   "execution_count": 46,
   "metadata": {},
   "outputs": [
    {
     "data": {
      "text/plain": [
       "<matplotlib.legend.Legend at 0x7fd2e3bb73c8>"
      ]
     },
     "execution_count": 46,
     "metadata": {},
     "output_type": "execute_result"
    },
    {
     "data": {
      "image/png": "[encoded data removed]",
      "text/plain": [
       "<Figure size 576x576 with 1 Axes>"
      ]
     },
     "metadata": {
      "needs_background": "light"
     },
     "output_type": "display_data"
    }
   ],
   "source": [
    "import matplotlib.pyplot as plt\n",
    "fig,ax = plt.subplots(nrows=1,ncols=1,figsize=(8,8))# 6,6\n",
    "#intervalos=intervalos[:-1]\n",
    "#intervalos += intervalos[1]/2\n",
    "plt.style.use('seaborn-deep')\n",
    "plt.hist(Mean[Y_test==0],38,histtype='step',color='blue',lw=3 ,label=\"Mean\")\n",
    "for pr in probs:\n",
    "    plt.hist(pr[(Y_test==0)],38,histtype='step',lw=1)\n",
    "\n",
    "\n",
    "plt.ylabel('Number of counts')\n",
    "plt.xlabel('Score')\n",
    "plt.legend(loc=\"upper center\")\n",
    "#plt.savefig(filename)"
   ]
  },
  {
   "cell_type": "code",
   "execution_count": 67,
   "metadata": {
    "scrolled": false
   },
   "outputs": [
    {
     "data": {
      "text/plain": [
       "<matplotlib.legend.Legend at 0x7fd2e3ab0390>"
      ]
     },
     "execution_count": 67,
     "metadata": {},
     "output_type": "execute_result"
    },
    {
     "data": {
      "image/png": "[encoded data removed]",
      "text/plain": [
       "<Figure size 576x576 with 1 Axes>"
      ]
     },
     "metadata": {
      "needs_background": "light"
     },
     "output_type": "display_data"
    }
   ],
   "source": [
    "import matplotlib.pyplot as plt\n",
    "fig,ax = plt.subplots(nrows=1,ncols=1,figsize=(8,8))# 6,6\n",
    "\n",
    "plt.style.use('seaborn-deep')\n",
    "plt.hist(Mean[Y_test==0],38,histtype='step',color='blue',lw=3 ,label=\"Mean\")\n",
    "plt.errorbar(intervalos[1:], dic_cuentas[0] ,fmt=\" \",marker='.', yerr=dic_dest[1],lw=3, color=\"orange\",label =\" No Covid\")\n",
    "\n",
    "plt.ylabel('Number of counts')\n",
    "plt.xlabel('Score')\n",
    "plt.legend(loc=\"upper center\")\n",
    "#plt.savefig(filename)"
   ]
  },
  {
   "cell_type": "code",
   "execution_count": 53,
   "metadata": {},
   "outputs": [],
   "source": [
    "from sklearn.metrics import roc_curve, auc\n",
    "fpr, tpr, thresholds = roc_curve(Y_test, Mean)\n",
    "fpr_U, tpr_U, thr = roc_curve(Y_test,Mean+Unce)\n",
    "fpr_L, tpr_L, thr = roc_curve(Y_test,Mean-Unce)\n",
    "roc_auc = auc(fpr,tpr)\n",
    "roc_auc_U = auc(fpr_U,tpr_U)\n",
    "roc_auc_L = auc(fpr_L,tpr_L)"
   ]
  },
  {
   "cell_type": "code",
   "execution_count": 54,
   "metadata": {},
   "outputs": [
    {
     "data": {
      "image/png": "[encoded data removed]",
      "text/plain": [
       "<Figure size 576x576 with 1 Axes>"
      ]
     },
     "metadata": {
      "needs_background": "light"
     },
     "output_type": "display_data"
    }
   ],
   "source": [
    "fig,ax = plt.subplots(nrows=1,ncols=1,figsize=(8,8))#,6\n",
    "plt.style.use('seaborn-deep') \n",
    "#plt.title(\"Simulation\", weight=\"bold\", x=0.50)\n",
    "plt.grid(True)\n",
    "#yticks(np.arange(0.97, 1, step=0.005))\n",
    "lw = 2\n",
    "plt.plot(fpr, tpr, color='orange',lw=3, label='ROC-curve (AUC = %0.3f)' % (roc_auc))\n",
    "plt.plot(fpr_U, tpr_U, color='blue',lw=1, label='ROC-curve Upper (AUC = %0.3f)' % (roc_auc_U))\n",
    "plt.plot(fpr_L, tpr_L, color='blue',lw=1, label='ROC-curve Lower (AUC = %0.3f)' % (roc_auc_L))\n",
    "\n",
    "\n",
    "\n",
    "plt.ylabel('True Positie Rate (TPR)')\n",
    "plt.xlabel('False Positive Rate (FPR)')\n",
    "\n",
    "#plt.title(\"Simulation Preliminary\", color = '#e159e1',loc=\"left\", weight=\"bold\", size=\"large\")\n",
    "plt.legend(loc=\"lower left\")\n",
    "plt.show()"
   ]
  },
  {
   "cell_type": "code",
   "execution_count": null,
   "metadata": {},
   "outputs": [],
   "source": []
  }
 ],
 "metadata": {
  "kernelspec": {
   "display_name": "Python 3",
   "language": "python",
   "name": "python3"
  },
  "language_info": {
   "codemirror_mode": {
    "name": "ipython",
    "version": 3
   },
   "file_extension": ".py",
   "mimetype": "text/x-python",
   "name": "python",
   "nbconvert_exporter": "python",
   "pygments_lexer": "ipython3",
   "version": "3.5.4"
  }
 },
 "nbformat": 4,
 "nbformat_minor": 2
}
