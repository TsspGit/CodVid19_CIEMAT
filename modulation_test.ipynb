{
 "cells": [
  {
   "cell_type": "code",
   "execution_count": 1,
   "metadata": {},
   "outputs": [
    {
     "name": "stderr",
     "output_type": "stream",
     "text": [
      "Using TensorFlow backend.\n"
     ]
    }
   ],
   "source": [
    "__author__ = '@Tssp'\n",
    "import numpy as np\n",
    "import pandas as pd\n",
    "import os\n",
    "import matplotlib.pyplot as plt\n",
    "from codvidutils.cudasession import set_session\n",
    "from codvidutils.Autoencoder_Transformation_main import Transformation_main"
   ]
  },
  {
   "cell_type": "code",
   "execution_count": 2,
   "metadata": {
    "scrolled": false
   },
   "outputs": [
    {
     "name": "stdout",
     "output_type": "stream",
     "text": [
      "You are going to read from: data/train_split_v4.csv and data/test_split_v4.csv\n",
      "Total number of images: 1540\n",
      "shape X: 13600 1540,  disease_ID (Y): 13600 1540\n",
      "Count of classes:  Counter({0: 7966, 2: 5447, 1: 187})\n",
      "New diseaseID shape:  (9097,)\n",
      "New X shape:  (9097, 120000)\n",
      "New Count of classes:  Counter({0: 4500, 2: 4500, 1: 97})\n",
      "Undersample shapes:\n",
      "diseaseID_train.shape: (9097,)\n",
      "X_train.shape: (9097, 120000)\n",
      "X_train.shape: (9097, 200, 200, 3)\n",
      "X_test.shape: (1540, 200, 200, 3)\n",
      "Normal train:  (4500,)\n",
      "Pneumonia train:  (4500,)\n",
      "COVID train:  (97,)\n",
      "*******************************************************\n",
      "Normal test:  (885,)\n",
      "Pneumonia test:  (591,)\n",
      "COVID test:  (64,)\n",
      "(2425, 180, 180, 3)\n",
      "(2425,)\n",
      "X_train.shape:  (11522, 180, 180, 3)\n",
      "diseaseID_train.shape:  (11522,)\n",
      "X_test_news.shape:  (1600, 180, 180, 3)\n",
      "diseaseID_test_news.shape:  (1600,)\n",
      "X_test.shape:  (3140, 180, 180, 3)\n",
      "diseaseID_test.shape:  (3140,)\n",
      "encoder_test.shape (3140, 23, 23, 128)\n",
      "encoder_train.shape (11522, 23, 23, 128)\n"
     ]
    }
   ],
   "source": [
    "outputs = Transformation_main('data/train_split_v4.csv', 'data/test_split_v4.csv')"
   ]
  },
  {
   "cell_type": "code",
   "execution_count": 9,
   "metadata": {},
   "outputs": [],
   "source": [
    "Y_test = outputs['Y_test']\n",
    "encoder_train = outputs['encoder_train']\n",
    "encoder_test = outputs['encoder_test']\n",
    "del outputs"
   ]
  }
 ],
 "metadata": {
  "kernelspec": {
   "display_name": "Python 3",
   "language": "python",
   "name": "python3"
  },
  "language_info": {
   "codemirror_mode": {
    "name": "ipython",
    "version": 3
   },
   "file_extension": ".py",
   "mimetype": "text/x-python",
   "name": "python",
   "nbconvert_exporter": "python",
   "pygments_lexer": "ipython3",
   "version": "3.5.4"
  }
 },
 "nbformat": 4,
 "nbformat_minor": 2
}
