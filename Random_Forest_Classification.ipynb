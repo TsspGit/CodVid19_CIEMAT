{
 "cells": [
  {
   "cell_type": "code",
   "execution_count": 1,
   "metadata": {},
   "outputs": [
    {
     "name": "stderr",
     "output_type": "stream",
     "text": [
      "Using TensorFlow backend.\n"
     ]
    }
   ],
   "source": [
    "__author__ = '@Tssp'\n",
    "import numpy as np\n",
    "import pandas as pd\n",
    "import os\n",
    "import matplotlib.pyplot as plt\n",
    "from codvidutils.Autoencoder_Transformation_main import Transformation_main\n",
    "from sklearn.ensemble import RandomForestClassifier, RandomForestRegressor\n",
    "from sklearn.metrics import accuracy_score\n",
    "from sklearn.metrics import confusion_matrix\n",
    "from sklearn.preprocessing import normalize"
   ]
  },
  {
   "cell_type": "code",
   "execution_count": 2,
   "metadata": {},
   "outputs": [
    {
     "name": "stdout",
     "output_type": "stream",
     "text": [
      "You are going to read from: data/train_split_v4.csv and data/test_split_v4.csv\n",
      "Total number of images: 1540\n",
      "shape X: 13600 1540,  disease_ID (Y): 13600 1540\n",
      "Count of classes:  Counter({0: 7966, 2: 5447, 1: 187})\n",
      "New diseaseID shape:  (9097,)\n",
      "New X shape:  (9097, 120000)\n",
      "New Count of classes:  Counter({0: 4500, 2: 4500, 1: 97})\n",
      "Undersample shapes:\n",
      "diseaseID_train.shape: (9097,)\n",
      "X_train.shape: (9097, 120000)\n",
      "X_train.shape: (9097, 200, 200, 3)\n",
      "X_test.shape: (1540, 200, 200, 3)\n",
      "Normal train:  (4500,)\n",
      "Pneumonia train:  (4500,)\n",
      "COVID train:  (97,)\n",
      "*******************************************************\n",
      "Normal test:  (885,)\n",
      "Pneumonia test:  (591,)\n",
      "COVID test:  (64,)\n",
      "(2425, 180, 180, 3)\n",
      "(2425,)\n",
      "X_train.shape:  (11522, 180, 180, 3)\n",
      "diseaseID_train.shape:  (11522,)\n",
      "X_test_news.shape:  (1600, 180, 180, 3)\n",
      "diseaseID_test_news.shape:  (1600,)\n",
      "X_test.shape:  (3140, 180, 180, 3)\n",
      "diseaseID_test.shape:  (3140,)\n",
      "encoder_test.shape (3140, 23, 23, 64)\n",
      "encoder_train.shape (11522, 23, 23, 64)\n"
     ]
    }
   ],
   "source": [
    "outputs = Transformation_main('data/train_split_v4.csv', 'data/test_split_v4.csv')\n",
    "Y_test = outputs['Y_test']\n",
    "encoder_train = outputs['encoder_train']\n",
    "encoder_test = outputs['encoder_test']\n",
    "del outputs"
   ]
  },
  {
   "cell_type": "markdown",
   "metadata": {},
   "source": [
    "# Random Forest:"
   ]
  },
  {
   "cell_type": "markdown",
   "metadata": {},
   "source": [
    "## Regressor:"
   ]
  },
  {
   "cell_type": "code",
   "execution_count": 3,
   "metadata": {},
   "outputs": [],
   "source": [
    "predsr = np.loadtxt('log/preds_RFr_v4.txt', delimiter=',')\n",
    "nocovid = predsr[np.where(Y_test == 0)]\n",
    "covid = predsr[np.where(Y_test == 1)]\n",
    "cut_nocovid = np.max(nocovid)"
   ]
  },
  {
   "cell_type": "code",
   "execution_count": 9,
   "metadata": {},
   "outputs": [
    {
     "name": "stdout",
     "output_type": "stream",
     "text": [
      "1463 of 1474 no COVID-19 (99.25%)\n",
      "601 of 1654 COVID-19 (36.3%)\n",
      "[[1463   11]\n",
      " [1053  601]]\n",
      "normalized cm:\n",
      " [[0.99253731 0.00746269]\n",
      " [0.63663845 0.36336155]]\n"
     ]
    },
    {
     "data": {
      "image/png": "[encoded data removed]",
      "text/plain": [
       "<Figure size 576x432 with 2 Axes>"
      ]
     },
     "metadata": {
      "needs_background": "light"
     },
     "output_type": "display_data"
    }
   ],
   "source": [
    "TP_050 = np.count_nonzero(np.where((Y_test==0) & (predsr<0.50)))\n",
    "FN_050 = np.count_nonzero(np.where((Y_test==1) & (predsr>0.50)))\n",
    "FP_050 = np.count_nonzero(np.where((Y_test==1) & (predsr<0.50)))\n",
    "TN_050 = np.count_nonzero(np.where((Y_test==0) & (predsr>0.50)))\n",
    "TP_070 = np.count_nonzero(np.where((Y_test==0) & (predsr<cut_nocovid)))\n",
    "FN_070 = np.count_nonzero(np.where((Y_test==1) & (predsr>cut_nocovid)))\n",
    "FP_070 = np.count_nonzero(np.where((Y_test==1) & (predsr<cut_nocovid)))\n",
    "TN_070 = np.count_nonzero(np.where((Y_test==0) & (predsr>cut_nocovid)))\n",
    "cm = np.array([[TP_050, TN_050],[FP_050, FN_050]])\n",
    "#cm = np.array([[TP_070, TN_070],[FP_070, FN_070]])\n",
    "print('{} of {} no COVID-19 ({:2.4}%)'.format(cm[0,0], cm[0,0] + cm[0,1], 100*cm[0,0]/(cm[0,0]+cm[0,1])))\n",
    "print('{} of {} COVID-19 ({:2.3}%)'.format(cm[1,1], cm[1,1] + cm[1,0], 100*cm[1,1]/(cm[1,1]+cm[1,0])))\n",
    "print(cm)\n",
    "cm = normalize(cm, 'l1')\n",
    "print(\"normalized cm:\\n\", cm)\n",
    "labels = ['no COVID-19', 'COVID-19']\n",
    "fig1, ax = plt.subplots(figsize=(8, 6))\n",
    "cax = ax.matshow(cm, cmap='YlGnBu', vmin=0, vmax=1)\n",
    "cbar = fig1.colorbar(cax)\n",
    "cbar.set_ticks([0, 0.2, 0.4, 0.6, 0.8, 1.0])\n",
    "cbar.set_ticklabels(['0', '0.2', '0.4', '0.6', '0.8', '1.0'])\n",
    "cbar.ax.set_ylabel('Accuracy', rotation=270, labelpad=20, fontsize=16)\n",
    "ax.set_xticklabels([''] + labels)\n",
    "ax.set_yticklabels([''] + labels)\n",
    "ax.set_ylabel('Expected', fontsize=16)\n",
    "ax.set_xlabel('Predicted', fontsize=16)\n",
    "fig1.savefig('Figures/cm_RFregressor_v4.png', dpi=200)"
   ]
  },
  {
   "cell_type": "code",
   "execution_count": 6,
   "metadata": {},
   "outputs": [
    {
     "data": {
      "image/png": "[encoded data removed]",
      "text/plain": [
       "<Figure size 576x576 with 1 Axes>"
      ]
     },
     "metadata": {
      "needs_background": "light"
     },
     "output_type": "display_data"
    }
   ],
   "source": [
    "fig2, ax = plt.subplots(figsize=(8,8))\n",
    "ax.hist(nocovid, 50, histtype='step', lw=2, color='darkorange', label='No COVID')\n",
    "ax.hist(covid, 50, histtype='step', lw=2, color='darkblue', label='COVID')\n",
    "plt.grid()\n",
    "ax.set_ylabel('Number of events', fontsize=16)\n",
    "ax.set_xlabel('Score', fontsize=16)\n",
    "plt.legend( loc='upper right', fontsize=14)\n",
    "plt.yscale(\"log\")\n",
    "fig2.savefig('Figures/histogram_RFregressor_v4_70.png', dpi=200)"
   ]
  },
  {
   "cell_type": "code",
   "execution_count": null,
   "metadata": {},
   "outputs": [],
   "source": []
  }
 ],
 "metadata": {
  "kernelspec": {
   "display_name": "Python 3",
   "language": "python",
   "name": "python3"
  },
  "language_info": {
   "codemirror_mode": {
    "name": "ipython",
    "version": 3
   },
   "file_extension": ".py",
   "mimetype": "text/x-python",
   "name": "python",
   "nbconvert_exporter": "python",
   "pygments_lexer": "ipython3",
   "version": "3.5.4"
  }
 },
 "nbformat": 4,
 "nbformat_minor": 2
}
