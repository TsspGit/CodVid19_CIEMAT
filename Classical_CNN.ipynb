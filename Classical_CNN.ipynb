{
 "cells": [
  {
   "cell_type": "code",
   "execution_count": 1,
   "metadata": {},
   "outputs": [
    {
     "name": "stderr",
     "output_type": "stream",
     "text": [
      "Using TensorFlow backend.\n"
     ]
    }
   ],
   "source": [
    "__author__ = '@iRod'\n",
    "import numpy as np\n",
    "import pandas as pd\n",
    "import os\n",
    "from PIL import Image\n",
    "import keras\n",
    "import tensorflow as tf\n",
    "import matplotlib.pyplot as plt\n",
    "from keras.layers import Dense, Dropout, Activation, Flatten, Input, Add\n",
    "from keras.layers import AveragePooling2D, Conv2D, MaxPooling2D, concatenate # Concatenate\n",
    "from keras.models import Sequential, Model\n",
    "from keras.utils import to_categorical\n",
    "from codvidutils.imageproc import map_categorical"
   ]
  },
  {
   "cell_type": "code",
   "execution_count": 16,
   "metadata": {},
   "outputs": [],
   "source": [
    "train_class = pd.read_csv('data/train_split_v2.txt', sep=' ', header=None, names=['patientID', 'image_path', 'class'])\n",
    "test_class = pd.read_csv('data/test_split_v2.txt', sep=' ', header=None, names=['patientID', 'image_path', 'class'])"
   ]
  },
  {
   "cell_type": "code",
   "execution_count": 17,
   "metadata": {},
   "outputs": [],
   "source": [
    "train_class = train_class.sample(n = len(train_class))\n",
    "test_class = test_class.sample(n = len(test_class))"
   ]
  },
  {
   "cell_type": "code",
   "execution_count": 18,
   "metadata": {},
   "outputs": [
    {
     "data": {
      "text/html": [
       "<div>\n",
       "<style scoped>\n",
       "    .dataframe tbody tr th:only-of-type {\n",
       "        vertical-align: middle;\n",
       "    }\n",
       "\n",
       "    .dataframe tbody tr th {\n",
       "        vertical-align: top;\n",
       "    }\n",
       "\n",
       "    .dataframe thead th {\n",
       "        text-align: right;\n",
       "    }\n",
       "</style>\n",
       "<table border=\"1\" class=\"dataframe\">\n",
       "  <thead>\n",
       "    <tr style=\"text-align: right;\">\n",
       "      <th></th>\n",
       "      <th>patientID</th>\n",
       "      <th>image_path</th>\n",
       "      <th>class</th>\n",
       "    </tr>\n",
       "  </thead>\n",
       "  <tbody>\n",
       "    <tr>\n",
       "      <th>262</th>\n",
       "      <td>5f137fa7-6539-499e-b0d5-0e481221bf5a</td>\n",
       "      <td>5f137fa7-6539-499e-b0d5-0e481221bf5a.png</td>\n",
       "      <td>normal</td>\n",
       "    </tr>\n",
       "    <tr>\n",
       "      <th>1578</th>\n",
       "      <td>b309f00c-57a1-4926-ba6d-1ce13a673cf9</td>\n",
       "      <td>b309f00c-57a1-4926-ba6d-1ce13a673cf9.png</td>\n",
       "      <td>pneumonia</td>\n",
       "    </tr>\n",
       "    <tr>\n",
       "      <th>1675</th>\n",
       "      <td>bac6c0e9-9e87-4d76-92a6-e9b0b11983e9</td>\n",
       "      <td>bac6c0e9-9e87-4d76-92a6-e9b0b11983e9.png</td>\n",
       "      <td>pneumonia</td>\n",
       "    </tr>\n",
       "    <tr>\n",
       "      <th>1921</th>\n",
       "      <td>1e332eeb-da57-4857-8457-b8fc76941749</td>\n",
       "      <td>1e332eeb-da57-4857-8457-b8fc76941749.png</td>\n",
       "      <td>pneumonia</td>\n",
       "    </tr>\n",
       "    <tr>\n",
       "      <th>307</th>\n",
       "      <td>68d6f135-b26e-460f-803e-4789044ed367</td>\n",
       "      <td>68d6f135-b26e-460f-803e-4789044ed367.png</td>\n",
       "      <td>normal</td>\n",
       "    </tr>\n",
       "    <tr>\n",
       "      <th>950</th>\n",
       "      <td>0ab601ca-5f86-498f-89ab-73208a353e40</td>\n",
       "      <td>0ab601ca-5f86-498f-89ab-73208a353e40.png</td>\n",
       "      <td>pneumonia</td>\n",
       "    </tr>\n",
       "    <tr>\n",
       "      <th>757</th>\n",
       "      <td>dff4a1e0-849a-4bf0-9895-a8bacaf9f44d</td>\n",
       "      <td>dff4a1e0-849a-4bf0-9895-a8bacaf9f44d.png</td>\n",
       "      <td>normal</td>\n",
       "    </tr>\n",
       "    <tr>\n",
       "      <th>1347</th>\n",
       "      <td>82193858-3906-4c2f-b5b4-8aa1280f6181</td>\n",
       "      <td>82193858-3906-4c2f-b5b4-8aa1280f6181.png</td>\n",
       "      <td>pneumonia</td>\n",
       "    </tr>\n",
       "    <tr>\n",
       "      <th>444</th>\n",
       "      <td>8e3b4193-6de6-4af0-a558-b573e1b84ca4</td>\n",
       "      <td>8e3b4193-6de6-4af0-a558-b573e1b84ca4.png</td>\n",
       "      <td>normal</td>\n",
       "    </tr>\n",
       "    <tr>\n",
       "      <th>1799</th>\n",
       "      <td>df0f59ce-d11a-488d-a51c-bd9105e592f6</td>\n",
       "      <td>df0f59ce-d11a-488d-a51c-bd9105e592f6.png</td>\n",
       "      <td>pneumonia</td>\n",
       "    </tr>\n",
       "    <tr>\n",
       "      <th>793</th>\n",
       "      <td>e8ec602a-9238-4382-8a55-e010520bb3b0</td>\n",
       "      <td>e8ec602a-9238-4382-8a55-e010520bb3b0.png</td>\n",
       "      <td>normal</td>\n",
       "    </tr>\n",
       "    <tr>\n",
       "      <th>1897</th>\n",
       "      <td>0f639fad-780e-44f8-ba8d-0c934bdca870</td>\n",
       "      <td>0f639fad-780e-44f8-ba8d-0c934bdca870.png</td>\n",
       "      <td>pneumonia</td>\n",
       "    </tr>\n",
       "    <tr>\n",
       "      <th>389</th>\n",
       "      <td>7f2a78a7-71ce-4eec-a427-b31e447e068f</td>\n",
       "      <td>7f2a78a7-71ce-4eec-a427-b31e447e068f.png</td>\n",
       "      <td>normal</td>\n",
       "    </tr>\n",
       "    <tr>\n",
       "      <th>1147</th>\n",
       "      <td>3ebe379f-90fc-44a7-9602-71c5abfdd50a</td>\n",
       "      <td>3ebe379f-90fc-44a7-9602-71c5abfdd50a.png</td>\n",
       "      <td>pneumonia</td>\n",
       "    </tr>\n",
       "    <tr>\n",
       "      <th>203</th>\n",
       "      <td>52566b7d-cece-4595-8163-dcd6fcd26f8b</td>\n",
       "      <td>52566b7d-cece-4595-8163-dcd6fcd26f8b.png</td>\n",
       "      <td>normal</td>\n",
       "    </tr>\n",
       "    <tr>\n",
       "      <th>403</th>\n",
       "      <td>83658980-d44a-4f6a-adea-4b3665786e09</td>\n",
       "      <td>83658980-d44a-4f6a-adea-4b3665786e09.png</td>\n",
       "      <td>normal</td>\n",
       "    </tr>\n",
       "    <tr>\n",
       "      <th>1247</th>\n",
       "      <td>55754887-a552-47dd-a5c6-2d069da40136</td>\n",
       "      <td>55754887-a552-47dd-a5c6-2d069da40136.png</td>\n",
       "      <td>pneumonia</td>\n",
       "    </tr>\n",
       "    <tr>\n",
       "      <th>1449</th>\n",
       "      <td>a2616330-1f29-4019-928f-e2d62b3b737b</td>\n",
       "      <td>a2616330-1f29-4019-928f-e2d62b3b737b.png</td>\n",
       "      <td>pneumonia</td>\n",
       "    </tr>\n",
       "    <tr>\n",
       "      <th>1465</th>\n",
       "      <td>a6c364d2-b2d6-4b0b-a439-40b992ff65c7</td>\n",
       "      <td>a6c364d2-b2d6-4b0b-a439-40b992ff65c7.png</td>\n",
       "      <td>pneumonia</td>\n",
       "    </tr>\n",
       "    <tr>\n",
       "      <th>1204</th>\n",
       "      <td>49b95513-daab-49bb-bc6e-c5254ab1bc07</td>\n",
       "      <td>49b95513-daab-49bb-bc6e-c5254ab1bc07.png</td>\n",
       "      <td>pneumonia</td>\n",
       "    </tr>\n",
       "    <tr>\n",
       "      <th>1572</th>\n",
       "      <td>b2b28a22-97fa-48e6-995f-1fe04f72497a</td>\n",
       "      <td>b2b28a22-97fa-48e6-995f-1fe04f72497a.png</td>\n",
       "      <td>pneumonia</td>\n",
       "    </tr>\n",
       "    <tr>\n",
       "      <th>1839</th>\n",
       "      <td>f0ba0019-718f-4677-a723-05c27dba2f3e</td>\n",
       "      <td>f0ba0019-718f-4677-a723-05c27dba2f3e.png</td>\n",
       "      <td>pneumonia</td>\n",
       "    </tr>\n",
       "    <tr>\n",
       "      <th>788</th>\n",
       "      <td>e8485b0f-293d-4ca8-8b71-92db61c8ee3e</td>\n",
       "      <td>e8485b0f-293d-4ca8-8b71-92db61c8ee3e.png</td>\n",
       "      <td>normal</td>\n",
       "    </tr>\n",
       "    <tr>\n",
       "      <th>804</th>\n",
       "      <td>eb7b6b57-5df6-4aa1-9d83-bb6c3d893d17</td>\n",
       "      <td>eb7b6b57-5df6-4aa1-9d83-bb6c3d893d17.png</td>\n",
       "      <td>normal</td>\n",
       "    </tr>\n",
       "    <tr>\n",
       "      <th>856</th>\n",
       "      <td>fc507735-7738-420e-9da3-8d36f6e19633</td>\n",
       "      <td>fc507735-7738-420e-9da3-8d36f6e19633.png</td>\n",
       "      <td>normal</td>\n",
       "    </tr>\n",
       "    <tr>\n",
       "      <th>1188</th>\n",
       "      <td>4668a90c-d352-47d0-a3ac-a54aa8ce053b</td>\n",
       "      <td>4668a90c-d352-47d0-a3ac-a54aa8ce053b.png</td>\n",
       "      <td>pneumonia</td>\n",
       "    </tr>\n",
       "    <tr>\n",
       "      <th>17</th>\n",
       "      <td>00f87de5-5fe0-4921-93ea-914d7e683266</td>\n",
       "      <td>00f87de5-5fe0-4921-93ea-914d7e683266.png</td>\n",
       "      <td>normal</td>\n",
       "    </tr>\n",
       "    <tr>\n",
       "      <th>343</th>\n",
       "      <td>74124097-f675-47f7-9965-8271ef4f68a0</td>\n",
       "      <td>74124097-f675-47f7-9965-8271ef4f68a0.png</td>\n",
       "      <td>normal</td>\n",
       "    </tr>\n",
       "    <tr>\n",
       "      <th>1543</th>\n",
       "      <td>aef87dc2-a097-4683-9fb1-d1af6838a16a</td>\n",
       "      <td>aef87dc2-a097-4683-9fb1-d1af6838a16a.png</td>\n",
       "      <td>pneumonia</td>\n",
       "    </tr>\n",
       "    <tr>\n",
       "      <th>1629</th>\n",
       "      <td>b6b3152f-ef3f-41ee-b015-118500c0f08a</td>\n",
       "      <td>b6b3152f-ef3f-41ee-b015-118500c0f08a.png</td>\n",
       "      <td>pneumonia</td>\n",
       "    </tr>\n",
       "    <tr>\n",
       "      <th>...</th>\n",
       "      <td>...</td>\n",
       "      <td>...</td>\n",
       "      <td>...</td>\n",
       "    </tr>\n",
       "    <tr>\n",
       "      <th>1138</th>\n",
       "      <td>3d6c05e8-8db1-4d72-8cb5-8068b649161b</td>\n",
       "      <td>3d6c05e8-8db1-4d72-8cb5-8068b649161b.png</td>\n",
       "      <td>pneumonia</td>\n",
       "    </tr>\n",
       "    <tr>\n",
       "      <th>844</th>\n",
       "      <td>f7ee1e68-4179-4703-a902-b35b8e2ccae7</td>\n",
       "      <td>f7ee1e68-4179-4703-a902-b35b8e2ccae7.png</td>\n",
       "      <td>normal</td>\n",
       "    </tr>\n",
       "    <tr>\n",
       "      <th>548</th>\n",
       "      <td>a7f54a7d-8dda-4fd9-8e1b-e1e762a34da7</td>\n",
       "      <td>a7f54a7d-8dda-4fd9-8e1b-e1e762a34da7.png</td>\n",
       "      <td>normal</td>\n",
       "    </tr>\n",
       "    <tr>\n",
       "      <th>1770</th>\n",
       "      <td>cd9d2d22-4395-4e4d-8837-cfb33c2bdaab</td>\n",
       "      <td>cd9d2d22-4395-4e4d-8837-cfb33c2bdaab.png</td>\n",
       "      <td>pneumonia</td>\n",
       "    </tr>\n",
       "    <tr>\n",
       "      <th>293</th>\n",
       "      <td>64cb56b3-df09-472f-ba13-201c40f4987e</td>\n",
       "      <td>64cb56b3-df09-472f-ba13-201c40f4987e.png</td>\n",
       "      <td>normal</td>\n",
       "    </tr>\n",
       "    <tr>\n",
       "      <th>513</th>\n",
       "      <td>9ea08731-6f48-4775-8c98-19a2029fcf73</td>\n",
       "      <td>9ea08731-6f48-4775-8c98-19a2029fcf73.png</td>\n",
       "      <td>normal</td>\n",
       "    </tr>\n",
       "    <tr>\n",
       "      <th>1723</th>\n",
       "      <td>bfd6493b-7b0d-4bb6-a7ed-bd69007dc433</td>\n",
       "      <td>bfd6493b-7b0d-4bb6-a7ed-bd69007dc433.png</td>\n",
       "      <td>pneumonia</td>\n",
       "    </tr>\n",
       "    <tr>\n",
       "      <th>1944</th>\n",
       "      <td>2c917d3a-95cb-4c11-802c-f83e28cb37bc</td>\n",
       "      <td>2c917d3a-95cb-4c11-802c-f83e28cb37bc.png</td>\n",
       "      <td>pneumonia</td>\n",
       "    </tr>\n",
       "    <tr>\n",
       "      <th>1364</th>\n",
       "      <td>85c3ed41-f0d8-40e1-b439-0607ff697619</td>\n",
       "      <td>85c3ed41-f0d8-40e1-b439-0607ff697619.png</td>\n",
       "      <td>pneumonia</td>\n",
       "    </tr>\n",
       "    <tr>\n",
       "      <th>1577</th>\n",
       "      <td>b309f00c-57a1-4926-ba6d-1ce13a673cf9</td>\n",
       "      <td>b309f00c-57a1-4926-ba6d-1ce13a673cf9.png</td>\n",
       "      <td>pneumonia</td>\n",
       "    </tr>\n",
       "    <tr>\n",
       "      <th>1812</th>\n",
       "      <td>eb0cc4c8-4ce7-46b9-9ad2-c4bb71fcbf59</td>\n",
       "      <td>eb0cc4c8-4ce7-46b9-9ad2-c4bb71fcbf59.png</td>\n",
       "      <td>pneumonia</td>\n",
       "    </tr>\n",
       "    <tr>\n",
       "      <th>131</th>\n",
       "      <td>402de17f-6c1c-4b1c-9ae8-d255ad23713d</td>\n",
       "      <td>402de17f-6c1c-4b1c-9ae8-d255ad23713d.png</td>\n",
       "      <td>normal</td>\n",
       "    </tr>\n",
       "    <tr>\n",
       "      <th>1160</th>\n",
       "      <td>3f504abe-2133-4e09-98af-743cdea486f9</td>\n",
       "      <td>3f504abe-2133-4e09-98af-743cdea486f9.png</td>\n",
       "      <td>pneumonia</td>\n",
       "    </tr>\n",
       "    <tr>\n",
       "      <th>1676</th>\n",
       "      <td>bac6c0e9-9e87-4d76-92a6-e9b0b11983e9</td>\n",
       "      <td>bac6c0e9-9e87-4d76-92a6-e9b0b11983e9.png</td>\n",
       "      <td>pneumonia</td>\n",
       "    </tr>\n",
       "    <tr>\n",
       "      <th>500</th>\n",
       "      <td>9bc69eb9-5f5e-4d41-bb5b-e8c1724dd548</td>\n",
       "      <td>9bc69eb9-5f5e-4d41-bb5b-e8c1724dd548.png</td>\n",
       "      <td>normal</td>\n",
       "    </tr>\n",
       "    <tr>\n",
       "      <th>1831</th>\n",
       "      <td>eda49900-8110-4529-b1ed-abb154c92396</td>\n",
       "      <td>eda49900-8110-4529-b1ed-abb154c92396.png</td>\n",
       "      <td>pneumonia</td>\n",
       "    </tr>\n",
       "    <tr>\n",
       "      <th>1580</th>\n",
       "      <td>b32508d0-975d-4b74-8233-174fef34684c</td>\n",
       "      <td>b32508d0-975d-4b74-8233-174fef34684c.png</td>\n",
       "      <td>pneumonia</td>\n",
       "    </tr>\n",
       "    <tr>\n",
       "      <th>152</th>\n",
       "      <td>4566ef68-f103-40b7-bbd2-f5e620191c0d</td>\n",
       "      <td>4566ef68-f103-40b7-bbd2-f5e620191c0d.png</td>\n",
       "      <td>normal</td>\n",
       "    </tr>\n",
       "    <tr>\n",
       "      <th>890</th>\n",
       "      <td>21684515-f845-4d3e-acb0-13628edaa264</td>\n",
       "      <td>21684515-f845-4d3e-acb0-13628edaa264.png</td>\n",
       "      <td>normal</td>\n",
       "    </tr>\n",
       "    <tr>\n",
       "      <th>1549</th>\n",
       "      <td>af33db14-7cd0-4a94-90a3-6d912c1b2d1f</td>\n",
       "      <td>af33db14-7cd0-4a94-90a3-6d912c1b2d1f.png</td>\n",
       "      <td>pneumonia</td>\n",
       "    </tr>\n",
       "    <tr>\n",
       "      <th>653</th>\n",
       "      <td>c485a9bd-6e18-4328-8c5c-cf80f71aa35d</td>\n",
       "      <td>c485a9bd-6e18-4328-8c5c-cf80f71aa35d.png</td>\n",
       "      <td>normal</td>\n",
       "    </tr>\n",
       "    <tr>\n",
       "      <th>1109</th>\n",
       "      <td>39f08b1e-46f0-4463-ab20-f72aac165d83</td>\n",
       "      <td>39f08b1e-46f0-4463-ab20-f72aac165d83.png</td>\n",
       "      <td>pneumonia</td>\n",
       "    </tr>\n",
       "    <tr>\n",
       "      <th>826</th>\n",
       "      <td>f2a921c9-5e22-4720-8719-066ec8abca14</td>\n",
       "      <td>f2a921c9-5e22-4720-8719-066ec8abca14.png</td>\n",
       "      <td>normal</td>\n",
       "    </tr>\n",
       "    <tr>\n",
       "      <th>948</th>\n",
       "      <td>0a8d486f-1aa6-4fcf-b7be-4bf04fc8628b</td>\n",
       "      <td>0a8d486f-1aa6-4fcf-b7be-4bf04fc8628b.png</td>\n",
       "      <td>pneumonia</td>\n",
       "    </tr>\n",
       "    <tr>\n",
       "      <th>380</th>\n",
       "      <td>7da8d535-3d6b-43d6-9ea1-06e19b6bef73</td>\n",
       "      <td>7da8d535-3d6b-43d6-9ea1-06e19b6bef73.png</td>\n",
       "      <td>normal</td>\n",
       "    </tr>\n",
       "    <tr>\n",
       "      <th>1234</th>\n",
       "      <td>504cbf6f-b20a-4a8b-8d78-e4016bada396</td>\n",
       "      <td>504cbf6f-b20a-4a8b-8d78-e4016bada396.png</td>\n",
       "      <td>pneumonia</td>\n",
       "    </tr>\n",
       "    <tr>\n",
       "      <th>1417</th>\n",
       "      <td>93b49de9-9267-43c2-a507-6885e4caeaba</td>\n",
       "      <td>93b49de9-9267-43c2-a507-6885e4caeaba.png</td>\n",
       "      <td>pneumonia</td>\n",
       "    </tr>\n",
       "    <tr>\n",
       "      <th>963</th>\n",
       "      <td>0c153d93-d65b-4d3e-90bc-8b26350e3476</td>\n",
       "      <td>0c153d93-d65b-4d3e-90bc-8b26350e3476.png</td>\n",
       "      <td>pneumonia</td>\n",
       "    </tr>\n",
       "    <tr>\n",
       "      <th>772</th>\n",
       "      <td>e3d288f2-4411-4b63-b8d2-b1462a9d2aae</td>\n",
       "      <td>e3d288f2-4411-4b63-b8d2-b1462a9d2aae.png</td>\n",
       "      <td>normal</td>\n",
       "    </tr>\n",
       "    <tr>\n",
       "      <th>139</th>\n",
       "      <td>41d8f17e-030a-4565-9c40-2b5e9e9e993d</td>\n",
       "      <td>41d8f17e-030a-4565-9c40-2b5e9e9e993d.png</td>\n",
       "      <td>normal</td>\n",
       "    </tr>\n",
       "  </tbody>\n",
       "</table>\n",
       "<p>1953 rows × 3 columns</p>\n",
       "</div>"
      ],
      "text/plain": [
       "                                 patientID  \\\n",
       "262   5f137fa7-6539-499e-b0d5-0e481221bf5a   \n",
       "1578  b309f00c-57a1-4926-ba6d-1ce13a673cf9   \n",
       "1675  bac6c0e9-9e87-4d76-92a6-e9b0b11983e9   \n",
       "1921  1e332eeb-da57-4857-8457-b8fc76941749   \n",
       "307   68d6f135-b26e-460f-803e-4789044ed367   \n",
       "950   0ab601ca-5f86-498f-89ab-73208a353e40   \n",
       "757   dff4a1e0-849a-4bf0-9895-a8bacaf9f44d   \n",
       "1347  82193858-3906-4c2f-b5b4-8aa1280f6181   \n",
       "444   8e3b4193-6de6-4af0-a558-b573e1b84ca4   \n",
       "1799  df0f59ce-d11a-488d-a51c-bd9105e592f6   \n",
       "793   e8ec602a-9238-4382-8a55-e010520bb3b0   \n",
       "1897  0f639fad-780e-44f8-ba8d-0c934bdca870   \n",
       "389   7f2a78a7-71ce-4eec-a427-b31e447e068f   \n",
       "1147  3ebe379f-90fc-44a7-9602-71c5abfdd50a   \n",
       "203   52566b7d-cece-4595-8163-dcd6fcd26f8b   \n",
       "403   83658980-d44a-4f6a-adea-4b3665786e09   \n",
       "1247  55754887-a552-47dd-a5c6-2d069da40136   \n",
       "1449  a2616330-1f29-4019-928f-e2d62b3b737b   \n",
       "1465  a6c364d2-b2d6-4b0b-a439-40b992ff65c7   \n",
       "1204  49b95513-daab-49bb-bc6e-c5254ab1bc07   \n",
       "1572  b2b28a22-97fa-48e6-995f-1fe04f72497a   \n",
       "1839  f0ba0019-718f-4677-a723-05c27dba2f3e   \n",
       "788   e8485b0f-293d-4ca8-8b71-92db61c8ee3e   \n",
       "804   eb7b6b57-5df6-4aa1-9d83-bb6c3d893d17   \n",
       "856   fc507735-7738-420e-9da3-8d36f6e19633   \n",
       "1188  4668a90c-d352-47d0-a3ac-a54aa8ce053b   \n",
       "17    00f87de5-5fe0-4921-93ea-914d7e683266   \n",
       "343   74124097-f675-47f7-9965-8271ef4f68a0   \n",
       "1543  aef87dc2-a097-4683-9fb1-d1af6838a16a   \n",
       "1629  b6b3152f-ef3f-41ee-b015-118500c0f08a   \n",
       "...                                    ...   \n",
       "1138  3d6c05e8-8db1-4d72-8cb5-8068b649161b   \n",
       "844   f7ee1e68-4179-4703-a902-b35b8e2ccae7   \n",
       "548   a7f54a7d-8dda-4fd9-8e1b-e1e762a34da7   \n",
       "1770  cd9d2d22-4395-4e4d-8837-cfb33c2bdaab   \n",
       "293   64cb56b3-df09-472f-ba13-201c40f4987e   \n",
       "513   9ea08731-6f48-4775-8c98-19a2029fcf73   \n",
       "1723  bfd6493b-7b0d-4bb6-a7ed-bd69007dc433   \n",
       "1944  2c917d3a-95cb-4c11-802c-f83e28cb37bc   \n",
       "1364  85c3ed41-f0d8-40e1-b439-0607ff697619   \n",
       "1577  b309f00c-57a1-4926-ba6d-1ce13a673cf9   \n",
       "1812  eb0cc4c8-4ce7-46b9-9ad2-c4bb71fcbf59   \n",
       "131   402de17f-6c1c-4b1c-9ae8-d255ad23713d   \n",
       "1160  3f504abe-2133-4e09-98af-743cdea486f9   \n",
       "1676  bac6c0e9-9e87-4d76-92a6-e9b0b11983e9   \n",
       "500   9bc69eb9-5f5e-4d41-bb5b-e8c1724dd548   \n",
       "1831  eda49900-8110-4529-b1ed-abb154c92396   \n",
       "1580  b32508d0-975d-4b74-8233-174fef34684c   \n",
       "152   4566ef68-f103-40b7-bbd2-f5e620191c0d   \n",
       "890   21684515-f845-4d3e-acb0-13628edaa264   \n",
       "1549  af33db14-7cd0-4a94-90a3-6d912c1b2d1f   \n",
       "653   c485a9bd-6e18-4328-8c5c-cf80f71aa35d   \n",
       "1109  39f08b1e-46f0-4463-ab20-f72aac165d83   \n",
       "826   f2a921c9-5e22-4720-8719-066ec8abca14   \n",
       "948   0a8d486f-1aa6-4fcf-b7be-4bf04fc8628b   \n",
       "380   7da8d535-3d6b-43d6-9ea1-06e19b6bef73   \n",
       "1234  504cbf6f-b20a-4a8b-8d78-e4016bada396   \n",
       "1417  93b49de9-9267-43c2-a507-6885e4caeaba   \n",
       "963   0c153d93-d65b-4d3e-90bc-8b26350e3476   \n",
       "772   e3d288f2-4411-4b63-b8d2-b1462a9d2aae   \n",
       "139   41d8f17e-030a-4565-9c40-2b5e9e9e993d   \n",
       "\n",
       "                                    image_path      class  \n",
       "262   5f137fa7-6539-499e-b0d5-0e481221bf5a.png     normal  \n",
       "1578  b309f00c-57a1-4926-ba6d-1ce13a673cf9.png  pneumonia  \n",
       "1675  bac6c0e9-9e87-4d76-92a6-e9b0b11983e9.png  pneumonia  \n",
       "1921  1e332eeb-da57-4857-8457-b8fc76941749.png  pneumonia  \n",
       "307   68d6f135-b26e-460f-803e-4789044ed367.png     normal  \n",
       "950   0ab601ca-5f86-498f-89ab-73208a353e40.png  pneumonia  \n",
       "757   dff4a1e0-849a-4bf0-9895-a8bacaf9f44d.png     normal  \n",
       "1347  82193858-3906-4c2f-b5b4-8aa1280f6181.png  pneumonia  \n",
       "444   8e3b4193-6de6-4af0-a558-b573e1b84ca4.png     normal  \n",
       "1799  df0f59ce-d11a-488d-a51c-bd9105e592f6.png  pneumonia  \n",
       "793   e8ec602a-9238-4382-8a55-e010520bb3b0.png     normal  \n",
       "1897  0f639fad-780e-44f8-ba8d-0c934bdca870.png  pneumonia  \n",
       "389   7f2a78a7-71ce-4eec-a427-b31e447e068f.png     normal  \n",
       "1147  3ebe379f-90fc-44a7-9602-71c5abfdd50a.png  pneumonia  \n",
       "203   52566b7d-cece-4595-8163-dcd6fcd26f8b.png     normal  \n",
       "403   83658980-d44a-4f6a-adea-4b3665786e09.png     normal  \n",
       "1247  55754887-a552-47dd-a5c6-2d069da40136.png  pneumonia  \n",
       "1449  a2616330-1f29-4019-928f-e2d62b3b737b.png  pneumonia  \n",
       "1465  a6c364d2-b2d6-4b0b-a439-40b992ff65c7.png  pneumonia  \n",
       "1204  49b95513-daab-49bb-bc6e-c5254ab1bc07.png  pneumonia  \n",
       "1572  b2b28a22-97fa-48e6-995f-1fe04f72497a.png  pneumonia  \n",
       "1839  f0ba0019-718f-4677-a723-05c27dba2f3e.png  pneumonia  \n",
       "788   e8485b0f-293d-4ca8-8b71-92db61c8ee3e.png     normal  \n",
       "804   eb7b6b57-5df6-4aa1-9d83-bb6c3d893d17.png     normal  \n",
       "856   fc507735-7738-420e-9da3-8d36f6e19633.png     normal  \n",
       "1188  4668a90c-d352-47d0-a3ac-a54aa8ce053b.png  pneumonia  \n",
       "17    00f87de5-5fe0-4921-93ea-914d7e683266.png     normal  \n",
       "343   74124097-f675-47f7-9965-8271ef4f68a0.png     normal  \n",
       "1543  aef87dc2-a097-4683-9fb1-d1af6838a16a.png  pneumonia  \n",
       "1629  b6b3152f-ef3f-41ee-b015-118500c0f08a.png  pneumonia  \n",
       "...                                        ...        ...  \n",
       "1138  3d6c05e8-8db1-4d72-8cb5-8068b649161b.png  pneumonia  \n",
       "844   f7ee1e68-4179-4703-a902-b35b8e2ccae7.png     normal  \n",
       "548   a7f54a7d-8dda-4fd9-8e1b-e1e762a34da7.png     normal  \n",
       "1770  cd9d2d22-4395-4e4d-8837-cfb33c2bdaab.png  pneumonia  \n",
       "293   64cb56b3-df09-472f-ba13-201c40f4987e.png     normal  \n",
       "513   9ea08731-6f48-4775-8c98-19a2029fcf73.png     normal  \n",
       "1723  bfd6493b-7b0d-4bb6-a7ed-bd69007dc433.png  pneumonia  \n",
       "1944  2c917d3a-95cb-4c11-802c-f83e28cb37bc.png  pneumonia  \n",
       "1364  85c3ed41-f0d8-40e1-b439-0607ff697619.png  pneumonia  \n",
       "1577  b309f00c-57a1-4926-ba6d-1ce13a673cf9.png  pneumonia  \n",
       "1812  eb0cc4c8-4ce7-46b9-9ad2-c4bb71fcbf59.png  pneumonia  \n",
       "131   402de17f-6c1c-4b1c-9ae8-d255ad23713d.png     normal  \n",
       "1160  3f504abe-2133-4e09-98af-743cdea486f9.png  pneumonia  \n",
       "1676  bac6c0e9-9e87-4d76-92a6-e9b0b11983e9.png  pneumonia  \n",
       "500   9bc69eb9-5f5e-4d41-bb5b-e8c1724dd548.png     normal  \n",
       "1831  eda49900-8110-4529-b1ed-abb154c92396.png  pneumonia  \n",
       "1580  b32508d0-975d-4b74-8233-174fef34684c.png  pneumonia  \n",
       "152   4566ef68-f103-40b7-bbd2-f5e620191c0d.png     normal  \n",
       "890   21684515-f845-4d3e-acb0-13628edaa264.png     normal  \n",
       "1549  af33db14-7cd0-4a94-90a3-6d912c1b2d1f.png  pneumonia  \n",
       "653   c485a9bd-6e18-4328-8c5c-cf80f71aa35d.png     normal  \n",
       "1109  39f08b1e-46f0-4463-ab20-f72aac165d83.png  pneumonia  \n",
       "826   f2a921c9-5e22-4720-8719-066ec8abca14.png     normal  \n",
       "948   0a8d486f-1aa6-4fcf-b7be-4bf04fc8628b.png  pneumonia  \n",
       "380   7da8d535-3d6b-43d6-9ea1-06e19b6bef73.png     normal  \n",
       "1234  504cbf6f-b20a-4a8b-8d78-e4016bada396.png  pneumonia  \n",
       "1417  93b49de9-9267-43c2-a507-6885e4caeaba.png  pneumonia  \n",
       "963   0c153d93-d65b-4d3e-90bc-8b26350e3476.png  pneumonia  \n",
       "772   e3d288f2-4411-4b63-b8d2-b1462a9d2aae.png     normal  \n",
       "139   41d8f17e-030a-4565-9c40-2b5e9e9e993d.png     normal  \n",
       "\n",
       "[1953 rows x 3 columns]"
      ]
     },
     "execution_count": 18,
     "metadata": {},
     "output_type": "execute_result"
    }
   ],
   "source": [
    "test_class"
   ]
  },
  {
   "cell_type": "code",
   "execution_count": 19,
   "metadata": {},
   "outputs": [],
   "source": [
    "train_pics = []\n",
    "for img in train_class['image_path'].values:\n",
    "    train_pics.append(np.array(Image.open('data/train/' + img))[:, :, :3])\n",
    "test_pics = []\n",
    "for img in test_class['image_path'].values:\n",
    "    test_pics.append(np.array(Image.open('data/test/' + img))[:, :, :3])"
   ]
  },
  {
   "cell_type": "code",
   "execution_count": 78,
   "metadata": {},
   "outputs": [
    {
     "data": {
      "text/plain": [
       "array([[[  5,   5,   5],\n",
       "        [  6,   6,   6],\n",
       "        [  5,   5,   5],\n",
       "        ...,\n",
       "        [  6,   6,   6],\n",
       "        [ 28,  28,  28],\n",
       "        [242, 242, 242]],\n",
       "\n",
       "       [[  5,   5,   5],\n",
       "        [  5,   5,   5],\n",
       "        [  4,   4,   4],\n",
       "        ...,\n",
       "        [  5,   5,   5],\n",
       "        [ 10,  10,  10],\n",
       "        [ 31,  31,  31]],\n",
       "\n",
       "       [[  5,   5,   5],\n",
       "        [  9,   9,   9],\n",
       "        [ 13,  13,  13],\n",
       "        ...,\n",
       "        [  5,   5,   5],\n",
       "        [  8,   8,   8],\n",
       "        [ 32,  32,  32]],\n",
       "\n",
       "       ...,\n",
       "\n",
       "       [[ 15,  15,  15],\n",
       "        [ 15,  15,  15],\n",
       "        [ 12,  12,  12],\n",
       "        ...,\n",
       "        [ 15,  15,  15],\n",
       "        [ 16,  16,  16],\n",
       "        [ 15,  15,  15]],\n",
       "\n",
       "       [[ 15,  15,  15],\n",
       "        [ 13,  13,  13],\n",
       "        [ 12,  12,  12],\n",
       "        ...,\n",
       "        [ 14,  14,  14],\n",
       "        [ 16,  16,  16],\n",
       "        [ 16,  16,  16]],\n",
       "\n",
       "       [[ 15,  15,  15],\n",
       "        [ 15,  15,  15],\n",
       "        [ 14,  14,  14],\n",
       "        ...,\n",
       "        [ 15,  15,  15],\n",
       "        [ 17,  17,  17],\n",
       "        [ 17,  17,  17]]], dtype=uint8)"
      ]
     },
     "execution_count": 78,
     "metadata": {},
     "output_type": "execute_result"
    }
   ],
   "source": []
  },
  {
   "cell_type": "code",
   "execution_count": 20,
   "metadata": {},
   "outputs": [],
   "source": [
    "values_dict = {'COVID-19': 0,'pneumonia': 1,  'normal': 2}\n",
    "test_class['class_categorical'] = test_class['class'].apply(map_categorical, args=(values_dict,))\n",
    "train_class['class_categorical'] = train_class['class'].apply(map_categorical, args=(values_dict,))"
   ]
  },
  {
   "cell_type": "code",
   "execution_count": 7,
   "metadata": {},
   "outputs": [
    {
     "name": "stdout",
     "output_type": "stream",
     "text": [
      "Train shape X: (16574, 200, 200, 3),  Y: (16574, 3) \n",
      " Test shape X: (1953, 200, 200, 3), Y: (1953, 3)\n"
     ]
    }
   ],
   "source": [
    "X_train = np.array(train_pics)/255\n",
    "Y_train = to_categorical(train_class['class_categorical'].values.reshape(-1, 1))\n",
    "X_test = np.array(test_pics)/255\n",
    "Y_test = to_categorical(test_class['class_categorical'].values.reshape(-1, 1))\n",
    "assert X_train.shape[0] == len(Y_train)\n",
    "assert X_test.shape[0] == len(Y_test)\n",
    "print('Train shape X: {},  Y: {} \\n Test shape X: {}, Y: {}'.format(X_train.shape,Y_train.shape, X_test.shape, Y_test.shape))"
   ]
  },
  {
   "cell_type": "code",
   "execution_count": 8,
   "metadata": {},
   "outputs": [],
   "source": [
    "del test_pics, train_pics"
   ]
  },
  {
   "cell_type": "code",
   "execution_count": 9,
   "metadata": {},
   "outputs": [
    {
     "name": "stdout",
     "output_type": "stream",
     "text": [
      "_________________________________________________________________\n",
      "Layer (type)                 Output Shape              Param #   \n",
      "=================================================================\n",
      "input_1 (InputLayer)         (None, 200, 200, 3)       0         \n",
      "_________________________________________________________________\n",
      "conv2d_1 (Conv2D)            (None, 196, 196, 6)       456       \n",
      "_________________________________________________________________\n",
      "average_pooling2d_1 (Average (None, 98, 98, 6)         0         \n",
      "_________________________________________________________________\n",
      "conv2d_2 (Conv2D)            (None, 94, 94, 16)        2416      \n",
      "_________________________________________________________________\n",
      "average_pooling2d_2 (Average (None, 47, 47, 16)        0         \n",
      "_________________________________________________________________\n",
      "conv2d_3 (Conv2D)            (None, 43, 43, 32)        12832     \n",
      "_________________________________________________________________\n",
      "average_pooling2d_3 (Average (None, 21, 21, 32)        0         \n",
      "_________________________________________________________________\n",
      "flatten_1 (Flatten)          (None, 14112)             0         \n",
      "_________________________________________________________________\n",
      "dense_1 (Dense)              (None, 120)               1693560   \n",
      "_________________________________________________________________\n",
      "dense_2 (Dense)              (None, 84)                10164     \n",
      "_________________________________________________________________\n",
      "dense_3 (Dense)              (None, 3)                 255       \n",
      "=================================================================\n",
      "Total params: 1,719,683\n",
      "Trainable params: 1,719,683\n",
      "Non-trainable params: 0\n",
      "_________________________________________________________________\n"
     ]
    }
   ],
   "source": [
    "\"\"\"\n",
    "LeNet-5 archiquecture using Functional api\n",
    "\"\"\"\n",
    "#input_layer = Input(shape= (32,32,1,))\n",
    "input_layer = Input(shape= (200,200,3,))\n",
    "first_cv = Conv2D(filters=6, kernel_size=(5,5), activation='relu')(input_layer)\n",
    "first_av = AveragePooling2D()(first_cv)\n",
    "sec_cv = Conv2D(filters=16, kernel_size=(5,5), activation='relu')(first_av)\n",
    "sec_av = AveragePooling2D()(sec_cv)\n",
    "thr_cv = Conv2D(filters=32, kernel_size=(5,5), activation='relu')(sec_av)\n",
    "thr_av = AveragePooling2D()(thr_cv)\n",
    "flat = Flatten()(thr_av)\n",
    "first_dense = Dense(units= 120, activation= \"relu\")(flat)\n",
    "sec_dense = Dense(units= 84, activation= \"relu\")(first_dense)\n",
    "out_layer= Dense(units =3, activation= \"softmax\")(sec_dense)\n",
    "mylenet = Model(inputs=input_layer, outputs=out_layer)\n",
    "mylenet.summary()"
   ]
  },
  {
   "cell_type": "code",
   "execution_count": 10,
   "metadata": {
    "scrolled": false
   },
   "outputs": [
    {
     "name": "stdout",
     "output_type": "stream",
     "text": [
      "Train on 16574 samples, validate on 1953 samples\n",
      "Epoch 1/6\n",
      " - 63s - loss: 0.4418 - acc: 0.8220 - mean_squared_error: 0.0873 - val_loss: 0.3556 - val_acc: 0.8689 - val_mean_squared_error: 0.0683\n",
      "Epoch 2/6\n",
      " - 57s - loss: 0.3552 - acc: 0.8612 - mean_squared_error: 0.0691 - val_loss: 0.3102 - val_acc: 0.8766 - val_mean_squared_error: 0.0592\n",
      "Epoch 3/6\n",
      " - 39s - loss: 0.3197 - acc: 0.8758 - mean_squared_error: 0.0617 - val_loss: 0.2956 - val_acc: 0.8838 - val_mean_squared_error: 0.0570\n",
      "Epoch 4/6\n",
      " - 39s - loss: 0.2791 - acc: 0.8909 - mean_squared_error: 0.0534 - val_loss: 0.2984 - val_acc: 0.8802 - val_mean_squared_error: 0.0585\n",
      "Epoch 5/6\n",
      " - 51s - loss: 0.2429 - acc: 0.9075 - mean_squared_error: 0.0465 - val_loss: 0.2656 - val_acc: 0.9063 - val_mean_squared_error: 0.0490\n",
      "Epoch 6/6\n",
      " - 42s - loss: 0.1992 - acc: 0.9246 - mean_squared_error: 0.0378 - val_loss: 0.2884 - val_acc: 0.8909 - val_mean_squared_error: 0.0521\n"
     ]
    }
   ],
   "source": [
    "mylenet.compile(optimizer='adam', loss='categorical_crossentropy', metrics=['acc',\"mse\"])\n",
    "history = mylenet.fit(X_train, Y_train, epochs=6, batch_size=32, verbose=2, validation_data=(X_test, Y_test))\n"
   ]
  },
  {
   "cell_type": "code",
   "execution_count": 11,
   "metadata": {},
   "outputs": [],
   "source": [
    "pred = mylenet.predict(X_test)"
   ]
  },
  {
   "cell_type": "code",
   "execution_count": 12,
   "metadata": {},
   "outputs": [
    {
     "data": {
      "text/plain": [
       "array([1.2000628e-04, 4.8650626e-02, 9.5122933e-01], dtype=float32)"
      ]
     },
     "execution_count": 12,
     "metadata": {},
     "output_type": "execute_result"
    }
   ],
   "source": [
    "pred[185]"
   ]
  },
  {
   "cell_type": "code",
   "execution_count": 40,
   "metadata": {},
   "outputs": [
    {
     "data": {
      "text/plain": [
       "[Text(0,0,''),\n",
       " Text(0,0,'CODVID-19'),\n",
       " Text(0,0,'pneumonia'),\n",
       " Text(0,0,'normal')]"
      ]
     },
     "execution_count": 40,
     "metadata": {},
     "output_type": "execute_result"
    },
    {
     "data": {
      "image/png": "[encoded data removed]",
      "text/plain": [
       "<Figure size 576x432 with 2 Axes>"
      ]
     },
     "metadata": {
      "needs_background": "light"
     },
     "output_type": "display_data"
    }
   ],
   "source": [
    "from sklearn.metrics import confusion_matrix\n",
    "cm = confusion_matrix(Y_test.argmax(axis=1), pred.argmax(axis=1))\n",
    "labels = ['CODVID-19', 'pneumonia', 'normal']\n",
    "fig, ax = plt.subplots(figsize=(8, 6))\n",
    "cax = ax.matshow(cm, cmap=plt.cm.Greens)\n",
    "cbar = fig.colorbar(cax)\n",
    "cbar.set_ticks([])\n",
    "cbar.ax.set_ylabel('Accuracy', rotation=270, labelpad=20, fontsize=16)\n",
    "ax.set_xticklabels([''] + labels)\n",
    "ax.set_yticklabels([''] + labels)"
   ]
  },
  {
   "cell_type": "code",
   "execution_count": 75,
   "metadata": {},
   "outputs": [
    {
     "name": "stdout",
     "output_type": "stream",
     "text": [
      "max accuracy:  0.92\n",
      "0 of 1058 pneumonia\n",
      "927 of 10 COVID-19\n",
      "813 of 885 normal\n"
     ]
    }
   ],
   "source": [
    "print('max accuracy: ', round(np.max(history.history['acc']), 2))\n",
    "print('{} of {} pneumonia'.format(cm[0,0], len(test_class[test_class['class'] == 'pneumonia'].values)))\n",
    "print('{} of {} COVID-19'.format(cm[1,1], len(test_class[test_class['class'] == 'COVID-19'].values)))\n",
    "print('{} of {} normal'.format(cm[2,2], len(test_class[test_class['class'] == 'normal'].values)))"
   ]
  },
  {
   "cell_type": "code",
   "execution_count": 42,
   "metadata": {},
   "outputs": [
    {
     "name": "stdout",
     "output_type": "stream",
     "text": [
      "max accuracy:  0.92\n",
      "0 of 10 COVID-19\n",
      "927 of 1058 pneumonia\n",
      "813 of 885 normal\n"
     ]
    }
   ],
   "source": [
    "print('max accuracy: ', round(np.max(history.history['acc']), 2))\n",
    "print('{} of {} COVID-19'.format(cm[0,0],test_label[test_label==0].shape[0]))\n",
    "print('{} of {} pneumonia'.format(cm[1,1], test_label[test_label==1].shape[0]))\n",
    "print('{} of {} normal'.format(cm[2,2],test_label[test_label==2].shape[0]))"
   ]
  },
  {
   "cell_type": "code",
   "execution_count": 43,
   "metadata": {},
   "outputs": [
    {
     "data": {
      "text/plain": [
       "array([[3.0212000e-04, 9.8890638e-01, 1.0791525e-02],\n",
       "       [6.1627538e-06, 9.9949992e-01, 4.9389654e-04],\n",
       "       [5.2303507e-04, 1.7774825e-01, 8.2172877e-01],\n",
       "       [3.0782980e-05, 2.0411382e-03, 9.9792802e-01],\n",
       "       [4.2648794e-06, 9.9896240e-01, 1.0333119e-03],\n",
       "       [4.1932873e-03, 4.7129875e-01, 5.2450794e-01],\n",
       "       [8.9687150e-04, 9.3456209e-01, 6.4541057e-02],\n",
       "       [4.1705212e-06, 9.9980241e-01, 1.9343523e-04],\n",
       "       [1.4514016e-04, 6.2975258e-01, 3.7010229e-01],\n",
       "       [1.2110648e-03, 9.7879410e-01, 1.9994870e-02]], dtype=float32)"
      ]
     },
     "execution_count": 43,
     "metadata": {},
     "output_type": "execute_result"
    }
   ],
   "source": [
    "pred[test_label ==0]"
   ]
  },
  {
   "cell_type": "code",
   "execution_count": 48,
   "metadata": {},
   "outputs": [
    {
     "data": {
      "text/plain": [
       "array([0.9996979 , 0.9999938 , 0.999477  , 0.9999692 , 0.9999957 ,\n",
       "       0.9958067 , 0.9991031 , 0.9999958 , 0.99985486, 0.99878895],\n",
       "      dtype=float32)"
      ]
     },
     "execution_count": 48,
     "metadata": {},
     "output_type": "execute_result"
    }
   ],
   "source": [
    "(np.sum(pred[:,1:],axis=1))[test_label==0]"
   ]
  },
  {
   "cell_type": "code",
   "execution_count": 55,
   "metadata": {},
   "outputs": [
    {
     "data": {
      "text/plain": [
       "(1953,)"
      ]
     },
     "execution_count": 55,
     "metadata": {},
     "output_type": "execute_result"
    }
   ],
   "source": [
    "Y_test[:,0]"
   ]
  },
  {
   "cell_type": "code",
   "execution_count": 63,
   "metadata": {},
   "outputs": [
    {
     "name": "stdout",
     "output_type": "stream",
     "text": [
      "0\n",
      "1\n",
      "2\n"
     ]
    }
   ],
   "source": [
    "from sklearn.metrics import roc_curve, auc\n",
    "fpr = dict()\n",
    "tpr = dict()\n",
    "roc_auc = dict()\n",
    "for i in np.arange(3):\n",
    "    print(i)\n",
    "    fpr[i], tpr[i], _ = roc_curve(Y_test[:, i], pred[:, i])\n",
    "    roc_auc[i] = auc(fpr[i], tpr[i])"
   ]
  },
  {
   "cell_type": "code",
   "execution_count": 74,
   "metadata": {},
   "outputs": [
    {
     "data": {
      "text/plain": [
       "array([[2.9735251e-08, 8.7127518e-03, 9.9128729e-01],\n",
       "       [2.5249443e-03, 9.1368067e-01, 8.3794363e-02],\n",
       "       [4.9650571e-03, 7.9932147e-01, 1.9571345e-01],\n",
       "       ...,\n",
       "       [8.0455466e-05, 1.6493137e-01, 8.3498824e-01],\n",
       "       [7.7486739e-06, 9.9890995e-01, 1.0823444e-03],\n",
       "       [5.1720697e-04, 8.5574239e-01, 1.4374045e-01]], dtype=float32)"
      ]
     },
     "execution_count": 74,
     "metadata": {},
     "output_type": "execute_result"
    }
   ],
   "source": [
    "pred[test_label==2]"
   ]
  },
  {
   "cell_type": "code",
   "execution_count": 69,
   "metadata": {},
   "outputs": [
    {
     "data": {
      "image/png": "[encoded data removed]",
      "text/plain": [
       "<Figure size 1152x720 with 1 Axes>"
      ]
     },
     "metadata": {
      "needs_background": "light"
     },
     "output_type": "display_data"
    }
   ],
   "source": [
    "fig,ax = plt.subplots(nrows=1,ncols=1,figsize=(16,10))#,6\n",
    "plt.style.use('seaborn-deep') \n",
    "plt.grid(True)\n",
    "plt.ylim([0., 1.0])\n",
    "plt.xlim([0., 1.0])\n",
    "lw = 2\n",
    "\n",
    "for i in np.arange(3):\n",
    "    plt.plot(fpr[i], tpr[i], lw=lw, label= % roc_auc[i])\n",
    "\n",
    "\n",
    "plt.xlabel('False Positive Rate')\n",
    "plt.ylabel('True Positive Rate')\n",
    "plt.legend(loc=\"lower left\")\n",
    "plt.show()"
   ]
  },
  {
   "cell_type": "code",
   "execution_count": null,
   "metadata": {},
   "outputs": [],
   "source": []
  }
 ],
 "metadata": {
  "kernelspec": {
   "display_name": "Python 3",
   "language": "python",
   "name": "python3"
  },
  "language_info": {
   "codemirror_mode": {
    "name": "ipython",
    "version": 3
   },
   "file_extension": ".py",
   "mimetype": "text/x-python",
   "name": "python",
   "nbconvert_exporter": "python",
   "pygments_lexer": "ipython3",
   "version": "3.5.4"
  }
 },
 "nbformat": 4,
 "nbformat_minor": 2
}
