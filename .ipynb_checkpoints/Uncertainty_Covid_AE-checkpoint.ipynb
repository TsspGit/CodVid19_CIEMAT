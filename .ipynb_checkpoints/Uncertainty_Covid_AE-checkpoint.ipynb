{
 "cells": [
  {
   "cell_type": "code",
   "execution_count": 1,
   "metadata": {},
   "outputs": [
    {
     "name": "stderr",
     "output_type": "stream",
     "text": [
      "Using TensorFlow backend.\n"
     ]
    }
   ],
   "source": [
    "''' RNN Bidireccional en Keras '''\n",
    "__author__ = '@Tssp'\n",
    "import numpy as np\n",
    "import pandas as pd\n",
    "import os\n",
    "import matplotlib.pyplot as plt\n",
    "from codvidutils.Transformation_class import Transformation\n",
    "import tensorflow as tf\n",
    "from keras.layers import Conv2D, Input, Dense, MaxPooling2D, UpSampling2D, Flatten\n",
    "from keras.models import Model, Sequential\n",
    "from keras.callbacks import ModelCheckpoint\n",
    "from keras.models import load_model\n",
    "from keras.optimizers import Adam"
   ]
  },
  {
   "cell_type": "code",
   "execution_count": 2,
   "metadata": {},
   "outputs": [
    {
     "name": "stdout",
     "output_type": "stream",
     "text": [
      "You are going to read from: data/train_split_v4.csv and data/test_split_v4.csv\n",
      "Total number of images: 1540\n",
      "shape X: 13600 1540,  disease_ID (Y): 13600 1540\n"
     ]
    }
   ],
   "source": [
    "trns = Transformation('data/train_split_v4.csv', 'data/test_split_v4.csv')\n",
    "#------------Read images and prepare dataset------------#\n",
    "train_class, test_class = trns.read_imgs_paths()\n",
    "X_train, X_test, diseaseID_train, diseaseID_test = trns.read_imgs(train_class, test_class)"
   ]
  },
  {
   "cell_type": "code",
   "execution_count": null,
   "metadata": {},
   "outputs": [],
   "source": [
    "for i in range(40):\n",
    "    #print(i)\n",
    "    New_train = X_train[diseaseID_train==1][:187]\n",
    "    #print(New_train.shape)\n",
    "    #print(X_train.shape)\n",
    "    new_Y = np.ones(New_train.shape[0])\n",
    "    X_train = np.concatenate([X_train,New_train],axis=0)\n",
    "    diseaseID_train = np.concatenate([diseaseID_train,new_Y],axis=0)\n",
    "\n",
    "\n",
    "del New_train"
   ]
  },
  {
   "cell_type": "code",
   "execution_count": null,
   "metadata": {},
   "outputs": [],
   "source": []
  }
 ],
 "metadata": {
  "kernelspec": {
   "display_name": "Python 3",
   "language": "python",
   "name": "python3"
  },
  "language_info": {
   "codemirror_mode": {
    "name": "ipython",
    "version": 3
   },
   "file_extension": ".py",
   "mimetype": "text/x-python",
   "name": "python",
   "nbconvert_exporter": "python",
   "pygments_lexer": "ipython3",
   "version": "3.5.4"
  }
 },
 "nbformat": 4,
 "nbformat_minor": 2
}
