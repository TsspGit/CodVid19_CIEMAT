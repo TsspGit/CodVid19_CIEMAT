{
 "cells": [
  {
   "cell_type": "code",
   "execution_count": 20,
   "metadata": {},
   "outputs": [],
   "source": [
    "__author__ = '@Tssp'\n",
    "import numpy as np\n",
    "import pandas as pd\n",
    "import os\n",
    "import matplotlib.pyplot as plt\n",
    "from codvidutils.Autoencoder_Uncertainty_Transformation_main import Transformation_main\n",
    "from sklearn.metrics import accuracy_score\n",
    "from sklearn.metrics import confusion_matrix\n",
    "from sklearn.preprocessing import normalize\n",
    "from codvidutils.imageproc import map_categorical\n",
    "from PIL import Image\n",
    "from keras.models import load_model"
   ]
  },
  {
   "cell_type": "code",
   "execution_count": 2,
   "metadata": {
    "scrolled": true
   },
   "outputs": [
    {
     "name": "stdout",
     "output_type": "stream",
     "text": [
      "You are going to read from: data/train_split_v4.csv and data/test_split_v5.csv\n",
      "Total number of images: 1524\n",
      "shape X: 13600 1524,  disease_ID (Y): 13600 1524\n",
      "Count of classes:  Counter({0: 7966, 2: 5447, 1: 187})\n",
      "New diseaseID shape:  (9097,)\n",
      "New X shape:  (9097, 120000)\n",
      "New Count of classes:  Counter({0: 4500, 2: 4500, 1: 97})\n",
      "Undersample shapes:\n",
      "diseaseID_train.shape: (9097,)\n",
      "X_train.shape: (9097, 120000)\n",
      "X_train.shape: (9097, 200, 200, 3)\n",
      "X_test.shape: (1524, 200, 200, 3)\n",
      "Normal train:  (4500,)\n",
      "Pneumonia train:  (4500,)\n",
      "COVID train:  (97,)\n",
      "*******************************************************\n",
      "Normal test:  (880,)\n",
      "Pneumonia test:  (586,)\n",
      "COVID test:  (58,)\n",
      "(2425, 180, 180, 3)\n",
      "(2425,)\n",
      "X_train.shape:  (11522, 180, 180, 3)\n",
      "diseaseID_train.shape:  (11522,)\n",
      "X_test_news.shape:  (1450, 180, 180, 3)\n",
      "diseaseID_test_news.shape:  (1450,)\n",
      "X_test.shape:  (2974, 180, 180, 3)\n",
      "diseaseID_test.shape:  (2974,)\n",
      "encoder_test.shape (2974, 23, 23, 70)\n",
      "encoder_train.shape (11522, 23, 23, 70)\n",
      "You are going to read from: data/train_split_v4.csv and data/test_split_v5.csv\n",
      "Total number of images: 1524\n",
      "shape X: 13600 1524,  disease_ID (Y): 13600 1524\n",
      "Count of classes:  Counter({0: 7966, 2: 5447, 1: 187})\n",
      "New diseaseID shape:  (9097,)\n",
      "New X shape:  (9097, 120000)\n",
      "New Count of classes:  Counter({0: 4500, 2: 4500, 1: 97})\n",
      "Undersample shapes:\n",
      "diseaseID_train.shape: (9097,)\n",
      "X_train.shape: (9097, 120000)\n",
      "X_train.shape: (9097, 200, 200, 3)\n",
      "X_test.shape: (1524, 200, 200, 3)\n",
      "Normal train:  (4500,)\n",
      "Pneumonia train:  (4500,)\n",
      "COVID train:  (97,)\n",
      "*******************************************************\n",
      "Normal test:  (880,)\n",
      "Pneumonia test:  (586,)\n",
      "COVID test:  (58,)\n",
      "(2425, 180, 180, 3)\n",
      "(2425,)\n",
      "X_train.shape:  (11522, 180, 180, 3)\n",
      "diseaseID_train.shape:  (11522,)\n",
      "X_test_news.shape:  (1450, 180, 180, 3)\n",
      "diseaseID_test_news.shape:  (1450,)\n",
      "X_test.shape:  (2974, 180, 180, 3)\n",
      "diseaseID_test.shape:  (2974,)\n",
      "encoder_test.shape (2974, 23, 23, 70)\n",
      "encoder_train.shape (11522, 23, 23, 70)\n",
      "You are going to read from: data/train_split_v4.csv and data/test_split_v5.csv\n",
      "Total number of images: 1524\n",
      "shape X: 13600 1524,  disease_ID (Y): 13600 1524\n",
      "Count of classes:  Counter({0: 7966, 2: 5447, 1: 187})\n",
      "New diseaseID shape:  (9097,)\n",
      "New X shape:  (9097, 120000)\n",
      "New Count of classes:  Counter({0: 4500, 2: 4500, 1: 97})\n",
      "Undersample shapes:\n",
      "diseaseID_train.shape: (9097,)\n",
      "X_train.shape: (9097, 120000)\n",
      "X_train.shape: (9097, 200, 200, 3)\n",
      "X_test.shape: (1524, 200, 200, 3)\n",
      "Normal train:  (4500,)\n",
      "Pneumonia train:  (4500,)\n",
      "COVID train:  (97,)\n",
      "*******************************************************\n",
      "Normal test:  (880,)\n",
      "Pneumonia test:  (586,)\n",
      "COVID test:  (58,)\n",
      "(2425, 180, 180, 3)\n",
      "(2425,)\n",
      "X_train.shape:  (11522, 180, 180, 3)\n",
      "diseaseID_train.shape:  (11522,)\n",
      "X_test_news.shape:  (1450, 180, 180, 3)\n",
      "diseaseID_test_news.shape:  (1450,)\n",
      "X_test.shape:  (2974, 180, 180, 3)\n",
      "diseaseID_test.shape:  (2974,)\n",
      "encoder_test.shape (2974, 23, 23, 70)\n",
      "encoder_train.shape (11522, 23, 23, 70)\n",
      "You are going to read from: data/train_split_v4.csv and data/test_split_v5.csv\n",
      "Total number of images: 1524\n",
      "shape X: 13600 1524,  disease_ID (Y): 13600 1524\n",
      "Count of classes:  Counter({0: 7966, 2: 5447, 1: 187})\n",
      "New diseaseID shape:  (9097,)\n",
      "New X shape:  (9097, 120000)\n",
      "New Count of classes:  Counter({0: 4500, 2: 4500, 1: 97})\n",
      "Undersample shapes:\n",
      "diseaseID_train.shape: (9097,)\n",
      "X_train.shape: (9097, 120000)\n",
      "X_train.shape: (9097, 200, 200, 3)\n",
      "X_test.shape: (1524, 200, 200, 3)\n",
      "Normal train:  (4500,)\n",
      "Pneumonia train:  (4500,)\n",
      "COVID train:  (97,)\n",
      "*******************************************************\n",
      "Normal test:  (880,)\n",
      "Pneumonia test:  (586,)\n",
      "COVID test:  (58,)\n",
      "(2425, 180, 180, 3)\n",
      "(2425,)\n",
      "X_train.shape:  (11522, 180, 180, 3)\n",
      "diseaseID_train.shape:  (11522,)\n",
      "X_test_news.shape:  (1450, 180, 180, 3)\n",
      "diseaseID_test_news.shape:  (1450,)\n",
      "X_test.shape:  (2974, 180, 180, 3)\n",
      "diseaseID_test.shape:  (2974,)\n",
      "encoder_test.shape (2974, 23, 23, 70)\n",
      "encoder_train.shape (11522, 23, 23, 70)\n",
      "You are going to read from: data/train_split_v4.csv and data/test_split_v5.csv\n",
      "Total number of images: 1524\n",
      "shape X: 13600 1524,  disease_ID (Y): 13600 1524\n",
      "Count of classes:  Counter({0: 7966, 2: 5447, 1: 187})\n",
      "New diseaseID shape:  (9097,)\n",
      "New X shape:  (9097, 120000)\n",
      "New Count of classes:  Counter({0: 4500, 2: 4500, 1: 97})\n",
      "Undersample shapes:\n",
      "diseaseID_train.shape: (9097,)\n",
      "X_train.shape: (9097, 120000)\n",
      "X_train.shape: (9097, 200, 200, 3)\n",
      "X_test.shape: (1524, 200, 200, 3)\n",
      "Normal train:  (4500,)\n",
      "Pneumonia train:  (4500,)\n",
      "COVID train:  (97,)\n",
      "*******************************************************\n",
      "Normal test:  (880,)\n",
      "Pneumonia test:  (586,)\n",
      "COVID test:  (58,)\n",
      "(2425, 180, 180, 3)\n",
      "(2425,)\n",
      "X_train.shape:  (11522, 180, 180, 3)\n",
      "diseaseID_train.shape:  (11522,)\n",
      "X_test_news.shape:  (1450, 180, 180, 3)\n",
      "diseaseID_test_news.shape:  (1450,)\n",
      "X_test.shape:  (2974, 180, 180, 3)\n",
      "diseaseID_test.shape:  (2974,)\n",
      "encoder_test.shape (2974, 23, 23, 70)\n",
      "encoder_train.shape (11522, 23, 23, 70)\n"
     ]
    }
   ],
   "source": [
    "Y_test = []\n",
    "preds = []\n",
    "for it in range(5):\n",
    "    model = 'hdf_files/Uncertainty_AE_Covid_{}.hdf5'.format(it+1)\n",
    "    outputs = Transformation_main('data/train_split_v4.csv', 'data/test_split_v5.csv', model)\n",
    "    Y_test = outputs['Y_test']\n",
    "    preds += [np.loadtxt('log/preds_XGBr_Uncertainty_{}.txt'.format(it+1), delimiter=',')]\n",
    "    del outputs"
   ]
  },
  {
   "cell_type": "code",
   "execution_count": 3,
   "metadata": {},
   "outputs": [
    {
     "name": "stdout",
     "output_type": "stream",
     "text": [
      "Mean: [0.24281604 0.5311683  0.44169112 ... 0.55988932 0.60686467 0.31685401]\n",
      "Std: [0.00082755 0.0072302  0.0052276  ... 0.00376151 0.00064119 0.00093641]\n"
     ]
    }
   ],
   "source": [
    "predictive_mean = np.mean(preds, axis=0)\n",
    "predictive_variance = np.var(preds, axis=0)\n",
    "print(\"Mean: {}\\nStd: {}\".format(predictive_mean, predictive_variance))"
   ]
  },
  {
   "cell_type": "markdown",
   "metadata": {},
   "source": [
    "## Following Gal's approach:\n",
    "## $$\\tau = \\frac{1-p}{2Nl_2}$$\n",
    "## where $p$ is the probability of the dropout layers, $N$ the number of predictions and $l_2$ the regularization parameter"
   ]
  },
  {
   "cell_type": "code",
   "execution_count": 4,
   "metadata": {},
   "outputs": [
    {
     "name": "stdout",
     "output_type": "stream",
     "text": [
      "tau: 18.0\n",
      "Error: 0.05555555555555555\n",
      "Total Error: [0.23745127 0.25057087 0.24654241 ... 0.24355095 0.23705854 0.23768039]\n"
     ]
    }
   ],
   "source": [
    "p = 0.10\n",
    "N = len(preds)\n",
    "l2 = 0.005\n",
    "tau = (1 - p)/(2*N*l2)\n",
    "E_s = 1/tau\n",
    "E_t = np.sqrt(predictive_variance + E_s)\n",
    "print(\"tau: {}\\nError: {}\\nTotal Error: {}\".format(tau, E_s, E_t))"
   ]
  },
  {
   "cell_type": "code",
   "execution_count": 5,
   "metadata": {},
   "outputs": [],
   "source": [
    "predictive_mean_up = predictive_mean + E_t\n",
    "predictive_mean_down = predictive_mean - E_t"
   ]
  },
  {
   "cell_type": "markdown",
   "metadata": {},
   "source": [
    "# Confusion matrices"
   ]
  },
  {
   "cell_type": "code",
   "execution_count": 12,
   "metadata": {},
   "outputs": [
    {
     "name": "stdout",
     "output_type": "stream",
     "text": [
      "1450 of 1466 no COVID-19 (98.91%)\n",
      "391 of 1508 COVID-19 (25.9%)\n",
      "Means + E_t:\n",
      "[[1450   16]\n",
      " [1117  391]]\n",
      "Upper distance:\n",
      "[[419 419]\n",
      " [893 893]]\n",
      "Lower distance:\n",
      "[[ 16  16]\n",
      " [391 391]]\n"
     ]
    }
   ],
   "source": [
    "cm_up = confusion_matrix(Y_test, predictive_mean_up.round())\n",
    "cm = confusion_matrix(Y_test, predictive_mean.round())\n",
    "print('{} of {} no COVID-19 ({:2.4}%)'.format(cm[0,0], cm[0,0] + cm[0,1], 100*cm[0,0]/(cm[0,0]+cm[0,1])))\n",
    "print('{} of {} COVID-19 ({:2.3}%)'.format(cm[1,1], cm[1,1] + cm[1,0], 100*cm[1,1]/(cm[1,1]+cm[1,0])))\n",
    "print(\"Means + E_t:\\n{}\".format(cm))\n",
    "cm_down = confusion_matrix(Y_test, predictive_mean_down.round())\n",
    "# Distance taking into account the error interval\n",
    "dist_up = np.absolute(cm_up - cm)\n",
    "dist_down = np.absolute(cm - cm_down)\n",
    "print(\"Upper distance:\\n{}\".format(dist_up))\n",
    "print(\"Lower distance:\\n{}\".format(dist_down))"
   ]
  },
  {
   "cell_type": "markdown",
   "metadata": {},
   "source": [
    "# Histograms"
   ]
  },
  {
   "cell_type": "code",
   "execution_count": 51,
   "metadata": {},
   "outputs": [
    {
     "data": {
      "image/png": "[encoded data removed]",
      "text/plain": [
       "<Figure size 576x576 with 1 Axes>"
      ]
     },
     "metadata": {
      "needs_background": "light"
     },
     "output_type": "display_data"
    }
   ],
   "source": [
    "nocovid = predictive_mean[np.where(Y_test == 0)]\n",
    "covid = predictive_mean[np.where(Y_test == 1)]\n",
    "fig, ax = plt.subplots(figsize=(8,8))\n",
    "ax.hist(nocovid, 50, histtype='step', lw=2, color='darkorange', label='No COVID')\n",
    "ax.hist(covid, 50, histtype='step', lw=2, color='darkblue', label='COVID')\n",
    "plt.grid()\n",
    "ax.set_ylabel('Number of Images', fontsize=16)\n",
    "ax.set_xlabel('Score', fontsize=16)\n",
    "plt.legend( loc='upper right', fontsize=14)\n",
    "plt.yscale(\"log\")\n",
    "fig.savefig('Figures/histogram_Uncertainty_XGBr.eps', dpi=200)"
   ]
  },
  {
   "cell_type": "code",
   "execution_count": 58,
   "metadata": {},
   "outputs": [
    {
     "data": {
      "image/png": "[encoded data removed]",
      "text/plain": [
       "<Figure size 576x576 with 1 Axes>"
      ]
     },
     "metadata": {
      "needs_background": "light"
     },
     "output_type": "display_data"
    }
   ],
   "source": [
    "fig2, ax2 = plt.subplots(figsize=(8,8))\n",
    "for pred in preds:\n",
    "    nocovid = pred[np.where(Y_test == 0)]\n",
    "    covid = pred[np.where(Y_test == 1)]\n",
    "    #ax2.hist(nocovid, 50, histtype='step', lw=2, label='No COVID')\n",
    "    ax2.hist(covid, 50, histtype='step', lw=2, label='COVID')\n",
    "plt.grid()\n",
    "ax2.set_ylabel('Number of Images', fontsize=16)\n",
    "ax2.set_xlabel('Score', fontsize=16)\n",
    "#plt.legend( loc='upper right', fontsize=14)\n",
    "plt.yscale(\"log\")\n",
    "fig2.savefig('Figures/histograms_Covid_Uncertainty_XGBr.eps', dpi=200)"
   ]
  },
  {
   "cell_type": "code",
   "execution_count": null,
   "metadata": {},
   "outputs": [],
   "source": []
  }
 ],
 "metadata": {
  "kernelspec": {
   "display_name": "Python 3",
   "language": "python",
   "name": "python3"
  },
  "language_info": {
   "codemirror_mode": {
    "name": "ipython",
    "version": 3
   },
   "file_extension": ".py",
   "mimetype": "text/x-python",
   "name": "python",
   "nbconvert_exporter": "python",
   "pygments_lexer": "ipython3",
   "version": "3.5.4"
  }
 },
 "nbformat": 4,
 "nbformat_minor": 2
}
