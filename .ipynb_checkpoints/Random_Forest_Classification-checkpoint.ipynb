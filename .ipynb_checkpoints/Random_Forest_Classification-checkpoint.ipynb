{
 "cells": [
  {
   "cell_type": "code",
   "execution_count": 1,
   "metadata": {},
   "outputs": [
    {
     "name": "stderr",
     "output_type": "stream",
     "text": [
      "Using TensorFlow backend.\n"
     ]
    }
   ],
   "source": [
    "''' RNN Bidireccional en Keras '''\n",
    "__author__ = '@Tssp'\n",
    "import numpy as np\n",
    "import pandas as pd\n",
    "import os\n",
    "from PIL import Image\n",
    "import matplotlib.pyplot as plt\n",
    "from sklearn.ensemble import RandomForestClassifier, RandomForestRegressor, GradientBoostingClassifier\n",
    "from sklearn.metrics import accuracy_score\n",
    "from sklearn.metrics import confusion_matrix\n",
    "from sklearn.preprocessing import normalize\n",
    "# Keras NN:\n",
    "from keras.utils import to_categorical\n",
    "from keras.models import Model, Sequential\n",
    "from keras.models import load_model\n",
    "# My utils:\n",
    "from codvidutils.imageproc import map_categorical\n",
    "from codvidutils.cudasession import set_session\n",
    "from codvidutils import nwpic as nw"
   ]
  },
  {
   "cell_type": "markdown",
   "metadata": {},
   "source": [
    "# Prepare dataset"
   ]
  },
  {
   "cell_type": "code",
   "execution_count": 2,
   "metadata": {},
   "outputs": [
    {
     "name": "stdout",
     "output_type": "stream",
     "text": [
      "Num GPUs Available:  2\n",
      "Num CPUs Available:  7\n",
      "---------Keras session created with---------\n",
      " - 2 GPUs\n",
      " - 7 CPUs\n",
      "Total number of images: 15140\n",
      "shape X: (15140, 200, 200, 3),  disease_ID (Y): (15140,)\n",
      "Count of classes:  Counter({0: 8851, 2: 6038, 1: 251})\n",
      "New diseaseID shape:  (9097,)\n",
      "New X shape:  (9097, 120000)\n",
      "New Count of classes:  Counter({0: 4500, 2: 4500, 1: 97})\n",
      "X_train.shape: (7277, 200, 200, 3)\n",
      "X_test.shape: (1820, 200, 200, 3)\n",
      "Normal train:  (3605,)\n",
      "Pneumonia train:  (3594,)\n",
      "COVID train:  (78,)\n",
      "*******************************************************\n",
      "Normal test:  (895,)\n",
      "Pneumonia test:  (906,)\n",
      "COVID test:  (19,)\n",
      "(1950, 180, 180, 3)\n",
      "(1950,)\n",
      "X_train.shape:  (9227, 180, 180, 3)\n",
      "diseaseID_train.shape:  (9227,)\n",
      "X_test_news.shape:  (475, 180, 180, 3)\n",
      "diseaseID_test_news.shape:  (475,)\n",
      "X_test.shape:  (2295, 180, 180, 3)\n",
      "diseaseID_test.shape:  (2295,)\n"
     ]
    }
   ],
   "source": [
    "set_session()\n",
    "train_class = pd.read_csv('data/train_split_v4.csv', sep=' ', header=1, names=['image_path', 'class'])\n",
    "test_class = pd.read_csv('data/test_split_v4.csv', sep=' ', header=1, names=['image_path', 'class'])\n",
    "values_dict = {'pneumonia': 2, 'COVID-19': 1, 'normal': 0}\n",
    "test_class['class_categorical'] = test_class['class'].apply(map_categorical, args=(values_dict,))\n",
    "train_class['class_categorical'] = train_class['class'].apply(map_categorical, args=(values_dict,))\n",
    "diseaseID_train = np.asarray(train_class[\"class_categorical\"])\n",
    "diseaseID_test = np.asarray(test_class[\"class_categorical\"])\n",
    "diseaseID = np.concatenate([diseaseID_train, diseaseID_test],axis=0)\n",
    "pics = []\n",
    "for img in train_class['image_path'].values:\n",
    "    pics.append(np.array(Image.open('data/train/' + img))[:, :,:3])\n",
    "for img in test_class['image_path'].values:\n",
    "    pics.append(np.array(Image.open('data/test/' + img))[:, :, :3])\n",
    "\n",
    "print(\"Total number of images:\", len(pics))\n",
    "del train_class, test_class\n",
    "\n",
    "X = np.array(pics)\n",
    "del pics\n",
    "print('shape X: {},  disease_ID (Y): {}'.format(X.shape, diseaseID.shape ))\n",
    "\n",
    "diseaseID, X = nw.underbalance_imgs(diseaseID, X)\n",
    "n = np.random.randint(1000,6760)\n",
    "from sklearn.utils import shuffle\n",
    "X, diseaseID = shuffle(X, diseaseID, random_state=n)\n",
    "from sklearn.model_selection import train_test_split\n",
    "m = np.random.randint(1000,6760)\n",
    "X_train, X_test, diseaseID_train, diseaseID_test = train_test_split(X, diseaseID, test_size=0.20, random_state=m)\n",
    "del X, diseaseID\n",
    "\n",
    "X_train = X_train.reshape(X_train.shape[0],200,200,3)\n",
    "X_test = X_test.reshape(X_test.shape[0],200,200,3)\n",
    "print('X_train.shape: {}\\nX_test.shape: {}'.format(X_train.shape, X_test.shape))\n",
    "\n",
    "print(\"Normal train: \",diseaseID_train[diseaseID_train==0].shape)\n",
    "print(\"Pneumonia train: \",diseaseID_train[diseaseID_train==2].shape)\n",
    "print(\"COVID train: \",diseaseID_train[diseaseID_train==1].shape)\n",
    "print(\"*******************************************************\")\n",
    "print(\"Normal test: \",diseaseID_test[diseaseID_test==0].shape)\n",
    "print(\"Pneumonia test: \",diseaseID_test[diseaseID_test==2].shape)\n",
    "print(\"COVID test: \",diseaseID_test[diseaseID_test==1].shape)\n",
    "\n",
    "\"\"\"\n",
    "News images to train \n",
    "\"\"\"\n",
    "X_train_news = nw.new_pictures_arrays(X_train[diseaseID_train==1])\n",
    "print(X_train_news.shape)\n",
    "diseaseID_train_news = np.ones(X_train_news.shape[0])\n",
    "print(diseaseID_train_news.shape)\n",
    "X_train = X_train[:,10:190,10:190]\n",
    "X_train = np.concatenate([X_train,X_train_news],axis=0)\n",
    "diseaseID_train = np.concatenate([diseaseID_train,diseaseID_train_news],axis=0)\n",
    "del X_train_news, diseaseID_train_news\n",
    "print('X_train.shape: ', X_train.shape)\n",
    "print('diseaseID_train.shape: ', diseaseID_train.shape)\n",
    "\n",
    "\"\"\"\n",
    "News images to test \n",
    "\"\"\"\n",
    "X_test_news = nw.new_pictures_arrays(X_test[diseaseID_test==1])\n",
    "print('X_test_news.shape: ', X_test_news.shape)\n",
    "diseaseID_test_news = np.ones(X_test_news.shape[0])\n",
    "print('diseaseID_test_news.shape: ', diseaseID_test_news.shape)\n",
    "X_test = X_test[:,10:190,10:190]\n",
    "X_test = np.concatenate([X_test,X_test_news],axis=0)\n",
    "diseaseID_test = np.concatenate([diseaseID_test,diseaseID_test_news],axis=0)\n",
    "del X_test_news, diseaseID_test_news\n",
    "print('X_test.shape: ', X_test.shape)\n",
    "print('diseaseID_test.shape: ', diseaseID_test.shape)\n",
    "\n",
    "Y_train = np.copy(diseaseID_train)\n",
    "del diseaseID_train\n",
    "Y_train[Y_train==2]=0\n",
    "Y_test = np.copy(diseaseID_test)\n",
    "Y_test[Y_test==2]=0\n",
    "\n",
    "X_test = X_test/255\n",
    "X_train = X_train/255"
   ]
  },
  {
   "cell_type": "markdown",
   "metadata": {},
   "source": [
    "# Use the best autoencoder model"
   ]
  },
  {
   "cell_type": "code",
   "execution_count": 3,
   "metadata": {},
   "outputs": [
    {
     "name": "stdout",
     "output_type": "stream",
     "text": [
      "encoder_imgs.shape (2295, 23, 23, 128)\n"
     ]
    }
   ],
   "source": [
    "best_model_path = 'Autoencoder_covid_v4.hdf5'\n",
    "model = load_model('hdf_files/' + best_model_path)\n",
    "encoder = Model(model.layers[0].input, model.layers[6].output)\n",
    "encoder_imgs = encoder.predict(X_test)\n",
    "decoder_imgs = model.predict(X_test)\n",
    "print('encoder_imgs.shape', encoder_imgs.shape)"
   ]
  },
  {
   "cell_type": "code",
   "execution_count": 4,
   "metadata": {},
   "outputs": [
    {
     "name": "stdout",
     "output_type": "stream",
     "text": [
      "encoder_RF_train.shape (9227, 23, 23, 128)\n"
     ]
    }
   ],
   "source": [
    "encoder_RF_train = encoder.predict(X_train)\n",
    "print('encoder_RF_train.shape', encoder_RF_train.shape)\n",
    "encoder_RF_train = encoder_RF_train.reshape((encoder_RF_train.shape[0], 23*23*128))"
   ]
  },
  {
   "cell_type": "markdown",
   "metadata": {},
   "source": [
    "# Random Forest:\n",
    "##                       Classifier:"
   ]
  },
  {
   "cell_type": "code",
   "execution_count": 5,
   "metadata": {
    "scrolled": true
   },
   "outputs": [
    {
     "data": {
      "text/plain": [
       "RandomForestClassifier(bootstrap=True, class_weight=None, criterion='gini',\n",
       "            max_depth=None, max_features='auto', max_leaf_nodes=None,\n",
       "            min_impurity_decrease=0.0, min_impurity_split=None,\n",
       "            min_samples_leaf=1, min_samples_split=2,\n",
       "            min_weight_fraction_leaf=0.0, n_estimators=200, n_jobs=-1,\n",
       "            oob_score=False, random_state=None, verbose=0,\n",
       "            warm_start=False)"
      ]
     },
     "execution_count": 5,
     "metadata": {},
     "output_type": "execute_result"
    }
   ],
   "source": [
    "# Classifier:\n",
    "RFc = RandomForestClassifier(n_estimators=200, n_jobs=-1)\n",
    "RFc.fit(encoder_RF_train, Y_train)"
   ]
  },
  {
   "cell_type": "code",
   "execution_count": 6,
   "metadata": {},
   "outputs": [],
   "source": [
    "encoder_imgs = encoder_imgs.reshape((encoder_imgs.shape[0], 23*23*128))\n",
    "preds = RFc.predict(encoder_imgs)"
   ]
  },
  {
   "cell_type": "code",
   "execution_count": 7,
   "metadata": {},
   "outputs": [
    {
     "name": "stdout",
     "output_type": "stream",
     "text": [
      "Accuracy: 0.9041394335511983\n",
      "1796 of 1801 no COVID-19\n",
      "279 of 494 COVID-19\n",
      "[[1796    5]\n",
      " [ 215  279]]\n"
     ]
    },
    {
     "data": {
      "image/png": "[encoded data removed]",
      "text/plain": [
       "<Figure size 576x432 with 2 Axes>"
      ]
     },
     "metadata": {
      "needs_background": "light"
     },
     "output_type": "display_data"
    }
   ],
   "source": [
    "cm = confusion_matrix(Y_test, preds)\n",
    "print(\"Accuracy:\", accuracy_score(Y_test, preds))\n",
    "print('{} of {} no COVID-19'.format(cm[0,0], np.sum(Y_test == 0)))\n",
    "print('{} of {} COVID-19'.format(cm[1,1], np.sum(Y_test == 1)))\n",
    "print(cm)\n",
    "cm = normalize(cm, 'l1')\n",
    "labels = ['no COVID-19', 'COVID-19']\n",
    "fig3, ax = plt.subplots(figsize=(8, 6))\n",
    "cax = ax.matshow(cm, cmap='YlGnBu', vmin=0, vmax=1)\n",
    "cbar = fig3.colorbar(cax)\n",
    "cbar.set_ticks([0, 0.2, 0.4, 0.6, 0.8, 1.0])\n",
    "cbar.set_ticklabels(['0', '0.2', '0.4', '0.6', '0.8', '1.0'])\n",
    "cbar.ax.set_ylabel('Accuracy', rotation=270, labelpad=20, fontsize=16)\n",
    "ax.set_xticklabels([''] + labels)\n",
    "ax.set_yticklabels([''] + labels)\n",
    "ax.set_ylabel('Expected', fontsize=16)\n",
    "ax.set_xlabel('Predicted', fontsize=16)\n",
    "fig3.savefig('Figures/cm_RFclassifier_v4.png', dpi=200)"
   ]
  },
  {
   "cell_type": "markdown",
   "metadata": {},
   "source": [
    "## Regressor:"
   ]
  },
  {
   "cell_type": "code",
   "execution_count": 23,
   "metadata": {},
   "outputs": [
    {
     "name": "stdout",
     "output_type": "stream",
     "text": [
      "\n",
      "\n",
      "---------- Predictions ----------\n",
      "\n"
     ]
    }
   ],
   "source": [
    "Y_test = Y_test[:-50]\n",
    "predsr = np.loadtxt('preds_RFr_v4.txt', delimiter=',')\n",
    "nocovid = predsr[np.where(Y_test == 0)]\n",
    "covid = predsr[np.where(Y_test == 1)]\n",
    "print(\"\\n\\n---------- Predictions ----------\\n\")"
   ]
  },
  {
   "cell_type": "code",
   "execution_count": 24,
   "metadata": {},
   "outputs": [
    {
     "name": "stdout",
     "output_type": "stream",
     "text": [
      "193 of 1801 no COVID-19\n",
      "15 of 444 COVID-19\n"
     ]
    },
    {
     "data": {
      "image/png": "[encoded data removed]",
      "text/plain": [
       "<Figure size 576x432 with 2 Axes>"
      ]
     },
     "metadata": {
      "needs_background": "light"
     },
     "output_type": "display_data"
    }
   ],
   "source": [
    "TP_050 = np.count_nonzero(np.where((Y_test==1) & (predsr>0.50)))\n",
    "FN_050 = np.count_nonzero(np.where((Y_test==1) & (predsr<0.50)))\n",
    "FP_050 = np.count_nonzero(np.where((Y_test==0) & (predsr>0.50)))\n",
    "TN_050 = np.count_nonzero(np.where((Y_test==0) & (predsr<0.50)))\n",
    "cm = np.array([[TP_050, TN_050],[FN_050, FP_050]])\n",
    "print('{} of {} no COVID-19'.format(cm[0,0], np.sum(Y_test == 0)))\n",
    "print('{} of {} COVID-19'.format(cm[1,1], np.sum(Y_test == 1)))\n",
    "cm = normalize(cm, 'l1')\n",
    "labels = ['no COVID-19', 'COVID-19']\n",
    "fig1, ax = plt.subplots(figsize=(8, 6))\n",
    "cax = ax.matshow(cm, cmap='YlGnBu', vmin=0, vmax=1)\n",
    "cbar = fig1.colorbar(cax)\n",
    "cbar.set_ticks([0, 0.2, 0.4, 0.6, 0.8, 1.0])\n",
    "cbar.set_ticklabels(['0', '0.2', '0.4', '0.6', '0.8', '1.0'])\n",
    "cbar.ax.set_ylabel('Accuracy', rotation=270, labelpad=20, fontsize=16)\n",
    "ax.set_xticklabels([''] + labels)\n",
    "ax.set_yticklabels([''] + labels)\n",
    "ax.set_ylabel('Expected', fontsize=16)\n",
    "ax.set_xlabel('Predicted', fontsize=16)\n",
    "fig1.savefig('Figures/cm_RFregressor_v4.png', dpi=200)"
   ]
  },
  {
   "cell_type": "code",
   "execution_count": 25,
   "metadata": {},
   "outputs": [
    {
     "data": {
      "image/png": "[encoded data removed]",
      "text/plain": [
       "<Figure size 576x432 with 1 Axes>"
      ]
     },
     "metadata": {
      "needs_background": "light"
     },
     "output_type": "display_data"
    }
   ],
   "source": [
    "fig2, ax = plt.subplots(figsize=(8,6))\n",
    "ax.hist(nocovid, 50, histtype='step', lw=2, color='darkorange', label='No COVID')\n",
    "ax.hist(covid, 50, histtype='step', lw=2, color='darkblue', label='COVID')\n",
    "plt.grid()\n",
    "ax.set_ylabel('Number of events /0.01', fontsize=16)\n",
    "ax.set_xlabel('Score', fontsize=16)\n",
    "plt.legend( loc='upper right', fontsize=14)\n",
    "plt.yscale(\"log\")\n",
    "fig2.savefig('Figures/histogram_RFregressor_v4.png', dpi=200)"
   ]
  },
  {
   "cell_type": "code",
   "execution_count": null,
   "metadata": {},
   "outputs": [],
   "source": []
  }
 ],
 "metadata": {
  "kernelspec": {
   "display_name": "Python 3",
   "language": "python",
   "name": "python3"
  },
  "language_info": {
   "codemirror_mode": {
    "name": "ipython",
    "version": 3
   },
   "file_extension": ".py",
   "mimetype": "text/x-python",
   "name": "python",
   "nbconvert_exporter": "python",
   "pygments_lexer": "ipython3",
   "version": "3.5.4"
  }
 },
 "nbformat": 4,
 "nbformat_minor": 2
}
