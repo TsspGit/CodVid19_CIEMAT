{
 "cells": [
  {
   "cell_type": "code",
   "execution_count": 1,
   "metadata": {},
   "outputs": [
    {
     "name": "stderr",
     "output_type": "stream",
     "text": [
      "Using TensorFlow backend.\n"
     ]
    }
   ],
   "source": [
    "''' RNN Bidireccional en Keras '''\n",
    "__author__ = '@Tssp'\n",
    "import numpy as np\n",
    "import pandas as pd\n",
    "import os\n",
    "import matplotlib.pyplot as plt\n",
    "from codvidutils.Transformation_class import Transformation\n",
    "from PIL import Image"
   ]
  },
  {
   "cell_type": "code",
   "execution_count": 2,
   "metadata": {},
   "outputs": [
    {
     "name": "stdout",
     "output_type": "stream",
     "text": [
      "You are going to read from: data/train_split_v4.csv and data/test_split_v4.csv\n"
     ]
    }
   ],
   "source": [
    "trns = Transformation('data/train_split_v4.csv', 'data/test_split_v4.csv')\n",
    "#------------Read images and prepare dataset------------#\n",
    "train_class, test_class = trns.read_imgs_paths()"
   ]
  },
  {
   "cell_type": "code",
   "execution_count": null,
   "metadata": {},
   "outputs": [],
   "source": [
    "pics = []\n",
    "for img in train_class['image_path'].values:\n",
    "    pics.append(np.array(Image.open('data/train/' + img))[:, :,:3])\n",
    "X_train = np.array(pics)\n",
    "pics = []\n",
    "for img in test_class['image_path'].values:\n",
    "    pics.append(np.array(Image.open('data/test/' + img))[:, :, :3])\n",
    "X_test = np.array(pics)\n",
    "print(\"Total number of images:\", len(pics))\n",
    "diseaseID_train = np.asarray(train_class[\"class_categorical\"])\n",
    "diseaseID_test = np.asarray(test_class[\"class_categorical\"])"
   ]
  },
  {
   "cell_type": "code",
   "execution_count": 4,
   "metadata": {},
   "outputs": [],
   "source": [
    "normals = test_class[test_class['class_categorical']==0].head(5)\n",
    "covids = test_class[test_class['class_categorical']==1].head(5)\n",
    "neumonias = test_class[test_class['class_categorical']==2].head(5)"
   ]
  },
  {
   "cell_type": "code",
   "execution_count": 5,
   "metadata": {},
   "outputs": [],
   "source": [
    "valid = pd.concat([normals, covids, neumonias])\n",
    "valid.to_csv('data/validation_set.csv', index=False)"
   ]
  },
  {
   "cell_type": "code",
   "execution_count": 6,
   "metadata": {},
   "outputs": [],
   "source": [
    "out_merge = pd.concat([test_class, valid], axis=0)\n",
    "out_merge = out_merge.drop_duplicates(keep=False)\n",
    "out_merge.to_csv('data/test_split_v5.csv')"
   ]
  },
  {
   "cell_type": "code",
   "execution_count": null,
   "metadata": {},
   "outputs": [],
   "source": []
  }
 ],
 "metadata": {
  "kernelspec": {
   "display_name": "Python 3",
   "language": "python",
   "name": "python3"
  },
  "language_info": {
   "codemirror_mode": {
    "name": "ipython",
    "version": 3
   },
   "file_extension": ".py",
   "mimetype": "text/x-python",
   "name": "python",
   "nbconvert_exporter": "python",
   "pygments_lexer": "ipython3",
   "version": "3.5.4"
  }
 },
 "nbformat": 4,
 "nbformat_minor": 2
}
