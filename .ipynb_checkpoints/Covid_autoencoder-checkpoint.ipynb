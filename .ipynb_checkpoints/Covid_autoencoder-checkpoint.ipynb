{
 "cells": [
  {
   "cell_type": "code",
   "execution_count": 1,
   "metadata": {},
   "outputs": [
    {
     "name": "stderr",
     "output_type": "stream",
     "text": [
      "Using TensorFlow backend.\n"
     ]
    }
   ],
   "source": [
    "''' RNN Bidireccional en Keras '''\n",
    "__author__ = '@Tssp'\n",
    "import numpy as np\n",
    "import pandas as pd\n",
    "import os\n",
    "from PIL import Image\n",
    "import matplotlib.pyplot as plt\n",
    "from scipy import ndimage\n",
    "# Keras NN:\n",
    "from keras.utils import to_categorical\n",
    "# My utils:\n",
    "from codvidutils.imageproc import map_categorical\n",
    "from codvidutils.cudasession import set_session\n",
    "from codvidutils import nwpic as nw"
   ]
  },
  {
   "cell_type": "code",
   "execution_count": 2,
   "metadata": {},
   "outputs": [
    {
     "name": "stdout",
     "output_type": "stream",
     "text": [
      "Num GPUs Available:  2\n",
      "Num CPUs Available:  7\n",
      "---------Keras session created with---------\n",
      " - 2 GPUs\n",
      " - 7 CPUs\n"
     ]
    }
   ],
   "source": [
    "#set_session(ngpu=1, ncpu=4)\n",
    "set_session()"
   ]
  },
  {
   "cell_type": "code",
   "execution_count": 3,
   "metadata": {},
   "outputs": [],
   "source": [
    "train_class = pd.read_csv('data/train_split_v2.txt', sep=' ', header=None, names=['patientID', 'image_path', 'class'])\n",
    "test_class = pd.read_csv('data/test_split_v2.txt', sep=' ', header=None, names=['patientID', 'image_path', 'class'])"
   ]
  },
  {
   "cell_type": "markdown",
   "metadata": {},
   "source": [
    "## Preparing the categorical variable (Y)"
   ]
  },
  {
   "cell_type": "code",
   "execution_count": 4,
   "metadata": {},
   "outputs": [],
   "source": [
    "values_dict = {'pneumonia': 2, 'COVID-19': 1, 'normal': 0}\n",
    "test_class['class_categorical'] = test_class['class'].apply(map_categorical, args=(values_dict,))\n",
    "train_class['class_categorical'] = train_class['class'].apply(map_categorical, args=(values_dict,))\n",
    "diseaseID_train = np.asarray(train_class[\"class_categorical\"])\n",
    "diseaseID_test = np.asarray(test_class[\"class_categorical\"])\n",
    "diseaseID = np.concatenate([diseaseID_train, diseaseID_test],axis=0)"
   ]
  },
  {
   "cell_type": "markdown",
   "metadata": {},
   "source": [
    "## Reading the pictures"
   ]
  },
  {
   "cell_type": "code",
   "execution_count": 5,
   "metadata": {},
   "outputs": [
    {
     "name": "stdout",
     "output_type": "stream",
     "text": [
      "Total number of images: 18527\n"
     ]
    }
   ],
   "source": [
    "pics = []\n",
    "for img in train_class['image_path'].values:\n",
    "    pics.append(np.array(Image.open('data/train/' + img))[:, :,:3])\n",
    "for img in test_class['image_path'].values:\n",
    "    pics.append(np.array(Image.open('data/test/' + img))[:, :, :3])\n",
    "\n",
    "print(\"Total number of images:\", len(pics))\n",
    "del train_class, test_class"
   ]
  },
  {
   "cell_type": "code",
   "execution_count": 6,
   "metadata": {},
   "outputs": [
    {
     "name": "stdout",
     "output_type": "stream",
     "text": [
      "shape X: (18527, 200, 200, 3),  disease_ID (Y): (18527,)\n"
     ]
    }
   ],
   "source": [
    "X = np.array(pics)\n",
    "del pics\n",
    "print('shape X: {},  disease_ID (Y): {}'.format(X.shape, diseaseID.shape ))"
   ]
  },
  {
   "cell_type": "markdown",
   "metadata": {},
   "source": [
    "## Imablanced data"
   ]
  },
  {
   "cell_type": "code",
   "execution_count": 7,
   "metadata": {},
   "outputs": [
    {
     "name": "stdout",
     "output_type": "stream",
     "text": [
      "Count of classes:  Counter({2: 9579, 0: 8851, 1: 97})\n",
      "New diseaseID shape:  (9097,)\n",
      "New X shape:  (9097, 120000)\n",
      "New Count of classes:  Counter({0: 4500, 2: 4500, 1: 97})\n"
     ]
    }
   ],
   "source": [
    "diseaseID, X = nw.underbalance_imgs(diseaseID, X)"
   ]
  },
  {
   "cell_type": "code",
   "execution_count": 8,
   "metadata": {},
   "outputs": [
    {
     "name": "stdout",
     "output_type": "stream",
     "text": [
      "1914\n",
      "1374\n"
     ]
    }
   ],
   "source": [
    "n = np.random.randint(1000,6760)\n",
    "print(n)\n",
    "from sklearn.utils import shuffle\n",
    "X, diseaseID = shuffle(X, diseaseID, random_state=n)\n",
    "from sklearn.model_selection import train_test_split\n",
    "m = np.random.randint(1000,6760)\n",
    "print(m)\n",
    "X_train, X_test, diseaseID_train, diseaseID_test = train_test_split(X, diseaseID, test_size=0.20, random_state=m)\n",
    "del X, diseaseID"
   ]
  },
  {
   "cell_type": "code",
   "execution_count": 9,
   "metadata": {},
   "outputs": [
    {
     "name": "stdout",
     "output_type": "stream",
     "text": [
      "X_train.shape: (7277, 200, 200, 3)\n",
      "X_test.shape: (1820, 200, 200, 3)\n"
     ]
    }
   ],
   "source": [
    "X_train = X_train.reshape(X_train.shape[0],200,200,3)\n",
    "X_test = X_test.reshape(X_test.shape[0],200,200,3)\n",
    "print('X_train.shape: {}\\nX_test.shape: {}'.format(X_train.shape, X_test.shape))"
   ]
  },
  {
   "cell_type": "code",
   "execution_count": 10,
   "metadata": {},
   "outputs": [
    {
     "name": "stdout",
     "output_type": "stream",
     "text": [
      "Normal train:  (3604,)\n",
      "Pneumonia train:  (3606,)\n",
      "COVID train:  (67,)\n",
      "*******************************************************\n",
      "Normal test:  (896,)\n",
      "Pneumonia test:  (894,)\n",
      "COVID test:  (30,)\n"
     ]
    }
   ],
   "source": [
    "print(\"Normal train: \",diseaseID_train[diseaseID_train==0].shape)\n",
    "print(\"Pneumonia train: \",diseaseID_train[diseaseID_train==2].shape)\n",
    "print(\"COVID train: \",diseaseID_train[diseaseID_train==1].shape)\n",
    "print(\"*******************************************************\")\n",
    "print(\"Normal test: \",diseaseID_test[diseaseID_test==0].shape)\n",
    "print(\"Pneumonia test: \",diseaseID_test[diseaseID_test==2].shape)\n",
    "print(\"COVID test: \",diseaseID_test[diseaseID_test==1].shape)"
   ]
  },
  {
   "cell_type": "code",
   "execution_count": 11,
   "metadata": {},
   "outputs": [
    {
     "name": "stdout",
     "output_type": "stream",
     "text": [
      "(1675, 180, 180, 3)\n",
      "(1675,)\n",
      "(8952, 180, 180, 3)\n",
      "(8952,)\n"
     ]
    }
   ],
   "source": [
    "\"\"\"\n",
    "News images to train \n",
    "\"\"\"\n",
    "X_train_news = nw.new_pictures_arrays(X_train[diseaseID_train==1])\n",
    "print(X_train_news.shape)\n",
    "diseaseID_train_news = np.ones(X_train_news.shape[0])\n",
    "print(diseaseID_train_news.shape)\n",
    "X_train = X_train[:,10:190,10:190]\n",
    "X_train = np.concatenate([X_train,X_train_news],axis=0)\n",
    "diseaseID_train = np.concatenate([diseaseID_train,diseaseID_train_news],axis=0)\n",
    "del X_train_news, diseaseID_train_news\n",
    "print(X_train.shape)\n",
    "print(diseaseID_train.shape)"
   ]
  },
  {
   "cell_type": "code",
   "execution_count": 12,
   "metadata": {},
   "outputs": [
    {
     "name": "stdout",
     "output_type": "stream",
     "text": [
      "(750, 180, 180, 3)\n",
      "(750,)\n",
      "(2570, 180, 180, 3)\n",
      "(2570,)\n"
     ]
    }
   ],
   "source": [
    "\"\"\"\n",
    "News images to test \n",
    "\"\"\"\n",
    "X_test_news = nw.new_pictures_arrays(X_test[diseaseID_test==1])\n",
    "print(X_test_news.shape)\n",
    "diseaseID_test_news = np.ones(X_test_news.shape[0])\n",
    "print(diseaseID_test_news.shape)\n",
    "X_test = X_test[:,10:190,10:190]\n",
    "X_test = np.concatenate([X_test,X_test_news],axis=0)\n",
    "diseaseID_test = np.concatenate([diseaseID_test,diseaseID_test_news],axis=0)\n",
    "del X_test_news, diseaseID_test_news\n",
    "print(X_test.shape)\n",
    "print(diseaseID_test.shape)"
   ]
  },
  {
   "cell_type": "code",
   "execution_count": 13,
   "metadata": {},
   "outputs": [],
   "source": [
    "Y_train = np.copy(diseaseID_train)\n",
    "del diseaseID_train\n",
    "Y_train[Y_train==2]=0\n",
    "Y_test = np.copy(diseaseID_test)\n",
    "Y_test[Y_test==2]=0\n",
    "\n",
    "X_test = X_test/255\n",
    "X_train = X_train/255"
   ]
  },
  {
   "cell_type": "markdown",
   "metadata": {},
   "source": [
    "## Neural network"
   ]
  },
  {
   "cell_type": "code",
   "execution_count": 14,
   "metadata": {},
   "outputs": [],
   "source": [
    "from keras.layers import Conv2D, Input, Dense, MaxPooling2D, UpSampling2D, Flatten\n",
    "from keras.models import Model, Sequential\n",
    "from keras.callbacks import ModelCheckpoint\n",
    "from keras.models import load_model"
   ]
  }
 ],
 "metadata": {
  "kernelspec": {
   "display_name": "Python 3",
   "language": "python",
   "name": "python3"
  },
  "language_info": {
   "codemirror_mode": {
    "name": "ipython",
    "version": 3
   },
   "file_extension": ".py",
   "mimetype": "text/x-python",
   "name": "python",
   "nbconvert_exporter": "python",
   "pygments_lexer": "ipython3",
   "version": "3.5.4"
  }
 },
 "nbformat": 4,
 "nbformat_minor": 2
}
