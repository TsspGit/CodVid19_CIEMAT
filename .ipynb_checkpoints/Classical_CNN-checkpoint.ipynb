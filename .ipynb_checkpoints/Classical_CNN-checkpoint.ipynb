{
 "cells": [
  {
   "cell_type": "markdown",
   "metadata": {},
   "source": [
    "# COVID binary classification\n",
    "In this *notebook* we design a ConvNet to binary classification COVID-19 images.The model distinguishes between covid patient radiographs and others (pneumonia patients and healthy people). The deep model is an inception net, with five inception blocks. Each block has four convolutional layers with filters of 1x1,1x1, 3x3 and 5x5, also the block has MaxPooling layers before the convolutional layers. \n",
    "\n",
    "The dataset contains very little images of COVID patients, specifically 87 in the train set and only 10 to test, for this reason, we use the SMOTE Algorithm to generate new samples of COVID images."
   ]
  },
  {
   "cell_type": "code",
   "execution_count": null,
   "metadata": {},
   "outputs": [],
   "source": [
    "__author__ = '@iRodGit'\n",
    "import numpy as np\n",
    "import pandas as pd\n",
    "import os\n",
    "from PIL import Image\n",
    "import keras\n",
    "import tensorflow as tf\n",
    "import matplotlib.pyplot as plt\n",
    "from keras.layers import Dense, Dropout, Activation, Flatten, Input, Add\n",
    "from keras.layers import AveragePooling2D, Conv2D, MaxPooling2D, concatenate # Concatenate\n",
    "from keras.models import Sequential, Model\n",
    "from keras.utils import to_categorical\n",
    "from codvidutils.imageproc import map_categorical"
   ]
  },
  {
   "cell_type": "markdown",
   "metadata": {},
   "source": [
    "## Load and pre-processing data"
   ]
  },
  {
   "cell_type": "code",
   "execution_count": 6,
   "metadata": {},
   "outputs": [
    {
     "name": "stdout",
     "output_type": "stream",
     "text": [
      "Help on module codvidutils.nwpic in codvidutils:\n",
      "\n",
      "NAME\n",
      "    codvidutils.nwpic\n",
      "\n",
      "FUNCTIONS\n",
      "    new_pictures(picture, strides=5, kernel=(180, 180))\n",
      "        This function generate new picutes from one. Like as Convolutional filter\n",
      "    \n",
      "    new_pictures_arrays(pictures, strides=5, kernel=(180, 180))\n",
      "\n",
      "AUTHOR\n",
      "    @iRodGit\n",
      "\n",
      "FILE\n",
      "    /home/inakirod/CodVid19_CIEMAT/codvidutils/nwpic.py\n",
      "\n",
      "\n"
     ]
    }
   ],
   "source": [
    "from codvidutils import nwpic as nw\n",
    "help(nw)"
   ]
  },
  {
   "cell_type": "code",
   "execution_count": 1,
   "metadata": {},
   "outputs": [
    {
     "ename": "NameError",
     "evalue": "name 'cudassesion' is not defined",
     "output_type": "error",
     "traceback": [
      "\u001b[0;31m---------------------------------------------------------------------------\u001b[0m",
      "\u001b[0;31mNameError\u001b[0m                                 Traceback (most recent call last)",
      "\u001b[0;32m<ipython-input-1-2fb72bc46287>\u001b[0m in \u001b[0;36m<module>\u001b[0;34m\u001b[0m\n\u001b[1;32m      1\u001b[0m \u001b[0;32mfrom\u001b[0m \u001b[0mcodvidutils\u001b[0m \u001b[0;32mimport\u001b[0m \u001b[0mcudasession\u001b[0m\u001b[0;34m\u001b[0m\u001b[0m\n\u001b[0;32m----> 2\u001b[0;31m \u001b[0mcudassesion\u001b[0m\u001b[0;34m.\u001b[0m\u001b[0mset_session\u001b[0m\u001b[0;34m(\u001b[0m\u001b[0;36m1\u001b[0m\u001b[0;34m,\u001b[0m \u001b[0;36m3\u001b[0m\u001b[0;34m)\u001b[0m\u001b[0;34m\u001b[0m\u001b[0m\n\u001b[0m",
      "\u001b[0;31mNameError\u001b[0m: name 'cudassesion' is not defined"
     ]
    }
   ],
   "source": [
    "from codvidutils import cudasession\n",
    "cudassesion.set_session(1, 3)"
   ]
  },
  {
   "cell_type": "code",
   "execution_count": null,
   "metadata": {},
   "outputs": [],
   "source": [
    "train_class = pd.read_csv('data/train_split_v2.txt', sep=' ', header=None, names=['patientID', 'image_path', 'class'])\n",
    "test_class = pd.read_csv('data/test_split_v2.txt', sep=' ', header=None, names=['patientID', 'image_path', 'class'])"
   ]
  },
  {
   "cell_type": "code",
   "execution_count": null,
   "metadata": {},
   "outputs": [],
   "source": [
    "pics = []\n",
    "for img in train_class['image_path'].values:\n",
    "    pics.append(np.array(Image.open('data/train/' + img))[:, :,:3])\n",
    "#test_pics = []\n",
    "for img in test_class['image_path'].values:\n",
    "    pics.append(np.array(Image.open('data/test/' + img))[:, :, :3])\n",
    "\n",
    "print(\"Number of images:\", len(pics))"
   ]
  },
  {
   "cell_type": "code",
   "execution_count": null,
   "metadata": {},
   "outputs": [],
   "source": [
    "values_dict = {'COVID-19': 1,'pneumonia': 2,'normal': 0}\n",
    "test_class['class_categorical'] = test_class['class'].apply(map_categorical, args=(values_dict,))\n",
    "train_class['class_categorical'] = train_class['class'].apply(map_categorical, args=(values_dict,))"
   ]
  },
  {
   "cell_type": "code",
   "execution_count": null,
   "metadata": {},
   "outputs": [],
   "source": [
    "X = np.array(pics)\n",
    "del pics\n",
    "diseaseID_train = np.asarray(train_class[\"class_categorical\"])\n",
    "diseaseID_test = np.asarray(test_class[\"class_categorical\"])\n",
    "diseaseID = np.concatenate([diseaseID_train, diseaseID_test],axis=0)\n",
    "print('shape X: {},  disease_ID (Y): {}'.format(X.shape, diseaseID.shape ))"
   ]
  },
  {
   "cell_type": "code",
   "execution_count": null,
   "metadata": {},
   "outputs": [],
   "source": [
    "X_prove = X_prove/255\n"
   ]
  },
  {
   "cell_type": "code",
   "execution_count": null,
   "metadata": {},
   "outputs": [],
   "source": [
    "A = datagen.flow(X_prove,Y_prove, batch_size=5)"
   ]
  },
  {
   "cell_type": "code",
   "execution_count": null,
   "metadata": {},
   "outputs": [],
   "source": [
    "len(A[3][0])"
   ]
  },
  {
   "cell_type": "code",
   "execution_count": null,
   "metadata": {},
   "outputs": [],
   "source": [
    "from matplotlib import pyplot\n",
    "for X_batch in datagen.flow(X_covid Y, batch_size=9):\n",
    "    # create a grid of 3x3 images\n",
    "    for i in range(0, 9):\n",
    "        fig,ax = plt.subplots(nrows=1,ncols=1,figsize=(8,8))#,6\n",
    "        pyplot.imshow(X_batch[i].reshape([200,200,3]))#, cmap=pyplot.get_cmap('gray'))\n",
    "        # show the plot\n",
    "    pyplot.show()\n",
    "    break"
   ]
  },
  {
   "cell_type": "code",
   "execution_count": null,
   "metadata": {},
   "outputs": [],
   "source": [
    "A = datagen.flow(X_covid, batch_size=8)\n",
    "print(len(A[0]))"
   ]
  },
  {
   "cell_type": "code",
   "execution_count": null,
   "metadata": {},
   "outputs": [],
   "source": [
    "print(A[1].shape)"
   ]
  },
  {
   "cell_type": "code",
   "execution_count": null,
   "metadata": {},
   "outputs": [],
   "source": []
  },
  {
   "cell_type": "code",
   "execution_count": null,
   "metadata": {},
   "outputs": [],
   "source": [
    "s = ndimage.rotate(X_test[diseaseID_test==0],-6,reshape= False, axes=[1,2])\n",
    "s.shape"
   ]
  },
  {
   "cell_type": "code",
   "execution_count": null,
   "metadata": {},
   "outputs": [],
   "source": [
    "fig,ax = plt.subplots(nrows=1,ncols=1,figsize=(8,8))#,\n",
    "plt.imshow(s[500])"
   ]
  },
  {
   "cell_type": "code",
   "execution_count": null,
   "metadata": {},
   "outputs": [],
   "source": [
    "from scipy import ndimage\n",
    "a = X[diseaseID==1][15]\n",
    "print(a.shape)\n",
    "fig,ax = plt.subplots(nrows=1,ncols=1,figsize=(8,8))#,\n",
    "rotate_face = ndimage.rotate(a, -0,reshape=False)\n",
    "plt.imshow(rotate_face)\n",
    "\n",
    "\n",
    "plt.plot([0,180],[0,0],color=\"blue\")\n",
    "plt.plot([0,180],[180,180],color=\"blue\")\n",
    "plt.plot([180,180],[0,180],color=\"blue\")\n",
    "plt.plot([0,0],[0,180],color=\"blue\")\n",
    "\n",
    "plt.plot([5,185],[0,0],color=\"red\")\n",
    "plt.plot([5,185],[180,180],color=\"red\")\n",
    "plt.plot([185,185],[0,180],color=\"red\")\n",
    "plt.plot([5,5],[0,180],color=\"red\")\n",
    "\n"
   ]
  },
  {
   "cell_type": "code",
   "execution_count": null,
   "metadata": {},
   "outputs": [],
   "source": [
    "fig,axs = plt.subplots(nrows=5,ncols=5,figsize=(40,40))#, constrained_layout=True)\n",
    "fig.suptitle('Multiple images per one Covid-19 image', fontsize='large')\n",
    "\n",
    "for i in range(5):\n",
    "    for j in range(5):\n",
    "        ax = axs[i, j]\n",
    "        ax.set_xlim(-0.5, 200.5)\n",
    "        ax.set_ylim(-0.5, 200.5)\n",
    "        ax= fig.add_subplot(5,5,5*i+j+1 )\n",
    "        \n",
    "        k,m = 5*i, 5*j\n",
    "        plt.imshow(a)\n",
    "        plt.title(\"[\"+str(k)+\",\"+str(180+k)+ \"] x [\"+str(m)+\",\"+str(180+m)+ \"]\")\n",
    "        plt.plot([k,180+k],[m,m],color=\"blue\",lw=2)\n",
    "        plt.plot([k,180+k],[180+m,180+m],color=\"blue\",lw=2)\n",
    "        plt.plot([180+k,180+k],[m,180+m],color=\"blue\",lw=2)\n",
    "        plt.plot([k,k],[m,180+m],color=\"blue\",lw=2)\n",
    "        plt.xlim([-0.5,200.5])\n",
    "        plt.ylim([-0.5,200.5])\n",
    "        "
   ]
  },
  {
   "cell_type": "code",
   "execution_count": null,
   "metadata": {},
   "outputs": [],
   "source": [
    "def rotate_arrays(pictures):\n",
    "    news = []\n",
    "    for pic in pictures:\n",
    "        aleat = np.random.randint(low=-12, high=12)\n",
    "        print(aleat)\n",
    "        rot =ndimage.rotate(pic, -aleat,reshape=False)\n",
    "        news.append(rot[10:190,10:190])\n",
    "        \n",
    "    news= np.array(news)    \n",
    "    return news\n",
    "    "
   ]
  },
  {
   "cell_type": "code",
   "execution_count": null,
   "metadata": {},
   "outputs": [],
   "source": [
    "d = rotate_arrays(X_test[diseaseID_test==1])"
   ]
  },
  {
   "cell_type": "code",
   "execution_count": null,
   "metadata": {},
   "outputs": [],
   "source": [
    "fig,ax = plt.subplots(nrows=1,ncols=1,figsize=(8,8))#,\n",
    "plt.imshow(d[5])\n",
    "fig,ax = plt.subplots(nrows=1,ncols=1,figsize=(8,8))#,\n",
    "plt.imshow(X_test[diseaseID_test==1][5])"
   ]
  },
  {
   "cell_type": "code",
   "execution_count": null,
   "metadata": {},
   "outputs": [],
   "source": [
    "X_train_news = new_pictures_arrays(X_train[diseaseID_train==1])\n",
    "X_train_news.shape"
   ]
  },
  {
   "cell_type": "code",
   "execution_count": null,
   "metadata": {},
   "outputs": [],
   "source": [
    "\"\"\"\n",
    "News images to train \n",
    "\"\"\"\n",
    "X_train_news = new_pictures_arrays(X_train[diseaseID_train==1])\n",
    "print(X_train_news.shape)\n",
    "diseaseID_train_news = np.ones(X_train_news.shape[0])\n",
    "print(diseaseID_train_news.shape)\n",
    "X_train = X_train[:,10:190,10:190]\n",
    "X_train = np.concatenate([X_train,X_train_news],axis=0)\n",
    "diseaseID_train = np.concatenate([diseaseID_train,diseaseID_train_news],axis=0)\n",
    "del X_train_news, diseaseID_train_news\n",
    "print(X_train.shape)\n",
    "print(diseaseID_train.shape)"
   ]
  },
  {
   "cell_type": "code",
   "execution_count": null,
   "metadata": {},
   "outputs": [],
   "source": [
    "\"\"\"\n",
    "News images to test \n",
    "\"\"\"\n",
    "X_test_news = new_pictures_arrays(X_test[diseaseID_test==1])\n",
    "print(X_test_news.shape)\n",
    "diseaseID_test_news = np.ones(X_test_news.shape[0])\n",
    "print(diseaseID_test_news.shape)\n",
    "X_test = X_test[:,10:190,10:190]\n",
    "X_test = np.concatenate([X_test,X_test_news],axis=0)\n",
    "diseaseID_test = np.concatenate([diseaseID_test,diseaseID_test_news],axis=0)\n",
    "del X_test_news, diseaseID_test_news\n",
    "print(X_test.shape)\n",
    "print(diseaseID_test.shape)"
   ]
  },
  {
   "cell_type": "code",
   "execution_count": null,
   "metadata": {},
   "outputs": [],
   "source": [
    "40//"
   ]
  },
  {
   "cell_type": "code",
   "execution_count": null,
   "metadata": {},
   "outputs": [],
   "source": [
    "from scipy import ndimage\n",
    "a = X_test[0]\n",
    "print(a.shape)\n",
    "a=a.reshape(180,180)\n",
    "lx,ly =a.shape\n",
    "fig,ax = plt.subplots(nrows=1,ncols=1,figsize=(8,8))#,\n",
    "rotate_face = ndimage.rotate(a, 8)\n",
    "plt.imshow(rotate_face)"
   ]
  },
  {
   "cell_type": "code",
   "execution_count": null,
   "metadata": {},
   "outputs": [],
   "source": []
  },
  {
   "cell_type": "code",
   "execution_count": null,
   "metadata": {},
   "outputs": [],
   "source": []
  },
  {
   "cell_type": "code",
   "execution_count": null,
   "metadata": {},
   "outputs": [],
   "source": []
  },
  {
   "cell_type": "markdown",
   "metadata": {},
   "source": [
    "## Imbalanced methods\n",
    "We reduce the NO-COVID images and create new COVID images with the SMOTE Algorithm"
   ]
  },
  {
   "cell_type": "code",
   "execution_count": null,
   "metadata": {},
   "outputs": [],
   "source": [
    "from collections import Counter\n",
    "counter = Counter (diseaseID)\n",
    "print(counter)\n",
    "dicto = {2: 4500, 0: 4500, 1:97}\n",
    "print(dicto)\n",
    "\n",
    "from imblearn.under_sampling import RandomUnderSampler\n",
    "#X = X.reshape(X,X.shape[0],-1)\n",
    "X = X.reshape(X.shape[0],-1)\n",
    "print(X.shape)\n",
    "under = RandomUnderSampler(sampling_strategy =dicto)\n",
    "X, diseaseID = under.fit_resample(X, diseaseID)\n",
    "# summarize class distribution\n",
    "print(diseaseID.shape)\n",
    "print(X.shape)"
   ]
  },
  {
   "cell_type": "code",
   "execution_count": null,
   "metadata": {},
   "outputs": [],
   "source": [
    "n = np.random.randint(1000,6760)\n",
    "print(n)\n",
    "from sklearn.utils import shuffle\n",
    "X, diseaseID = shuffle(X, diseaseID, random_state=n)\n",
    "from sklearn.model_selection import train_test_split\n",
    "m = np.random.randint(1000,6760)\n",
    "print(m)\n",
    "X_train, X_test, diseaseID_train, diseaseID_test = train_test_split(X, diseaseID, test_size=0.20, random_state=m)\n",
    "del X, diseaseID"
   ]
  },
  {
   "cell_type": "code",
   "execution_count": null,
   "metadata": {},
   "outputs": [],
   "source": [
    "X_train = X_train.reshape(X_train.shape[0],200,200,3)\n",
    "X_test = X_test.reshape(X_test.shape[0],200,200,3)"
   ]
  },
  {
   "cell_type": "code",
   "execution_count": null,
   "metadata": {},
   "outputs": [],
   "source": [
    "print(\"Normal train: \",diseaseID_train[diseaseID_train==0].shape)\n",
    "print(\"Pneumonia train: \",diseaseID_train[diseaseID_train==2].shape)\n",
    "print(\"COVID train: \",diseaseID_train[diseaseID_train==1].shape)\n",
    "print(\"*******************************************************\")\n",
    "print(\"Normal test: \",diseaseID_test[diseaseID_test==0].shape)\n",
    "print(\"Pneumonia test: \",diseaseID_test[diseaseID_test==2].shape)\n",
    "print(\"COVID test: \",diseaseID_test[diseaseID_test==1].shape)"
   ]
  },
  {
   "cell_type": "code",
   "execution_count": 2,
   "metadata": {},
   "outputs": [
    {
     "ename": "NameError",
     "evalue": "name 'X_train' is not defined",
     "output_type": "error",
     "traceback": [
      "\u001b[0;31m---------------------------------------------------------------------------\u001b[0m",
      "\u001b[0;31mNameError\u001b[0m                                 Traceback (most recent call last)",
      "\u001b[0;32m<ipython-input-2-91a5cd0a3fff>\u001b[0m in \u001b[0;36m<module>\u001b[0;34m\u001b[0m\n\u001b[1;32m      3\u001b[0m \u001b[0mNews\u001b[0m \u001b[0mimages\u001b[0m \u001b[0mto\u001b[0m \u001b[0mtrain\u001b[0m\u001b[0;34m\u001b[0m\u001b[0m\n\u001b[1;32m      4\u001b[0m \"\"\"\n\u001b[0;32m----> 5\u001b[0;31m \u001b[0mX_train_news\u001b[0m \u001b[0;34m=\u001b[0m \u001b[0mnw\u001b[0m\u001b[0;34m.\u001b[0m\u001b[0mnew_pictures_arrays\u001b[0m\u001b[0;34m(\u001b[0m\u001b[0mX_train\u001b[0m\u001b[0;34m[\u001b[0m\u001b[0mdiseaseID_train\u001b[0m\u001b[0;34m==\u001b[0m\u001b[0;36m1\u001b[0m\u001b[0;34m]\u001b[0m\u001b[0;34m)\u001b[0m\u001b[0;34m\u001b[0m\u001b[0m\n\u001b[0m\u001b[1;32m      6\u001b[0m \u001b[0mprint\u001b[0m\u001b[0;34m(\u001b[0m\u001b[0mX_train_news\u001b[0m\u001b[0;34m.\u001b[0m\u001b[0mshape\u001b[0m\u001b[0;34m)\u001b[0m\u001b[0;34m\u001b[0m\u001b[0m\n\u001b[1;32m      7\u001b[0m \u001b[0mdiseaseID_train_news\u001b[0m \u001b[0;34m=\u001b[0m \u001b[0mnp\u001b[0m\u001b[0;34m.\u001b[0m\u001b[0mones\u001b[0m\u001b[0;34m(\u001b[0m\u001b[0mX_train_news\u001b[0m\u001b[0;34m.\u001b[0m\u001b[0mshape\u001b[0m\u001b[0;34m[\u001b[0m\u001b[0;36m0\u001b[0m\u001b[0;34m]\u001b[0m\u001b[0;34m)\u001b[0m\u001b[0;34m\u001b[0m\u001b[0m\n",
      "\u001b[0;31mNameError\u001b[0m: name 'X_train' is not defined"
     ]
    }
   ],
   "source": [
    "from codvidutils import nwpic as nw\n",
    "\"\"\"\n",
    "News images to train \n",
    "\"\"\"\n",
    "X_train_news = nw.new_pictures_arrays(X_train[diseaseID_train==1])\n",
    "print(X_train_news.shape)\n",
    "diseaseID_train_news = np.ones(X_train_news.shape[0])\n",
    "print(diseaseID_train_news.shape)\n",
    "X_train = X_train[:,10:190,10:190]\n",
    "X_train = np.concatenate([X_train,X_train_news],axis=0)\n",
    "diseaseID_train = np.concatenate([diseaseID_train,diseaseID_train_news],axis=0)\n",
    "del X_train_news, diseaseID_train_news\n",
    "print(X_train.shape)\n",
    "print(diseaseID_train.shape)"
   ]
  },
  {
   "cell_type": "code",
   "execution_count": null,
   "metadata": {},
   "outputs": [],
   "source": [
    "\"\"\"\n",
    "News images to test \n",
    "\"\"\"\n",
    "X_test_news = nw.new_pictures_arrays(X_test[diseaseID_test==1])\n",
    "print(X_test_news.shape)\n",
    "diseaseID_test_news = np.ones(X_test_news.shape[0])\n",
    "print(diseaseID_test_news.shape)\n",
    "X_test = X_test[:,10:190,10:190]\n",
    "X_test = np.concatenate([X_test,X_test_news],axis=0)\n",
    "diseaseID_test = np.concatenate([diseaseID_test,diseaseID_test_news],axis=0)\n",
    "del X_test_news, diseaseID_test_news\n",
    "print(X_test.shape)\n",
    "print(diseaseID_test.shape)"
   ]
  },
  {
   "cell_type": "code",
   "execution_count": null,
   "metadata": {},
   "outputs": [],
   "source": [
    "Y_train = np.copy(diseaseID_train)\n",
    "del diseaseID_train\n",
    "Y_train[Y_train==2]=0\n",
    "Y_test = np.copy(diseaseID_test)\n",
    "Y_test[Y_test==2]=0\n",
    "\n",
    "X_test = X_test/255\n",
    "X_train = X_train/255"
   ]
  },
  {
   "cell_type": "markdown",
   "metadata": {},
   "source": [
    "## Deep model"
   ]
  },
  {
   "cell_type": "code",
   "execution_count": null,
   "metadata": {},
   "outputs": [],
   "source": [
    "def inception_block (previous_layer,filters =[64,128,32,32]):\n",
    "    conv1x1 = Conv2D(filters=filters[0], kernel_size=(1,1), activation='relu')(previous_layer)\n",
    "    conv1x1_2 = Conv2D(filters=filters[1], kernel_size=(1,1), activation='relu')(previous_layer)\n",
    "    conv1x1_3 = Conv2D(filters=filters[2], kernel_size=(1,1), activation='relu')(previous_layer)\n",
    "    conv3x3 = Conv2D(filters=filters[1], kernel_size=(3,3), activation='relu',padding=\"same\")(conv1x1_2)\n",
    "    conv5x5 = Conv2D(filters=filters[2], kernel_size=(5,5), activation='relu',padding=\"same\")(conv1x1_3)\n",
    "    max_pool= MaxPooling2D(pool_size=(3,3),padding=\"same\",strides=1)(previous_layer)\n",
    "    conv_max = Conv2D(filters=filters[3], kernel_size=(1,1), activation='relu',padding=\"same\")(max_pool)\n",
    "    inception = concatenate([conv1x1, conv3x3,conv5x5,conv_max])\n",
    "    return inception"
   ]
  },
  {
   "cell_type": "code",
   "execution_count": null,
   "metadata": {
    "scrolled": true
   },
   "outputs": [],
   "source": [
    "\"\"\"\n",
    "Incep_5 archiquecture using Functional api\n",
    "\"\"\"\n",
    "input_layer = Input(shape= (180,180,3,))\n",
    "inception_1 = inception_block(input_layer,filters =[16,32,8,8])\n",
    "pool_1 = MaxPooling2D()(inception_1)\n",
    "inception_2 = inception_block(pool_1)\n",
    "pool_2 = MaxPooling2D()(inception_2)\n",
    "inception_3 = inception_block(pool_2)\n",
    "pool_3= MaxPooling2D()(inception_3)\n",
    "inception_4 = inception_block(pool_3)\n",
    "pool_4= MaxPooling2D()(inception_4)\n",
    "inception_5 = inception_block(pool_4)\n",
    "pool_5 = MaxPooling2D(pool_size= (2,2))(inception_5)\n",
    "inception_6 = inception_block(pool_5)\n",
    "pool_6= MaxPooling2D(pool_size= (5,5))(inception_6)\n",
    "conv_FC = Conv2D(filters =128,kernel_size =(1,1),activation=\"relu\")(pool_6)\n",
    "first_dense = Conv2D(filters =32,kernel_size =(1,1),activation=\"relu\")(conv_FC)\n",
    "#sec_dense = Conv2D(filters =16,kernel_size =(1,1),activation=\"relu\")(first_dense)\n",
    "flat = Flatten()(first_dense)\n",
    "out_layer= Dense(units =1, activation= \"sigmoid\")(flat)\n",
    "deep = Model(inputs=input_layer, outputs=out_layer)\n",
    "\n",
    "\n",
    "deep.summary()"
   ]
  },
  {
   "cell_type": "code",
   "execution_count": null,
   "metadata": {},
   "outputs": [],
   "source": [
    "print('Train shape X: {},  Y: {} \\n Test shape X: {}, Y: {}'.format(X_train.shape, Y_train.shape, X_test.shape, Y_test.shape))"
   ]
  },
  {
   "cell_type": "code",
   "execution_count": null,
   "metadata": {},
   "outputs": [],
   "source": [
    "\"\"\"\n",
    "Weighted loss\n",
    "\"\"\"\n",
    "covid_count, no_covid_count = Y_train[Y_train==1].shape[0],Y_train[Y_train==0].shape[0]\n",
    "total_count = covid_count + no_covid_count\n",
    "print(covid_count, no_covid_count)\n",
    "weight_no_covid = covid_count / total_count\n",
    "weight_covid = no_covid_count / total_count\n",
    "dic_weights = {0: weight_no_covid, 1: weight_covid}\n",
    "print(dic_weights)"
   ]
  },
  {
   "cell_type": "code",
   "execution_count": null,
   "metadata": {
    "scrolled": false
   },
   "outputs": [],
   "source": [
    "from keras.callbacks import ModelCheckpoint\n",
    "ASG = keras.optimizers.Adam(lr=0.0001, beta_1=0.9, beta_2=0.999, amsgrad=True)\n",
    "filepath=\"Inception_bestmodel_trained.hdf5\"\n",
    "checkpoint = ModelCheckpoint(filepath, monitor='val_acc', verbose=1, save_best_only=True, mode='max')\n",
    "\n",
    "deep.compile(optimizer=ASG, loss='binary_crossentropy', metrics=['acc',\"mse\"])\n",
    "history = deep.fit(X_train, Y_train, epochs=12, batch_size=32, callbacks= [checkpoint],verbose=2, class_weight=dic_weights,validation_data=(X_test, Y_test))\n"
   ]
  },
  {
   "cell_type": "code",
   "execution_count": null,
   "metadata": {},
   "outputs": [],
   "source": [
    "pred = deep.predict(X_test)\n",
    "pred.shape"
   ]
  },
  {
   "cell_type": "code",
   "execution_count": null,
   "metadata": {},
   "outputs": [],
   "source": [
    "from sklearn.metrics import roc_curve, auc\n",
    "fpr, tpr, thresold = roc_curve(Y_test,pred)\n",
    "roc_auc = auc(fpr,tpr)\n",
    "print(roc_auc)"
   ]
  },
  {
   "cell_type": "code",
   "execution_count": null,
   "metadata": {},
   "outputs": [],
   "source": [
    "from keras.models import load_model\n",
    "model = load_model(\"Inception_bestmodel_trained.hdf5\")\n",
    "pred_best = model.predict(X_test)"
   ]
  },
  {
   "cell_type": "code",
   "execution_count": null,
   "metadata": {
    "scrolled": true
   },
   "outputs": [],
   "source": [
    "from sklearn.metrics import confusion_matrix\n",
    "from sklearn.preprocessing import normalize\n",
    "cm = confusion_matrix(Y_test[:1820], pred[:1820].round())\n",
    "cm_norm = normalize(cm, norm = 'l1')\n",
    "print(cm, \"\\n\", cm_norm)\n",
    "\n",
    "print(\"Best model\")\n",
    "cm= confusion_matrix(Y_test[:1820], pred_best[:1820].round())\n",
    "cm_norm = normalize(cm, norm = 'l1')\n",
    "print(cm, \"\\n\",cm_norm)"
   ]
  },
  {
   "cell_type": "code",
   "execution_count": null,
   "metadata": {},
   "outputs": [],
   "source": [
    "from sklearn.metrics import confusion_matrix\n",
    "cm = confusion_matrix(Y_test, pred.round())\n",
    "cm_norm = normalize(cm, norm = 'l1')\n",
    "print(cm, \"\\n\", cm_norm)\n",
    "print(\"Best model\")\n",
    "cm= confusion_matrix(Y_test, pred_best.round())\n",
    "cm_norm = normalize(cm, norm = 'l1')\n",
    "print(cm, \"\\n\", cm_norm)"
   ]
  },
  {
   "cell_type": "code",
   "execution_count": null,
   "metadata": {},
   "outputs": [],
   "source": [
    "Y_test[Y_test==0].shape"
   ]
  },
  {
   "cell_type": "code",
   "execution_count": null,
   "metadata": {},
   "outputs": [],
   "source": [
    "fig,ax = plt.subplots(nrows=1,ncols=1,figsize=(8,8))#,6\n",
    "\n",
    "plt.grid(True)\n",
    "plt.plot(history.history[\"acc\"], color=\"blue\", label=\"Training data set\")\n",
    "plt.plot(history.history[\"val_acc\"], color=\"orange\", label=\"Testing data set\")\n",
    "plt.ylabel('Accuracy as metric')\n",
    "plt.xlabel('Epochs')\n",
    "plt.legend(loc='upper center')\n",
    "plt.show()"
   ]
  },
  {
   "cell_type": "code",
   "execution_count": null,
   "metadata": {},
   "outputs": [],
   "source": [
    "fig,ax = plt.subplots(nrows=1,ncols=1,figsize=(8,8))#,6\n",
    "plt.style.use('seaborn-deep') \n",
    "plt.grid(True)\n",
    "\n",
    "lw=2\n",
    "plt.hist(pred[(Y_test==0)],50,histtype='step',lw=lw,color='darkorange', label= \"No COVID radiographs\")\n",
    "plt.hist(pred[(Y_test==1)],50,histtype='step',lw=lw,color='blue', label= \"COVID radiographs\")\n",
    "plt.ylabel('Number of events /0.01')\n",
    "plt.xlabel('Score')\n",
    "plt.yscale(\"log\")\n",
    "plt.legend( loc='upper center')\n",
    "plt.show()"
   ]
  },
  {
   "cell_type": "code",
   "execution_count": null,
   "metadata": {},
   "outputs": [],
   "source": [
    "fig,ax = plt.subplots(nrows=1,ncols=1,figsize=(8,8))#,6\n",
    "plt.style.use('seaborn-deep') \n",
    "plt.grid(True)\n",
    "\n",
    "lw=2\n",
    "plt.hist(pred[(diseaseID_test==0)],50,histtype='step',lw=lw,color='darkorange', label= \"No ill radiographs\")\n",
    "plt.hist(pred[(diseaseID_test==2)],50,histtype='step',lw=lw,color='red', label= \"Pneumonia radiographs\")\n",
    "plt.hist(pred[(diseaseID_test==1)],50,histtype='step',lw=lw,color='blue', label= \"Original COVID radiographs\")\n",
    "#plt.hist(pred[1953:],50,histtype='step',lw=lw,color='green', label= \"Created COVID radiographs\")\n",
    "\n",
    "plt.ylabel('Number of events /0.02')\n",
    "plt.xlabel('Score')\n",
    "plt.yscale(\"log\")\n",
    "plt.legend( loc='upper center')\n",
    "plt.show()"
   ]
  },
  {
   "cell_type": "code",
   "execution_count": null,
   "metadata": {},
   "outputs": [],
   "source": [
    "fig,ax = plt.subplots(nrows=1,ncols=1,figsize=(8,8))#,6\n",
    "plt.style.use('seaborn-deep') \n",
    "#plt.title(\"Simulation\", weight=\"bold\", x=0.50)\n",
    "plt.grid(True)\n",
    "#yticks(np.arange(0.97, 1, step=0.005))\n",
    "lw = 2\n",
    "plt.plot(fpr, tpr, color='orange',lw=2, label='ROC-curve (AUC = %0.3f)' % (roc_auc))\n",
    "\n",
    "\n",
    "plt.ylabel('True Positive Rate')\n",
    "plt.xlabel('False Positive Rate')\n",
    "\n",
    "#plt.title(\"Simulation Preliminary\", color = '#e159e1',loc=\"left\", weight=\"bold\", size=\"large\")\n",
    "plt.legend(loc=\"lower right\")\n",
    "plt.show()"
   ]
  },
  {
   "cell_type": "code",
   "execution_count": null,
   "metadata": {},
   "outputs": [],
   "source": []
  }
 ],
 "metadata": {
  "kernelspec": {
   "display_name": "Python 3",
   "language": "python",
   "name": "python3"
  },
  "language_info": {
   "codemirror_mode": {
    "name": "ipython",
    "version": 3
   },
   "file_extension": ".py",
   "mimetype": "text/x-python",
   "name": "python",
   "nbconvert_exporter": "python",
   "pygments_lexer": "ipython3",
   "version": "3.5.4"
  }
 },
 "nbformat": 4,
 "nbformat_minor": 2
}
