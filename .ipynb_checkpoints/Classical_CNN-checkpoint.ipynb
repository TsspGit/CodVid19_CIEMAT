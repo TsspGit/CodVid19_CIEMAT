{
 "cells": [
  {
   "cell_type": "markdown",
   "metadata": {},
   "source": [
    "# COVID binary classification\n",
    "In this *notebook* we design a ConvNet to binary classification COVID-19 images.The model distinguishes between covid patient radiographs and others (pneumonia patients and healthy people). The deep model is an inception net, with five inception blocks. Each block has four convolutional layers with filters of 1x1,1x1, 3x3 and 5x5, also the block has MaxPooling layers before the convolutional layers. \n",
    "\n",
    "The dataset contains very little images of COVID patients, specifically 87 in the train set and only 10 to test, for this reason, we use the SMOTE Algorithm to generate new samples of COVID images."
   ]
  },
  {
   "cell_type": "code",
   "execution_count": 1,
   "metadata": {},
   "outputs": [
    {
     "name": "stderr",
     "output_type": "stream",
     "text": [
      "Using TensorFlow backend.\n"
     ]
    }
   ],
   "source": [
    "__author__ = '@iRodGit'\n",
    "import numpy as np\n",
    "import pandas as pd\n",
    "import os\n",
    "from PIL import Image\n",
    "import keras\n",
    "import tensorflow as tf\n",
    "import matplotlib.pyplot as plt\n",
    "from keras.layers import Dense, Dropout, Activation, Flatten, Input, Add\n",
    "from keras.layers import AveragePooling2D, Conv2D, MaxPooling2D, concatenate # Concatenate\n",
    "from keras.models import Sequential, Model\n",
    "from keras.utils import to_categorical\n",
    "from codvidutils.imageproc import map_categorical"
   ]
  },
  {
   "cell_type": "markdown",
   "metadata": {},
   "source": [
    "## Load and pre-processing data"
   ]
  },
  {
   "cell_type": "code",
   "execution_count": 2,
   "metadata": {},
   "outputs": [],
   "source": [
    "train_class = pd.read_csv('data/train_split_v2.txt', sep=' ', header=None, names=['patientID', 'image_path', 'class'])\n",
    "test_class = pd.read_csv('data/test_split_v2.txt', sep=' ', header=None, names=['patientID', 'image_path', 'class'])"
   ]
  },
  {
   "cell_type": "code",
   "execution_count": 5,
   "metadata": {},
   "outputs": [
    {
     "name": "stdout",
     "output_type": "stream",
     "text": [
      "Number of images: 18527\n"
     ]
    }
   ],
   "source": [
    "pics = []\n",
    "for img in train_class['image_path'].values:\n",
    "    pics.append(np.array(Image.open('data/train/' + img))[:, :,:3])\n",
    "#test_pics = []\n",
    "for img in test_class['image_path'].values:\n",
    "    pics.append(np.array(Image.open('data/test/' + img))[:, :, :3])\n",
    "\n",
    "print(\"Number of images:\", len(pics))"
   ]
  },
  {
   "cell_type": "code",
   "execution_count": 6,
   "metadata": {},
   "outputs": [],
   "source": [
    "values_dict = {'COVID-19': 1,'pneumonia': 2,'normal': 0}\n",
    "test_class['class_categorical'] = test_class['class'].apply(map_categorical, args=(values_dict,))\n",
    "train_class['class_categorical'] = train_class['class'].apply(map_categorical, args=(values_dict,))"
   ]
  },
  {
   "cell_type": "code",
   "execution_count": 7,
   "metadata": {},
   "outputs": [
    {
     "name": "stdout",
     "output_type": "stream",
     "text": [
      "shape X: (18527, 200, 200, 3),  disease_ID (Y): (18527,)\n"
     ]
    }
   ],
   "source": [
    "X = np.array(pics)\n",
    "del pics\n",
    "diseaseID_train = np.asarray(train_class[\"class_categorical\"])\n",
    "diseaseID_test = np.asarray(test_class[\"class_categorical\"])\n",
    "diseaseID = np.concatenate([diseaseID_train, diseaseID_test],axis=0)\n",
    "print('shape X: {},  disease_ID (Y): {}'.format(X.shape, diseaseID.shape ))"
   ]
  },
  {
   "cell_type": "code",
   "execution_count": null,
   "metadata": {},
   "outputs": [],
   "source": [
    "from keras.preprocessing.image import ImageDataGenerator\n",
    "datagen = ImageDataGenerator(rotation_range=10)\n",
    "X_covid = X_test[diseaseID_test==1]\n",
    "X_nocovid = X_test[diseaseID_test==0][:10]\n",
    "X_prove = np.concatenate([X_covid,X_nocovid],axis=0)\n",
    "Y_prove = np.concatenate([np.ones(10),np.zeros(10)])\n",
    "print(Y_prove.shape)\n",
    "X_prove.shape"
   ]
  },
  {
   "cell_type": "code",
   "execution_count": null,
   "metadata": {},
   "outputs": [],
   "source": [
    "X_prove = X_prove/255\n"
   ]
  },
  {
   "cell_type": "code",
   "execution_count": null,
   "metadata": {},
   "outputs": [],
   "source": [
    "A = datagen.flow(X_prove,Y_prove, batch_size=5)"
   ]
  },
  {
   "cell_type": "code",
   "execution_count": null,
   "metadata": {},
   "outputs": [],
   "source": [
    "len(A[3][0])"
   ]
  },
  {
   "cell_type": "code",
   "execution_count": null,
   "metadata": {},
   "outputs": [],
   "source": [
    "from matplotlib import pyplot\n",
    "for X_batch in datagen.flow(X_covid Y, batch_size=9):\n",
    "    # create a grid of 3x3 images\n",
    "    for i in range(0, 9):\n",
    "        fig,ax = plt.subplots(nrows=1,ncols=1,figsize=(8,8))#,6\n",
    "        pyplot.imshow(X_batch[i].reshape([200,200,3]))#, cmap=pyplot.get_cmap('gray'))\n",
    "        # show the plot\n",
    "    pyplot.show()\n",
    "    break"
   ]
  },
  {
   "cell_type": "code",
   "execution_count": null,
   "metadata": {},
   "outputs": [],
   "source": [
    "A = datagen.flow(X_covid, batch_size=8)\n",
    "print(len(A[0]))"
   ]
  },
  {
   "cell_type": "code",
   "execution_count": null,
   "metadata": {},
   "outputs": [],
   "source": [
    "print(A[1].shape)"
   ]
  },
  {
   "cell_type": "code",
   "execution_count": null,
   "metadata": {},
   "outputs": [],
   "source": []
  },
  {
   "cell_type": "code",
   "execution_count": null,
   "metadata": {},
   "outputs": [],
   "source": [
    "s = ndimage.rotate(X_test[diseaseID_test==0],-6,reshape= False, axes=[1,2])\n",
    "s.shape"
   ]
  },
  {
   "cell_type": "code",
   "execution_count": null,
   "metadata": {},
   "outputs": [],
   "source": [
    "fig,ax = plt.subplots(nrows=1,ncols=1,figsize=(8,8))#,\n",
    "plt.imshow(s[500])"
   ]
  },
  {
   "cell_type": "code",
   "execution_count": null,
   "metadata": {},
   "outputs": [],
   "source": [
    "from scipy import ndimage\n",
    "a = X_test[diseaseID_test==0][5]\n",
    "print(a.shape)\n",
    "fig,ax = plt.subplots(nrows=1,ncols=1,figsize=(8,8))#,\n",
    "rotate_face = ndimage.rotate(a, -0,reshape=False)\n",
    "plt.imshow(rotate_face)\n",
    "\n",
    "\n",
    "plt.plot([15,195],[15,15],color=\"blue\")\n",
    "plt.plot([15,195],[195,195],color=\"blue\")\n",
    "plt.plot([195,195],[15,195],color=\"blue\")\n",
    "plt.plot([15,15],[15,195],color=\"blue\")\n",
    "\n",
    "plt.plot([10,190],[10,10],color=\"red\")\n",
    "plt.plot([10,190],[190,190],color=\"red\")\n",
    "plt.plot([190,190],[10,190],color=\"red\")\n",
    "plt.plot([10,10],[10,190],color=\"red\")\n",
    "\n",
    "plt.plot([20,180],[20,20],color=\"orange\")\n",
    "plt.plot([20,180],[180,180],color=\"orange\")\n",
    "plt.plot([180,180],[20,180],color=\"orange\")\n",
    "plt.plot([20,20],[20,180],color=\"orange\")\n"
   ]
  },
  {
   "cell_type": "code",
   "execution_count": null,
   "metadata": {},
   "outputs": [],
   "source": [
    "def rotate_arrays(pictures):\n",
    "    news = []\n",
    "    for pic in pictures:\n",
    "        aleat = np.random.randint(low=-12, high=12)\n",
    "        print(aleat)\n",
    "        rot =ndimage.rotate(pic, -aleat,reshape=False)\n",
    "        news.append(rot[10:190,10:190])\n",
    "        \n",
    "    news= np.array(news)    \n",
    "    return news\n",
    "    "
   ]
  },
  {
   "cell_type": "code",
   "execution_count": null,
   "metadata": {},
   "outputs": [],
   "source": [
    "d = rotate_arrays(X_test[diseaseID_test==1])"
   ]
  },
  {
   "cell_type": "code",
   "execution_count": null,
   "metadata": {},
   "outputs": [],
   "source": [
    "fig,ax = plt.subplots(nrows=1,ncols=1,figsize=(8,8))#,\n",
    "plt.imshow(d[5])\n",
    "fig,ax = plt.subplots(nrows=1,ncols=1,figsize=(8,8))#,\n",
    "plt.imshow(X_test[diseaseID_test==1][5])"
   ]
  },
  {
   "cell_type": "code",
   "execution_count": null,
   "metadata": {},
   "outputs": [],
   "source": [
    "X_train_news = new_pictures_arrays(X_train[diseaseID_train==1])\n",
    "X_train_news.shape"
   ]
  },
  {
   "cell_type": "code",
   "execution_count": null,
   "metadata": {},
   "outputs": [],
   "source": [
    "\"\"\"\n",
    "News images to train \n",
    "\"\"\"\n",
    "X_train_news = new_pictures_arrays(X_train[diseaseID_train==1])\n",
    "print(X_train_news.shape)\n",
    "diseaseID_train_news = np.ones(X_train_news.shape[0])\n",
    "print(diseaseID_train_news.shape)\n",
    "X_train = X_train[:,10:190,10:190]\n",
    "X_train = np.concatenate([X_train,X_train_news],axis=0)\n",
    "diseaseID_train = np.concatenate([diseaseID_train,diseaseID_train_news],axis=0)\n",
    "del X_train_news, diseaseID_train_news\n",
    "print(X_train.shape)\n",
    "print(diseaseID_train.shape)"
   ]
  },
  {
   "cell_type": "code",
   "execution_count": null,
   "metadata": {},
   "outputs": [],
   "source": [
    "\"\"\"\n",
    "News images to test \n",
    "\"\"\"\n",
    "X_test_news = new_pictures_arrays(X_test[diseaseID_test==1])\n",
    "print(X_test_news.shape)\n",
    "diseaseID_test_news = np.ones(X_test_news.shape[0])\n",
    "print(diseaseID_test_news.shape)\n",
    "X_test = X_test[:,10:190,10:190]\n",
    "X_test = np.concatenate([X_test,X_test_news],axis=0)\n",
    "diseaseID_test = np.concatenate([diseaseID_test,diseaseID_test_news],axis=0)\n",
    "del X_test_news, diseaseID_test_news\n",
    "print(X_test.shape)\n",
    "print(diseaseID_test.shape)"
   ]
  },
  {
   "cell_type": "code",
   "execution_count": null,
   "metadata": {},
   "outputs": [],
   "source": [
    "40//"
   ]
  },
  {
   "cell_type": "code",
   "execution_count": null,
   "metadata": {},
   "outputs": [],
   "source": [
    "from scipy import ndimage\n",
    "a = X_test[0]\n",
    "print(a.shape)\n",
    "a=a.reshape(180,180)\n",
    "lx,ly =a.shape\n",
    "fig,ax = plt.subplots(nrows=1,ncols=1,figsize=(8,8))#,\n",
    "rotate_face = ndimage.rotate(a, 8)\n",
    "plt.imshow(rotate_face)"
   ]
  },
  {
   "cell_type": "code",
   "execution_count": null,
   "metadata": {},
   "outputs": [],
   "source": []
  },
  {
   "cell_type": "code",
   "execution_count": null,
   "metadata": {},
   "outputs": [],
   "source": []
  },
  {
   "cell_type": "code",
   "execution_count": null,
   "metadata": {},
   "outputs": [],
   "source": []
  },
  {
   "cell_type": "markdown",
   "metadata": {},
   "source": [
    "## Imbalanced methods\n",
    "We reduce the NO-COVID images and create new COVID images with the SMOTE Algorithm"
   ]
  },
  {
   "cell_type": "code",
   "execution_count": 8,
   "metadata": {},
   "outputs": [
    {
     "name": "stdout",
     "output_type": "stream",
     "text": [
      "Counter({2: 9579, 0: 8851, 1: 97})\n",
      "{0: 4500, 1: 97, 2: 4500}\n",
      "(18527, 120000)\n",
      "(9097,)\n",
      "(9097, 120000)\n"
     ]
    }
   ],
   "source": [
    "from collections import Counter\n",
    "counter = Counter (diseaseID)\n",
    "print(counter)\n",
    "dicto = {2: 4500, 0: 4500, 1:97}\n",
    "print(dicto)\n",
    "\n",
    "from imblearn.under_sampling import RandomUnderSampler\n",
    "#X = X.reshape(X,X.shape[0],-1)\n",
    "X = X.reshape(X.shape[0],-1)\n",
    "print(X.shape)\n",
    "under = RandomUnderSampler(sampling_strategy =dicto)\n",
    "X, diseaseID = under.fit_resample(X, diseaseID)\n",
    "# summarize class distribution\n",
    "print(diseaseID.shape)\n",
    "print(X.shape)"
   ]
  },
  {
   "cell_type": "code",
   "execution_count": 9,
   "metadata": {},
   "outputs": [
    {
     "name": "stdout",
     "output_type": "stream",
     "text": [
      "2715\n",
      "2678\n"
     ]
    }
   ],
   "source": [
    "n = np.random.randint(1000,6760)\n",
    "print(n)\n",
    "from sklearn.utils import shuffle\n",
    "X, diseaseID = shuffle(X, diseaseID, random_state=n)\n",
    "from sklearn.model_selection import train_test_split\n",
    "m = np.random.randint(1000,6760)\n",
    "print(m)\n",
    "X_train, X_test, diseaseID_train, diseaseID_test = train_test_split(X, diseaseID, test_size=0.20, random_state=m)\n",
    "del X, diseaseID"
   ]
  },
  {
   "cell_type": "code",
   "execution_count": 10,
   "metadata": {},
   "outputs": [],
   "source": [
    "X_train = X_train.reshape(X_train.shape[0],200,200,3)\n",
    "X_test = X_test.reshape(X_test.shape[0],200,200,3)"
   ]
  },
  {
   "cell_type": "code",
   "execution_count": 11,
   "metadata": {},
   "outputs": [
    {
     "name": "stdout",
     "output_type": "stream",
     "text": [
      "Normal train:  (3590,)\n",
      "Pneumonia train:  (3617,)\n",
      "COVID train:  (70,)\n",
      "*******************************************************\n",
      "Normal test:  (910,)\n",
      "Pneumonia test:  (883,)\n",
      "COVID test:  (27,)\n"
     ]
    }
   ],
   "source": [
    "print(\"Normal train: \",diseaseID_train[diseaseID_train==0].shape)\n",
    "print(\"Pneumonia train: \",diseaseID_train[diseaseID_train==2].shape)\n",
    "print(\"COVID train: \",diseaseID_train[diseaseID_train==1].shape)\n",
    "print(\"*******************************************************\")\n",
    "print(\"Normal test: \",diseaseID_test[diseaseID_test==0].shape)\n",
    "print(\"Pneumonia test: \",diseaseID_test[diseaseID_test==2].shape)\n",
    "print(\"COVID test: \",diseaseID_test[diseaseID_test==1].shape)"
   ]
  },
  {
   "cell_type": "code",
   "execution_count": 13,
   "metadata": {},
   "outputs": [
    {
     "name": "stdout",
     "output_type": "stream",
     "text": [
      "(1750, 180, 180, 3)\n",
      "(1750,)\n",
      "(9027, 180, 180, 3)\n",
      "(9027,)\n"
     ]
    }
   ],
   "source": [
    "from codvidutils import nwpic as nw\n",
    "\"\"\"\n",
    "News images to train \n",
    "\"\"\"\n",
    "X_train_news = nw.new_pictures_arrays(X_train[diseaseID_train==1])\n",
    "print(X_train_news.shape)\n",
    "diseaseID_train_news = np.ones(X_train_news.shape[0])\n",
    "print(diseaseID_train_news.shape)\n",
    "X_train = X_train[:,10:190,10:190]\n",
    "X_train = np.concatenate([X_train,X_train_news],axis=0)\n",
    "diseaseID_train = np.concatenate([diseaseID_train,diseaseID_train_news],axis=0)\n",
    "del X_train_news, diseaseID_train_news\n",
    "print(X_train.shape)\n",
    "print(diseaseID_train.shape)"
   ]
  },
  {
   "cell_type": "code",
   "execution_count": 14,
   "metadata": {},
   "outputs": [
    {
     "name": "stdout",
     "output_type": "stream",
     "text": [
      "(675, 180, 180, 3)\n",
      "(675,)\n",
      "(2495, 180, 180, 3)\n",
      "(2495,)\n"
     ]
    }
   ],
   "source": [
    "\"\"\"\n",
    "News images to test \n",
    "\"\"\"\n",
    "X_test_news = nw.new_pictures_arrays(X_test[diseaseID_test==1])\n",
    "print(X_test_news.shape)\n",
    "diseaseID_test_news = np.ones(X_test_news.shape[0])\n",
    "print(diseaseID_test_news.shape)\n",
    "X_test = X_test[:,10:190,10:190]\n",
    "X_test = np.concatenate([X_test,X_test_news],axis=0)\n",
    "diseaseID_test = np.concatenate([diseaseID_test,diseaseID_test_news],axis=0)\n",
    "del X_test_news, diseaseID_test_news\n",
    "print(X_test.shape)\n",
    "print(diseaseID_test.shape)"
   ]
  },
  {
   "cell_type": "code",
   "execution_count": 15,
   "metadata": {},
   "outputs": [],
   "source": [
    "Y_train = np.copy(diseaseID_train)\n",
    "del diseaseID_train\n",
    "Y_train[Y_train==2]=0\n",
    "Y_test = np.copy(diseaseID_test)\n",
    "Y_test[Y_test==2]=0\n",
    "\n",
    "X_test = X_test/255\n",
    "X_train = X_train/255"
   ]
  },
  {
   "cell_type": "markdown",
   "metadata": {},
   "source": [
    "## Deep model"
   ]
  },
  {
   "cell_type": "code",
   "execution_count": 16,
   "metadata": {},
   "outputs": [],
   "source": [
    "def inception_block (previous_layer,filters =[64,128,32,32]):\n",
    "    conv1x1 = Conv2D(filters=filters[0], kernel_size=(1,1), activation='relu')(previous_layer)\n",
    "    conv1x1_2 = Conv2D(filters=filters[1], kernel_size=(1,1), activation='relu')(previous_layer)\n",
    "    conv1x1_3 = Conv2D(filters=filters[2], kernel_size=(1,1), activation='relu')(previous_layer)\n",
    "    conv3x3 = Conv2D(filters=filters[1], kernel_size=(3,3), activation='relu',padding=\"same\")(conv1x1_2)\n",
    "    conv5x5 = Conv2D(filters=filters[2], kernel_size=(5,5), activation='relu',padding=\"same\")(conv1x1_3)\n",
    "    max_pool= MaxPooling2D(pool_size=(3,3),padding=\"same\",strides=1)(previous_layer)\n",
    "    conv_max = Conv2D(filters=filters[3], kernel_size=(1,1), activation='relu',padding=\"same\")(max_pool)\n",
    "    inception = concatenate([conv1x1, conv3x3,conv5x5,conv_max])\n",
    "    return inception"
   ]
  },
  {
   "cell_type": "code",
   "execution_count": 28,
   "metadata": {
    "scrolled": true
   },
   "outputs": [
    {
     "name": "stdout",
     "output_type": "stream",
     "text": [
      "__________________________________________________________________________________________________\n",
      "Layer (type)                    Output Shape         Param #     Connected to                     \n",
      "==================================================================================================\n",
      "input_2 (InputLayer)            (None, 180, 180, 3)  0                                            \n",
      "__________________________________________________________________________________________________\n",
      "conv2d_40 (Conv2D)              (None, 180, 180, 32) 128         input_2[0][0]                    \n",
      "__________________________________________________________________________________________________\n",
      "conv2d_41 (Conv2D)              (None, 180, 180, 8)  32          input_2[0][0]                    \n",
      "__________________________________________________________________________________________________\n",
      "max_pooling2d_13 (MaxPooling2D) (None, 180, 180, 3)  0           input_2[0][0]                    \n",
      "__________________________________________________________________________________________________\n",
      "conv2d_39 (Conv2D)              (None, 180, 180, 16) 64          input_2[0][0]                    \n",
      "__________________________________________________________________________________________________\n",
      "conv2d_42 (Conv2D)              (None, 180, 180, 32) 9248        conv2d_40[0][0]                  \n",
      "__________________________________________________________________________________________________\n",
      "conv2d_43 (Conv2D)              (None, 180, 180, 8)  1608        conv2d_41[0][0]                  \n",
      "__________________________________________________________________________________________________\n",
      "conv2d_44 (Conv2D)              (None, 180, 180, 8)  32          max_pooling2d_13[0][0]           \n",
      "__________________________________________________________________________________________________\n",
      "concatenate_7 (Concatenate)     (None, 180, 180, 64) 0           conv2d_39[0][0]                  \n",
      "                                                                 conv2d_42[0][0]                  \n",
      "                                                                 conv2d_43[0][0]                  \n",
      "                                                                 conv2d_44[0][0]                  \n",
      "__________________________________________________________________________________________________\n",
      "max_pooling2d_14 (MaxPooling2D) (None, 90, 90, 64)   0           concatenate_7[0][0]              \n",
      "__________________________________________________________________________________________________\n",
      "conv2d_46 (Conv2D)              (None, 90, 90, 128)  8320        max_pooling2d_14[0][0]           \n",
      "__________________________________________________________________________________________________\n",
      "conv2d_47 (Conv2D)              (None, 90, 90, 32)   2080        max_pooling2d_14[0][0]           \n",
      "__________________________________________________________________________________________________\n",
      "max_pooling2d_15 (MaxPooling2D) (None, 90, 90, 64)   0           max_pooling2d_14[0][0]           \n",
      "__________________________________________________________________________________________________\n",
      "conv2d_45 (Conv2D)              (None, 90, 90, 64)   4160        max_pooling2d_14[0][0]           \n",
      "__________________________________________________________________________________________________\n",
      "conv2d_48 (Conv2D)              (None, 90, 90, 128)  147584      conv2d_46[0][0]                  \n",
      "__________________________________________________________________________________________________\n",
      "conv2d_49 (Conv2D)              (None, 90, 90, 32)   25632       conv2d_47[0][0]                  \n",
      "__________________________________________________________________________________________________\n",
      "conv2d_50 (Conv2D)              (None, 90, 90, 32)   2080        max_pooling2d_15[0][0]           \n",
      "__________________________________________________________________________________________________\n",
      "concatenate_8 (Concatenate)     (None, 90, 90, 256)  0           conv2d_45[0][0]                  \n",
      "                                                                 conv2d_48[0][0]                  \n",
      "                                                                 conv2d_49[0][0]                  \n",
      "                                                                 conv2d_50[0][0]                  \n",
      "__________________________________________________________________________________________________\n",
      "max_pooling2d_16 (MaxPooling2D) (None, 45, 45, 256)  0           concatenate_8[0][0]              \n",
      "__________________________________________________________________________________________________\n",
      "conv2d_52 (Conv2D)              (None, 45, 45, 128)  32896       max_pooling2d_16[0][0]           \n",
      "__________________________________________________________________________________________________\n",
      "conv2d_53 (Conv2D)              (None, 45, 45, 32)   8224        max_pooling2d_16[0][0]           \n",
      "__________________________________________________________________________________________________\n",
      "max_pooling2d_17 (MaxPooling2D) (None, 45, 45, 256)  0           max_pooling2d_16[0][0]           \n",
      "__________________________________________________________________________________________________\n",
      "conv2d_51 (Conv2D)              (None, 45, 45, 64)   16448       max_pooling2d_16[0][0]           \n",
      "__________________________________________________________________________________________________\n",
      "conv2d_54 (Conv2D)              (None, 45, 45, 128)  147584      conv2d_52[0][0]                  \n",
      "__________________________________________________________________________________________________\n",
      "conv2d_55 (Conv2D)              (None, 45, 45, 32)   25632       conv2d_53[0][0]                  \n",
      "__________________________________________________________________________________________________\n",
      "conv2d_56 (Conv2D)              (None, 45, 45, 32)   8224        max_pooling2d_17[0][0]           \n",
      "__________________________________________________________________________________________________\n",
      "concatenate_9 (Concatenate)     (None, 45, 45, 256)  0           conv2d_51[0][0]                  \n",
      "                                                                 conv2d_54[0][0]                  \n",
      "                                                                 conv2d_55[0][0]                  \n",
      "                                                                 conv2d_56[0][0]                  \n",
      "__________________________________________________________________________________________________\n",
      "max_pooling2d_18 (MaxPooling2D) (None, 22, 22, 256)  0           concatenate_9[0][0]              \n",
      "__________________________________________________________________________________________________\n",
      "conv2d_58 (Conv2D)              (None, 22, 22, 128)  32896       max_pooling2d_18[0][0]           \n",
      "__________________________________________________________________________________________________\n",
      "conv2d_59 (Conv2D)              (None, 22, 22, 32)   8224        max_pooling2d_18[0][0]           \n",
      "__________________________________________________________________________________________________\n",
      "max_pooling2d_19 (MaxPooling2D) (None, 22, 22, 256)  0           max_pooling2d_18[0][0]           \n",
      "__________________________________________________________________________________________________\n",
      "conv2d_57 (Conv2D)              (None, 22, 22, 64)   16448       max_pooling2d_18[0][0]           \n",
      "__________________________________________________________________________________________________\n",
      "conv2d_60 (Conv2D)              (None, 22, 22, 128)  147584      conv2d_58[0][0]                  \n",
      "__________________________________________________________________________________________________\n",
      "conv2d_61 (Conv2D)              (None, 22, 22, 32)   25632       conv2d_59[0][0]                  \n",
      "__________________________________________________________________________________________________\n",
      "conv2d_62 (Conv2D)              (None, 22, 22, 32)   8224        max_pooling2d_19[0][0]           \n",
      "__________________________________________________________________________________________________\n",
      "concatenate_10 (Concatenate)    (None, 22, 22, 256)  0           conv2d_57[0][0]                  \n",
      "                                                                 conv2d_60[0][0]                  \n",
      "                                                                 conv2d_61[0][0]                  \n",
      "                                                                 conv2d_62[0][0]                  \n",
      "__________________________________________________________________________________________________\n",
      "max_pooling2d_20 (MaxPooling2D) (None, 11, 11, 256)  0           concatenate_10[0][0]             \n",
      "__________________________________________________________________________________________________\n",
      "conv2d_64 (Conv2D)              (None, 11, 11, 128)  32896       max_pooling2d_20[0][0]           \n",
      "__________________________________________________________________________________________________\n",
      "conv2d_65 (Conv2D)              (None, 11, 11, 32)   8224        max_pooling2d_20[0][0]           \n",
      "__________________________________________________________________________________________________\n",
      "max_pooling2d_21 (MaxPooling2D) (None, 11, 11, 256)  0           max_pooling2d_20[0][0]           \n",
      "__________________________________________________________________________________________________\n",
      "conv2d_63 (Conv2D)              (None, 11, 11, 64)   16448       max_pooling2d_20[0][0]           \n",
      "__________________________________________________________________________________________________\n",
      "conv2d_66 (Conv2D)              (None, 11, 11, 128)  147584      conv2d_64[0][0]                  \n",
      "__________________________________________________________________________________________________\n",
      "conv2d_67 (Conv2D)              (None, 11, 11, 32)   25632       conv2d_65[0][0]                  \n",
      "__________________________________________________________________________________________________\n",
      "conv2d_68 (Conv2D)              (None, 11, 11, 32)   8224        max_pooling2d_21[0][0]           \n",
      "__________________________________________________________________________________________________\n",
      "concatenate_11 (Concatenate)    (None, 11, 11, 256)  0           conv2d_63[0][0]                  \n",
      "                                                                 conv2d_66[0][0]                  \n",
      "                                                                 conv2d_67[0][0]                  \n",
      "                                                                 conv2d_68[0][0]                  \n",
      "__________________________________________________________________________________________________\n",
      "max_pooling2d_22 (MaxPooling2D) (None, 5, 5, 256)    0           concatenate_11[0][0]             \n",
      "__________________________________________________________________________________________________\n",
      "conv2d_70 (Conv2D)              (None, 5, 5, 128)    32896       max_pooling2d_22[0][0]           \n",
      "__________________________________________________________________________________________________\n",
      "conv2d_71 (Conv2D)              (None, 5, 5, 32)     8224        max_pooling2d_22[0][0]           \n",
      "__________________________________________________________________________________________________\n",
      "max_pooling2d_23 (MaxPooling2D) (None, 5, 5, 256)    0           max_pooling2d_22[0][0]           \n",
      "__________________________________________________________________________________________________\n",
      "conv2d_69 (Conv2D)              (None, 5, 5, 64)     16448       max_pooling2d_22[0][0]           \n",
      "__________________________________________________________________________________________________\n",
      "conv2d_72 (Conv2D)              (None, 5, 5, 128)    147584      conv2d_70[0][0]                  \n",
      "__________________________________________________________________________________________________\n",
      "conv2d_73 (Conv2D)              (None, 5, 5, 32)     25632       conv2d_71[0][0]                  \n",
      "__________________________________________________________________________________________________\n",
      "conv2d_74 (Conv2D)              (None, 5, 5, 32)     8224        max_pooling2d_23[0][0]           \n",
      "__________________________________________________________________________________________________\n",
      "concatenate_12 (Concatenate)    (None, 5, 5, 256)    0           conv2d_69[0][0]                  \n",
      "                                                                 conv2d_72[0][0]                  \n",
      "                                                                 conv2d_73[0][0]                  \n",
      "                                                                 conv2d_74[0][0]                  \n",
      "__________________________________________________________________________________________________\n",
      "max_pooling2d_24 (MaxPooling2D) (None, 1, 1, 256)    0           concatenate_12[0][0]             \n",
      "__________________________________________________________________________________________________\n",
      "conv2d_75 (Conv2D)              (None, 1, 1, 128)    32896       max_pooling2d_24[0][0]           \n",
      "__________________________________________________________________________________________________\n",
      "conv2d_76 (Conv2D)              (None, 1, 1, 32)     4128        conv2d_75[0][0]                  \n",
      "__________________________________________________________________________________________________\n",
      "flatten_2 (Flatten)             (None, 32)           0           conv2d_76[0][0]                  \n",
      "__________________________________________________________________________________________________\n",
      "dense_2 (Dense)                 (None, 1)            33          flatten_2[0][0]                  \n",
      "==================================================================================================\n",
      "Total params: 1,194,057\n",
      "Trainable params: 1,194,057\n",
      "Non-trainable params: 0\n",
      "__________________________________________________________________________________________________\n"
     ]
    }
   ],
   "source": [
    "\"\"\"\n",
    "Incep_5 archiquecture using Functional api\n",
    "\"\"\"\n",
    "input_layer = Input(shape= (180,180,3,))\n",
    "inception_1 = inception_block(input_layer,filters =[16,32,8,8])\n",
    "pool_1 = MaxPooling2D()(inception_1)\n",
    "inception_2 = inception_block(pool_1)\n",
    "pool_2 = MaxPooling2D()(inception_2)\n",
    "inception_3 = inception_block(pool_2)\n",
    "pool_3= MaxPooling2D()(inception_3)\n",
    "inception_4 = inception_block(pool_3)\n",
    "pool_4= MaxPooling2D()(inception_4)\n",
    "inception_5 = inception_block(pool_4)\n",
    "pool_5 = MaxPooling2D(pool_size= (2,2))(inception_5)\n",
    "inception_6 = inception_block(pool_5)\n",
    "pool_6= MaxPooling2D(pool_size= (5,5))(inception_6)\n",
    "conv_FC = Conv2D(filters =128,kernel_size =(1,1),activation=\"relu\")(pool_6)\n",
    "first_dense = Conv2D(filters =32,kernel_size =(1,1),activation=\"relu\")(conv_FC)\n",
    "#sec_dense = Conv2D(filters =16,kernel_size =(1,1),activation=\"relu\")(first_dense)\n",
    "flat = Flatten()(first_dense)\n",
    "out_layer= Dense(units =1, activation= \"sigmoid\")(flat)\n",
    "deep = Model(inputs=input_layer, outputs=out_layer)\n",
    "\n",
    "\n",
    "deep.summary()"
   ]
  },
  {
   "cell_type": "code",
   "execution_count": 29,
   "metadata": {},
   "outputs": [
    {
     "name": "stdout",
     "output_type": "stream",
     "text": [
      "Train shape X: (9027, 180, 180, 3),  Y: (9027,) \n",
      " Test shape X: (2495, 180, 180, 3), Y: (2495,)\n"
     ]
    }
   ],
   "source": [
    "print('Train shape X: {},  Y: {} \\n Test shape X: {}, Y: {}'.format(X_train.shape, Y_train.shape, X_test.shape, Y_test.shape))"
   ]
  },
  {
   "cell_type": "code",
   "execution_count": 19,
   "metadata": {},
   "outputs": [
    {
     "name": "stdout",
     "output_type": "stream",
     "text": [
      "1820 7207\n",
      "{0: 0.20161737011188657, 1: 0.7983826298881135}\n"
     ]
    }
   ],
   "source": [
    "\"\"\"\n",
    "Weighted loss\n",
    "\"\"\"\n",
    "covid_count, no_covid_count = Y_train[Y_train==1].shape[0],Y_train[Y_train==0].shape[0]\n",
    "total_count = covid_count + no_covid_count\n",
    "print(covid_count, no_covid_count)\n",
    "weight_no_covid = covid_count / total_count\n",
    "weight_covid = no_covid_count / total_count\n",
    "dic_weights = {0: weight_no_covid, 1: weight_covid}\n",
    "print(dic_weights)"
   ]
  },
  {
   "cell_type": "code",
   "execution_count": 30,
   "metadata": {
    "scrolled": false
   },
   "outputs": [
    {
     "name": "stdout",
     "output_type": "stream",
     "text": [
      "Train on 9027 samples, validate on 2495 samples\n",
      "Epoch 1/12\n",
      " - 51s - loss: 0.1696 - acc: 0.7077 - mean_squared_error: 0.1798 - val_loss: 0.4557 - val_acc: 0.7659 - val_mean_squared_error: 0.1514\n",
      "\n",
      "Epoch 00001: val_acc improved from -inf to 0.76593, saving model to Inception_bestmodel_trained.hdf5\n",
      "Epoch 2/12\n",
      " - 45s - loss: 0.1044 - acc: 0.8489 - mean_squared_error: 0.1054 - val_loss: 0.2570 - val_acc: 0.9082 - val_mean_squared_error: 0.0728\n",
      "\n",
      "Epoch 00002: val_acc improved from 0.76593 to 0.90822, saving model to Inception_bestmodel_trained.hdf5\n",
      "Epoch 3/12\n",
      " - 45s - loss: 0.0614 - acc: 0.9159 - mean_squared_error: 0.0617 - val_loss: 0.2531 - val_acc: 0.9110 - val_mean_squared_error: 0.0682\n",
      "\n",
      "Epoch 00003: val_acc improved from 0.90822 to 0.91102, saving model to Inception_bestmodel_trained.hdf5\n",
      "Epoch 4/12\n",
      " - 45s - loss: 0.0362 - acc: 0.9519 - mean_squared_error: 0.0357 - val_loss: 0.2749 - val_acc: 0.9066 - val_mean_squared_error: 0.0688\n",
      "\n",
      "Epoch 00004: val_acc did not improve\n",
      "Epoch 5/12\n",
      " - 45s - loss: 0.0289 - acc: 0.9618 - mean_squared_error: 0.0282 - val_loss: 0.3876 - val_acc: 0.8890 - val_mean_squared_error: 0.0837\n",
      "\n",
      "Epoch 00005: val_acc did not improve\n",
      "Epoch 6/12\n",
      " - 45s - loss: 0.0215 - acc: 0.9733 - mean_squared_error: 0.0203 - val_loss: 0.3104 - val_acc: 0.9134 - val_mean_squared_error: 0.0658\n",
      "\n",
      "Epoch 00006: val_acc improved from 0.91102 to 0.91343, saving model to Inception_bestmodel_trained.hdf5\n",
      "Epoch 7/12\n",
      " - 45s - loss: 0.0182 - acc: 0.9764 - mean_squared_error: 0.0174 - val_loss: 0.2963 - val_acc: 0.9214 - val_mean_squared_error: 0.0624\n",
      "\n",
      "Epoch 00007: val_acc improved from 0.91343 to 0.92144, saving model to Inception_bestmodel_trained.hdf5\n",
      "Epoch 8/12\n",
      " - 45s - loss: 0.0103 - acc: 0.9879 - mean_squared_error: 0.0096 - val_loss: 0.4170 - val_acc: 0.8934 - val_mean_squared_error: 0.0804\n",
      "\n",
      "Epoch 00008: val_acc did not improve\n",
      "Epoch 9/12\n",
      " - 45s - loss: 0.0057 - acc: 0.9946 - mean_squared_error: 0.0047 - val_loss: 0.5394 - val_acc: 0.8854 - val_mean_squared_error: 0.0979\n",
      "\n",
      "Epoch 00009: val_acc did not improve\n",
      "Epoch 10/12\n",
      " - 45s - loss: 0.0088 - acc: 0.9898 - mean_squared_error: 0.0080 - val_loss: 0.3423 - val_acc: 0.9130 - val_mean_squared_error: 0.0699\n",
      "\n",
      "Epoch 00010: val_acc did not improve\n",
      "Epoch 11/12\n",
      " - 45s - loss: 0.0125 - acc: 0.9862 - mean_squared_error: 0.0110 - val_loss: 0.5197 - val_acc: 0.8549 - val_mean_squared_error: 0.1164\n",
      "\n",
      "Epoch 00011: val_acc did not improve\n",
      "Epoch 12/12\n",
      " - 45s - loss: 0.0135 - acc: 0.9839 - mean_squared_error: 0.0126 - val_loss: 0.4184 - val_acc: 0.9102 - val_mean_squared_error: 0.0732\n",
      "\n",
      "Epoch 00012: val_acc did not improve\n"
     ]
    }
   ],
   "source": [
    "from keras.callbacks import ModelCheckpoint\n",
    "ASG = keras.optimizers.Adam(lr=0.0001, beta_1=0.9, beta_2=0.999, amsgrad=True)\n",
    "filepath=\"Inception_bestmodel_trained.hdf5\"\n",
    "checkpoint = ModelCheckpoint(filepath, monitor='val_acc', verbose=1, save_best_only=True, mode='max')\n",
    "\n",
    "deep.compile(optimizer=ASG, loss='binary_crossentropy', metrics=['acc',\"mse\"])\n",
    "history = deep.fit(X_train, Y_train, epochs=12, batch_size=32, callbacks= [checkpoint],verbose=2, class_weight=dic_weights,validation_data=(X_test, Y_test))\n"
   ]
  },
  {
   "cell_type": "code",
   "execution_count": 31,
   "metadata": {},
   "outputs": [
    {
     "data": {
      "text/plain": [
       "(2495, 1)"
      ]
     },
     "execution_count": 31,
     "metadata": {},
     "output_type": "execute_result"
    }
   ],
   "source": [
    "pred = deep.predict(X_test)\n",
    "pred.shape"
   ]
  },
  {
   "cell_type": "code",
   "execution_count": 32,
   "metadata": {},
   "outputs": [
    {
     "name": "stdout",
     "output_type": "stream",
     "text": [
      "0.9604992825851721\n"
     ]
    }
   ],
   "source": [
    "from sklearn.metrics import roc_curve, auc\n",
    "fpr, tpr, thresold = roc_curve(Y_test,pred)\n",
    "roc_auc = auc(fpr,tpr)\n",
    "print(roc_auc)"
   ]
  },
  {
   "cell_type": "code",
   "execution_count": 35,
   "metadata": {},
   "outputs": [],
   "source": [
    "from keras.models import load_model\n",
    "model = load_model(\"Inception_bestmodel_trained.hdf5\")\n",
    "pred_best = model.predict(X_test)"
   ]
  },
  {
   "cell_type": "code",
   "execution_count": 46,
   "metadata": {
    "scrolled": true
   },
   "outputs": [
    {
     "name": "stdout",
     "output_type": "stream",
     "text": [
      "[[1770   23]\n",
      " [   6   21]] \n",
      " [[0.98717234 0.01282766]\n",
      " [0.22222222 0.77777778]]\n",
      "Best model\n",
      "[[1713   80]\n",
      " [   5   22]] \n",
      " [[0.95538204 0.04461796]\n",
      " [0.18518519 0.81481481]]\n"
     ]
    }
   ],
   "source": [
    "from sklearn.metrics import confusion_matrix\n",
    "from sklearn.preprocessing import normalize\n",
    "cm = confusion_matrix(Y_test[:1820], pred[:1820].round())\n",
    "cm_norm = normalize(cm, norm = 'l1')\n",
    "print(cm, \"\\n\", cm_norm)\n",
    "\n",
    "print(\"Best model\")\n",
    "cm= confusion_matrix(Y_test[:1820], pred_best[:1820].round())\n",
    "cm_norm = normalize(cm, norm = 'l1')\n",
    "print(cm, \"\\n\",cm_norm)"
   ]
  },
  {
   "cell_type": "code",
   "execution_count": 47,
   "metadata": {},
   "outputs": [
    {
     "name": "stdout",
     "output_type": "stream",
     "text": [
      "[[1770   23]\n",
      " [ 201  501]] \n",
      " [[0.98717234 0.01282766]\n",
      " [0.28632479 0.71367521]]\n",
      "Best model\n",
      "[[1713   80]\n",
      " [ 116  586]] \n",
      " [[0.95538204 0.04461796]\n",
      " [0.16524217 0.83475783]]\n"
     ]
    }
   ],
   "source": [
    "from sklearn.metrics import confusion_matrix\n",
    "cm = confusion_matrix(Y_test, pred.round())\n",
    "cm_norm = normalize(cm, norm = 'l1')\n",
    "print(cm, \"\\n\", cm_norm)\n",
    "print(\"Best model\")\n",
    "cm= confusion_matrix(Y_test, pred_best.round())\n",
    "cm_norm = normalize(cm, norm = 'l1')\n",
    "print(cm, \"\\n\", cm_norm)"
   ]
  },
  {
   "cell_type": "code",
   "execution_count": 48,
   "metadata": {},
   "outputs": [
    {
     "data": {
      "text/plain": [
       "(1793,)"
      ]
     },
     "execution_count": 48,
     "metadata": {},
     "output_type": "execute_result"
    }
   ],
   "source": [
    "Y_test[Y_test==0].shape"
   ]
  },
  {
   "cell_type": "code",
   "execution_count": 49,
   "metadata": {},
   "outputs": [
    {
     "data": {
      "image/png": "[encoded data removed]",
      "text/plain": [
       "<Figure size 576x576 with 1 Axes>"
      ]
     },
     "metadata": {
      "needs_background": "light"
     },
     "output_type": "display_data"
    }
   ],
   "source": [
    "fig,ax = plt.subplots(nrows=1,ncols=1,figsize=(8,8))#,6\n",
    "\n",
    "plt.grid(True)\n",
    "plt.plot(history.history[\"acc\"], color=\"blue\", label=\"Training data set\")\n",
    "plt.plot(history.history[\"val_acc\"], color=\"orange\", label=\"Testing data set\")\n",
    "plt.ylabel('Accuracy as metric')\n",
    "plt.xlabel('Epochs')\n",
    "plt.legend(loc='upper center')\n",
    "plt.show()"
   ]
  },
  {
   "cell_type": "code",
   "execution_count": 50,
   "metadata": {},
   "outputs": [
    {
     "data": {
      "image/png": "[encoded data removed]",
      "text/plain": [
       "<Figure size 576x576 with 1 Axes>"
      ]
     },
     "metadata": {
      "needs_background": "light"
     },
     "output_type": "display_data"
    }
   ],
   "source": [
    "fig,ax = plt.subplots(nrows=1,ncols=1,figsize=(8,8))#,6\n",
    "plt.style.use('seaborn-deep') \n",
    "plt.grid(True)\n",
    "\n",
    "lw=2\n",
    "plt.hist(pred[(Y_test==0)],50,histtype='step',lw=lw,color='darkorange', label= \"No COVID radiographs\")\n",
    "plt.hist(pred[(Y_test==1)],50,histtype='step',lw=lw,color='blue', label= \"COVID radiographs\")\n",
    "plt.ylabel('Number of events /0.01')\n",
    "plt.xlabel('Score')\n",
    "plt.yscale(\"log\")\n",
    "plt.legend( loc='upper center')\n",
    "plt.show()"
   ]
  },
  {
   "cell_type": "code",
   "execution_count": 51,
   "metadata": {},
   "outputs": [
    {
     "data": {
      "image/png": "[encoded data removed]",
      "text/plain": [
       "<Figure size 576x576 with 1 Axes>"
      ]
     },
     "metadata": {
      "needs_background": "light"
     },
     "output_type": "display_data"
    }
   ],
   "source": [
    "fig,ax = plt.subplots(nrows=1,ncols=1,figsize=(8,8))#,6\n",
    "plt.style.use('seaborn-deep') \n",
    "plt.grid(True)\n",
    "\n",
    "lw=2\n",
    "plt.hist(pred[(diseaseID_test==0)],50,histtype='step',lw=lw,color='darkorange', label= \"No ill radiographs\")\n",
    "plt.hist(pred[(diseaseID_test==2)],50,histtype='step',lw=lw,color='red', label= \"Pneumonia radiographs\")\n",
    "plt.hist(pred[(diseaseID_test==1)],50,histtype='step',lw=lw,color='blue', label= \"Original COVID radiographs\")\n",
    "#plt.hist(pred[1953:],50,histtype='step',lw=lw,color='green', label= \"Created COVID radiographs\")\n",
    "\n",
    "plt.ylabel('Number of events /0.02')\n",
    "plt.xlabel('Score')\n",
    "plt.yscale(\"log\")\n",
    "plt.legend( loc='upper center')\n",
    "plt.show()"
   ]
  },
  {
   "cell_type": "code",
   "execution_count": 52,
   "metadata": {},
   "outputs": [
    {
     "data": {
      "image/png": "[encoded data removed]",
      "text/plain": [
       "<Figure size 576x576 with 1 Axes>"
      ]
     },
     "metadata": {
      "needs_background": "light"
     },
     "output_type": "display_data"
    }
   ],
   "source": [
    "fig,ax = plt.subplots(nrows=1,ncols=1,figsize=(8,8))#,6\n",
    "plt.style.use('seaborn-deep') \n",
    "#plt.title(\"Simulation\", weight=\"bold\", x=0.50)\n",
    "plt.grid(True)\n",
    "#yticks(np.arange(0.97, 1, step=0.005))\n",
    "lw = 2\n",
    "plt.plot(fpr, tpr, color='orange',lw=2, label='ROC-curve (AUC = %0.3f)' % (roc_auc))\n",
    "\n",
    "\n",
    "plt.ylabel('True Positive Rate')\n",
    "plt.xlabel('False Positive Rate')\n",
    "\n",
    "#plt.title(\"Simulation Preliminary\", color = '#e159e1',loc=\"left\", weight=\"bold\", size=\"large\")\n",
    "plt.legend(loc=\"lower right\")\n",
    "plt.show()"
   ]
  },
  {
   "cell_type": "code",
   "execution_count": null,
   "metadata": {},
   "outputs": [],
   "source": []
  }
 ],
 "metadata": {
  "kernelspec": {
   "display_name": "Python 3",
   "language": "python",
   "name": "python3"
  },
  "language_info": {
   "codemirror_mode": {
    "name": "ipython",
    "version": 3
   },
   "file_extension": ".py",
   "mimetype": "text/x-python",
   "name": "python",
   "nbconvert_exporter": "python",
   "pygments_lexer": "ipython3",
   "version": "3.5.4"
  }
 },
 "nbformat": 4,
 "nbformat_minor": 2
}
