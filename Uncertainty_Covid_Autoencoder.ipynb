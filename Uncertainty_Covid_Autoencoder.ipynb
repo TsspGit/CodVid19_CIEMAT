{
 "cells": [
  {
   "cell_type": "code",
   "execution_count": 3,
   "metadata": {},
   "outputs": [],
   "source": [
    "''' RNN Bidireccional en Keras '''\n",
    "__author__ = '@Tssp'\n",
    "import numpy as np\n",
    "import pandas as pd\n",
    "import os\n",
    "import matplotlib.pyplot as plt\n",
    "from codvidutils.Transformation_class import Transformation\n",
    "import tensorflow as tf\n",
    "from keras.layers import Conv2D, Input, Dense, MaxPooling2D, UpSampling2D, Flatten, Dropout\n",
    "from tensorflow.keras.regularizers import l2\n",
    "from keras.models import Model, Sequential\n",
    "from keras.callbacks import ModelCheckpoint\n",
    "from keras.models import load_model\n",
    "from keras.optimizers import Adam"
   ]
  },
  {
   "cell_type": "code",
   "execution_count": 2,
   "metadata": {},
   "outputs": [
    {
     "name": "stdout",
     "output_type": "stream",
     "text": [
      "You are going to read from: data/train_split_v4.csv and data/test_split_v4.csv\n",
      "Total number of images: 1540\n",
      "shape X: 13600 1540,  disease_ID (Y): 13600 1540\n",
      "Count of classes:  Counter({0: 7966, 2: 5447, 1: 187})\n",
      "New diseaseID shape:  (9097,)\n",
      "New X shape:  (9097, 120000)\n",
      "New Count of classes:  Counter({0: 4500, 2: 4500, 1: 97})\n",
      "Undersample shapes:\n",
      "diseaseID_train.shape: (9097,)\n",
      "X_train.shape: (9097, 120000)\n",
      "X_train.shape: (9097, 200, 200, 3)\n",
      "X_test.shape: (1540, 200, 200, 3)\n",
      "Normal train:  (4500,)\n",
      "Pneumonia train:  (4500,)\n",
      "COVID train:  (97,)\n",
      "*******************************************************\n",
      "Normal test:  (885,)\n",
      "Pneumonia test:  (591,)\n",
      "COVID test:  (64,)\n",
      "(2425, 180, 180, 3)\n",
      "(2425,)\n",
      "X_train.shape:  (11522, 180, 180, 3)\n",
      "diseaseID_train.shape:  (11522,)\n",
      "X_test_news.shape:  (1600, 180, 180, 3)\n",
      "diseaseID_test_news.shape:  (1600,)\n",
      "X_test.shape:  (3140, 180, 180, 3)\n",
      "diseaseID_test.shape:  (3140,)\n"
     ]
    }
   ],
   "source": [
    "trns = Transformation('data/train_split_v4.csv', 'data/test_split_v4.csv')\n",
    "#------------Read images and prepare dataset------------#\n",
    "train_class, test_class = trns.read_imgs_paths()\n",
    "X_train, X_test, diseaseID_train, diseaseID_test = trns.read_imgs(train_class, test_class)\n",
    "del train_class, test_class\n",
    "#------------Imbalanced methods------------#\n",
    "X_train, X_test, diseaseID_train = trns.underbalance(X_train, X_test, diseaseID_train)\n",
    "print('X_train.shape: {}\\nX_test.shape: {}'.format(X_train.shape, X_test.shape))\n",
    "print(\"Normal train: \",diseaseID_train[diseaseID_train==0].shape)\n",
    "print(\"Pneumonia train: \",diseaseID_train[diseaseID_train==2].shape)\n",
    "print(\"COVID train: \",diseaseID_train[diseaseID_train==1].shape)\n",
    "print(\"*******************************************************\")\n",
    "print(\"Normal test: \",diseaseID_test[diseaseID_test==0].shape)\n",
    "print(\"Pneumonia test: \",diseaseID_test[diseaseID_test==2].shape)\n",
    "print(\"COVID test: \",diseaseID_test[diseaseID_test==1].shape)\n",
    "X_train, X_test, diseaseID_train, diseaseID_test = trns.new_imgs(X_train, X_test, diseaseID_train, diseaseID_test)\n",
    "Y_train = np.copy(diseaseID_train)\n",
    "del diseaseID_train\n",
    "Y_train[Y_train==2]=0\n",
    "Y_test = np.copy(diseaseID_test)\n",
    "Y_test[Y_test==2]=0"
   ]
  },
  {
   "cell_type": "code",
   "execution_count": null,
   "metadata": {},
   "outputs": [],
   "source": [
    "def autoencoder(p_drop, p_l2):\n",
    "    input_img = Input(shape=X_train.shape[1:])\n",
    "    encoder = Dropout(rate = p_drop)(input_img)\n",
    "    encoder = Conv2D(256, (3, 3), activation='relu', padding='same', name='Econv2d_1')(input_img)\n",
    "    encoder = MaxPooling2D((2,2), padding='same', name='Emaxpool2d_1')(encoder)\n",
    "    encoder = Dropout(rate = p_drop)(encoder)\n",
    "    encoder = Conv2D(128, (3, 3), activation='relu', padding='same', name='Econv2d_2')(encoder)\n",
    "    encoder = MaxPooling2D((2,2), padding='same', name='Emaxpool2d_2')(encoder)\n",
    "    encoder = Dropout(rate = p_drop)(encoder)\n",
    "    encoder = Conv2D(64, (3, 3), activation='relu', padding='same', name='Econv2d_3')(encoder)\n",
    "    encoder = MaxPooling2D((2,2), padding='same', name='Emaxpool2d_3')(encoder)\n",
    "\n",
    "    encoder = Dropout(rate = p_drop)(encoder)\n",
    "    decoder = Conv2D(64, (3,3), activation='relu', padding='same', name='Dconv2d_1')(encoder)\n",
    "    decoder = UpSampling2D((2, 2), name='Dupsamp_1')(decoder)\n",
    "    encoder = Dropout(rate = p_drop)(encoder)\n",
    "    decoder = Conv2D(128, (3, 3), activation='relu', padding='same', name='Dconv2d_2')(decoder)\n",
    "    decoder = UpSampling2D((2, 2), name='Dupsamp_2')(decoder)\n",
    "    decoder = Conv2D(256, (3, 3), activation='relu', name='Dconv2d_3')(decoder)\n",
    "    decoder = UpSampling2D((2, 2), name='Dupsamp_3')(decoder)\n",
    "    decoder = Conv2D(3, (3, 3), activation='sigmoid', padding='same', name='Dconv2d_out')(decoder)\n",
    "\n",
    "    autoencoder = Model(input_img, decoder)\n",
    "    autoencoder.summary()"
   ]
  }
 ],
 "metadata": {
  "kernelspec": {
   "display_name": "Python 3",
   "language": "python",
   "name": "python3"
  },
  "language_info": {
   "codemirror_mode": {
    "name": "ipython",
    "version": 3
   },
   "file_extension": ".py",
   "mimetype": "text/x-python",
   "name": "python",
   "nbconvert_exporter": "python",
   "pygments_lexer": "ipython3",
   "version": "3.5.4"
  }
 },
 "nbformat": 4,
 "nbformat_minor": 2
}
