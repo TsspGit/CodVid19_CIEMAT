{
 "cells": [
  {
   "cell_type": "code",
   "execution_count": 1,
   "metadata": {},
   "outputs": [],
   "source": [
    "__author__ = '@Tssp'\n",
    "import numpy as np\n",
    "import pandas as pd\n",
    "import os\n",
    "import cv2\n",
    "import matplotlib.pyplot as plt"
   ]
  },
  {
   "cell_type": "markdown",
   "metadata": {},
   "source": [
    "# Class dataframe"
   ]
  },
  {
   "cell_type": "code",
   "execution_count": 2,
   "metadata": {},
   "outputs": [],
   "source": [
    "train_class = pd.read_csv('data/train_split_v2.txt', sep=' ', header=None, names=['patientID', 'image_path', 'class'])\n",
    "test_class = pd.read_csv('data/test_split_v2.txt', sep=' ', header=None, names=['patientID', 'image_path', 'class'])"
   ]
  },
  {
   "cell_type": "code",
   "execution_count": 3,
   "metadata": {},
   "outputs": [
    {
     "data": {
      "text/html": [
       "<div>\n",
       "<style scoped>\n",
       "    .dataframe tbody tr th:only-of-type {\n",
       "        vertical-align: middle;\n",
       "    }\n",
       "\n",
       "    .dataframe tbody tr th {\n",
       "        vertical-align: top;\n",
       "    }\n",
       "\n",
       "    .dataframe thead th {\n",
       "        text-align: right;\n",
       "    }\n",
       "</style>\n",
       "<table border=\"1\" class=\"dataframe\">\n",
       "  <thead>\n",
       "    <tr style=\"text-align: right;\">\n",
       "      <th></th>\n",
       "      <th>patientID</th>\n",
       "      <th>image_path</th>\n",
       "      <th>class</th>\n",
       "    </tr>\n",
       "  </thead>\n",
       "  <tbody>\n",
       "    <tr>\n",
       "      <th>5</th>\n",
       "      <td>19</td>\n",
       "      <td>1-s2.0-S0929664620300449-gr2_lrg-a.jpg</td>\n",
       "      <td>COVID-19</td>\n",
       "    </tr>\n",
       "    <tr>\n",
       "      <th>6</th>\n",
       "      <td>19</td>\n",
       "      <td>1-s2.0-S0929664620300449-gr2_lrg-b.jpg</td>\n",
       "      <td>COVID-19</td>\n",
       "    </tr>\n",
       "    <tr>\n",
       "      <th>7</th>\n",
       "      <td>19</td>\n",
       "      <td>1-s2.0-S0929664620300449-gr2_lrg-c.jpg</td>\n",
       "      <td>COVID-19</td>\n",
       "    </tr>\n",
       "    <tr>\n",
       "      <th>8</th>\n",
       "      <td>19</td>\n",
       "      <td>1-s2.0-S0929664620300449-gr2_lrg-d.jpg</td>\n",
       "      <td>COVID-19</td>\n",
       "    </tr>\n",
       "    <tr>\n",
       "      <th>9</th>\n",
       "      <td>20</td>\n",
       "      <td>covid-19-pneumonia-15-PA.jpg</td>\n",
       "      <td>COVID-19</td>\n",
       "    </tr>\n",
       "    <tr>\n",
       "      <th>10</th>\n",
       "      <td>36</td>\n",
       "      <td>8FDE8DBA-CFBD-4B4C-B1A4-6F36A93B7E87.jpeg</td>\n",
       "      <td>COVID-19</td>\n",
       "    </tr>\n",
       "    <tr>\n",
       "      <th>11</th>\n",
       "      <td>36</td>\n",
       "      <td>9C34AF49-E589-44D5-92D3-168B3B04E4A6.jpeg</td>\n",
       "      <td>COVID-19</td>\n",
       "    </tr>\n",
       "    <tr>\n",
       "      <th>12</th>\n",
       "      <td>42</td>\n",
       "      <td>1B734A89-A1BF-49A8-A1D3-66FAFA4FAC5D.jpeg</td>\n",
       "      <td>COVID-19</td>\n",
       "    </tr>\n",
       "    <tr>\n",
       "      <th>13</th>\n",
       "      <td>86</td>\n",
       "      <td>B2D20576-00B7-4519-A415-72DE29C90C34.jpeg</td>\n",
       "      <td>COVID-19</td>\n",
       "    </tr>\n",
       "    <tr>\n",
       "      <th>14</th>\n",
       "      <td>86</td>\n",
       "      <td>6C94A287-C059-46A0-8600-AFB95F4727B7.jpeg</td>\n",
       "      <td>COVID-19</td>\n",
       "    </tr>\n",
       "  </tbody>\n",
       "</table>\n",
       "</div>"
      ],
      "text/plain": [
       "   patientID                                 image_path     class\n",
       "5         19     1-s2.0-S0929664620300449-gr2_lrg-a.jpg  COVID-19\n",
       "6         19     1-s2.0-S0929664620300449-gr2_lrg-b.jpg  COVID-19\n",
       "7         19     1-s2.0-S0929664620300449-gr2_lrg-c.jpg  COVID-19\n",
       "8         19     1-s2.0-S0929664620300449-gr2_lrg-d.jpg  COVID-19\n",
       "9         20               covid-19-pneumonia-15-PA.jpg  COVID-19\n",
       "10        36  8FDE8DBA-CFBD-4B4C-B1A4-6F36A93B7E87.jpeg  COVID-19\n",
       "11        36  9C34AF49-E589-44D5-92D3-168B3B04E4A6.jpeg  COVID-19\n",
       "12        42  1B734A89-A1BF-49A8-A1D3-66FAFA4FAC5D.jpeg  COVID-19\n",
       "13        86  B2D20576-00B7-4519-A415-72DE29C90C34.jpeg  COVID-19\n",
       "14        86  6C94A287-C059-46A0-8600-AFB95F4727B7.jpeg  COVID-19"
      ]
     },
     "execution_count": 3,
     "metadata": {},
     "output_type": "execute_result"
    }
   ],
   "source": [
    "test_class[test_class['class'] == 'COVID-19']"
   ]
  },
  {
   "cell_type": "markdown",
   "metadata": {},
   "source": [
    "# Pics sets"
   ]
  },
  {
   "cell_type": "code",
   "execution_count": 4,
   "metadata": {},
   "outputs": [],
   "source": [
    "train_pics = []\n",
    "for img in train_class['image_path'].values:\n",
    "    train_pics.append(cv2.imread('data/train/' + img))"
   ]
  },
  {
   "cell_type": "code",
   "execution_count": 5,
   "metadata": {},
   "outputs": [],
   "source": [
    "test_pics = []\n",
    "for img in test_class['image_path'].values:\n",
    "    test_pics.append(cv2.imread('data/test/' + img))"
   ]
  },
  {
   "cell_type": "code",
   "execution_count": 6,
   "metadata": {},
   "outputs": [
    {
     "data": {
      "text/plain": [
       "<matplotlib.image.AxesImage at 0x11a7f03d0>"
      ]
     },
     "execution_count": 6,
     "metadata": {},
     "output_type": "execute_result"
    },
    {
     "data": {
      "image/png": "[encoded data removed]",
      "text/plain": [
       "<Figure size 432x288 with 1 Axes>"
      ]
     },
     "metadata": {
      "needs_background": "light"
     },
     "output_type": "display_data"
    }
   ],
   "source": [
    "plt.imshow(test_pics[2])"
   ]
  },
  {
   "cell_type": "code",
   "execution_count": 9,
   "metadata": {},
   "outputs": [
    {
     "data": {
      "text/plain": [
       "(1953, 200, 200, 3)"
      ]
     },
     "execution_count": 9,
     "metadata": {},
     "output_type": "execute_result"
    }
   ],
   "source": [
    "np.array(test_pics).shape"
   ]
  },
  {
   "cell_type": "code",
   "execution_count": 19,
   "metadata": {},
   "outputs": [],
   "source": [
    "test_pics = []\n",
    "for img in test_class['image_path'].values:\n",
    "    img_array = cv2.imread('data/test/' + img)\n",
    "    test_pics.append([img_array, test_class['class'].values])"
   ]
  },
  {
   "cell_type": "code",
   "execution_count": 23,
   "metadata": {},
   "outputs": [
    {
     "data": {
      "text/plain": [
       "[array([[[ 95,  95,  95],\n",
       "         [ 93,  93,  93],\n",
       "         [ 91,  91,  91],\n",
       "         ...,\n",
       "         [133, 133, 133],\n",
       "         [137, 137, 137],\n",
       "         [142, 142, 142]],\n",
       " \n",
       "        [[141, 141, 141],\n",
       "         [138, 138, 138],\n",
       "         [133, 133, 133],\n",
       "         ...,\n",
       "         [145, 145, 145],\n",
       "         [142, 142, 142],\n",
       "         [138, 138, 138]],\n",
       " \n",
       "        [[170, 170, 170],\n",
       "         [170, 170, 170],\n",
       "         [169, 169, 169],\n",
       "         ...,\n",
       "         [151, 151, 151],\n",
       "         [150, 150, 150],\n",
       "         [149, 149, 149]],\n",
       " \n",
       "        ...,\n",
       " \n",
       "        [[198, 198, 198],\n",
       "         [204, 204, 204],\n",
       "         [212, 212, 212],\n",
       "         ...,\n",
       "         [200, 200, 200],\n",
       "         [187, 187, 187],\n",
       "         [176, 176, 176]],\n",
       " \n",
       "        [[196, 196, 196],\n",
       "         [202, 202, 202],\n",
       "         [210, 210, 210],\n",
       "         ...,\n",
       "         [195, 195, 195],\n",
       "         [185, 185, 185],\n",
       "         [176, 176, 176]],\n",
       " \n",
       "        [[193, 193, 193],\n",
       "         [199, 199, 199],\n",
       "         [207, 207, 207],\n",
       "         ...,\n",
       "         [192, 192, 192],\n",
       "         [183, 183, 183],\n",
       "         [175, 175, 175]]], dtype=uint8),\n",
       " array(['pneumonia', 'pneumonia', 'pneumonia', ..., 'pneumonia',\n",
       "        'pneumonia', 'pneumonia'], dtype=object)]"
      ]
     },
     "execution_count": 23,
     "metadata": {},
     "output_type": "execute_result"
    }
   ],
   "source": [
    "test_pics[0]"
   ]
  },
  {
   "cell_type": "code",
   "execution_count": null,
   "metadata": {},
   "outputs": [],
   "source": []
  }
 ],
 "metadata": {
  "kernelspec": {
   "display_name": "Python 3",
   "language": "python",
   "name": "python3"
  },
  "language_info": {
   "codemirror_mode": {
    "name": "ipython",
    "version": 3
   },
   "file_extension": ".py",
   "mimetype": "text/x-python",
   "name": "python",
   "nbconvert_exporter": "python",
   "pygments_lexer": "ipython3",
   "version": "3.7.5"
  }
 },
 "nbformat": 4,
 "nbformat_minor": 2
}
