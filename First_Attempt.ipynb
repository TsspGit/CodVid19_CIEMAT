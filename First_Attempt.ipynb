{
 "cells": [
  {
   "cell_type": "code",
   "execution_count": 2,
   "metadata": {},
   "outputs": [],
   "source": [
    "__author__ = '@Tssp'\n",
    "import numpy as np\n",
    "import pandas as pd\n",
    "import os\n",
    "from PIL import Image\n",
    "import matplotlib.pyplot as plt\n",
    "from keras.layers import Conv2D, Flatten, Dense\n",
    "from keras.models import Sequential\n",
    "from keras.utils import to_categorical\n",
    "from codvidutils.imageproc import map_categorical"
   ]
  },
  {
   "cell_type": "markdown",
   "metadata": {},
   "source": [
    "# Class dataframe"
   ]
  },
  {
   "cell_type": "code",
   "execution_count": 3,
   "metadata": {},
   "outputs": [],
   "source": [
    "train_class = pd.read_csv('data/train_split_v2.txt', sep=' ', header=None, names=['patientID', 'image_path', 'class'])\n",
    "test_class = pd.read_csv('data/test_split_v2.txt', sep=' ', header=None, names=['patientID', 'image_path', 'class'])"
   ]
  },
  {
   "cell_type": "code",
   "execution_count": 4,
   "metadata": {
    "scrolled": true
   },
   "outputs": [
    {
     "data": {
      "text/html": [
       "<div>\n",
       "<style scoped>\n",
       "    .dataframe tbody tr th:only-of-type {\n",
       "        vertical-align: middle;\n",
       "    }\n",
       "\n",
       "    .dataframe tbody tr th {\n",
       "        vertical-align: top;\n",
       "    }\n",
       "\n",
       "    .dataframe thead th {\n",
       "        text-align: right;\n",
       "    }\n",
       "</style>\n",
       "<table border=\"1\" class=\"dataframe\">\n",
       "  <thead>\n",
       "    <tr style=\"text-align: right;\">\n",
       "      <th></th>\n",
       "      <th>patientID</th>\n",
       "      <th>image_path</th>\n",
       "      <th>class</th>\n",
       "    </tr>\n",
       "  </thead>\n",
       "  <tbody>\n",
       "    <tr>\n",
       "      <th>5</th>\n",
       "      <td>19</td>\n",
       "      <td>1-s2.0-S0929664620300449-gr2_lrg-a.jpg</td>\n",
       "      <td>COVID-19</td>\n",
       "    </tr>\n",
       "    <tr>\n",
       "      <th>6</th>\n",
       "      <td>19</td>\n",
       "      <td>1-s2.0-S0929664620300449-gr2_lrg-b.jpg</td>\n",
       "      <td>COVID-19</td>\n",
       "    </tr>\n",
       "    <tr>\n",
       "      <th>7</th>\n",
       "      <td>19</td>\n",
       "      <td>1-s2.0-S0929664620300449-gr2_lrg-c.jpg</td>\n",
       "      <td>COVID-19</td>\n",
       "    </tr>\n",
       "    <tr>\n",
       "      <th>8</th>\n",
       "      <td>19</td>\n",
       "      <td>1-s2.0-S0929664620300449-gr2_lrg-d.jpg</td>\n",
       "      <td>COVID-19</td>\n",
       "    </tr>\n",
       "    <tr>\n",
       "      <th>9</th>\n",
       "      <td>20</td>\n",
       "      <td>covid-19-pneumonia-15-PA.jpg</td>\n",
       "      <td>COVID-19</td>\n",
       "    </tr>\n",
       "    <tr>\n",
       "      <th>10</th>\n",
       "      <td>36</td>\n",
       "      <td>8FDE8DBA-CFBD-4B4C-B1A4-6F36A93B7E87.jpeg</td>\n",
       "      <td>COVID-19</td>\n",
       "    </tr>\n",
       "    <tr>\n",
       "      <th>11</th>\n",
       "      <td>36</td>\n",
       "      <td>9C34AF49-E589-44D5-92D3-168B3B04E4A6.jpeg</td>\n",
       "      <td>COVID-19</td>\n",
       "    </tr>\n",
       "    <tr>\n",
       "      <th>12</th>\n",
       "      <td>42</td>\n",
       "      <td>1B734A89-A1BF-49A8-A1D3-66FAFA4FAC5D.jpeg</td>\n",
       "      <td>COVID-19</td>\n",
       "    </tr>\n",
       "    <tr>\n",
       "      <th>13</th>\n",
       "      <td>86</td>\n",
       "      <td>B2D20576-00B7-4519-A415-72DE29C90C34.jpeg</td>\n",
       "      <td>COVID-19</td>\n",
       "    </tr>\n",
       "    <tr>\n",
       "      <th>14</th>\n",
       "      <td>86</td>\n",
       "      <td>6C94A287-C059-46A0-8600-AFB95F4727B7.jpeg</td>\n",
       "      <td>COVID-19</td>\n",
       "    </tr>\n",
       "  </tbody>\n",
       "</table>\n",
       "</div>"
      ],
      "text/plain": [
       "   patientID                                 image_path     class\n",
       "5         19     1-s2.0-S0929664620300449-gr2_lrg-a.jpg  COVID-19\n",
       "6         19     1-s2.0-S0929664620300449-gr2_lrg-b.jpg  COVID-19\n",
       "7         19     1-s2.0-S0929664620300449-gr2_lrg-c.jpg  COVID-19\n",
       "8         19     1-s2.0-S0929664620300449-gr2_lrg-d.jpg  COVID-19\n",
       "9         20               covid-19-pneumonia-15-PA.jpg  COVID-19\n",
       "10        36  8FDE8DBA-CFBD-4B4C-B1A4-6F36A93B7E87.jpeg  COVID-19\n",
       "11        36  9C34AF49-E589-44D5-92D3-168B3B04E4A6.jpeg  COVID-19\n",
       "12        42  1B734A89-A1BF-49A8-A1D3-66FAFA4FAC5D.jpeg  COVID-19\n",
       "13        86  B2D20576-00B7-4519-A415-72DE29C90C34.jpeg  COVID-19\n",
       "14        86  6C94A287-C059-46A0-8600-AFB95F4727B7.jpeg  COVID-19"
      ]
     },
     "execution_count": 4,
     "metadata": {},
     "output_type": "execute_result"
    }
   ],
   "source": [
    "test_class[test_class['class'] == 'COVID-19']"
   ]
  },
  {
   "cell_type": "markdown",
   "metadata": {},
   "source": [
    "# Create an integer categorical column"
   ]
  },
  {
   "cell_type": "code",
   "execution_count": 5,
   "metadata": {},
   "outputs": [
    {
     "data": {
      "text/plain": [
       "array(['pneumonia', 'COVID-19', 'normal'], dtype=object)"
      ]
     },
     "execution_count": 5,
     "metadata": {},
     "output_type": "execute_result"
    }
   ],
   "source": [
    "test_class['class'].unique()"
   ]
  },
  {
   "cell_type": "code",
   "execution_count": 5,
   "metadata": {},
   "outputs": [],
   "source": [
    "values_dict = {'pneumonia': 0, 'COVID-19': 1, 'normal': 2}\n",
    "test_class['class_categorical'] = test_class['class'].apply(map_categorical, args=(values_dict,))\n",
    "train_class['class_categorical'] = train_class['class'].apply(map_categorical, args=(values_dict,))"
   ]
  },
  {
   "cell_type": "code",
   "execution_count": 6,
   "metadata": {},
   "outputs": [
    {
     "data": {
      "text/html": [
       "<div>\n",
       "<style scoped>\n",
       "    .dataframe tbody tr th:only-of-type {\n",
       "        vertical-align: middle;\n",
       "    }\n",
       "\n",
       "    .dataframe tbody tr th {\n",
       "        vertical-align: top;\n",
       "    }\n",
       "\n",
       "    .dataframe thead th {\n",
       "        text-align: right;\n",
       "    }\n",
       "</style>\n",
       "<table border=\"1\" class=\"dataframe\">\n",
       "  <thead>\n",
       "    <tr style=\"text-align: right;\">\n",
       "      <th></th>\n",
       "      <th>patientID</th>\n",
       "      <th>image_path</th>\n",
       "      <th>class</th>\n",
       "      <th>class_categorical</th>\n",
       "    </tr>\n",
       "  </thead>\n",
       "  <tbody>\n",
       "    <tr>\n",
       "      <th>5</th>\n",
       "      <td>19</td>\n",
       "      <td>1-s2.0-S0929664620300449-gr2_lrg-a.jpg</td>\n",
       "      <td>COVID-19</td>\n",
       "      <td>1</td>\n",
       "    </tr>\n",
       "    <tr>\n",
       "      <th>6</th>\n",
       "      <td>19</td>\n",
       "      <td>1-s2.0-S0929664620300449-gr2_lrg-b.jpg</td>\n",
       "      <td>COVID-19</td>\n",
       "      <td>1</td>\n",
       "    </tr>\n",
       "    <tr>\n",
       "      <th>7</th>\n",
       "      <td>19</td>\n",
       "      <td>1-s2.0-S0929664620300449-gr2_lrg-c.jpg</td>\n",
       "      <td>COVID-19</td>\n",
       "      <td>1</td>\n",
       "    </tr>\n",
       "    <tr>\n",
       "      <th>8</th>\n",
       "      <td>19</td>\n",
       "      <td>1-s2.0-S0929664620300449-gr2_lrg-d.jpg</td>\n",
       "      <td>COVID-19</td>\n",
       "      <td>1</td>\n",
       "    </tr>\n",
       "    <tr>\n",
       "      <th>9</th>\n",
       "      <td>20</td>\n",
       "      <td>covid-19-pneumonia-15-PA.jpg</td>\n",
       "      <td>COVID-19</td>\n",
       "      <td>1</td>\n",
       "    </tr>\n",
       "    <tr>\n",
       "      <th>10</th>\n",
       "      <td>36</td>\n",
       "      <td>8FDE8DBA-CFBD-4B4C-B1A4-6F36A93B7E87.jpeg</td>\n",
       "      <td>COVID-19</td>\n",
       "      <td>1</td>\n",
       "    </tr>\n",
       "    <tr>\n",
       "      <th>11</th>\n",
       "      <td>36</td>\n",
       "      <td>9C34AF49-E589-44D5-92D3-168B3B04E4A6.jpeg</td>\n",
       "      <td>COVID-19</td>\n",
       "      <td>1</td>\n",
       "    </tr>\n",
       "    <tr>\n",
       "      <th>12</th>\n",
       "      <td>42</td>\n",
       "      <td>1B734A89-A1BF-49A8-A1D3-66FAFA4FAC5D.jpeg</td>\n",
       "      <td>COVID-19</td>\n",
       "      <td>1</td>\n",
       "    </tr>\n",
       "    <tr>\n",
       "      <th>13</th>\n",
       "      <td>86</td>\n",
       "      <td>B2D20576-00B7-4519-A415-72DE29C90C34.jpeg</td>\n",
       "      <td>COVID-19</td>\n",
       "      <td>1</td>\n",
       "    </tr>\n",
       "    <tr>\n",
       "      <th>14</th>\n",
       "      <td>86</td>\n",
       "      <td>6C94A287-C059-46A0-8600-AFB95F4727B7.jpeg</td>\n",
       "      <td>COVID-19</td>\n",
       "      <td>1</td>\n",
       "    </tr>\n",
       "  </tbody>\n",
       "</table>\n",
       "</div>"
      ],
      "text/plain": [
       "   patientID        ...        class_categorical\n",
       "5         19        ...                        1\n",
       "6         19        ...                        1\n",
       "7         19        ...                        1\n",
       "8         19        ...                        1\n",
       "9         20        ...                        1\n",
       "10        36        ...                        1\n",
       "11        36        ...                        1\n",
       "12        42        ...                        1\n",
       "13        86        ...                        1\n",
       "14        86        ...                        1\n",
       "\n",
       "[10 rows x 4 columns]"
      ]
     },
     "execution_count": 6,
     "metadata": {},
     "output_type": "execute_result"
    }
   ],
   "source": [
    "test_class[test_class['class'] == 'COVID-19']"
   ]
  },
  {
   "cell_type": "markdown",
   "metadata": {},
   "source": [
    "# Pics sets"
   ]
  },
  {
   "cell_type": "code",
   "execution_count": 8,
   "metadata": {},
   "outputs": [],
   "source": [
    "train_pics = []\n",
    "for img in train_class['image_path'].values:\n",
    "    train_pics.append(np.array(Image.open('data/train/' + img))[:, :, :3])"
   ]
  },
  {
   "cell_type": "code",
   "execution_count": 9,
   "metadata": {},
   "outputs": [],
   "source": [
    "test_pics = []\n",
    "for img in test_class['image_path'].values:\n",
    "    test_pics.append(np.array(Image.open('data/test/' + img))[:, :, :3])"
   ]
  },
  {
   "cell_type": "code",
   "execution_count": 10,
   "metadata": {},
   "outputs": [
    {
     "data": {
      "text/plain": [
       "<matplotlib.image.AxesImage at 0x7f1d394ca470>"
      ]
     },
     "execution_count": 10,
     "metadata": {},
     "output_type": "execute_result"
    },
    {
     "data": {
      "image/png": "[encoded data removed]",
      "text/plain": [
       "<Figure size 432x288 with 1 Axes>"
      ]
     },
     "metadata": {
      "needs_background": "light"
     },
     "output_type": "display_data"
    }
   ],
   "source": [
    "plt.imshow(train_pics[104])"
   ]
  },
  {
   "cell_type": "markdown",
   "metadata": {},
   "source": [
    "# Neural net"
   ]
  },
  {
   "cell_type": "code",
   "execution_count": 11,
   "metadata": {},
   "outputs": [
    {
     "name": "stdout",
     "output_type": "stream",
     "text": [
      "Train shape: (16574, 200, 200, 3)\n",
      "Test shape: (1953, 200, 200, 3)\n"
     ]
    }
   ],
   "source": [
    "X_train = np.array(train_pics)/255\n",
    "Y_train = to_categorical(train_class['class_categorical'].values.reshape(-1, 1))\n",
    "del train_class, train_pics\n",
    "X_test = np.array(test_pics)/255\n",
    "Y_test = to_categorical(test_class['class_categorical'].values.reshape(-1, 1))\n",
    "del test_class_ test_pics\n",
    "assert X_train.shape[0] == len(Y_train)\n",
    "assert X_test.shape[0] == len(Y_test)\n",
    "print('Train shape: {}\\nTest shape: {}'.format(X_train.shape, X_test.shape))"
   ]
  },
  {
   "cell_type": "code",
   "execution_count": 12,
   "metadata": {},
   "outputs": [],
   "source": [
    "model = Sequential()\n",
    "model.add(Conv2D(64, kernel_size=(3, 3), activation='relu', input_shape=X_train.shape[1:], \n",
    "                 data_format = 'channels_last'))\n",
    "model.add(Flatten())\n",
    "model.add(Dense(32, activation='relu'))\n",
    "model.add(Dense(3, activation='softmax'))\n",
    "model.compile(optimizer='adam', loss='categorical_crossentropy', metrics=['accuracy'])"
   ]
  },
  {
   "cell_type": "code",
   "execution_count": 13,
   "metadata": {
    "scrolled": true
   },
   "outputs": [
    {
     "name": "stdout",
     "output_type": "stream",
     "text": [
      "_________________________________________________________________\n",
      "Layer (type)                 Output Shape              Param #   \n",
      "=================================================================\n",
      "conv2d_1 (Conv2D)            (None, 198, 198, 64)      1792      \n",
      "_________________________________________________________________\n",
      "flatten_1 (Flatten)          (None, 2509056)           0         \n",
      "_________________________________________________________________\n",
      "dense_1 (Dense)              (None, 32)                80289824  \n",
      "_________________________________________________________________\n",
      "dense_2 (Dense)              (None, 3)                 99        \n",
      "=================================================================\n",
      "Total params: 80,291,715\n",
      "Trainable params: 80,291,715\n",
      "Non-trainable params: 0\n",
      "_________________________________________________________________\n",
      "None\n"
     ]
    }
   ],
   "source": [
    "history = model.fit(X_train, Y_train, epochs=30, batch_size=20, verbose=0, validation_data=(X_test, Y_test))\n",
    "pred = model.predict(X_test)\n",
    "acc_train = np.average(history.history[\"acc\"])\n",
    "acc_test = np.average(history.history[\"val_acc\"])\n",
    "print(model.summary())"
   ]
  },
  {
   "cell_type": "code",
   "execution_count": 15,
   "metadata": {},
   "outputs": [
    {
     "name": "stdout",
     "output_type": "stream",
     "text": [
      "8.814196615419332\n"
     ]
    },
    {
     "data": {
      "image/png": "[encoded data removed]",
      "text/plain": [
       "<Figure size 576x432 with 1 Axes>"
      ]
     },
     "metadata": {
      "needs_background": "light"
     },
     "output_type": "display_data"
    }
   ],
   "source": [
    "fig,ax = plt.subplots(nrows=1,ncols=1,figsize=(8,6))# 6,6\n",
    "plt.plot(history.history['loss'])\n",
    "plt.plot(history.history['val_loss'])\n",
    "plt.ylabel('Loss')\n",
    "plt.xlabel('epoch')\n",
    "plt.legend(['train', 'test'], loc='upper right')\n",
    "print(np.min(history.history['val_loss']))"
   ]
  },
  {
   "cell_type": "code",
   "execution_count": 53,
   "metadata": {},
   "outputs": [
    {
     "data": {
      "text/plain": [
       "[Text(0,0,''),\n",
       " Text(0,0,'pneumonia'),\n",
       " Text(0,0,'CODVID-19'),\n",
       " Text(0,0,'normal')]"
      ]
     },
     "execution_count": 53,
     "metadata": {},
     "output_type": "execute_result"
    },
    {
     "data": {
      "image/png": "[encoded data removed]",
      "text/plain": [
       "<Figure size 576x432 with 2 Axes>"
      ]
     },
     "metadata": {
      "needs_background": "light"
     },
     "output_type": "display_data"
    }
   ],
   "source": [
    "from sklearn.metrics import confusion_matrix\n",
    "cm = confusion_matrix(Y_test.argmax(axis=1), pred.argmax(axis=1))\n",
    "labels = ['pneumonia', 'CODVID-19', 'normal']\n",
    "fig, ax = plt.subplots(figsize=(8, 6))\n",
    "cax = ax.matshow(cm, cmap=plt.cm.Greens)\n",
    "cbar = fig.colorbar(cax)\n",
    "cbar.set_ticks([])\n",
    "cbar.ax.set_ylabel('Accuracy', rotation=270, labelpad=20, fontsize=16)\n",
    "ax.set_xticklabels([''] + labels)\n",
    "ax.set_yticklabels([''] + labels)"
   ]
  },
  {
   "cell_type": "code",
   "execution_count": 41,
   "metadata": {},
   "outputs": [
    {
     "name": "stdout",
     "output_type": "stream",
     "text": [
      "max accuracy:  0.48\n",
      "0 of 1058 pneumonia\n",
      "0 of 10 COVID-19\n",
      "885 of 885 normal\n"
     ]
    }
   ],
   "source": [
    "print('max accuracy: ', round(np.max(history.history['acc']), 2))\n",
    "print('{} of {} pneumonia'.format(cm[0,0], len(test_class[test_class['class'] == 'pneumonia'].values)))\n",
    "print('{} of {} COVID-19'.format(cm[1,1], len(test_class[test_class['class'] == 'COVID-19'].values)))\n",
    "print('{} of {} normal'.format(cm[2,2], len(test_class[test_class['class'] == 'normal'].values)))"
   ]
  }
 ],
 "metadata": {
  "kernelspec": {
   "display_name": "Python 3",
   "language": "python",
   "name": "python3"
  },
  "language_info": {
   "codemirror_mode": {
    "name": "ipython",
    "version": 3
   },
   "file_extension": ".py",
   "mimetype": "text/x-python",
   "name": "python",
   "nbconvert_exporter": "python",
   "pygments_lexer": "ipython3",
   "version": "3.7.5"
  }
 },
 "nbformat": 4,
 "nbformat_minor": 2
}
