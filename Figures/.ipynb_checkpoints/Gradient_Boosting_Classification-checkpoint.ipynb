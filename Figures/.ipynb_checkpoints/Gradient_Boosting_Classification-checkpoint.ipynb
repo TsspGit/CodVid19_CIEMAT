{
 "cells": [
  {
   "cell_type": "code",
   "execution_count": 1,
   "metadata": {},
   "outputs": [
    {
     "ename": "ImportError",
     "evalue": "No module named 'codvidutils'",
     "output_type": "error",
     "traceback": [
      "\u001b[0;31m---------------------------------------------------------------------------\u001b[0m",
      "\u001b[0;31mImportError\u001b[0m                               Traceback (most recent call last)",
      "\u001b[0;32m<ipython-input-1-95a099eca850>\u001b[0m in \u001b[0;36m<module>\u001b[0;34m\u001b[0m\n\u001b[1;32m      4\u001b[0m \u001b[0;32mimport\u001b[0m \u001b[0mos\u001b[0m\u001b[0;34m\u001b[0m\u001b[0m\n\u001b[1;32m      5\u001b[0m \u001b[0;32mimport\u001b[0m \u001b[0mmatplotlib\u001b[0m\u001b[0;34m.\u001b[0m\u001b[0mpyplot\u001b[0m \u001b[0;32mas\u001b[0m \u001b[0mplt\u001b[0m\u001b[0;34m\u001b[0m\u001b[0m\n\u001b[0;32m----> 6\u001b[0;31m \u001b[0;32mfrom\u001b[0m \u001b[0mcodvidutils\u001b[0m\u001b[0;34m.\u001b[0m\u001b[0mAutoencoder_Transformation_main\u001b[0m \u001b[0;32mimport\u001b[0m \u001b[0mTransformation_main\u001b[0m\u001b[0;34m\u001b[0m\u001b[0m\n\u001b[0m\u001b[1;32m      7\u001b[0m \u001b[0;32mfrom\u001b[0m \u001b[0msklearn\u001b[0m\u001b[0;34m.\u001b[0m\u001b[0mensemble\u001b[0m \u001b[0;32mimport\u001b[0m \u001b[0mRandomForestClassifier\u001b[0m\u001b[0;34m,\u001b[0m \u001b[0mRandomForestRegressor\u001b[0m\u001b[0;34m\u001b[0m\u001b[0m\n\u001b[1;32m      8\u001b[0m \u001b[0;32mfrom\u001b[0m \u001b[0msklearn\u001b[0m\u001b[0;34m.\u001b[0m\u001b[0mmetrics\u001b[0m \u001b[0;32mimport\u001b[0m \u001b[0maccuracy_score\u001b[0m\u001b[0;34m\u001b[0m\u001b[0m\n",
      "\u001b[0;31mImportError\u001b[0m: No module named 'codvidutils'"
     ]
    }
   ],
   "source": [
    "__author__ = '@Tssp'\n",
    "import numpy as np\n",
    "import pandas as pd\n",
    "import os\n",
    "import matplotlib.pyplot as plt\n",
    "from codvidutils.Autoencoder_Transformation_main import Transformation_main\n",
    "from sklearn.ensemble import RandomForestClassifier, RandomForestRegressor\n",
    "from sklearn.metrics import accuracy_score\n",
    "from sklearn.metrics import confusion_matrix\n",
    "from sklearn.preprocessing import normalize"
   ]
  },
  {
   "cell_type": "markdown",
   "metadata": {},
   "source": [
    "# Prepare dataset"
   ]
  },
  {
   "cell_type": "code",
   "execution_count": null,
   "metadata": {
    "scrolled": false
   },
   "outputs": [],
   "source": [
    "outputs = Transformation_main('data/train_split_v4.csv', 'data/test_split_v4.csv')\n",
    "Y_test = outputs['Y_test']\n",
    "encoder_train = outputs['encoder_train']\n",
    "encoder_test = outputs['encoder_test']\n",
    "del outputs"
   ]
  },
  {
   "cell_type": "markdown",
   "metadata": {},
   "source": [
    "# XGBoost"
   ]
  },
  {
   "cell_type": "markdown",
   "metadata": {},
   "source": [
    "## Regressor:"
   ]
  },
  {
   "cell_type": "code",
   "execution_count": null,
   "metadata": {},
   "outputs": [],
   "source": [
    "predsr = np.loadtxt('log/preds_XGBr_lr0.01_n250.txt', delimiter=',')\n",
    "nocovid = predsr[np.where(Y_test == 0)]\n",
    "covid = predsr[np.where(Y_test == 1)]"
   ]
  },
  {
   "cell_type": "code",
   "execution_count": null,
   "metadata": {},
   "outputs": [],
   "source": [
    "TP_050 = np.count_nonzero(np.where((Y_test==0) & (predsr<0.50)))\n",
    "FN_050 = np.count_nonzero(np.where((Y_test==1) & (predsr>0.50)))\n",
    "FP_050 = np.count_nonzero(np.where((Y_test==1) & (predsr<0.50)))\n",
    "TN_050 = np.count_nonzero(np.where((Y_test==0) & (predsr>0.50)))\n",
    "cm = np.array([[TP_050, TN_050],[FN_050, FP_050]])\n",
    "print('{} of {} no COVID-19 ({:2.3}%)'.format(cm[0,0], np.sum(Y_test == 0), 100*cm[0, 0]/np.sum(Y_test == 0)))\n",
    "print('{} of {} COVID-19 ({:2.3}%)'.format(cm[1,1], np.sum(Y_test == 1), 100*cm[1,1]/np.sum(Y_test == 1)))\n",
    "print(cm)\n",
    "cm = normalize(cm, 'l1')\n",
    "labels = ['no COVID-19', 'COVID-19']\n",
    "fig1, ax = plt.subplots(figsize=(8, 6))\n",
    "cax = ax.matshow(cm, cmap='YlGnBu', vmin=0, vmax=1)\n",
    "cbar = fig1.colorbar(cax)\n",
    "cbar.set_ticks([0, 0.2, 0.4, 0.6, 0.8, 1.0])\n",
    "cbar.set_ticklabels(['0', '0.2', '0.4', '0.6', '0.8', '1.0'])\n",
    "cbar.ax.set_ylabel('Accuracy', rotation=270, labelpad=20, fontsize=16)\n",
    "ax.set_xticklabels([''] + labels)\n",
    "ax.set_yticklabels([''] + labels)\n",
    "ax.set_ylabel('Expected', fontsize=16)\n",
    "ax.set_xlabel('Predicted', fontsize=16)\n",
    "fig1.savefig('Figures/cm_XGBregressor_lr001_n250.png', dpi=200)"
   ]
  },
  {
   "cell_type": "code",
   "execution_count": null,
   "metadata": {},
   "outputs": [],
   "source": [
    "fig2, ax = plt.subplots(figsize=(8,6))\n",
    "ax.hist(nocovid, 50, histtype='step', lw=2, color='darkorange', label='No COVID')\n",
    "ax.hist(covid, 50, histtype='step', lw=2, color='darkblue', label='COVID')\n",
    "plt.grid()\n",
    "ax.set_ylabel('Number of events /0.01', fontsize=16)\n",
    "ax.set_xlabel('Score', fontsize=16)\n",
    "plt.legend( loc='upper right', fontsize=14)\n",
    "plt.yscale(\"log\")\n",
    "fig2.savefig('Figures/histogram_XGBregressor_lr001_n250.png', dpi=200)"
   ]
  },
  {
   "cell_type": "code",
   "execution_count": null,
   "metadata": {},
   "outputs": [],
   "source": []
  }
 ],
 "metadata": {
  "kernelspec": {
   "display_name": "Python 3",
   "language": "python",
   "name": "python3"
  },
  "language_info": {
   "codemirror_mode": {
    "name": "ipython",
    "version": 3
   },
   "file_extension": ".py",
   "mimetype": "text/x-python",
   "name": "python",
   "nbconvert_exporter": "python",
   "pygments_lexer": "ipython3",
   "version": "3.5.4"
  }
 },
 "nbformat": 4,
 "nbformat_minor": 2
}
