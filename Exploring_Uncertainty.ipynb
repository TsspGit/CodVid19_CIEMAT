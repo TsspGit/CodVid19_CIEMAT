{
 "cells": [
  {
   "cell_type": "code",
   "execution_count": 1,
   "metadata": {},
   "outputs": [
    {
     "name": "stdout",
     "output_type": "stream",
     "text": [
      "shape X: 1525,  disease_ID (Y): 1525\n"
     ]
    }
   ],
   "source": [
    "from codvidutils.utils import load_pictures, adding_images\n",
    "from codvidutils.imageproc import map_categorical\n",
    "import numpy as np\n",
    "import pandas as pd\n",
    "num_channels= 3\n",
    "test_class = pd.read_csv('data/test_split_v5.csv', sep=' ')#, header=True)#, names=['patientID', 'image_path', 'class'])\n",
    "X_test = load_pictures(test_class,\"data/test/\",channels = num_channels)\n",
    "\n",
    "values_dict = {'COVID-19': 1,'pneumonia': 2,'normal': 0}\n",
    "test_class['class_categorical'] = test_class['class'].apply(map_categorical, args=(values_dict,))\n",
    "diseaseID_test  = np.asarray(test_class[\"class_categorical\"])\n",
    "original_test = len(diseaseID_test)\n",
    "print('shape X: {},  disease_ID (Y): {}'.format(X_test.shape[0],  diseaseID_test.shape[0] ))\n"
   ]
  },
  {
   "cell_type": "code",
   "execution_count": 2,
   "metadata": {},
   "outputs": [
    {
     "name": "stdout",
     "output_type": "stream",
     "text": [
      "shape X: 3000,  disease_ID (Y): 3000\n"
     ]
    }
   ],
   "source": [
    "X_test, diseaseID_test = adding_images(X_test, diseaseID_test, strides=5 )\n",
    "X_test = X_test / 255 \n",
    "print('shape X: {},  disease_ID (Y): {}'.format(X_test.shape[0],  diseaseID_test.shape[0] ))\n",
    "Y_test = np.copy(diseaseID_test)\n",
    "Y_test[Y_test==2]=0"
   ]
  },
  {
   "cell_type": "code",
   "execution_count": 3,
   "metadata": {},
   "outputs": [
    {
     "name": "stdout",
     "output_type": "stream",
     "text": [
      "shape X: 60,  disease_ID (Y): 60\n"
     ]
    }
   ],
   "source": [
    "val_class = pd.read_csv('data/validation_set.csv', sep=' ')#, header=True)#, names=['patientID', 'image_path', 'class'])\n",
    "X_val = load_pictures(val_class,\"data/test/\",channels = num_channels)\n",
    "\n",
    "val_class['class_categorical'] = val_class['class'].apply(map_categorical, args=(values_dict,))\n",
    "diseaseID_val  = np.asarray(val_class[\"class_categorical\"])\n",
    "#X_val = X_val[:,10:190,10:190,:]\n",
    "X_val, diseaseID_val = adding_images(X_val, diseaseID_val, strides=10 )\n",
    "X_val = X_val / 255\n",
    "\n",
    "Y_val = np.copy(diseaseID_val)\n",
    "Y_val[Y_val==2]=0\n",
    "print('shape X: {},  disease_ID (Y): {}'.format(X_val.shape[0],  diseaseID_val.shape[0] ))"
   ]
  },
  {
   "cell_type": "code",
   "execution_count": null,
   "metadata": {},
   "outputs": [],
   "source": [
    "from tensorflow.keras.models import load_model\n",
    "import tensorflow.keras\n",
    "\n",
    "model = load_model(\"Inc2uncALL_ADD.hdf5\")\n",
    "p_val = model.predict(X_val)"
   ]
  },
  {
   "cell_type": "code",
   "execution_count": 26,
   "metadata": {},
   "outputs": [],
   "source": [
    "X_rand = np.random.rand(1000,180,180,3)"
   ]
  },
  {
   "cell_type": "code",
   "execution_count": 28,
   "metadata": {},
   "outputs": [],
   "source": [
    "from tensorflow.keras.models import load_model\n",
    "import tensorflow.keras\n",
    "\n",
    "model = load_model(\"Inc2uncALL_ADD.hdf5\")\n",
    "p_rand=[]\n",
    "for i in range(10):\n",
    "    p_rand += [model.predict(X_rand)]"
   ]
  },
  {
   "cell_type": "code",
   "execution_count": null,
   "metadata": {},
   "outputs": [],
   "source": [
    "probs += [model.predict(X_test)]\n",
    "probs += [model.predict(X_test)]"
   ]
  },
  {
   "cell_type": "code",
   "execution_count": 30,
   "metadata": {},
   "outputs": [
    {
     "data": {
      "text/plain": [
       "(10, 1000)"
      ]
     },
     "execution_count": 30,
     "metadata": {},
     "output_type": "execute_result"
    }
   ],
   "source": [
    "p_rand = np.array(p_rand)\n",
    "p_rand = np.reshape(p_rand,[10,1000])\n",
    "p_rand.shape"
   ]
  },
  {
   "cell_type": "code",
   "execution_count": null,
   "metadata": {},
   "outputs": [],
   "source": [
    "probs = np.array(probs)\n",
    "probs = np.reshape(probs,[14,3000])\n",
    "probs.shape"
   ]
  },
  {
   "cell_type": "code",
   "execution_count": null,
   "metadata": {},
   "outputs": [],
   "source": [
    "p_val.shape\n",
    "np.savetxt(\"Inc2uncALL_ADD_val60.txt\", p_val)\n",
    "np.savetxt(\"Inc2uncALL_ADD_14test.txt\", probs)"
   ]
  },
  {
   "cell_type": "code",
   "execution_count": 4,
   "metadata": {},
   "outputs": [],
   "source": [
    "del X_test, X_val\n",
    "\"\"\"\n",
    "Restart the kernel and don't run the cells with the model.\n",
    "\n",
    "\"\"\"\n",
    "probs = np.loadtxt(\"Inc2uncALL_ADD_14test.txt\")\n",
    "p_val = np.loadtxt(\"Inc2uncALL_ADD_val60.txt\")"
   ]
  },
  {
   "cell_type": "code",
   "execution_count": 5,
   "metadata": {},
   "outputs": [
    {
     "name": "stdout",
     "output_type": "stream",
     "text": [
      "(3000,)\n"
     ]
    }
   ],
   "source": [
    "predictive_mean = np.mean(probs, axis=0)\n",
    "predictive_variance = np.var(probs, axis=0)\n",
    "print(predictive_mean.shape)"
   ]
  },
  {
   "cell_type": "code",
   "execution_count": 31,
   "metadata": {},
   "outputs": [
    {
     "name": "stdout",
     "output_type": "stream",
     "text": [
      "(1000,)\n"
     ]
    }
   ],
   "source": [
    "predictive_mean = np.mean(p_rand, axis=0)\n",
    "predictive_variance = np.var(p_rand, axis=0)\n",
    "print(predictive_mean.shape)\n",
    "Mean_rand = predictive_mean \n",
    "Unce_rand  = np.sqrt(predictive_variance)"
   ]
  },
  {
   "cell_type": "code",
   "execution_count": 6,
   "metadata": {},
   "outputs": [
    {
     "name": "stdout",
     "output_type": "stream",
     "text": [
      "0.1451794957972927\n"
     ]
    }
   ],
   "source": [
    "from sklearn.metrics import mean_squared_error\n",
    "e_2 = mean_squared_error(Y_val, p_val)\n",
    "print(np.sqrt(e_2))"
   ]
  },
  {
   "cell_type": "code",
   "execution_count": 6,
   "metadata": {},
   "outputs": [
    {
     "name": "stdout",
     "output_type": "stream",
     "text": [
      "******* MEAN values ******\n",
      "[[1363  103]\n",
      " [ 513 1021]] \n",
      " [[0.92974079 0.07025921]\n",
      " [0.33441982 0.66558018]]\n",
      "******* ORIGINAL images ******\n",
      "[[1363  103]\n",
      " [  23   36]] \n",
      " [[0.92974079 0.07025921]\n",
      " [0.38983051 0.61016949]]\n",
      "******* ADDED images ******\n",
      "[[  0   0]\n",
      " [490 985]] \n",
      " [[0.         0.        ]\n",
      " [0.33220339 0.66779661]]\n"
     ]
    }
   ],
   "source": [
    "Mean = predictive_mean \n",
    "Unce  = np.sqrt(predictive_variance)\n",
    "print(\"******* MEAN values ******\")\n",
    "from sklearn.metrics import confusion_matrix\n",
    "from sklearn.preprocessing import normalize\n",
    "\n",
    "cm = confusion_matrix(Y_test, Mean.round())\n",
    "cm_norm = normalize(cm, norm = 'l1')\n",
    "print(cm, \"\\n\", cm_norm)\n",
    "print(\"******* ORIGINAL images ******\")\n",
    "cm = confusion_matrix(Y_test[:original_test], Mean[:original_test].round())\n",
    "cm_norm = normalize(cm, norm = 'l1')\n",
    "print(cm, \"\\n\", cm_norm)\n",
    "\n",
    "print(\"******* ADDED images ******\")\n",
    "cm = confusion_matrix(Y_test[original_test:], Mean[original_test:].round())\n",
    "cm_norm = normalize(cm, norm = 'l1')\n",
    "print(cm, \"\\n\", cm_norm)"
   ]
  },
  {
   "cell_type": "code",
   "execution_count": 7,
   "metadata": {},
   "outputs": [
    {
     "name": "stdout",
     "output_type": "stream",
     "text": [
      "[[1363  103]\n",
      " [ 513 1021]] \n",
      " [[0.92974079 0.07025921]\n",
      " [0.33441982 0.66558018]]\n",
      "Mean\n",
      "[[1363  103]\n",
      " [ 513 1021]]\n",
      "Mean+ Unc\n",
      "[[1267  199]\n",
      " [ 305 1229]]\n",
      "Mean- Unc\n",
      "[[1423   43]\n",
      " [ 731  803]]\n"
     ]
    }
   ],
   "source": [
    "cm = confusion_matrix(Y_test, Mean.round())\n",
    "cm_norm = normalize(cm, norm = 'l1')\n",
    "print(cm, \"\\n\", cm_norm)\n",
    "print(\"Mean\")\n",
    "cm = confusion_matrix(Y_test, Mean.round())\n",
    "print(cm)\n",
    "\n",
    "print(\"Mean+ Unc\")\n",
    "cm = confusion_matrix(Y_test, (Mean+Unce).round())\n",
    "print(cm)\n",
    "\n",
    "print(\"Mean- Unc\")\n",
    "cm = confusion_matrix(Y_test, (Mean-Unce).round())\n",
    "print(cm)"
   ]
  },
  {
   "cell_type": "code",
   "execution_count": 8,
   "metadata": {},
   "outputs": [
    {
     "name": "stdout",
     "output_type": "stream",
     "text": [
      " Example values\n",
      "Normal people\n",
      "0.152753939053842 +/-  0.06573393496985706\n",
      "0.048027815496815104 +/-  0.030321030791244208\n",
      "0.4392763280442783 +/-  0.1586530958112596\n",
      "0.29251833925289766 +/-  0.24299003467981578\n",
      "0.053211220274014134 +/-  0.0655230050346757\n",
      "Neumonia\n",
      "0.02103836026591515 +/-  0.03748324906911875\n",
      "0.01544683900803128 +/-  0.014856204066366263\n",
      "0.4294019990733692 +/-  0.2051602192820229\n",
      "0.12292819483471769 +/-  0.11303259046395771\n",
      "0.009968219374838685 +/-  0.009247146719639571\n",
      "COVID-19\n",
      "0.016736002480164252 +/-  0.026840879186636565\n",
      "0.0026337588420314467 +/-  0.004150588852814355\n",
      "0.9132723978587559 +/-  0.08383099811159006\n",
      "0.7341468312910625 +/-  0.24616875118788356\n",
      "0.9866890779563359 +/-  0.0151299871406193\n"
     ]
    }
   ],
   "source": [
    "print(\" Example values\")\n",
    "print(\"Normal people\")\n",
    "for p, u in zip(Mean[diseaseID_test==0][:5],Unce[diseaseID_test==0][:5]):\n",
    "    print(p, \"+/- \", u)\n",
    "print(\"Neumonia\")\n",
    "for p, u in zip(Mean[diseaseID_test==2][:5],Unce[diseaseID_test==2][:5]):\n",
    "    print(p, \"+/- \", u)\n",
    "print(\"COVID-19\")\n",
    "for p, u in zip(Mean[diseaseID_test==1][:5],Unce[diseaseID_test==1][:5]):\n",
    "    print(p, \"+/- \", u)"
   ]
  },
  {
   "cell_type": "code",
   "execution_count": null,
   "metadata": {},
   "outputs": [],
   "source": [
    "from sklearn.metrics import mean_squared_error, mean_absolute_error\n",
    "\n",
    "testScoreECM = 0\n",
    "testScoreEAM = 0\n",
    "\n",
    "for pred in probs:\n",
    "    testScoreECM += mean_squared_error(Y_test, pred)\n",
    "    testScoreEAM += mean_absolute_error(Y_test, pred)\n",
    "\n",
    "testScoreECM = testScoreECM/len(probs)\n",
    "testScoreEAM = testScoreEAM/len(probs)\n",
    "\n",
    "varECM = 0\n",
    "varEAM = 0\n",
    "\n",
    "for pred in probs:\n",
    "    varECM += (mean_squared_error(Y_test, pred)-testScoreECM)**2\n",
    "    varEAM += (mean_absolute_error(Y_test, pred)-testScoreEAM)**2\n",
    "\n",
    "varECM = (varECM/len(probs))**(0.5)\n",
    "varEAM = (varEAM/len(probs))**(0.5)\n",
    "\n",
    "print('Mean ECM: %.4f' % (testScoreECM))\n",
    "print('Mean EAM: %.4f' % (testScoreEAM))\n",
    "print('variance ECM: %.4f' % (varECM))\n",
    "print('variance EAM: %.4f' % (varEAM))"
   ]
  },
  {
   "cell_type": "code",
   "execution_count": 10,
   "metadata": {},
   "outputs": [],
   "source": [
    "def integraciones(integ, nbins,A, B):\n",
    "    from scipy.integrate import quad\n",
    "    from numpy import inf\n",
    "    intervalos = np.linspace(0,1, nbins+1)\n",
    "    intervalos[0], intervalos[-1] =-inf, inf\n",
    "    \n",
    "    proba = np.ones([1,len(intervalos)-1])\n",
    "    for j in range(len(A)):\n",
    "        probabilidad = []\n",
    "        for it in range(len(intervalos)-1):\n",
    "\n",
    "            I = quad(integ,intervalos[it], intervalos[it+1], args = (A[j], B[j]) )\n",
    "            probabilidad += [I]\n",
    "\n",
    "        probabilidad = np.array(probabilidad)[:,0]\n",
    "        probabilidad = probabilidad.reshape([1,len(intervalos)-1])\n",
    "\n",
    "        proba = np.concatenate([proba,probabilidad],axis=0)\n",
    "        \n",
    "    probability = proba[1:]\n",
    "    counts = np.sum(probability,axis = 0)\n",
    "    variance = np.multiply(probability,(1- probability))\n",
    "    variance = np.sum(variance,axis=0)\n",
    "    uncounts = np.sqrt(variance)\n",
    "    return counts, uncounts\n",
    "def integ(x,m,d):\n",
    "    from math import pi, sqrt, exp\n",
    "    return 1 / ( sqrt(2 * pi) * d) * exp(-(m-x)**2 / (2 * d**2))\n",
    "def integ_not(x,m,d):\n",
    "    from math import pi, sqrt, exp\n",
    "    return  exp(-(m-x)**2 / (2 * d**2))"
   ]
  },
  {
   "cell_type": "code",
   "execution_count": 15,
   "metadata": {},
   "outputs": [],
   "source": [
    "def get_counts(mean, unce, nbins):\n",
    "    import numpy as np\n",
    "    from scipy.stats import norm\n",
    "    bins = np.linspace(0,1,nbins+1)\n",
    "    bins[0]= -np.inf\n",
    "    bins[-1]= np.inf\n",
    "    probability = np.zeros([mean.shape[0], nbins])\n",
    "\n",
    "    for i in range(mean.shape[0]):\n",
    "        for j in range(nbins):\n",
    "            probability[i,j] = (norm.cdf(bins[j+1],loc=mean[i],scale=unce[i])-norm.cdf(bins[j],loc=mean[i],scale=unce[i]))\n",
    "    \n",
    "    counts = np.sum(probability,axis = 0)\n",
    "    variance = np.multiply(probability,(1- probability))\n",
    "    variance = np.sum(variance,axis=0)\n",
    "    uncounts = np.sqrt(variance)\n",
    "    return counts, uncounts"
   ]
  },
  {
   "cell_type": "code",
   "execution_count": 13,
   "metadata": {},
   "outputs": [],
   "source": [
    "def get_counts(Pred, Upre, true_Y,nbins, label):\n",
    "    import numpy as np\n",
    "    from scipy.stats import norm\n",
    "    mean = Pred[true_Y == label]\n",
    "    unce = Upre[true_Y == label]\n",
    "    bins = np.linspace(0,1,nbins+1)\n",
    "    #bins[0]= -np.inf\n",
    "    #bins[-1]= np.inf\n",
    "    probability = np.zeros([mean.shape[0], nbins])\n",
    "\n",
    "    for i in range(mean.shape[0]):\n",
    "        for j in range(nbins):\n",
    "            probability[i,j] = (norm.cdf(bins[j+1],loc=mean[i],scale=unce[i])-norm.cdf(bins[j],loc=mean[i],scale=unce[i]))\n",
    "    \n",
    "    counts = np.sum(probability,axis = 0)\n",
    "    variance = np.multiply(probability,(1- probability))\n",
    "    variance = np.sum(variance,axis=0)\n",
    "    uncounts = np.sqrt(variance)\n",
    "    return counts, uncounts"
   ]
  },
  {
   "cell_type": "code",
   "execution_count": 12,
   "metadata": {},
   "outputs": [],
   "source": [
    "def get_counts_by_class(Pred,Upre, true_Y, nbins):\n",
    "    from numpy import unique, linspace\n",
    "    dic_counts = {0: [], 1:[],2:[] }\n",
    "    dic_uncounts = {0: [], 1:[],2:[] }\n",
    "    \n",
    "    \n",
    "    for label in unique(true_Y):\n",
    "        Mean = Pred[true_Y == label]\n",
    "        Unce = Upre[true_Y == label]\n",
    "        dic_counts[label], dic_uncounts[label] = get_counts(Mean,Unce,nbins,)\n",
    "\n",
    "    bins = linspace(0,1,nbins+1)\n",
    "    return dic_counts, dic_uncounts, bins"
   ]
  },
  {
   "cell_type": "code",
   "execution_count": 22,
   "metadata": {},
   "outputs": [],
   "source": [
    "from scipy import stats\n",
    "\n",
    "int_c_40,  unc_c_40 = integraciones(integ,40, Mean[Y_test==1], Unce[Y_test==1] )\n",
    "int_n_30,  unc_n_30 = integraciones(integ,30, Mean[Y_test==0], Unce[Y_test==0] )\n",
    "int_n_40,  unc_n_40 = integraciones(integ,40, Mean[Y_test==0], Unce[Y_test==0] )\n",
    "int_c_30,  unc_c_30 = integraciones(integ,30, Mean[Y_test==1], Unce[Y_test==1] )\n"
   ]
  },
  {
   "cell_type": "code",
   "execution_count": 48,
   "metadata": {},
   "outputs": [],
   "source": [
    "int_3n_40,  unc_3n_40 = integraciones(integ,40, Mean[diseaseID_test==0], Unce[diseaseID_test==0] )\n",
    "int_3p_40,  unc_3p_40 = integraciones(integ,40, Mean[diseaseID_test==2], Unce[diseaseID_test==2] )\n",
    "int_3n_30,  unc_3n_30 = integraciones(integ,30, Mean[diseaseID_test==0], Unce[diseaseID_test==0] )\n",
    "int_3p_30,  unc_3p_30 = integraciones(integ,30, Mean[diseaseID_test==2], Unce[diseaseID_test==2] )"
   ]
  },
  {
   "cell_type": "code",
   "execution_count": 32,
   "metadata": {},
   "outputs": [],
   "source": [
    "coun_rand, uncer_rand = get_counts(Mean_rand, Unce_rand, nbins=40)\n",
    "dic_counts_3I, dic_variance_3I, binsI = get_counts_by_class(Mean,Unce, diseaseID_test, nbins=40)"
   ]
  },
  {
   "cell_type": "code",
   "execution_count": 59,
   "metadata": {},
   "outputs": [
    {
     "data": {
      "text/plain": [
       "1466.0000000000018"
      ]
     },
     "execution_count": 59,
     "metadata": {},
     "output_type": "execute_result"
    }
   ],
   "source": [
    "np.sum(dic_counts_2_inf[0])"
   ]
  },
  {
   "cell_type": "code",
   "execution_count": 61,
   "metadata": {},
   "outputs": [
    {
     "name": "stdout",
     "output_type": "stream",
     "text": [
      "0.0\n",
      "(880, 70)\n",
      "1.0\n",
      "(1534, 70)\n",
      "2.0\n",
      "(586, 70)\n",
      "879.9999999999998 ---- 153.64137505035598\n",
      "1534.0 ---- 281.91891098453124\n",
      "586.0000000000001 ---- 137.62064118096424\n"
     ]
    }
   ],
   "source": [
    "dic_counts_3_inf, dic_variance_3_inf, bins = get_counts_by_class(Mean,Unce, diseaseID_test, nbins=70)\n",
    "for i in range(3):\n",
    "    print(np.sum(dic_counts_3_inf[i]), \"----\", np.sum(dic_variance_3_inf[i]))"
   ]
  },
  {
   "cell_type": "code",
   "execution_count": 17,
   "metadata": {},
   "outputs": [
    {
     "name": "stdout",
     "output_type": "stream",
     "text": [
      "0\n",
      "1\n",
      "2\n",
      "3\n",
      "4\n",
      "5\n",
      "6\n",
      "7\n",
      "8\n",
      "9\n",
      "10\n",
      "11\n",
      "12\n",
      "13\n",
      "14\n",
      "15\n",
      "16\n",
      "17\n",
      "18\n",
      "19\n"
     ]
    }
   ],
   "source": [
    "unc_covid = {}\n",
    "unc_norma = {}\n",
    "unc_pneum = {}\n",
    "for i in range(20):\n",
    "    counts, uncer_3, bins = get_counts_by_class(Mean,Unce, diseaseID_test, nbins=(5*i+5))\n",
    "    print(i)\n",
    "    unc_covid[i] = uncer_3[1]\n",
    "    unc_norma[i] = uncer_3[0]\n",
    "    unc_pneum[i] = uncer_3[2]"
   ]
  },
  {
   "cell_type": "code",
   "execution_count": 42,
   "metadata": {},
   "outputs": [],
   "source": [
    "import matplotlib as mpl\n",
    "from matplotlib import pyplot as plt\n",
    "mpl.rcParams['xtick.labelsize'] = 'large'\n",
    "mpl.rcParams['ytick.labelsize'] = 'large'\n",
    "mpl.rcParams['axes.labelsize'] = 'large'\n",
    "#mpl.rcParams['xtick.labelsize'] = 'XX-large'\n",
    "#mpl.rcParams['ytick.labelsize'] = 'XX-large'\n",
    "#mpl.rcParams['axes.labelsize'] = 'XX-large'\n",
    "mpl.rcParams['axes.titlesize'] = 'large'\n",
    "mpl.rcParams['legend.fontsize'] = 'large'\n",
    "mpl.rcParams['font.size'] = '16'"
   ]
  },
  {
   "cell_type": "code",
   "execution_count": 18,
   "metadata": {},
   "outputs": [],
   "source": [
    "means = np.zeros([3,20])\n",
    "sums = np.zeros([3,20])\n",
    "for i in range(20):\n",
    "    means[1,i] = np.mean(unc_covid[i])\n",
    "    sums[1,i] = np.sum(unc_covid[i])\n",
    "    means[0,i] = np.mean(unc_norma[i])\n",
    "    sums[0,i] = np.sum(unc_norma[i])\n",
    "    means[2,i] = np.mean(unc_pneum[i])\n",
    "    sums[2,i] = np.sum(unc_pneum[i])"
   ]
  },
  {
   "cell_type": "code",
   "execution_count": 79,
   "metadata": {},
   "outputs": [
    {
     "data": {
      "text/plain": [
       "array([10.7087397 ,  8.9850434 ,  7.81596681,  6.99962637,  6.38937293,\n",
       "        5.91242434,  5.52734245,  5.20837281,  4.93878316,  4.70717884,\n",
       "        4.50545856,  4.32769484,  4.169465  ,  4.02741301,  3.89894739,\n",
       "        3.7820304 ,  3.67503153,  3.57662582,  3.48572244,  3.40141349])"
      ]
     },
     "execution_count": 79,
     "metadata": {},
     "output_type": "execute_result"
    }
   ],
   "source": [
    "means[1]"
   ]
  },
  {
   "cell_type": "code",
   "execution_count": 21,
   "metadata": {},
   "outputs": [
    {
     "data": {
      "text/plain": [
       "<matplotlib.legend.Legend at 0x7f5332aec0b8>"
      ]
     },
     "execution_count": 21,
     "metadata": {},
     "output_type": "execute_result"
    },
    {
     "data": {
      "image/png": "[encoded data removed]",
      "text/plain": [
       "<Figure size 576x576 with 1 Axes>"
      ]
     },
     "metadata": {
      "needs_background": "light"
     },
     "output_type": "display_data"
    }
   ],
   "source": [
    "fig,ax = plt.subplots(nrows=1,ncols=1,figsize=(8,8))# 6,6\n",
    "hist_bins =  np.linspace(0,1,61)\n",
    "\n",
    "plt.plot(np.arange(20)*5 + 5, means[1], label=\"covid\")\n",
    "\n",
    "plt.plot(np.arange(20)*5 + 5, means[0], label=\"sane\")\n",
    "plt.plot(np.arange(20)*5 + 5, means[2], label=\"pneumonia\")\n",
    "\n",
    "plt.ylabel(\"Sum of uncertainty\")\n",
    "plt.xlabel('Number of bins bewteen 0-1')\n",
    "\n",
    "plt.legend(loc=\"upper center\")"
   ]
  },
  {
   "cell_type": "code",
   "execution_count": 47,
   "metadata": {},
   "outputs": [
    {
     "data": {
      "text/plain": [
       "150.95528348875743"
      ]
     },
     "execution_count": 47,
     "metadata": {},
     "output_type": "execute_result"
    }
   ],
   "source": [
    "#np.sum(dic_variance_3_inf[1])\n",
    "np.sum(unc_n_40)"
   ]
  },
  {
   "cell_type": "code",
   "execution_count": 54,
   "metadata": {},
   "outputs": [
    {
     "ename": "ValueError",
     "evalue": "shape mismatch: objects cannot be broadcast to a single shape",
     "output_type": "error",
     "traceback": [
      "\u001b[0;31m---------------------------------------------------------------------------\u001b[0m",
      "\u001b[0;31mValueError\u001b[0m                                Traceback (most recent call last)",
      "\u001b[0;32m<ipython-input-54-bd0c2f68e88b>\u001b[0m in \u001b[0;36m<module>\u001b[0;34m\u001b[0m\n\u001b[1;32m     11\u001b[0m \u001b[0;34m\u001b[0m\u001b[0m\n\u001b[1;32m     12\u001b[0m plt.errorbar(hist_bins[1:], dic_counts_2I[2] ,fmt=\" \",marker='.',\n\u001b[0;32m---> 13\u001b[0;31m              yerr=dic_variance_2I[2],lw=2, color=\"darkgreen\", label = \"Original \"+str(np.sum(dic_counts_2I[2])))\n\u001b[0m\u001b[1;32m     14\u001b[0m plt.errorbar(hist_bins[:-1], dic_counts_2_inf[2] ,fmt=\" \",marker='.', \n\u001b[1;32m     15\u001b[0m              yerr=dic_variance_2_inf[2],lw=2, color=\"blue\",label =\"Or. inf\" + str(np.sum(dic_counts_2_inf[2])))\n",
      "\u001b[0;32m/usr/lib64/python3.5/site-packages/matplotlib/pyplot.py\u001b[0m in \u001b[0;36merrorbar\u001b[0;34m(x, y, yerr, xerr, fmt, ecolor, elinewidth, capsize, barsabove, lolims, uplims, xlolims, xuplims, errorevery, capthick, hold, data, **kwargs)\u001b[0m\n\u001b[1;32m   2984\u001b[0m                           \u001b[0mxlolims\u001b[0m\u001b[0;34m=\u001b[0m\u001b[0mxlolims\u001b[0m\u001b[0;34m,\u001b[0m \u001b[0mxuplims\u001b[0m\u001b[0;34m=\u001b[0m\u001b[0mxuplims\u001b[0m\u001b[0;34m,\u001b[0m\u001b[0;34m\u001b[0m\u001b[0m\n\u001b[1;32m   2985\u001b[0m                           \u001b[0merrorevery\u001b[0m\u001b[0;34m=\u001b[0m\u001b[0merrorevery\u001b[0m\u001b[0;34m,\u001b[0m \u001b[0mcapthick\u001b[0m\u001b[0;34m=\u001b[0m\u001b[0mcapthick\u001b[0m\u001b[0;34m,\u001b[0m \u001b[0mdata\u001b[0m\u001b[0;34m=\u001b[0m\u001b[0mdata\u001b[0m\u001b[0;34m,\u001b[0m\u001b[0;34m\u001b[0m\u001b[0m\n\u001b[0;32m-> 2986\u001b[0;31m                           **kwargs)\n\u001b[0m\u001b[1;32m   2987\u001b[0m     \u001b[0;32mfinally\u001b[0m\u001b[0;34m:\u001b[0m\u001b[0;34m\u001b[0m\u001b[0m\n\u001b[1;32m   2988\u001b[0m         \u001b[0max\u001b[0m\u001b[0;34m.\u001b[0m\u001b[0m_hold\u001b[0m \u001b[0;34m=\u001b[0m \u001b[0mwashold\u001b[0m\u001b[0;34m\u001b[0m\u001b[0m\n",
      "\u001b[0;32m/usr/lib64/python3.5/site-packages/matplotlib/__init__.py\u001b[0m in \u001b[0;36minner\u001b[0;34m(ax, *args, **kwargs)\u001b[0m\n\u001b[1;32m   1853\u001b[0m                         \u001b[0;34m\"the Matplotlib list!)\"\u001b[0m \u001b[0;34m%\u001b[0m \u001b[0;34m(\u001b[0m\u001b[0mlabel_namer\u001b[0m\u001b[0;34m,\u001b[0m \u001b[0mfunc\u001b[0m\u001b[0;34m.\u001b[0m\u001b[0m__name__\u001b[0m\u001b[0;34m)\u001b[0m\u001b[0;34m,\u001b[0m\u001b[0;34m\u001b[0m\u001b[0m\n\u001b[1;32m   1854\u001b[0m                         RuntimeWarning, stacklevel=2)\n\u001b[0;32m-> 1855\u001b[0;31m             \u001b[0;32mreturn\u001b[0m \u001b[0mfunc\u001b[0m\u001b[0;34m(\u001b[0m\u001b[0max\u001b[0m\u001b[0;34m,\u001b[0m \u001b[0;34m*\u001b[0m\u001b[0margs\u001b[0m\u001b[0;34m,\u001b[0m \u001b[0;34m**\u001b[0m\u001b[0mkwargs\u001b[0m\u001b[0;34m)\u001b[0m\u001b[0;34m\u001b[0m\u001b[0m\n\u001b[0m\u001b[1;32m   1856\u001b[0m \u001b[0;34m\u001b[0m\u001b[0m\n\u001b[1;32m   1857\u001b[0m         inner.__doc__ = _add_data_doc(inner.__doc__,\n",
      "\u001b[0;32m/usr/lib64/python3.5/site-packages/matplotlib/axes/_axes.py\u001b[0m in \u001b[0;36merrorbar\u001b[0;34m(self, x, y, yerr, xerr, fmt, ecolor, elinewidth, capsize, barsabove, lolims, uplims, xlolims, xuplims, errorevery, capthick, **kwargs)\u001b[0m\n\u001b[1;32m   3185\u001b[0m         \u001b[0;32mif\u001b[0m \u001b[0mplot_line\u001b[0m\u001b[0;34m:\u001b[0m\u001b[0;34m\u001b[0m\u001b[0m\n\u001b[1;32m   3186\u001b[0m             \u001b[0mdata_line\u001b[0m \u001b[0;34m=\u001b[0m \u001b[0mmlines\u001b[0m\u001b[0;34m.\u001b[0m\u001b[0mLine2D\u001b[0m\u001b[0;34m(\u001b[0m\u001b[0mx\u001b[0m\u001b[0;34m,\u001b[0m \u001b[0my\u001b[0m\u001b[0;34m,\u001b[0m \u001b[0;34m**\u001b[0m\u001b[0mplot_line_style\u001b[0m\u001b[0;34m)\u001b[0m\u001b[0;34m\u001b[0m\u001b[0m\n\u001b[0;32m-> 3187\u001b[0;31m             \u001b[0mself\u001b[0m\u001b[0;34m.\u001b[0m\u001b[0madd_line\u001b[0m\u001b[0;34m(\u001b[0m\u001b[0mdata_line\u001b[0m\u001b[0;34m)\u001b[0m\u001b[0;34m\u001b[0m\u001b[0m\n\u001b[0m\u001b[1;32m   3188\u001b[0m \u001b[0;34m\u001b[0m\u001b[0m\n\u001b[1;32m   3189\u001b[0m         \u001b[0mbarcols\u001b[0m \u001b[0;34m=\u001b[0m \u001b[0;34m[\u001b[0m\u001b[0;34m]\u001b[0m\u001b[0;34m\u001b[0m\u001b[0m\n",
      "\u001b[0;32m/usr/lib64/python3.5/site-packages/matplotlib/axes/_base.py\u001b[0m in \u001b[0;36madd_line\u001b[0;34m(self, line)\u001b[0m\n\u001b[1;32m   1930\u001b[0m             \u001b[0mline\u001b[0m\u001b[0;34m.\u001b[0m\u001b[0mset_clip_path\u001b[0m\u001b[0;34m(\u001b[0m\u001b[0mself\u001b[0m\u001b[0;34m.\u001b[0m\u001b[0mpatch\u001b[0m\u001b[0;34m)\u001b[0m\u001b[0;34m\u001b[0m\u001b[0m\n\u001b[1;32m   1931\u001b[0m \u001b[0;34m\u001b[0m\u001b[0m\n\u001b[0;32m-> 1932\u001b[0;31m         \u001b[0mself\u001b[0m\u001b[0;34m.\u001b[0m\u001b[0m_update_line_limits\u001b[0m\u001b[0;34m(\u001b[0m\u001b[0mline\u001b[0m\u001b[0;34m)\u001b[0m\u001b[0;34m\u001b[0m\u001b[0m\n\u001b[0m\u001b[1;32m   1933\u001b[0m         \u001b[0;32mif\u001b[0m \u001b[0;32mnot\u001b[0m \u001b[0mline\u001b[0m\u001b[0;34m.\u001b[0m\u001b[0mget_label\u001b[0m\u001b[0;34m(\u001b[0m\u001b[0;34m)\u001b[0m\u001b[0;34m:\u001b[0m\u001b[0;34m\u001b[0m\u001b[0m\n\u001b[1;32m   1934\u001b[0m             \u001b[0mline\u001b[0m\u001b[0;34m.\u001b[0m\u001b[0mset_label\u001b[0m\u001b[0;34m(\u001b[0m\u001b[0;34m'_line%d'\u001b[0m \u001b[0;34m%\u001b[0m \u001b[0mlen\u001b[0m\u001b[0;34m(\u001b[0m\u001b[0mself\u001b[0m\u001b[0;34m.\u001b[0m\u001b[0mlines\u001b[0m\u001b[0;34m)\u001b[0m\u001b[0;34m)\u001b[0m\u001b[0;34m\u001b[0m\u001b[0m\n",
      "\u001b[0;32m/usr/lib64/python3.5/site-packages/matplotlib/axes/_base.py\u001b[0m in \u001b[0;36m_update_line_limits\u001b[0;34m(self, line)\u001b[0m\n\u001b[1;32m   1952\u001b[0m         \u001b[0mFigures\u001b[0m \u001b[0mout\u001b[0m \u001b[0mthe\u001b[0m \u001b[0mdata\u001b[0m \u001b[0mlimit\u001b[0m \u001b[0mof\u001b[0m \u001b[0mthe\u001b[0m \u001b[0mgiven\u001b[0m \u001b[0mline\u001b[0m\u001b[0;34m,\u001b[0m \u001b[0mupdating\u001b[0m \u001b[0mself\u001b[0m\u001b[0;34m.\u001b[0m\u001b[0mdataLim\u001b[0m\u001b[0;34m.\u001b[0m\u001b[0;34m\u001b[0m\u001b[0m\n\u001b[1;32m   1953\u001b[0m         \"\"\"\n\u001b[0;32m-> 1954\u001b[0;31m         \u001b[0mpath\u001b[0m \u001b[0;34m=\u001b[0m \u001b[0mline\u001b[0m\u001b[0;34m.\u001b[0m\u001b[0mget_path\u001b[0m\u001b[0;34m(\u001b[0m\u001b[0;34m)\u001b[0m\u001b[0;34m\u001b[0m\u001b[0m\n\u001b[0m\u001b[1;32m   1955\u001b[0m         \u001b[0;32mif\u001b[0m \u001b[0mpath\u001b[0m\u001b[0;34m.\u001b[0m\u001b[0mvertices\u001b[0m\u001b[0;34m.\u001b[0m\u001b[0msize\u001b[0m \u001b[0;34m==\u001b[0m \u001b[0;36m0\u001b[0m\u001b[0;34m:\u001b[0m\u001b[0;34m\u001b[0m\u001b[0m\n\u001b[1;32m   1956\u001b[0m             \u001b[0;32mreturn\u001b[0m\u001b[0;34m\u001b[0m\u001b[0m\n",
      "\u001b[0;32m/usr/lib64/python3.5/site-packages/matplotlib/lines.py\u001b[0m in \u001b[0;36mget_path\u001b[0;34m(self)\u001b[0m\n\u001b[1;32m    949\u001b[0m         \"\"\"\n\u001b[1;32m    950\u001b[0m         \u001b[0;32mif\u001b[0m \u001b[0mself\u001b[0m\u001b[0;34m.\u001b[0m\u001b[0m_invalidy\u001b[0m \u001b[0;32mor\u001b[0m \u001b[0mself\u001b[0m\u001b[0;34m.\u001b[0m\u001b[0m_invalidx\u001b[0m\u001b[0;34m:\u001b[0m\u001b[0;34m\u001b[0m\u001b[0m\n\u001b[0;32m--> 951\u001b[0;31m             \u001b[0mself\u001b[0m\u001b[0;34m.\u001b[0m\u001b[0mrecache\u001b[0m\u001b[0;34m(\u001b[0m\u001b[0;34m)\u001b[0m\u001b[0;34m\u001b[0m\u001b[0m\n\u001b[0m\u001b[1;32m    952\u001b[0m         \u001b[0;32mreturn\u001b[0m \u001b[0mself\u001b[0m\u001b[0;34m.\u001b[0m\u001b[0m_path\u001b[0m\u001b[0;34m\u001b[0m\u001b[0m\n\u001b[1;32m    953\u001b[0m \u001b[0;34m\u001b[0m\u001b[0m\n",
      "\u001b[0;32m/usr/lib64/python3.5/site-packages/matplotlib/lines.py\u001b[0m in \u001b[0;36mrecache\u001b[0;34m(self, always)\u001b[0m\n\u001b[1;32m    659\u001b[0m             \u001b[0my\u001b[0m \u001b[0;34m=\u001b[0m \u001b[0mself\u001b[0m\u001b[0;34m.\u001b[0m\u001b[0m_y\u001b[0m\u001b[0;34m\u001b[0m\u001b[0m\n\u001b[1;32m    660\u001b[0m \u001b[0;34m\u001b[0m\u001b[0m\n\u001b[0;32m--> 661\u001b[0;31m         \u001b[0mself\u001b[0m\u001b[0;34m.\u001b[0m\u001b[0m_xy\u001b[0m \u001b[0;34m=\u001b[0m \u001b[0mnp\u001b[0m\u001b[0;34m.\u001b[0m\u001b[0mcolumn_stack\u001b[0m\u001b[0;34m(\u001b[0m\u001b[0mnp\u001b[0m\u001b[0;34m.\u001b[0m\u001b[0mbroadcast_arrays\u001b[0m\u001b[0;34m(\u001b[0m\u001b[0mx\u001b[0m\u001b[0;34m,\u001b[0m \u001b[0my\u001b[0m\u001b[0;34m)\u001b[0m\u001b[0;34m)\u001b[0m\u001b[0;34m.\u001b[0m\u001b[0mastype\u001b[0m\u001b[0;34m(\u001b[0m\u001b[0mfloat\u001b[0m\u001b[0;34m)\u001b[0m\u001b[0;34m\u001b[0m\u001b[0m\n\u001b[0m\u001b[1;32m    662\u001b[0m         \u001b[0mself\u001b[0m\u001b[0;34m.\u001b[0m\u001b[0m_x\u001b[0m\u001b[0;34m,\u001b[0m \u001b[0mself\u001b[0m\u001b[0;34m.\u001b[0m\u001b[0m_y\u001b[0m \u001b[0;34m=\u001b[0m \u001b[0mself\u001b[0m\u001b[0;34m.\u001b[0m\u001b[0m_xy\u001b[0m\u001b[0;34m.\u001b[0m\u001b[0mT\u001b[0m  \u001b[0;31m# views\u001b[0m\u001b[0;34m\u001b[0m\u001b[0m\n\u001b[1;32m    663\u001b[0m \u001b[0;34m\u001b[0m\u001b[0m\n",
      "\u001b[0;32m<__array_function__ internals>\u001b[0m in \u001b[0;36mbroadcast_arrays\u001b[0;34m(*args, **kwargs)\u001b[0m\n",
      "\u001b[0;32m/usr/lib64/python3.5/site-packages/numpy/lib/stride_tricks.py\u001b[0m in \u001b[0;36mbroadcast_arrays\u001b[0;34m(*args, **kwargs)\u001b[0m\n\u001b[1;32m    262\u001b[0m     \u001b[0margs\u001b[0m \u001b[0;34m=\u001b[0m \u001b[0;34m[\u001b[0m\u001b[0mnp\u001b[0m\u001b[0;34m.\u001b[0m\u001b[0marray\u001b[0m\u001b[0;34m(\u001b[0m\u001b[0m_m\u001b[0m\u001b[0;34m,\u001b[0m \u001b[0mcopy\u001b[0m\u001b[0;34m=\u001b[0m\u001b[0;32mFalse\u001b[0m\u001b[0;34m,\u001b[0m \u001b[0msubok\u001b[0m\u001b[0;34m=\u001b[0m\u001b[0msubok\u001b[0m\u001b[0;34m)\u001b[0m \u001b[0;32mfor\u001b[0m \u001b[0m_m\u001b[0m \u001b[0;32min\u001b[0m \u001b[0margs\u001b[0m\u001b[0;34m]\u001b[0m\u001b[0;34m\u001b[0m\u001b[0m\n\u001b[1;32m    263\u001b[0m \u001b[0;34m\u001b[0m\u001b[0m\n\u001b[0;32m--> 264\u001b[0;31m     \u001b[0mshape\u001b[0m \u001b[0;34m=\u001b[0m \u001b[0m_broadcast_shape\u001b[0m\u001b[0;34m(\u001b[0m\u001b[0;34m*\u001b[0m\u001b[0margs\u001b[0m\u001b[0;34m)\u001b[0m\u001b[0;34m\u001b[0m\u001b[0m\n\u001b[0m\u001b[1;32m    265\u001b[0m \u001b[0;34m\u001b[0m\u001b[0m\n\u001b[1;32m    266\u001b[0m     \u001b[0;32mif\u001b[0m \u001b[0mall\u001b[0m\u001b[0;34m(\u001b[0m\u001b[0marray\u001b[0m\u001b[0;34m.\u001b[0m\u001b[0mshape\u001b[0m \u001b[0;34m==\u001b[0m \u001b[0mshape\u001b[0m \u001b[0;32mfor\u001b[0m \u001b[0marray\u001b[0m \u001b[0;32min\u001b[0m \u001b[0margs\u001b[0m\u001b[0;34m)\u001b[0m\u001b[0;34m:\u001b[0m\u001b[0;34m\u001b[0m\u001b[0m\n",
      "\u001b[0;32m/usr/lib64/python3.5/site-packages/numpy/lib/stride_tricks.py\u001b[0m in \u001b[0;36m_broadcast_shape\u001b[0;34m(*args)\u001b[0m\n\u001b[1;32m    189\u001b[0m     \u001b[0;31m# use the old-iterator because np.nditer does not handle size 0 arrays\u001b[0m\u001b[0;34m\u001b[0m\u001b[0;34m\u001b[0m\u001b[0m\n\u001b[1;32m    190\u001b[0m     \u001b[0;31m# consistently\u001b[0m\u001b[0;34m\u001b[0m\u001b[0;34m\u001b[0m\u001b[0m\n\u001b[0;32m--> 191\u001b[0;31m     \u001b[0mb\u001b[0m \u001b[0;34m=\u001b[0m \u001b[0mnp\u001b[0m\u001b[0;34m.\u001b[0m\u001b[0mbroadcast\u001b[0m\u001b[0;34m(\u001b[0m\u001b[0;34m*\u001b[0m\u001b[0margs\u001b[0m\u001b[0;34m[\u001b[0m\u001b[0;34m:\u001b[0m\u001b[0;36m32\u001b[0m\u001b[0;34m]\u001b[0m\u001b[0;34m)\u001b[0m\u001b[0;34m\u001b[0m\u001b[0m\n\u001b[0m\u001b[1;32m    192\u001b[0m     \u001b[0;31m# unfortunately, it cannot handle 32 or more arguments directly\u001b[0m\u001b[0;34m\u001b[0m\u001b[0;34m\u001b[0m\u001b[0m\n\u001b[1;32m    193\u001b[0m     \u001b[0;32mfor\u001b[0m \u001b[0mpos\u001b[0m \u001b[0;32min\u001b[0m \u001b[0mrange\u001b[0m\u001b[0;34m(\u001b[0m\u001b[0;36m32\u001b[0m\u001b[0;34m,\u001b[0m \u001b[0mlen\u001b[0m\u001b[0;34m(\u001b[0m\u001b[0margs\u001b[0m\u001b[0;34m)\u001b[0m\u001b[0;34m,\u001b[0m \u001b[0;36m31\u001b[0m\u001b[0;34m)\u001b[0m\u001b[0;34m:\u001b[0m\u001b[0;34m\u001b[0m\u001b[0m\n",
      "\u001b[0;31mValueError\u001b[0m: shape mismatch: objects cannot be broadcast to a single shape"
     ]
    },
    {
     "data": {
      "image/png": "[encoded data removed]",
      "text/plain": [
       "<Figure size 1152x1152 with 1 Axes>"
      ]
     },
     "metadata": {
      "needs_background": "light"
     },
     "output_type": "display_data"
    }
   ],
   "source": [
    "fig,ax = plt.subplots(nrows=1,ncols=1,figsize=(16,16))# 6,6\n",
    "from codvidutils.utils import hist_with_unce\n",
    "\n",
    "plt.style.use('seaborn-deep')\n",
    "#plt.fill_between(nbins, dic_counts_2[0]-dic_variance_2[0], dic_counts_2[0]+dic_variance_2[0],color='0.75')\n",
    "\n",
    "#hist_with_unce(hist_bins,dic_counts_3I[1],dic_variance_3I[1],\n",
    "               #color1=\"blue\", color2=\"lightblue\",lw=2,label =\"Julia INF \"+ str(np.sum(dic_counts_3_inf[1])))\n",
    "\n",
    "plt.errorbar(hist_bins[1:], dic_counts_2I[2] ,fmt=\" \",marker='.',\n",
    "             yerr=dic_variance_2I[2],lw=2, color=\"darkgreen\", label = \"Original \"+str(np.sum(dic_counts_2I[2])))\n",
    "plt.errorbar(hist_bins[:-1], dic_counts_2_inf[2] ,fmt=\" \",marker='.', \n",
    "             yerr=dic_variance_2_inf[2],lw=2, color=\"blue\",label =\"Or. inf\" + str(np.sum(dic_counts_2_inf[2])))\n",
    "plt.errorbar(bins[:-1], int_n_40 ,fmt=\" \",marker='.', \n",
    "             yerr=unc_n_30,lw=2, color=\"orange\",label =\"Integ \" + str(np.sum(int_n_30)))\n",
    "plt.hist(Mean[Y_test==2],40, color= \"black\",histtype='step', lw=2,label = \"Hist. of mean\")\n",
    "plt.ylabel('Number of counts')\n",
    "#hist_with_unce(hist_bins,int_c_40,unc_c_40,color1='blue', color2=\"lightblue\",lw=3,label =\"Inaki \" + str(np.sum(int_c_40)))\n",
    "#hist_with_unce(hist_bins,dic_counts_3I[1],dic_variance_3I[1],\n",
    "               #color1='green', color2=\"lightgreen\",lw=2,label =\"Julia \"+ str(np.sum(dic_counts_3I[1])))\n",
    "\n",
    "plt.xlabel('Score')\n",
    "plt.title(\"Covid # bins = 40\")\n",
    "plt.legend(loc=\"upper center\")\n",
    "plt.savefig(\"hist__pneu_julia_vs_inaki_60.eps\")"
   ]
  },
  {
   "cell_type": "code",
   "execution_count": null,
   "metadata": {},
   "outputs": [],
   "source": [
    "fig,ax = plt.subplots(nrows=1,ncols=1,figsize=(16,16))# 6,6\n",
    "hist_bins =  np.linspace(0,1,61)\n",
    "\n",
    "plt.style.use('seaborn-deep')\n",
    "#plt.fill_between(nbins, dic_counts_2[0]-dic_variance_2[0], dic_counts_2[0]+dic_variance_2[0],color='0.75')\n",
    "\n",
    "\n",
    "plt.errorbar(bins, dic_counts_3[0] ,fmt=\" \",marker='.', yerr=dic_variance_3[0],lw=2, color=\"darkgreen\")\n",
    "plt.hist(Mean[Y_test==0],60, color= \"black\",histtype='step', lw=2,label = \"Hist. of mean\")\n",
    "plt.ylabel('Number of counts')\n",
    "hist_with_unce(hist_bins,int_n,unc_n,color1='blue', color2=\"lightblue\",lw=2,label =\"Inaki \" + str(np.sum(int_n)))\n",
    "hist_with_unce(hist_bins,dic_counts_3[0],dic_variance_3[0],\n",
    "               color1='green', color2=\"lightgreen\",lw=2,label =\"Julia \"+ str(np.sum(dic_counts_3[0])))\n",
    "hist_with_unce(hist_bins,dic_counts_3I[0],dic_variance_3I[0],\n",
    "               color1='red', color2=\"red\",lw=2,label =\"Julia INF \"+ str(np.sum(dic_counts_3I[0])))\n",
    "\n",
    "plt.xlabel('Score')\n",
    "plt.title(\" No Covid # bins = 60\")\n",
    "plt.legend(loc=\"upper center\")\n",
    "#plt.savefig(\"hist_no_covid_julia_vs_inaki_60.eps\")"
   ]
  },
  {
   "cell_type": "code",
   "execution_count": 51,
   "metadata": {},
   "outputs": [],
   "source": [
    "def hist_with_unce (hist_bins, counts, uncer_counts, color1, color2,lw=2, label = None, alpha = 0.5):\n",
    "    import matplotlib.pyplot as plt\n",
    "    \"\"\"\n",
    "    hist_bins: array with the bin edges, (N+1)-array\n",
    "    counts: N-array with the value of each bin\n",
    "    uncer_counts: N-array with the uncertainty of each count.\n",
    "    color1: color to histogram \n",
    "    color2: color to uncertainty area\n",
    "    lw: lenght of histogram line\n",
    "    label:\n",
    "    alpha: transparency of the uner\n",
    "    \"\"\"\n",
    "    plt.hist(hist_bins[:-1], hist_bins, weights = counts,histtype=\"step\",color=color1,lw=lw,label =label)\n",
    "    for i in range(counts.shape[0]):\n",
    "        plt.fill_between(hist_bins[i:i+2], counts[i]-uncer_counts[i],counts[i]+uncer_counts[i], color=color2, alpha=0.5)\n"
   ]
  },
  {
   "cell_type": "code",
   "execution_count": 53,
   "metadata": {},
   "outputs": [
    {
     "data": {
      "text/plain": [
       "<matplotlib.legend.Legend at 0x7f4d8217eef0>"
      ]
     },
     "execution_count": 53,
     "metadata": {},
     "output_type": "execute_result"
    },
    {
     "data": {
      "image/png": "[encoded data removed]",
      "text/plain": [
       "<Figure size 1152x1152 with 1 Axes>"
      ]
     },
     "metadata": {
      "needs_background": "light"
     },
     "output_type": "display_data"
    }
   ],
   "source": [
    "fig,ax = plt.subplots(nrows=1,ncols=1,figsize=(16,16))# 6,6\n",
    "#from codvidutils.utils import hist_with_unce\n",
    "plt.style.use('seaborn-deep')\n",
    "plt.ylabel('Number of counts')\n",
    "hist_with_unce(binsI,dic_counts_3I[2],dic_variance_3I[2],\n",
    "               color1='green', color2=\"lightgreen\",lw=2,label =\"Pneumonia\")\n",
    "hist_with_unce(binsI,dic_counts_3I[1],dic_variance_3I[1],\n",
    "               color1='red', color2=\"tomato\",lw=2,label =\"Covid-19\")\n",
    "hist_with_unce(binsI,dic_counts_3I[0],dic_variance_3I[0],\n",
    "               color1='blue', color2=\"lightblue\",lw=2,label =\"Normal\")\n",
    "hist_with_unce(binsI,coun_rand, uncer_rand,\n",
    "               color1='sienna', color2=\"khaki\",lw=2,label =\"Random images\")\n",
    "\n",
    "plt.xlabel(\"Score  # bins = 40\")\n",
    "plt.ylabel(\"Number of counts\")\n",
    "\n",
    "plt.legend(loc=\"upper center\")\n",
    "#plt.savefig(\"hist_no_covid_julia_vs_inaki_60.eps\")"
   ]
  },
  {
   "cell_type": "code",
   "execution_count": null,
   "metadata": {},
   "outputs": [],
   "source": [
    "fig,ax = plt.subplots(nrows=1,ncols=1,figsize=(8,8))# 6,6\n",
    "hist_bins =  np.linspace(0,1,21)\n",
    "\n",
    "plt.style.use('seaborn-deep')\n",
    "plt.hist(hist_bins[:-1], hist_bins, weights =int_n,histtype='step',color='blue',\n",
    "         lw=4,label =\"Inaki \" + str(np.sum(int_n)))\n",
    "#plt.fill_between(nbins, dic_counts_2[0]-dic_variance_2[0], dic_counts_2[0]+dic_variance_2[0],color='0.75')\n",
    "\n",
    "plt.hist(hist_bins[:-1], hist_bins, weights = dic_counts_2[0],histtype='step',\n",
    "         color='darkorange',lw=2,label =\"Julia \"+ str(np.sum(dic_counts_2[0])))\n",
    "plt.errorbar(nbins, int_n ,fmt=\" \",marker='.', yerr=unc_n,lw=2, color=\"blue\")\n",
    "plt.errorbar(nbins, dic_counts_2[0] ,fmt=\" \",marker='.', yerr=dic_variance_2[0],lw=2, color=\"darkorange\")\n",
    "plt.ylabel('Number of counts')\n",
    "plt.xlabel('Score')\n",
    "plt.title(\"Covid # bins = 20\")\n",
    "plt.legend(loc=\"upper center\")\n",
    "plt.savefig(\"hist_no_covid_julia_vs_inaki.eps\")"
   ]
  },
  {
   "cell_type": "code",
   "execution_count": null,
   "metadata": {},
   "outputs": [],
   "source": [
    "fig,ax = plt.subplots(nrows=1,ncols=1,figsize=(8,8))# 6,6\n",
    "hist_bins =  np.linspace(0,1,21)\n",
    "\n",
    "plt.style.use('seaborn-deep')\n",
    "plt.hist(hist_bins[:-1], hist_bins, weights = dic_counts_2[0],histtype='step',color='blue',lw=2,label =\"No Covid\")\n",
    "#plt.fill_between(nbins, dic_counts_2[0]-dic_variance_2[0], dic_counts_2[0]+dic_variance_2[0],color='0.75')\n",
    "\n",
    "plt.hist(hist_bins[:-1], hist_bins, weights = dic_counts_2[1],histtype='step',color='darkorange',lw=2,label =\"Covid\")\n",
    "plt.errorbar(nbins, dic_counts_2[0] ,fmt=\" \",marker='.', yerr=dic_variance_2[0],lw=2, color=\"blue\")\n",
    "plt.errorbar(nbins, dic_counts_2[1] ,fmt=\" \",marker='.', yerr=dic_variance_2[1],lw=2, color=\"darkorange\")\n",
    "plt.ylabel('Number of counts')\n",
    "plt.xlabel('Score')\n",
    "plt.title(\"Histogram with errorbar # bins = 20\")\n",
    "plt.legend(loc=\"upper center\")\n",
    "plt.savefig(\"hist_error_60.eps\")"
   ]
  },
  {
   "cell_type": "code",
   "execution_count": null,
   "metadata": {},
   "outputs": [],
   "source": [
    "nbins"
   ]
  },
  {
   "cell_type": "code",
   "execution_count": null,
   "metadata": {},
   "outputs": [],
   "source": [
    "hist_bins"
   ]
  },
  {
   "cell_type": "code",
   "execution_count": null,
   "metadata": {},
   "outputs": [],
   "source": [
    "bins"
   ]
  },
  {
   "cell_type": "code",
   "execution_count": null,
   "metadata": {},
   "outputs": [],
   "source": [
    "filled_bins  = bins - (nbins[1]-nbins[0])/2\n",
    "filled_bins[0] = 0\n",
    "filled_bins = np.append(filled_bins,1)\n",
    "filled_bins"
   ]
  },
  {
   "cell_type": "code",
   "execution_count": null,
   "metadata": {},
   "outputs": [],
   "source": [
    "(dic_counts_3[0]-dic_variance_3[0])[0]"
   ]
  },
  {
   "cell_type": "code",
   "execution_count": null,
   "metadata": {},
   "outputs": [],
   "source": [
    "fig,ax = plt.subplots(nrows=1,ncols=1,figsize=(8,8))# 6,6\n",
    "hist_bins =  np.linspace(0,1,61)\n",
    "\n",
    "plt.style.use('seaborn-deep')\n",
    "plt.hist(hist_bins[:-1], hist_bins, weights = dic_counts_3[0],histtype='step',color='blue',lw=2,label =\"No Covid\")\n",
    "plt.hist(hist_bins[:-1], hist_bins, weights = dic_counts_3[1],histtype='step',color='#ED760E',lw=2,label =\"Covid\")\n",
    "for i in range(bins.shape[0]):\n",
    "    plt.fill_between(hist_bins[i:i+2], (dic_counts_3[0]-dic_variance_3[0])[i], \n",
    "                 (dic_counts_3[0]+dic_variance_3[0])[i], color='lightblue')\n",
    "    plt.fill_between(hist_bins[i:i+2], (dic_counts_3[1]-dic_variance_3[1])[i], \n",
    "                 (dic_counts_3[1]+dic_variance_3[1])[i], color='#FFA420')\n",
    "\n",
    "#plt.plot(bins_fill, dic_counts_2[0], color= \"black\")\n",
    "plt.ylabel('Number of counts')\n",
    "plt.xlabel('Score')\n",
    "plt.title(\"Histogram with error square # bins = 60\")\n",
    "plt.legend(loc=\"upper center\")\n",
    "plt.savefig(\"hist_error_square_60.eps\")"
   ]
  },
  {
   "cell_type": "code",
   "execution_count": 23,
   "metadata": {},
   "outputs": [],
   "source": [
    "def hist_with_unce (hist_bins, counts, uncer_counts, color1, color2,lw=2, label = None, histtype = \"step\"):\n",
    "    import matplotlib.pyplot as plt\n",
    "    \"\"\"\n",
    "    hist_bins: array with the bin edges, (N+1)-array\n",
    "    counts: N-array with the value of each bin\n",
    "    uncer_counts: N-array with the uncertainty of each count.\n",
    "    \"\"\"\n",
    "    plt.hist(hist_bins[:-1], hist_bins, weights = counts,histtype=histtype,color=color1,lw=lw,label =label)\n",
    "    for i in range(counts.shape[0]):\n",
    "        plt.fill_between(hist_bins[i:i+2], counts[i]-uncer_counts[i],counts[i]+uncer_counts[i], color=color2)\n",
    "\n",
    "    "
   ]
  },
  {
   "cell_type": "code",
   "execution_count": null,
   "metadata": {
    "scrolled": false
   },
   "outputs": [],
   "source": [
    "fig,ax = plt.subplots(nrows=1,ncols=1,figsize=(8,8))# 6,6\n",
    "hist_bins =  np.linspace(0,1,21)\n",
    "\n",
    "plt.style.use('seaborn-deep')\n",
    "hist_with_unce(hist_bins,dic_counts_2[0],dic_variance_2[0],color1='blue', color2=\"lightblue\",lw=2,label =\"No Covid\")\n",
    "hist_with_unce(hist_bins,dic_counts_2[1],dic_variance_2[1],color1='orange', color2=\"red\",lw=2,label =\"Covid\")\n",
    "#plt.plot(bins_fill, dic_counts_2[0], color= \"black\")\n",
    "plt.ylabel('Number of counts')\n",
    "plt.xlabel('Score')\n",
    "plt.title(\"Histogram with error square # bins = 20\")\n",
    "plt.legend(loc=\"upper center\")\n",
    "plt.savefig(\"hist_error_square_20.eps\")"
   ]
  },
  {
   "cell_type": "code",
   "execution_count": null,
   "metadata": {},
   "outputs": [],
   "source": [
    "fig,ax = plt.subplots(nrows=1,ncols=1,figsize=(8,8))# 6,6\n",
    "hist_bins =  np.linspace(0,1,61)\n",
    "\n",
    "plt.style.use('seaborn-deep')\n",
    "\"\"\"\n",
    "plt.hist(hist_bins[:-1], hist_bins, weights = dic_counts_3[0]+dic_variance_3[0],histtype='barstacked',color='lightblue')#,lw=5,label =\"No Covid\")\n",
    "#\n",
    "plt.hist(hist_bins[:-1], hist_bins, weights = dic_counts_3[0]-dic_variance_3[0],histtype='bar',color='white',lw=1)\n",
    "plt.hist(hist_bins[:-1], hist_bins, weights = dic_counts_3[0],histtype='step',color='blue',lw=2,label =\"No Covid\")\n",
    "\n",
    "plt.hist(hist_bins[:-1], hist_bins, weights = dic_counts_3[1]+dic_variance_3[1],histtype='barstacked',color='orange')#,lw=5,label =\"No Covid\")\n",
    "plt.hist(hist_bins[:-1], hist_bins, weights = dic_counts_3[1]-dic_variance_3[1],histtype='bar',color='white',lw=1)\n",
    "\"\"\"\n",
    "plt.hist(hist_bins[:-1], hist_bins, weights = dic_counts_3[0],histtype='step',color='blue',lw=2,label =\"No Covid\")\n",
    "\n",
    "plt.hist(hist_bins[:-1], hist_bins, weights = dic_counts_3[1],histtype='step',color='darkorange',lw=2,label =\"Covid\")\n",
    "\n",
    "plt.errorbar(bins, dic_counts_3[0] ,fmt=\" \",marker='.', yerr=dic_variance_3[0],lw=2, color=\"blue\")\n",
    "plt.errorbar(bins, dic_counts_3[1] ,fmt=\" \",marker='.', yerr=dic_variance_3[1],lw=2, color=\"darkorange\")\n",
    "plt.ylabel('Number of counts')\n",
    "plt.xlabel('Score')\n",
    "plt.title(\"Histogram with error square # bins = 60\")\n",
    "plt.legend(loc=\"upper center\")\n",
    "plt.savefig(\"hist_erorr_60.eps\")"
   ]
  },
  {
   "cell_type": "code",
   "execution_count": null,
   "metadata": {},
   "outputs": [],
   "source": [
    "import matplotlib.pyplot as plt\n",
    "fig,ax = plt.subplots(nrows=1,ncols=1,figsize=(8,8))# 6,6\n",
    "\n",
    "plt.style.use('seaborn-deep')\n",
    "plt.errorbar(bins, dic_counts_3[0] ,fmt=\" \",marker='.', yerr=dic_variance_3[0],lw=2, color=\"blue\",label =\"No Covid\")\n",
    "plt.errorbar(bins, dic_counts_3[1] ,fmt=\" \",marker='.', yerr=dic_variance_3[1],lw=2, color=\"darkorange\",label =\"Covid\")\n",
    "plt.ylabel('Number of counts')\n",
    "plt.xlabel('Score')\n",
    "plt.title(\"Points with errorline # bins = 60\")\n",
    "plt.legend(loc=\"upper center\")\n",
    "plt.savefig(\"points_error_60.eps\")"
   ]
  },
  {
   "cell_type": "code",
   "execution_count": null,
   "metadata": {},
   "outputs": [],
   "source": [
    "import matplotlib.pyplot as plt\n",
    "fig,ax = plt.subplots(nrows=1,ncols=1,figsize=(8,8))# 6,6\n",
    "\n",
    "plt.style.use('seaborn-deep')\n",
    "plt.errorbar(nbins, dic_counts_2[0] ,fmt=\" \",marker='.', yerr=dic_variance_2[0],lw=2, color=\"blue\",label =\"No Covid\")\n",
    "plt.errorbar(nbins, dic_counts_2[1] ,fmt=\" \",marker='.',yerr=dic_variance_2[1],lw=2, color=\"darkorange\",label =\"Covid\")\n",
    "plt.ylabel('Number of counts')\n",
    "\n",
    "plt.xlabel('Score')\n",
    "plt.title(\"Points with errorline #bins = 20\")\n",
    "plt.legend(loc=\"upper center\")\n",
    "plt.savefig(\"points_error_20.eps\")"
   ]
  },
  {
   "cell_type": "code",
   "execution_count": null,
   "metadata": {},
   "outputs": [],
   "source": [
    "fig,ax = plt.subplots(nrows=1,ncols=1,figsize=(8,8))# 6,6\n",
    "\n",
    "plt.style.use('seaborn-deep')\n",
    "plt.plot(bins, dic_counts_3[0],lw=2, color=\"blue\",label =\"Normal\")\n",
    "plt.fill_between(bins, dic_counts_3[0]-dic_variance_3[0], dic_counts_3[0]+dic_variance_3[0],color='0.75')\n",
    "#plt.errorbar(bins, dic_counts_2[0] ,fmt=\" \",marker='.', yerr=dic_variance_2[0],lw=1, color=\"darkorange\",label =\"Covid\")\n",
    "#plt.errorbar(bins, dic_counts_3[2] ,fmt=\" \",marker='.', yerr=dic_variance_3[2],lw=1, color=\"red\",label =\"Pneumonia\")\n",
    "plt.plot(bins, dic_counts_3[1],lw=2, color=\"darkorange\",label =\"Covid\")\n",
    "plt.fill_between(bins, dic_counts_3[1]-dic_variance_3[1], dic_counts_3[1]+dic_variance_3[1],color='orange')\n",
    "plt.title(\"Line with errorband #bins = 60\")\n",
    "plt.savefig(\"line_error_60.eps\")"
   ]
  },
  {
   "cell_type": "code",
   "execution_count": null,
   "metadata": {},
   "outputs": [],
   "source": [
    "import matplotlib.pyplot as plt\n",
    "fig,ax = plt.subplots(nrows=1,ncols=1,figsize=(8,8))# 6,6\n",
    "\n",
    "plt.style.use('seaborn-deep')\n",
    "plt.plot(nbins, dic_counts_2[0],lw=1, color=\"blue\",label =\"Normal\")\n",
    "plt.fill_between(nbins, dic_counts_2[0]-dic_variance_2[0], dic_counts_2[0]+dic_variance_2[0],color='0.75')\n",
    "#plt.errorbar(bins, dic_counts_2[0] ,fmt=\" \",marker='.', yerr=dic_variance_2[0],lw=1, color=\"darkorange\",label =\"Covid\")\n",
    "#plt.errorbar(bins, dic_counts_3[2] ,fmt=\" \",marker='.', yerr=dic_variance_3[2],lw=1, color=\"red\",label =\"Pneumonia\")\n",
    "plt.plot(nbins, dic_counts_2[1],lw=1, color=\"darkorange\",label =\"Covid\")\n",
    "plt.fill_between(nbins, dic_counts_2[1]-dic_variance_2[1], dic_counts_2[1]+dic_variance_2[1],color='orange')\n",
    "plt.title(\"Line with errorband #bins = 20\")\n",
    "plt.savefig(\"line_error_20.eps\")"
   ]
  },
  {
   "cell_type": "code",
   "execution_count": null,
   "metadata": {
    "scrolled": true
   },
   "outputs": [],
   "source": [
    "import matplotlib.pyplot as plt\n",
    "fig,ax = plt.subplots(nrows=1,ncols=1,figsize=(8,8))# 6,6\n",
    "\n",
    "plt.style.use('seaborn-deep')\n",
    "plt.errorbar(bins, dic_counts_3[0] ,fmt=\" \",marker='.', yerr=dic_variance_3[0],lw=1, color=\"blue\",label =\"Normal\")\n",
    "plt.errorbar(bins, dic_counts_3[1] ,fmt=\" \",marker='.', yerr=dic_variance_3[1],lw=1, color=\"darkorange\",label =\"Covid\")\n",
    "plt.errorbar(bins, dic_counts_3[2] ,fmt=\" \",marker='.', yerr=dic_variance_3[2],lw=1, color=\"red\",label =\"Pneumonia\")\n",
    "#plt.hist(Mean[(diseaseID_test==2)],50,histtype='step',color='blue',lw=2,label= \"No covid\" )\n",
    "plt.ylabel('Number of counts')\n",
    "plt.xlabel('Score')\n",
    "plt.legend(loc=\"upper center\")\n",
    "#plt.savefig(filename)"
   ]
  },
  {
   "cell_type": "code",
   "execution_count": null,
   "metadata": {},
   "outputs": [],
   "source": [
    "Upper = Mean + Unce\n",
    "Upper[Upper>1] = 1\n",
    "Upper[Upper<0] = 0\n",
    "Lower = Mean - Unce\n",
    "Lower[Lower>1] = 1\n",
    "Lower[Lower<0] = 0"
   ]
  },
  {
   "cell_type": "code",
   "execution_count": null,
   "metadata": {},
   "outputs": [],
   "source": [
    "fpr, tpr, thresholds = roc_curve(Y_test, Mean)\n",
    "fpr_U, tpr_U, thr = roc_curve(Y_test,Upper)\n",
    "fpr_L, tpr_L, thr = roc_curve(Y_test,Lower)\n",
    "roc_auc = auc(fpr,tpr)\n",
    "roc_auc_U = auc(fpr_U,tpr_U)\n",
    "roc_auc_L = auc(fpr_L,tpr_L)\n",
    "print(roc_auc, roc_auc_L, roc_auc_U)"
   ]
  },
  {
   "cell_type": "code",
   "execution_count": null,
   "metadata": {},
   "outputs": [],
   "source": [
    "for f in fpr_L:\n",
    "    print(f, f in fpr_U)"
   ]
  },
  {
   "cell_type": "code",
   "execution_count": null,
   "metadata": {},
   "outputs": [],
   "source": [
    "fig,ax = plt.subplots(nrows=1,ncols=1,figsize=(8,8))#,6\n",
    "plt.style.use('seaborn-deep') \n",
    "#plt.title(\"Simulation\", weight=\"bold\", x=0.50)\n",
    "plt.grid(True)\n",
    "#yticks(np.arange(0.97, 1, step=0.005))\n",
    "lw = 2\n",
    "plt.plot(fpr, tpr, color='orange',lw=2, label='ROC-curve (AUC = %0.3f)' % (roc_auc))\n",
    "plt.plot(fpr_U, tpr_U, color='blue',lw=1, label='ROC-curve Upper (AUC = %0.3f)' % (roc_auc_U))\n",
    "plt.plot(fpr_L, tpr_L, color='blue',lw=1, label='ROC-curve Lower (AUC = %0.3f)' % (roc_auc_L))\n",
    "#plt.fill_between(g[0:nbins], counts_back-(variance_back)**0.5, counts_back+(variance_back)**0.5,color='0.75')\n",
    "\n",
    "\n",
    "plt.ylabel('True Positie Rate (TPR)')\n",
    "plt.xlabel('False Positive Rate (FPR)')\n",
    "\n",
    "#plt.title(\"Simulation Preliminary\", color = '#e159e1',loc=\"left\", weight=\"bold\", size=\"large\")\n",
    "plt.legend(loc=\"lower left\")\n",
    "plt.show()"
   ]
  },
  {
   "cell_type": "code",
   "execution_count": null,
   "metadata": {},
   "outputs": [],
   "source": []
  }
 ],
 "metadata": {
  "kernelspec": {
   "display_name": "Python 3",
   "language": "python",
   "name": "python3"
  },
  "language_info": {
   "codemirror_mode": {
    "name": "ipython",
    "version": 3
   },
   "file_extension": ".py",
   "mimetype": "text/x-python",
   "name": "python",
   "nbconvert_exporter": "python",
   "pygments_lexer": "ipython3",
   "version": "3.5.4"
  }
 },
 "nbformat": 4,
 "nbformat_minor": 2
}
